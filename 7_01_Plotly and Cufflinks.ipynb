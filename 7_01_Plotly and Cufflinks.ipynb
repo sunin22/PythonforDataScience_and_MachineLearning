{
 "cells": [
  {
   "cell_type": "markdown",
   "metadata": {},
   "source": [
    "## Imports and Set-up"
   ]
  },
  {
   "cell_type": "code",
   "execution_count": 10,
   "metadata": {},
   "outputs": [],
   "source": [
    "import pandas as pd\n",
    "import numpy as np\n",
    "\n",
    "%matplotlib inline"
   ]
  },
  {
   "cell_type": "code",
   "execution_count": 4,
   "metadata": {},
   "outputs": [
    {
     "name": "stdout",
     "output_type": "stream",
     "text": [
      "Requirement already satisfied: plotly in c:\\users\\sunny\\anaconda3\\lib\\site-packages (4.14.3)\n",
      "Requirement already satisfied: six in c:\\users\\sunny\\anaconda3\\lib\\site-packages (from plotly) (1.12.0)\n",
      "Requirement already satisfied: retrying>=1.3.3 in c:\\users\\sunny\\anaconda3\\lib\\site-packages (from plotly) (1.3.3)\n",
      "Note: you may need to restart the kernel to use updated packages.\n"
     ]
    }
   ],
   "source": [
    "pip install plotly"
   ]
  },
  {
   "cell_type": "code",
   "execution_count": 2,
   "metadata": {},
   "outputs": [
    {
     "name": "stdout",
     "output_type": "stream",
     "text": [
      "Requirement already satisfied: chart-studio in c:\\users\\sunny\\anaconda3\\lib\\site-packages (1.1.0)\n",
      "Requirement already satisfied: retrying>=1.3.3 in c:\\users\\sunny\\anaconda3\\lib\\site-packages (from chart-studio) (1.3.3)\n",
      "Requirement already satisfied: plotly in c:\\users\\sunny\\anaconda3\\lib\\site-packages (from chart-studio) (4.14.3)\n",
      "Requirement already satisfied: requests in c:\\users\\sunny\\anaconda3\\lib\\site-packages (from chart-studio) (2.22.0)\n",
      "Requirement already satisfied: six in c:\\users\\sunny\\anaconda3\\lib\\site-packages (from chart-studio) (1.12.0)\n",
      "Requirement already satisfied: chardet<3.1.0,>=3.0.2 in c:\\users\\sunny\\anaconda3\\lib\\site-packages (from requests->chart-studio) (3.0.4)\n",
      "Requirement already satisfied: certifi>=2017.4.17 in c:\\users\\sunny\\anaconda3\\lib\\site-packages (from requests->chart-studio) (2019.6.16)\n",
      "Requirement already satisfied: urllib3!=1.25.0,!=1.25.1,<1.26,>=1.21.1 in c:\\users\\sunny\\anaconda3\\lib\\site-packages (from requests->chart-studio) (1.24.2)\n",
      "Requirement already satisfied: idna<2.9,>=2.5 in c:\\users\\sunny\\anaconda3\\lib\\site-packages (from requests->chart-studio) (2.8)\n",
      "Note: you may need to restart the kernel to use updated packages.\n"
     ]
    }
   ],
   "source": [
    "pip install chart-studio"
   ]
  },
  {
   "cell_type": "code",
   "execution_count": 3,
   "metadata": {},
   "outputs": [],
   "source": [
    "import chart_studio.plotly as py\n",
    "import plotly.graph_objs as go\n",
    "from plotly.offline import download_plotlyjs, init_notebook_mode, plot, iplot"
   ]
  },
  {
   "cell_type": "code",
   "execution_count": 5,
   "metadata": {},
   "outputs": [
    {
     "name": "stdout",
     "output_type": "stream",
     "text": [
      "Collecting cufflinks\n",
      "  Downloading https://files.pythonhosted.org/packages/1a/18/4d32edaaf31ba4af9745dac676c4a28c48d3fc539000c29e855bd8db3b86/cufflinks-0.17.3.tar.gz (81kB)\n",
      "Requirement already satisfied: numpy>=1.9.2 in c:\\users\\sunny\\anaconda3\\lib\\site-packages (from cufflinks) (1.16.4)\n",
      "Requirement already satisfied: pandas>=0.19.2 in c:\\users\\sunny\\anaconda3\\lib\\site-packages (from cufflinks) (0.24.2)\n",
      "Requirement already satisfied: plotly>=4.1.1 in c:\\users\\sunny\\anaconda3\\lib\\site-packages (from cufflinks) (4.14.3)\n",
      "Requirement already satisfied: six>=1.9.0 in c:\\users\\sunny\\anaconda3\\lib\\site-packages (from cufflinks) (1.12.0)\n",
      "Collecting colorlover>=0.2.1 (from cufflinks)\n",
      "  Downloading https://files.pythonhosted.org/packages/9a/53/f696e4480b1d1de3b1523991dea71cf417c8b19fe70c704da164f3f90972/colorlover-0.3.0-py3-none-any.whl\n",
      "Requirement already satisfied: setuptools>=34.4.1 in c:\\users\\sunny\\anaconda3\\lib\\site-packages (from cufflinks) (41.0.1)\n",
      "Requirement already satisfied: ipython>=5.3.0 in c:\\users\\sunny\\anaconda3\\lib\\site-packages (from cufflinks) (7.6.1)\n",
      "Requirement already satisfied: ipywidgets>=7.0.0 in c:\\users\\sunny\\anaconda3\\lib\\site-packages (from cufflinks) (7.5.0)\n",
      "Requirement already satisfied: python-dateutil>=2.5.0 in c:\\users\\sunny\\anaconda3\\lib\\site-packages (from pandas>=0.19.2->cufflinks) (2.8.0)\n",
      "Requirement already satisfied: pytz>=2011k in c:\\users\\sunny\\anaconda3\\lib\\site-packages (from pandas>=0.19.2->cufflinks) (2019.1)\n",
      "Requirement already satisfied: retrying>=1.3.3 in c:\\users\\sunny\\anaconda3\\lib\\site-packages (from plotly>=4.1.1->cufflinks) (1.3.3)\n",
      "Requirement already satisfied: prompt-toolkit<2.1.0,>=2.0.0 in c:\\users\\sunny\\anaconda3\\lib\\site-packages (from ipython>=5.3.0->cufflinks) (2.0.9)\n",
      "Requirement already satisfied: decorator in c:\\users\\sunny\\anaconda3\\lib\\site-packages (from ipython>=5.3.0->cufflinks) (4.4.0)\n",
      "Requirement already satisfied: pygments in c:\\users\\sunny\\anaconda3\\lib\\site-packages (from ipython>=5.3.0->cufflinks) (2.4.2)\n",
      "Requirement already satisfied: traitlets>=4.2 in c:\\users\\sunny\\anaconda3\\lib\\site-packages (from ipython>=5.3.0->cufflinks) (4.3.2)\n",
      "Requirement already satisfied: jedi>=0.10 in c:\\users\\sunny\\anaconda3\\lib\\site-packages (from ipython>=5.3.0->cufflinks) (0.13.3)\n",
      "Requirement already satisfied: pickleshare in c:\\users\\sunny\\anaconda3\\lib\\site-packages (from ipython>=5.3.0->cufflinks) (0.7.5)\n",
      "Requirement already satisfied: colorama; sys_platform == \"win32\" in c:\\users\\sunny\\anaconda3\\lib\\site-packages (from ipython>=5.3.0->cufflinks) (0.4.1)\n",
      "Requirement already satisfied: backcall in c:\\users\\sunny\\anaconda3\\lib\\site-packages (from ipython>=5.3.0->cufflinks) (0.1.0)\n",
      "Requirement already satisfied: nbformat>=4.2.0 in c:\\users\\sunny\\anaconda3\\lib\\site-packages (from ipywidgets>=7.0.0->cufflinks) (4.4.0)\n",
      "Requirement already satisfied: widgetsnbextension~=3.5.0 in c:\\users\\sunny\\anaconda3\\lib\\site-packages (from ipywidgets>=7.0.0->cufflinks) (3.5.0)\n",
      "Requirement already satisfied: ipykernel>=4.5.1 in c:\\users\\sunny\\anaconda3\\lib\\site-packages (from ipywidgets>=7.0.0->cufflinks) (5.1.1)\n",
      "Requirement already satisfied: wcwidth in c:\\users\\sunny\\anaconda3\\lib\\site-packages (from prompt-toolkit<2.1.0,>=2.0.0->ipython>=5.3.0->cufflinks) (0.1.7)\n",
      "Requirement already satisfied: ipython-genutils in c:\\users\\sunny\\anaconda3\\lib\\site-packages (from traitlets>=4.2->ipython>=5.3.0->cufflinks) (0.2.0)\n",
      "Requirement already satisfied: parso>=0.3.0 in c:\\users\\sunny\\anaconda3\\lib\\site-packages (from jedi>=0.10->ipython>=5.3.0->cufflinks) (0.5.0)\n",
      "Requirement already satisfied: jupyter-core in c:\\users\\sunny\\anaconda3\\lib\\site-packages (from nbformat>=4.2.0->ipywidgets>=7.0.0->cufflinks) (4.5.0)\n",
      "Requirement already satisfied: jsonschema!=2.5.0,>=2.4 in c:\\users\\sunny\\anaconda3\\lib\\site-packages (from nbformat>=4.2.0->ipywidgets>=7.0.0->cufflinks) (3.0.1)\n",
      "Requirement already satisfied: notebook>=4.4.1 in c:\\users\\sunny\\anaconda3\\lib\\site-packages (from widgetsnbextension~=3.5.0->ipywidgets>=7.0.0->cufflinks) (6.0.0)\n",
      "Requirement already satisfied: tornado>=4.2 in c:\\users\\sunny\\anaconda3\\lib\\site-packages (from ipykernel>=4.5.1->ipywidgets>=7.0.0->cufflinks) (6.0.3)\n",
      "Requirement already satisfied: jupyter-client in c:\\users\\sunny\\anaconda3\\lib\\site-packages (from ipykernel>=4.5.1->ipywidgets>=7.0.0->cufflinks) (5.3.1)\n",
      "Requirement already satisfied: attrs>=17.4.0 in c:\\users\\sunny\\anaconda3\\lib\\site-packages (from jsonschema!=2.5.0,>=2.4->nbformat>=4.2.0->ipywidgets>=7.0.0->cufflinks) (19.1.0)\n",
      "Requirement already satisfied: pyrsistent>=0.14.0 in c:\\users\\sunny\\anaconda3\\lib\\site-packages (from jsonschema!=2.5.0,>=2.4->nbformat>=4.2.0->ipywidgets>=7.0.0->cufflinks) (0.14.11)\n",
      "Requirement already satisfied: terminado>=0.8.1 in c:\\users\\sunny\\anaconda3\\lib\\site-packages (from notebook>=4.4.1->widgetsnbextension~=3.5.0->ipywidgets>=7.0.0->cufflinks) (0.8.2)\n",
      "Requirement already satisfied: nbconvert in c:\\users\\sunny\\anaconda3\\lib\\site-packages (from notebook>=4.4.1->widgetsnbextension~=3.5.0->ipywidgets>=7.0.0->cufflinks) (5.5.0)\n",
      "Requirement already satisfied: prometheus-client in c:\\users\\sunny\\anaconda3\\lib\\site-packages (from notebook>=4.4.1->widgetsnbextension~=3.5.0->ipywidgets>=7.0.0->cufflinks) (0.7.1)\n",
      "Requirement already satisfied: pyzmq>=17 in c:\\users\\sunny\\anaconda3\\lib\\site-packages (from notebook>=4.4.1->widgetsnbextension~=3.5.0->ipywidgets>=7.0.0->cufflinks) (18.0.0)\n",
      "Requirement already satisfied: Send2Trash in c:\\users\\sunny\\anaconda3\\lib\\site-packages (from notebook>=4.4.1->widgetsnbextension~=3.5.0->ipywidgets>=7.0.0->cufflinks) (1.5.0)\n",
      "Requirement already satisfied: jinja2 in c:\\users\\sunny\\anaconda3\\lib\\site-packages (from notebook>=4.4.1->widgetsnbextension~=3.5.0->ipywidgets>=7.0.0->cufflinks) (2.10.1)\n",
      "Requirement already satisfied: entrypoints>=0.2.2 in c:\\users\\sunny\\anaconda3\\lib\\site-packages (from nbconvert->notebook>=4.4.1->widgetsnbextension~=3.5.0->ipywidgets>=7.0.0->cufflinks) (0.3)\n",
      "Requirement already satisfied: pandocfilters>=1.4.1 in c:\\users\\sunny\\anaconda3\\lib\\site-packages (from nbconvert->notebook>=4.4.1->widgetsnbextension~=3.5.0->ipywidgets>=7.0.0->cufflinks) (1.4.2)\n",
      "Requirement already satisfied: testpath in c:\\users\\sunny\\anaconda3\\lib\\site-packages (from nbconvert->notebook>=4.4.1->widgetsnbextension~=3.5.0->ipywidgets>=7.0.0->cufflinks) (0.4.2)\n",
      "Requirement already satisfied: defusedxml in c:\\users\\sunny\\anaconda3\\lib\\site-packages (from nbconvert->notebook>=4.4.1->widgetsnbextension~=3.5.0->ipywidgets>=7.0.0->cufflinks) (0.6.0)\n",
      "Requirement already satisfied: mistune>=0.8.1 in c:\\users\\sunny\\anaconda3\\lib\\site-packages (from nbconvert->notebook>=4.4.1->widgetsnbextension~=3.5.0->ipywidgets>=7.0.0->cufflinks) (0.8.4)\n",
      "Requirement already satisfied: bleach in c:\\users\\sunny\\anaconda3\\lib\\site-packages (from nbconvert->notebook>=4.4.1->widgetsnbextension~=3.5.0->ipywidgets>=7.0.0->cufflinks) (3.1.0)\n",
      "Requirement already satisfied: MarkupSafe>=0.23 in c:\\users\\sunny\\anaconda3\\lib\\site-packages (from jinja2->notebook>=4.4.1->widgetsnbextension~=3.5.0->ipywidgets>=7.0.0->cufflinks) (1.1.1)\n",
      "Requirement already satisfied: webencodings in c:\\users\\sunny\\anaconda3\\lib\\site-packages (from bleach->nbconvert->notebook>=4.4.1->widgetsnbextension~=3.5.0->ipywidgets>=7.0.0->cufflinks) (0.5.1)\n",
      "Building wheels for collected packages: cufflinks\n",
      "  Building wheel for cufflinks (setup.py): started\n",
      "  Building wheel for cufflinks (setup.py): finished with status 'done'\n",
      "  Stored in directory: C:\\Users\\sunny\\AppData\\Local\\pip\\Cache\\wheels\\7d\\ba\\8d\\38b672c3e40d8bd22dd60b8e6e29965b43f2b4be4d064e44d5\n",
      "Successfully built cufflinks\n",
      "Installing collected packages: colorlover, cufflinks\n",
      "Successfully installed colorlover-0.3.0 cufflinks-0.17.3\n",
      "Note: you may need to restart the kernel to use updated packages.\n"
     ]
    }
   ],
   "source": [
    "pip install cufflinks"
   ]
  },
  {
   "cell_type": "code",
   "execution_count": 6,
   "metadata": {},
   "outputs": [],
   "source": [
    "import cufflinks as cf"
   ]
  },
  {
   "cell_type": "code",
   "execution_count": 7,
   "metadata": {},
   "outputs": [
    {
     "data": {
      "text/html": [
       "        <script type=\"text/javascript\">\n",
       "        window.PlotlyConfig = {MathJaxConfig: 'local'};\n",
       "        if (window.MathJax) {MathJax.Hub.Config({SVG: {font: \"STIX-Web\"}});}\n",
       "        if (typeof require !== 'undefined') {\n",
       "        require.undef(\"plotly\");\n",
       "        requirejs.config({\n",
       "            paths: {\n",
       "                'plotly': ['https://cdn.plot.ly/plotly-latest.min']\n",
       "            }\n",
       "        });\n",
       "        require(['plotly'], function(Plotly) {\n",
       "            window._Plotly = Plotly;\n",
       "        });\n",
       "        }\n",
       "        </script>\n",
       "        "
      ]
     },
     "metadata": {},
     "output_type": "display_data"
    }
   ],
   "source": [
    "# For Notebooks\n",
    "init_notebook_mode(connected=True)"
   ]
  },
  {
   "cell_type": "code",
   "execution_count": 8,
   "metadata": {},
   "outputs": [
    {
     "data": {
      "text/html": [
       "        <script type=\"text/javascript\">\n",
       "        window.PlotlyConfig = {MathJaxConfig: 'local'};\n",
       "        if (window.MathJax) {MathJax.Hub.Config({SVG: {font: \"STIX-Web\"}});}\n",
       "        if (typeof require !== 'undefined') {\n",
       "        require.undef(\"plotly\");\n",
       "        requirejs.config({\n",
       "            paths: {\n",
       "                'plotly': ['https://cdn.plot.ly/plotly-latest.min']\n",
       "            }\n",
       "        });\n",
       "        require(['plotly'], function(Plotly) {\n",
       "            window._Plotly = Plotly;\n",
       "        });\n",
       "        }\n",
       "        </script>\n",
       "        "
      ]
     },
     "metadata": {},
     "output_type": "display_data"
    }
   ],
   "source": [
    "# For offline use\n",
    "cf.go_offline()"
   ]
  },
  {
   "cell_type": "markdown",
   "metadata": {},
   "source": [
    "### Fake Data"
   ]
  },
  {
   "cell_type": "code",
   "execution_count": 11,
   "metadata": {},
   "outputs": [],
   "source": [
    "df = pd.DataFrame(np.random.randn(100,4),columns='A B C D'.split())"
   ]
  },
  {
   "cell_type": "code",
   "execution_count": 12,
   "metadata": {},
   "outputs": [
    {
     "data": {
      "text/html": [
       "<div>\n",
       "<style scoped>\n",
       "    .dataframe tbody tr th:only-of-type {\n",
       "        vertical-align: middle;\n",
       "    }\n",
       "\n",
       "    .dataframe tbody tr th {\n",
       "        vertical-align: top;\n",
       "    }\n",
       "\n",
       "    .dataframe thead th {\n",
       "        text-align: right;\n",
       "    }\n",
       "</style>\n",
       "<table border=\"1\" class=\"dataframe\">\n",
       "  <thead>\n",
       "    <tr style=\"text-align: right;\">\n",
       "      <th></th>\n",
       "      <th>A</th>\n",
       "      <th>B</th>\n",
       "      <th>C</th>\n",
       "      <th>D</th>\n",
       "    </tr>\n",
       "  </thead>\n",
       "  <tbody>\n",
       "    <tr>\n",
       "      <th>0</th>\n",
       "      <td>-1.374372</td>\n",
       "      <td>-0.417055</td>\n",
       "      <td>-0.212765</td>\n",
       "      <td>1.264638</td>\n",
       "    </tr>\n",
       "    <tr>\n",
       "      <th>1</th>\n",
       "      <td>0.010004</td>\n",
       "      <td>-0.486421</td>\n",
       "      <td>0.539244</td>\n",
       "      <td>-0.897174</td>\n",
       "    </tr>\n",
       "    <tr>\n",
       "      <th>2</th>\n",
       "      <td>1.060074</td>\n",
       "      <td>-0.026443</td>\n",
       "      <td>1.201647</td>\n",
       "      <td>-2.075488</td>\n",
       "    </tr>\n",
       "    <tr>\n",
       "      <th>3</th>\n",
       "      <td>0.114410</td>\n",
       "      <td>0.197837</td>\n",
       "      <td>1.678277</td>\n",
       "      <td>0.249791</td>\n",
       "    </tr>\n",
       "    <tr>\n",
       "      <th>4</th>\n",
       "      <td>-0.125464</td>\n",
       "      <td>1.496815</td>\n",
       "      <td>1.178017</td>\n",
       "      <td>0.711363</td>\n",
       "    </tr>\n",
       "  </tbody>\n",
       "</table>\n",
       "</div>"
      ],
      "text/plain": [
       "          A         B         C         D\n",
       "0 -1.374372 -0.417055 -0.212765  1.264638\n",
       "1  0.010004 -0.486421  0.539244 -0.897174\n",
       "2  1.060074 -0.026443  1.201647 -2.075488\n",
       "3  0.114410  0.197837  1.678277  0.249791\n",
       "4 -0.125464  1.496815  1.178017  0.711363"
      ]
     },
     "execution_count": 12,
     "metadata": {},
     "output_type": "execute_result"
    }
   ],
   "source": [
    "df.head()"
   ]
  },
  {
   "cell_type": "code",
   "execution_count": 13,
   "metadata": {},
   "outputs": [],
   "source": [
    "df2 = pd.DataFrame({'Category':['A','B','C'],'Values':[32,43,50]})"
   ]
  },
  {
   "cell_type": "code",
   "execution_count": 40,
   "metadata": {},
   "outputs": [
    {
     "data": {
      "text/html": [
       "<div>\n",
       "<table border=\"1\" class=\"dataframe\">\n",
       "  <thead>\n",
       "    <tr style=\"text-align: right;\">\n",
       "      <th></th>\n",
       "      <th>Category</th>\n",
       "      <th>Values</th>\n",
       "    </tr>\n",
       "  </thead>\n",
       "  <tbody>\n",
       "    <tr>\n",
       "      <th>0</th>\n",
       "      <td>A</td>\n",
       "      <td>32</td>\n",
       "    </tr>\n",
       "    <tr>\n",
       "      <th>1</th>\n",
       "      <td>B</td>\n",
       "      <td>43</td>\n",
       "    </tr>\n",
       "    <tr>\n",
       "      <th>2</th>\n",
       "      <td>C</td>\n",
       "      <td>50</td>\n",
       "    </tr>\n",
       "  </tbody>\n",
       "</table>\n",
       "</div>"
      ],
      "text/plain": [
       "  Category  Values\n",
       "0        A      32\n",
       "1        B      43\n",
       "2        C      50"
      ]
     },
     "execution_count": 40,
     "metadata": {},
     "output_type": "execute_result"
    }
   ],
   "source": [
    "df2.head()"
   ]
  },
  {
   "cell_type": "code",
   "execution_count": 14,
   "metadata": {},
   "outputs": [
    {
     "data": {
      "text/plain": [
       "<matplotlib.axes._subplots.AxesSubplot at 0x278682eddd8>"
      ]
     },
     "execution_count": 14,
     "metadata": {},
     "output_type": "execute_result"
    },
    {
     "data": {
      "image/png": "[encoded data removed]",
      "text/plain": [
       "<Figure size 432x288 with 1 Axes>"
      ]
     },
     "metadata": {
      "needs_background": "light"
     },
     "output_type": "display_data"
    }
   ],
   "source": [
    "df.plot()"
   ]
  },
  {
   "cell_type": "code",
   "execution_count": 16,
   "metadata": {},
   "outputs": [
    {
     "data": {
      "application/vnd.plotly.v1+json": {
       "config": {
        "linkText": "Export to plot.ly",
        "plotlyServerURL": "https://plot.ly",
        "showLink": true
       },
       "data": [
        {
         "line": {
          "color": "rgba(255, 153, 51, 1.0)",
          "dash": "solid",
          "shape": "linear",
          "width": 1.3
         },
         "mode": "lines",
         "name": "A",
         "text": "",
         "type": "scatter",
         "x": [
          0,
          1,
          2,
          3,
          4,
          5,
          6,
          7,
          8,
          9,
          10,
          11,
          12,
          13,
          14,
          15,
          16,
          17,
          18,
          19,
          20,
          21,
          22,
          23,
          24,
          25,
          26,
          27,
          28,
          29,
          30,
          31,
          32,
          33,
          34,
          35,
          36,
          37,
          38,
          39,
          40,
          41,
          42,
          43,
          44,
          45,
          46,
          47,
          48,
          49,
          50,
          51,
          52,
          53,
          54,
          55,
          56,
          57,
          58,
          59,
          60,
          61,
          62,
          63,
          64,
          65,
          66,
          67,
          68,
          69,
          70,
          71,
          72,
          73,
          74,
          75,
          76,
          77,
          78,
          79,
          80,
          81,
          82,
          83,
          84,
          85,
          86,
          87,
          88,
          89,
          90,
          91,
          92,
          93,
          94,
          95,
          96,
          97,
          98,
          99
         ],
         "y": [
          -1.3743721584499824,
          0.01000404246298731,
          1.060073616887478,
          0.11441049376808408,
          -0.1254638614812266,
          -0.9070069778849268,
          0.052704947052634725,
          -0.018615509263272198,
          0.3426791424383957,
          0.7156411612038974,
          0.10320678514670655,
          1.5303326705609726,
          -0.21191099006121578,
          -2.020852407942947,
          0.22310319700464062,
          0.5054873846397421,
          0.4026865599915081,
          -1.4536017289362706,
          0.7950717634128648,
          -0.23111559189028452,
          0.7663819343502544,
          -0.6235760258594119,
          -0.39259261868434986,
          0.12216190113995658,
          -1.6096224506550463,
          0.5639253855756436,
          -1.0847543814378535,
          1.0885717287652497,
          -0.591208567689423,
          -1.6938094395037835,
          0.018569790345541275,
          0.8539549753616196,
          0.806290563715313,
          -1.6254073372348345,
          0.9733772798627246,
          1.1342632149777827,
          0.6285286305821992,
          0.8898153149689759,
          0.43696724130491166,
          -0.11330861472454354,
          -0.30502763648952747,
          0.23913144901280264,
          -0.5265302051771779,
          -2.428775933644073,
          1.2029442849361394,
          -2.123707409478142,
          -1.391993761824126,
          -0.6561453328335073,
          -1.0638196040870558,
          -1.034440135369431,
          1.4545524807375916,
          0.9664194515222728,
          1.3514860245657558,
          0.641805705752012,
          0.2250786303196695,
          0.5551821716123263,
          -0.3022131037940552,
          0.1957505960294113,
          -0.09000988974301995,
          0.2030785749813345,
          0.20537268885063817,
          2.007683712209121,
          -1.4843400652481071,
          1.600331889395343,
          -2.658926199502142,
          -0.7475374003049038,
          0.059354593787525535,
          -2.3391273652213593,
          0.14801385832510175,
          0.7316816414068449,
          2.6313286535979996,
          -0.6609371876541106,
          1.1687995210202855,
          1.0322937940761117,
          -0.12266208992005274,
          1.35264415917231,
          -0.6569032104004473,
          -1.325436343882467,
          0.03518178304520304,
          0.9882093647510404,
          0.7716022659319737,
          0.2571496555762069,
          0.9497583254883611,
          0.34755083044952106,
          -0.2608789849073516,
          1.6727247611623286,
          0.9699480590442013,
          -0.5146697755100796,
          0.1877515295630458,
          -0.16382196131899163,
          -0.6291505468485376,
          -0.3276311214951528,
          -1.1219800893721616,
          0.9243005130469527,
          0.34121867776964615,
          -0.1776353990815943,
          0.6764803263134359,
          -1.0912902239348543,
          0.23613255869213673,
          -0.9206029120136027
         ]
        },
        {
         "line": {
          "color": "rgba(55, 128, 191, 1.0)",
          "dash": "solid",
          "shape": "linear",
          "width": 1.3
         },
         "mode": "lines",
         "name": "B",
         "text": "",
         "type": "scatter",
         "x": [
          0,
          1,
          2,
          3,
          4,
          5,
          6,
          7,
          8,
          9,
          10,
          11,
          12,
          13,
          14,
          15,
          16,
          17,
          18,
          19,
          20,
          21,
          22,
          23,
          24,
          25,
          26,
          27,
          28,
          29,
          30,
          31,
          32,
          33,
          34,
          35,
          36,
          37,
          38,
          39,
          40,
          41,
          42,
          43,
          44,
          45,
          46,
          47,
          48,
          49,
          50,
          51,
          52,
          53,
          54,
          55,
          56,
          57,
          58,
          59,
          60,
          61,
          62,
          63,
          64,
          65,
          66,
          67,
          68,
          69,
          70,
          71,
          72,
          73,
          74,
          75,
          76,
          77,
          78,
          79,
          80,
          81,
          82,
          83,
          84,
          85,
          86,
          87,
          88,
          89,
          90,
          91,
          92,
          93,
          94,
          95,
          96,
          97,
          98,
          99
         ],
         "y": [
          -0.41705545013634915,
          -0.48642056858316945,
          -0.026443392359397484,
          0.1978372625783503,
          1.4968152023860652,
          1.2996001460682738,
          -1.9367361458578556,
          -0.7567789330556283,
          -2.054035669273658,
          0.5048997928080652,
          -1.1112808411952075,
          0.5912890910463597,
          0.0955475906516338,
          -0.28622310082696395,
          0.11737426814490341,
          -0.06758176195487915,
          0.3241491954622198,
          -0.5104479126394454,
          0.026529123575938545,
          1.4972763559326852,
          1.8253818450833434,
          -1.2574190220624064,
          0.1257869275628511,
          0.016621627579822357,
          0.979647443174523,
          0.518474140677526,
          -0.41373982543347276,
          0.009111766977325414,
          0.7981851789989233,
          -1.5066373021119543,
          -0.8145019514506392,
          1.2127894892403486,
          1.1666091840168742,
          -0.1826814988975061,
          0.2121435888368178,
          0.5919460396147409,
          0.6706604908690293,
          -0.1538820807314714,
          -0.06481604156077372,
          0.6865617899199997,
          0.5772096001553042,
          0.469910962356171,
          -2.0005706396554475,
          0.7472354988856291,
          -0.6389610051560966,
          -0.38295815856378096,
          -0.09249688990779162,
          1.6673465664575287,
          -0.5169802146802591,
          0.3229158282844716,
          -2.2439072734691266,
          -0.59787255059542,
          2.0190019560628656,
          -0.8827665762111087,
          0.1720370484706035,
          1.1447792901642073,
          -2.021110364925016,
          -0.4431961270162332,
          0.6154890464199887,
          -0.5340413595491634,
          -1.4300515449852669,
          -0.4289970586923092,
          -3.187864606601478,
          -0.5443854916908588,
          1.9027789968231628,
          0.028860644801460108,
          -0.9070719076829377,
          2.2604509548717204,
          -0.4756263042930482,
          -1.0527349279366778,
          1.0989883088287775,
          0.8363471991549375,
          0.9390577333704273,
          -0.6821309372267801,
          -0.040109791076703746,
          -1.0926766026681485,
          0.8810484800262337,
          0.13899121632294173,
          0.18175429939228152,
          0.6641933255515288,
          -0.29364200182227196,
          0.5215667308020342,
          0.511801600346848,
          0.1323902697067605,
          -2.1124151258180466,
          -0.3963021602119647,
          1.1669298215227715,
          0.7144341554925651,
          1.393601613907853,
          0.8542543813843058,
          1.793693509296129,
          1.958951631262988,
          1.9793533489183885,
          0.5393936516728588,
          0.8635557050746643,
          0.19647333456875704,
          -1.3462894052999834,
          -0.036318884695404764,
          -0.5437514526982358,
          -0.8788039924624359
         ]
        },
        {
         "line": {
          "color": "rgba(50, 171, 96, 1.0)",
          "dash": "solid",
          "shape": "linear",
          "width": 1.3
         },
         "mode": "lines",
         "name": "C",
         "text": "",
         "type": "scatter",
         "x": [
          0,
          1,
          2,
          3,
          4,
          5,
          6,
          7,
          8,
          9,
          10,
          11,
          12,
          13,
          14,
          15,
          16,
          17,
          18,
          19,
          20,
          21,
          22,
          23,
          24,
          25,
          26,
          27,
          28,
          29,
          30,
          31,
          32,
          33,
          34,
          35,
          36,
          37,
          38,
          39,
          40,
          41,
          42,
          43,
          44,
          45,
          46,
          47,
          48,
          49,
          50,
          51,
          52,
          53,
          54,
          55,
          56,
          57,
          58,
          59,
          60,
          61,
          62,
          63,
          64,
          65,
          66,
          67,
          68,
          69,
          70,
          71,
          72,
          73,
          74,
          75,
          76,
          77,
          78,
          79,
          80,
          81,
          82,
          83,
          84,
          85,
          86,
          87,
          88,
          89,
          90,
          91,
          92,
          93,
          94,
          95,
          96,
          97,
          98,
          99
         ],
         "y": [
          -0.21276462251127787,
          0.5392444209308489,
          1.201647243870889,
          1.6782766296745564,
          1.1780165541193524,
          0.40167196181061116,
          -0.1591374159699852,
          0.39767413608763563,
          0.8651958256291215,
          1.478487857872841,
          -0.6734933053355409,
          -0.9164503190359672,
          -0.1522431081070318,
          -0.17775723859865142,
          -0.5784508624076548,
          -0.8953430846986111,
          -0.5955412799976927,
          -1.4996597344022469,
          -0.7358247995812351,
          -0.933572443609917,
          -0.008828766883507387,
          -0.8164283705009511,
          1.273678888538661,
          -0.8651312409226529,
          0.35478150022354593,
          0.986399459757734,
          -0.5352650018171781,
          -1.3886598301517936,
          -0.9095518855205877,
          -0.18025157413060977,
          -1.1639538469777637,
          -0.45797392379674257,
          0.6729367441748657,
          -1.8550523081681753,
          -1.2923975140689834,
          0.1464356554680572,
          -0.9334423032882809,
          -0.44248786315560623,
          1.0671262179776113,
          0.33753739416763867,
          0.9128835546431392,
          -0.5900917794231104,
          -0.3737024267929817,
          0.3712684727445248,
          -0.7557372214105362,
          0.843767325377286,
          -2.206479423111974,
          0.4426752009503339,
          -1.418894646378147,
          -1.6105792466568054,
          0.14046905986929045,
          -1.7025655506186397,
          -1.1263018556886557,
          0.04343967291843729,
          -1.2047503941915687,
          -0.09781015949410614,
          -0.24368586131596517,
          0.6958509742327339,
          -1.0704795691259144,
          0.5620221156749131,
          0.9390052445805276,
          -1.3349060314912693,
          0.40321915973170414,
          1.6285358959063552,
          -0.17701723872220992,
          0.8234083102866014,
          0.9957585721559657,
          -0.3763413287556481,
          -1.6265324048745329,
          -0.621938385545258,
          -0.465630623615682,
          1.526182232958349,
          0.3520390029182346,
          2.5651656043033713,
          0.7960377533994962,
          0.32625925238639847,
          -1.1861624824881056,
          0.949283354081687,
          0.08425473048695817,
          -0.7318456749714377,
          -1.0006911553437978,
          0.41625205826679096,
          -1.0046004868315244,
          0.09274029071208498,
          -1.741066554969545,
          -0.1488349120028584,
          0.06298419279152194,
          -1.0202004771437285,
          0.31668257541722206,
          -1.9144300423394567,
          1.8560064604860345,
          -0.6905437344649258,
          -0.020351338723384127,
          -0.7245034758310543,
          1.2620486376354592,
          -0.15544435172249807,
          -0.38249834037408337,
          -0.44288833342145334,
          -0.37916364819204046,
          1.500013795209575
         ]
        },
        {
         "line": {
          "color": "rgba(128, 0, 128, 1.0)",
          "dash": "solid",
          "shape": "linear",
          "width": 1.3
         },
         "mode": "lines",
         "name": "D",
         "text": "",
         "type": "scatter",
         "x": [
          0,
          1,
          2,
          3,
          4,
          5,
          6,
          7,
          8,
          9,
          10,
          11,
          12,
          13,
          14,
          15,
          16,
          17,
          18,
          19,
          20,
          21,
          22,
          23,
          24,
          25,
          26,
          27,
          28,
          29,
          30,
          31,
          32,
          33,
          34,
          35,
          36,
          37,
          38,
          39,
          40,
          41,
          42,
          43,
          44,
          45,
          46,
          47,
          48,
          49,
          50,
          51,
          52,
          53,
          54,
          55,
          56,
          57,
          58,
          59,
          60,
          61,
          62,
          63,
          64,
          65,
          66,
          67,
          68,
          69,
          70,
          71,
          72,
          73,
          74,
          75,
          76,
          77,
          78,
          79,
          80,
          81,
          82,
          83,
          84,
          85,
          86,
          87,
          88,
          89,
          90,
          91,
          92,
          93,
          94,
          95,
          96,
          97,
          98,
          99
         ],
         "y": [
          1.2646382812754842,
          -0.8971743142451027,
          -2.0754884569254672,
          0.24979143146563057,
          0.7113633997792028,
          1.278216640237135,
          -0.49685845418634067,
          1.2344611106270564,
          0.36195754457371004,
          0.6043429263082021,
          1.1059302402322535,
          -0.6515379521018477,
          0.3646331090549264,
          -0.9845536691002664,
          1.4409263079086052,
          0.8816667955217995,
          -0.7853779284986235,
          -0.7978616503508753,
          -1.0828660240395294,
          0.10487744298562451,
          0.19217934901563238,
          -0.44483118359065044,
          0.081992768065037,
          0.717726912938894,
          -0.4840805058901615,
          0.9655267003749074,
          -0.15515680869122653,
          0.18765636261666088,
          1.1626969975525205,
          1.1221860512686315,
          -0.7262998465735776,
          0.5769953510599819,
          -0.34292887593453836,
          -0.7177335259504108,
          0.4645526729614544,
          2.2636115244007744,
          0.6788635025563274,
          -1.3586866410113239,
          1.402105490753138,
          -0.04773722688359785,
          -0.05201898018951273,
          0.2775465835054213,
          -2.5368187629127665,
          0.7489922275026335,
          0.4366105803867375,
          -0.22742515624588822,
          0.8389663215980219,
          0.8119997599104144,
          1.5599969289424327,
          1.1960493070861002,
          0.5532823184545692,
          0.5429127445526751,
          -0.9216892467648115,
          -0.7124766367267783,
          -0.5469063510503084,
          1.2104299366607287,
          0.06529088469119605,
          -0.26731497693372736,
          0.18006682091523982,
          1.5858814002047847,
          0.028250097720445115,
          1.3266255468110029,
          1.3247055522245879,
          0.016966380125314793,
          -0.8959419956364261,
          0.878890833696069,
          -0.01258411681511281,
          -0.0795240148058931,
          0.09205341634269462,
          0.8743683456662174,
          1.2651793568520557,
          -0.01223560757394819,
          -1.1669543697177909,
          -1.0420826567320396,
          2.063838270434295,
          0.0968244764073173,
          -0.14942699098437895,
          -1.3822629131066702,
          0.15884855391204272,
          0.6019636707340277,
          1.2663377202008308,
          -1.6319526838234355,
          -0.08569233667719377,
          -0.19194039719829523,
          0.6089137382785959,
          0.21037399045564947,
          1.1878195115705752,
          0.10049673180139712,
          -0.6091707263338128,
          -1.0208458347127198,
          -0.7948310997841892,
          0.8263015448397337,
          0.6008696554415681,
          -2.853267844849281,
          -0.953772467478873,
          -0.3422257288319156,
          0.5312134043166221,
          0.15022922890648535,
          0.2815641965610305,
          -0.2403819541347331
         ]
        }
       ],
       "layout": {
        "legend": {
         "bgcolor": "#F5F6F9",
         "font": {
          "color": "#4D5663"
         }
        },
        "paper_bgcolor": "#F5F6F9",
        "plot_bgcolor": "#F5F6F9",
        "template": {
         "data": {
          "bar": [
           {
            "error_x": {
             "color": "#2a3f5f"
            },
            "error_y": {
             "color": "#2a3f5f"
            },
            "marker": {
             "line": {
              "color": "#E5ECF6",
              "width": 0.5
             }
            },
            "type": "bar"
           }
          ],
          "barpolar": [
           {
            "marker": {
             "line": {
              "color": "#E5ECF6",
              "width": 0.5
             }
            },
            "type": "barpolar"
           }
          ],
          "carpet": [
           {
            "aaxis": {
             "endlinecolor": "#2a3f5f",
             "gridcolor": "white",
             "linecolor": "white",
             "minorgridcolor": "white",
             "startlinecolor": "#2a3f5f"
            },
            "baxis": {
             "endlinecolor": "#2a3f5f",
             "gridcolor": "white",
             "linecolor": "white",
             "minorgridcolor": "white",
             "startlinecolor": "#2a3f5f"
            },
            "type": "carpet"
           }
          ],
          "choropleth": [
           {
            "colorbar": {
             "outlinewidth": 0,
             "ticks": ""
            },
            "type": "choropleth"
           }
          ],
          "contour": [
           {
            "colorbar": {
             "outlinewidth": 0,
             "ticks": ""
            },
            "colorscale": [
             [
              0,
              "#0d0887"
             ],
             [
              0.1111111111111111,
              "#46039f"
             ],
             [
              0.2222222222222222,
              "#7201a8"
             ],
             [
              0.3333333333333333,
              "#9c179e"
             ],
             [
              0.4444444444444444,
              "#bd3786"
             ],
             [
              0.5555555555555556,
              "#d8576b"
             ],
             [
              0.6666666666666666,
              "#ed7953"
             ],
             [
              0.7777777777777778,
              "#fb9f3a"
             ],
             [
              0.8888888888888888,
              "#fdca26"
             ],
             [
              1,
              "#f0f921"
             ]
            ],
            "type": "contour"
           }
          ],
          "contourcarpet": [
           {
            "colorbar": {
             "outlinewidth": 0,
             "ticks": ""
            },
            "type": "contourcarpet"
           }
          ],
          "heatmap": [
           {
            "colorbar": {
             "outlinewidth": 0,
             "ticks": ""
            },
            "colorscale": [
             [
              0,
              "#0d0887"
             ],
             [
              0.1111111111111111,
              "#46039f"
             ],
             [
              0.2222222222222222,
              "#7201a8"
             ],
             [
              0.3333333333333333,
              "#9c179e"
             ],
             [
              0.4444444444444444,
              "#bd3786"
             ],
             [
              0.5555555555555556,
              "#d8576b"
             ],
             [
              0.6666666666666666,
              "#ed7953"
             ],
             [
              0.7777777777777778,
              "#fb9f3a"
             ],
             [
              0.8888888888888888,
              "#fdca26"
             ],
             [
              1,
              "#f0f921"
             ]
            ],
            "type": "heatmap"
           }
          ],
          "heatmapgl": [
           {
            "colorbar": {
             "outlinewidth": 0,
             "ticks": ""
            },
            "colorscale": [
             [
              0,
              "#0d0887"
             ],
             [
              0.1111111111111111,
              "#46039f"
             ],
             [
              0.2222222222222222,
              "#7201a8"
             ],
             [
              0.3333333333333333,
              "#9c179e"
             ],
             [
              0.4444444444444444,
              "#bd3786"
             ],
             [
              0.5555555555555556,
              "#d8576b"
             ],
             [
              0.6666666666666666,
              "#ed7953"
             ],
             [
              0.7777777777777778,
              "#fb9f3a"
             ],
             [
              0.8888888888888888,
              "#fdca26"
             ],
             [
              1,
              "#f0f921"
             ]
            ],
            "type": "heatmapgl"
           }
          ],
          "histogram": [
           {
            "marker": {
             "colorbar": {
              "outlinewidth": 0,
              "ticks": ""
             }
            },
            "type": "histogram"
           }
          ],
          "histogram2d": [
           {
            "colorbar": {
             "outlinewidth": 0,
             "ticks": ""
            },
            "colorscale": [
             [
              0,
              "#0d0887"
             ],
             [
              0.1111111111111111,
              "#46039f"
             ],
             [
              0.2222222222222222,
              "#7201a8"
             ],
             [
              0.3333333333333333,
              "#9c179e"
             ],
             [
              0.4444444444444444,
              "#bd3786"
             ],
             [
              0.5555555555555556,
              "#d8576b"
             ],
             [
              0.6666666666666666,
              "#ed7953"
             ],
             [
              0.7777777777777778,
              "#fb9f3a"
             ],
             [
              0.8888888888888888,
              "#fdca26"
             ],
             [
              1,
              "#f0f921"
             ]
            ],
            "type": "histogram2d"
           }
          ],
          "histogram2dcontour": [
           {
            "colorbar": {
             "outlinewidth": 0,
             "ticks": ""
            },
            "colorscale": [
             [
              0,
              "#0d0887"
             ],
             [
              0.1111111111111111,
              "#46039f"
             ],
             [
              0.2222222222222222,
              "#7201a8"
             ],
             [
              0.3333333333333333,
              "#9c179e"
             ],
             [
              0.4444444444444444,
              "#bd3786"
             ],
             [
              0.5555555555555556,
              "#d8576b"
             ],
             [
              0.6666666666666666,
              "#ed7953"
             ],
             [
              0.7777777777777778,
              "#fb9f3a"
             ],
             [
              0.8888888888888888,
              "#fdca26"
             ],
             [
              1,
              "#f0f921"
             ]
            ],
            "type": "histogram2dcontour"
           }
          ],
          "mesh3d": [
           {
            "colorbar": {
             "outlinewidth": 0,
             "ticks": ""
            },
            "type": "mesh3d"
           }
          ],
          "parcoords": [
           {
            "line": {
             "colorbar": {
              "outlinewidth": 0,
              "ticks": ""
             }
            },
            "type": "parcoords"
           }
          ],
          "pie": [
           {
            "automargin": true,
            "type": "pie"
           }
          ],
          "scatter": [
           {
            "marker": {
             "colorbar": {
              "outlinewidth": 0,
              "ticks": ""
             }
            },
            "type": "scatter"
           }
          ],
          "scatter3d": [
           {
            "line": {
             "colorbar": {
              "outlinewidth": 0,
              "ticks": ""
             }
            },
            "marker": {
             "colorbar": {
              "outlinewidth": 0,
              "ticks": ""
             }
            },
            "type": "scatter3d"
           }
          ],
          "scattercarpet": [
           {
            "marker": {
             "colorbar": {
              "outlinewidth": 0,
              "ticks": ""
             }
            },
            "type": "scattercarpet"
           }
          ],
          "scattergeo": [
           {
            "marker": {
             "colorbar": {
              "outlinewidth": 0,
              "ticks": ""
             }
            },
            "type": "scattergeo"
           }
          ],
          "scattergl": [
           {
            "marker": {
             "colorbar": {
              "outlinewidth": 0,
              "ticks": ""
             }
            },
            "type": "scattergl"
           }
          ],
          "scattermapbox": [
           {
            "marker": {
             "colorbar": {
              "outlinewidth": 0,
              "ticks": ""
             }
            },
            "type": "scattermapbox"
           }
          ],
          "scatterpolar": [
           {
            "marker": {
             "colorbar": {
              "outlinewidth": 0,
              "ticks": ""
             }
            },
            "type": "scatterpolar"
           }
          ],
          "scatterpolargl": [
           {
            "marker": {
             "colorbar": {
              "outlinewidth": 0,
              "ticks": ""
             }
            },
            "type": "scatterpolargl"
           }
          ],
          "scatterternary": [
           {
            "marker": {
             "colorbar": {
              "outlinewidth": 0,
              "ticks": ""
             }
            },
            "type": "scatterternary"
           }
          ],
          "surface": [
           {
            "colorbar": {
             "outlinewidth": 0,
             "ticks": ""
            },
            "colorscale": [
             [
              0,
              "#0d0887"
             ],
             [
              0.1111111111111111,
              "#46039f"
             ],
             [
              0.2222222222222222,
              "#7201a8"
             ],
             [
              0.3333333333333333,
              "#9c179e"
             ],
             [
              0.4444444444444444,
              "#bd3786"
             ],
             [
              0.5555555555555556,
              "#d8576b"
             ],
             [
              0.6666666666666666,
              "#ed7953"
             ],
             [
              0.7777777777777778,
              "#fb9f3a"
             ],
             [
              0.8888888888888888,
              "#fdca26"
             ],
             [
              1,
              "#f0f921"
             ]
            ],
            "type": "surface"
           }
          ],
          "table": [
           {
            "cells": {
             "fill": {
              "color": "#EBF0F8"
             },
             "line": {
              "color": "white"
             }
            },
            "header": {
             "fill": {
              "color": "#C8D4E3"
             },
             "line": {
              "color": "white"
             }
            },
            "type": "table"
           }
          ]
         },
         "layout": {
          "annotationdefaults": {
           "arrowcolor": "#2a3f5f",
           "arrowhead": 0,
           "arrowwidth": 1
          },
          "autotypenumbers": "strict",
          "coloraxis": {
           "colorbar": {
            "outlinewidth": 0,
            "ticks": ""
           }
          },
          "colorscale": {
           "diverging": [
            [
             0,
             "#8e0152"
            ],
            [
             0.1,
             "#c51b7d"
            ],
            [
             0.2,
             "#de77ae"
            ],
            [
             0.3,
             "#f1b6da"
            ],
            [
             0.4,
             "#fde0ef"
            ],
            [
             0.5,
             "#f7f7f7"
            ],
            [
             0.6,
             "#e6f5d0"
            ],
            [
             0.7,
             "#b8e186"
            ],
            [
             0.8,
             "#7fbc41"
            ],
            [
             0.9,
             "#4d9221"
            ],
            [
             1,
             "#276419"
            ]
           ],
           "sequential": [
            [
             0,
             "#0d0887"
            ],
            [
             0.1111111111111111,
             "#46039f"
            ],
            [
             0.2222222222222222,
             "#7201a8"
            ],
            [
             0.3333333333333333,
             "#9c179e"
            ],
            [
             0.4444444444444444,
             "#bd3786"
            ],
            [
             0.5555555555555556,
             "#d8576b"
            ],
            [
             0.6666666666666666,
             "#ed7953"
            ],
            [
             0.7777777777777778,
             "#fb9f3a"
            ],
            [
             0.8888888888888888,
             "#fdca26"
            ],
            [
             1,
             "#f0f921"
            ]
           ],
           "sequentialminus": [
            [
             0,
             "#0d0887"
            ],
            [
             0.1111111111111111,
             "#46039f"
            ],
            [
             0.2222222222222222,
             "#7201a8"
            ],
            [
             0.3333333333333333,
             "#9c179e"
            ],
            [
             0.4444444444444444,
             "#bd3786"
            ],
            [
             0.5555555555555556,
             "#d8576b"
            ],
            [
             0.6666666666666666,
             "#ed7953"
            ],
            [
             0.7777777777777778,
             "#fb9f3a"
            ],
            [
             0.8888888888888888,
             "#fdca26"
            ],
            [
             1,
             "#f0f921"
            ]
           ]
          },
          "colorway": [
           "#636efa",
           "#EF553B",
           "#00cc96",
           "#ab63fa",
           "#FFA15A",
           "#19d3f3",
           "#FF6692",
           "#B6E880",
           "#FF97FF",
           "#FECB52"
          ],
          "font": {
           "color": "#2a3f5f"
          },
          "geo": {
           "bgcolor": "white",
           "lakecolor": "white",
           "landcolor": "#E5ECF6",
           "showlakes": true,
           "showland": true,
           "subunitcolor": "white"
          },
          "hoverlabel": {
           "align": "left"
          },
          "hovermode": "closest",
          "mapbox": {
           "style": "light"
          },
          "paper_bgcolor": "white",
          "plot_bgcolor": "#E5ECF6",
          "polar": {
           "angularaxis": {
            "gridcolor": "white",
            "linecolor": "white",
            "ticks": ""
           },
           "bgcolor": "#E5ECF6",
           "radialaxis": {
            "gridcolor": "white",
            "linecolor": "white",
            "ticks": ""
           }
          },
          "scene": {
           "xaxis": {
            "backgroundcolor": "#E5ECF6",
            "gridcolor": "white",
            "gridwidth": 2,
            "linecolor": "white",
            "showbackground": true,
            "ticks": "",
            "zerolinecolor": "white"
           },
           "yaxis": {
            "backgroundcolor": "#E5ECF6",
            "gridcolor": "white",
            "gridwidth": 2,
            "linecolor": "white",
            "showbackground": true,
            "ticks": "",
            "zerolinecolor": "white"
           },
           "zaxis": {
            "backgroundcolor": "#E5ECF6",
            "gridcolor": "white",
            "gridwidth": 2,
            "linecolor": "white",
            "showbackground": true,
            "ticks": "",
            "zerolinecolor": "white"
           }
          },
          "shapedefaults": {
           "line": {
            "color": "#2a3f5f"
           }
          },
          "ternary": {
           "aaxis": {
            "gridcolor": "white",
            "linecolor": "white",
            "ticks": ""
           },
           "baxis": {
            "gridcolor": "white",
            "linecolor": "white",
            "ticks": ""
           },
           "bgcolor": "#E5ECF6",
           "caxis": {
            "gridcolor": "white",
            "linecolor": "white",
            "ticks": ""
           }
          },
          "title": {
           "x": 0.05
          },
          "xaxis": {
           "automargin": true,
           "gridcolor": "white",
           "linecolor": "white",
           "ticks": "",
           "title": {
            "standoff": 15
           },
           "zerolinecolor": "white",
           "zerolinewidth": 2
          },
          "yaxis": {
           "automargin": true,
           "gridcolor": "white",
           "linecolor": "white",
           "ticks": "",
           "title": {
            "standoff": 15
           },
           "zerolinecolor": "white",
           "zerolinewidth": 2
          }
         }
        },
        "title": {
         "font": {
          "color": "#4D5663"
         }
        },
        "xaxis": {
         "gridcolor": "#E1E5ED",
         "showgrid": true,
         "tickfont": {
          "color": "#4D5663"
         },
         "title": {
          "font": {
           "color": "#4D5663"
          },
          "text": ""
         },
         "zerolinecolor": "#E1E5ED"
        },
        "yaxis": {
         "gridcolor": "#E1E5ED",
         "showgrid": true,
         "tickfont": {
          "color": "#4D5663"
         },
         "title": {
          "font": {
           "color": "#4D5663"
          },
          "text": ""
         },
         "zerolinecolor": "#E1E5ED"
        }
       }
      },
      "text/html": [
       "<div>                            <div id=\"cc6f6099-9ff3-4212-b1f7-b735d4841645\" class=\"plotly-graph-div\" style=\"height:525px; width:100%;\"></div>            <script type=\"text/javascript\">                require([\"plotly\"], function(Plotly) {                    window.PLOTLYENV=window.PLOTLYENV || {};\n",
       "                    window.PLOTLYENV.BASE_URL='https://plot.ly';                                    if (document.getElementById(\"cc6f6099-9ff3-4212-b1f7-b735d4841645\")) {                    Plotly.newPlot(                        \"cc6f6099-9ff3-4212-b1f7-b735d4841645\",                        [{\"line\": {\"color\": \"rgba(255, 153, 51, 1.0)\", \"dash\": \"solid\", \"shape\": \"linear\", \"width\": 1.3}, \"mode\": \"lines\", \"name\": \"A\", \"text\": \"\", \"type\": \"scatter\", \"x\": [0, 1, 2, 3, 4, 5, 6, 7, 8, 9, 10, 11, 12, 13, 14, 15, 16, 17, 18, 19, 20, 21, 22, 23, 24, 25, 26, 27, 28, 29, 30, 31, 32, 33, 34, 35, 36, 37, 38, 39, 40, 41, 42, 43, 44, 45, 46, 47, 48, 49, 50, 51, 52, 53, 54, 55, 56, 57, 58, 59, 60, 61, 62, 63, 64, 65, 66, 67, 68, 69, 70, 71, 72, 73, 74, 75, 76, 77, 78, 79, 80, 81, 82, 83, 84, 85, 86, 87, 88, 89, 90, 91, 92, 93, 94, 95, 96, 97, 98, 99], \"y\": [-1.3743721584499824, 0.01000404246298731, 1.060073616887478, 0.11441049376808408, -0.1254638614812266, -0.9070069778849268, 0.052704947052634725, -0.018615509263272198, 0.3426791424383957, 0.7156411612038974, 0.10320678514670655, 1.5303326705609726, -0.21191099006121578, -2.020852407942947, 0.22310319700464062, 0.5054873846397421, 0.4026865599915081, -1.4536017289362706, 0.7950717634128648, -0.23111559189028452, 0.7663819343502544, -0.6235760258594119, -0.39259261868434986, 0.12216190113995658, -1.6096224506550463, 0.5639253855756436, -1.0847543814378535, 1.0885717287652497, -0.591208567689423, -1.6938094395037835, 0.018569790345541275, 0.8539549753616196, 0.806290563715313, -1.6254073372348345, 0.9733772798627246, 1.1342632149777827, 0.6285286305821992, 0.8898153149689759, 0.43696724130491166, -0.11330861472454354, -0.30502763648952747, 0.23913144901280264, -0.5265302051771779, -2.428775933644073, 1.2029442849361394, -2.123707409478142, -1.391993761824126, -0.6561453328335073, -1.0638196040870558, -1.034440135369431, 1.4545524807375916, 0.9664194515222728, 1.3514860245657558, 0.641805705752012, 0.2250786303196695, 0.5551821716123263, -0.3022131037940552, 0.1957505960294113, -0.09000988974301995, 0.2030785749813345, 0.20537268885063817, 2.007683712209121, -1.4843400652481071, 1.600331889395343, -2.658926199502142, -0.7475374003049038, 0.059354593787525535, -2.3391273652213593, 0.14801385832510175, 0.7316816414068449, 2.6313286535979996, -0.6609371876541106, 1.1687995210202855, 1.0322937940761117, -0.12266208992005274, 1.35264415917231, -0.6569032104004473, -1.325436343882467, 0.03518178304520304, 0.9882093647510404, 0.7716022659319737, 0.2571496555762069, 0.9497583254883611, 0.34755083044952106, -0.2608789849073516, 1.6727247611623286, 0.9699480590442013, -0.5146697755100796, 0.1877515295630458, -0.16382196131899163, -0.6291505468485376, -0.3276311214951528, -1.1219800893721616, 0.9243005130469527, 0.34121867776964615, -0.1776353990815943, 0.6764803263134359, -1.0912902239348543, 0.23613255869213673, -0.9206029120136027]}, {\"line\": {\"color\": \"rgba(55, 128, 191, 1.0)\", \"dash\": \"solid\", \"shape\": \"linear\", \"width\": 1.3}, \"mode\": \"lines\", \"name\": \"B\", \"text\": \"\", \"type\": \"scatter\", \"x\": [0, 1, 2, 3, 4, 5, 6, 7, 8, 9, 10, 11, 12, 13, 14, 15, 16, 17, 18, 19, 20, 21, 22, 23, 24, 25, 26, 27, 28, 29, 30, 31, 32, 33, 34, 35, 36, 37, 38, 39, 40, 41, 42, 43, 44, 45, 46, 47, 48, 49, 50, 51, 52, 53, 54, 55, 56, 57, 58, 59, 60, 61, 62, 63, 64, 65, 66, 67, 68, 69, 70, 71, 72, 73, 74, 75, 76, 77, 78, 79, 80, 81, 82, 83, 84, 85, 86, 87, 88, 89, 90, 91, 92, 93, 94, 95, 96, 97, 98, 99], \"y\": [-0.41705545013634915, -0.48642056858316945, -0.026443392359397484, 0.1978372625783503, 1.4968152023860652, 1.2996001460682738, -1.9367361458578556, -0.7567789330556283, -2.054035669273658, 0.5048997928080652, -1.1112808411952075, 0.5912890910463597, 0.0955475906516338, -0.28622310082696395, 0.11737426814490341, -0.06758176195487915, 0.3241491954622198, -0.5104479126394454, 0.026529123575938545, 1.4972763559326852, 1.8253818450833434, -1.2574190220624064, 0.1257869275628511, 0.016621627579822357, 0.979647443174523, 0.518474140677526, -0.41373982543347276, 0.009111766977325414, 0.7981851789989233, -1.5066373021119543, -0.8145019514506392, 1.2127894892403486, 1.1666091840168742, -0.1826814988975061, 0.2121435888368178, 0.5919460396147409, 0.6706604908690293, -0.1538820807314714, -0.06481604156077372, 0.6865617899199997, 0.5772096001553042, 0.469910962356171, -2.0005706396554475, 0.7472354988856291, -0.6389610051560966, -0.38295815856378096, -0.09249688990779162, 1.6673465664575287, -0.5169802146802591, 0.3229158282844716, -2.2439072734691266, -0.59787255059542, 2.0190019560628656, -0.8827665762111087, 0.1720370484706035, 1.1447792901642073, -2.021110364925016, -0.4431961270162332, 0.6154890464199887, -0.5340413595491634, -1.4300515449852669, -0.4289970586923092, -3.187864606601478, -0.5443854916908588, 1.9027789968231628, 0.028860644801460108, -0.9070719076829377, 2.2604509548717204, -0.4756263042930482, -1.0527349279366778, 1.0989883088287775, 0.8363471991549375, 0.9390577333704273, -0.6821309372267801, -0.040109791076703746, -1.0926766026681485, 0.8810484800262337, 0.13899121632294173, 0.18175429939228152, 0.6641933255515288, -0.29364200182227196, 0.5215667308020342, 0.511801600346848, 0.1323902697067605, -2.1124151258180466, -0.3963021602119647, 1.1669298215227715, 0.7144341554925651, 1.393601613907853, 0.8542543813843058, 1.793693509296129, 1.958951631262988, 1.9793533489183885, 0.5393936516728588, 0.8635557050746643, 0.19647333456875704, -1.3462894052999834, -0.036318884695404764, -0.5437514526982358, -0.8788039924624359]}, {\"line\": {\"color\": \"rgba(50, 171, 96, 1.0)\", \"dash\": \"solid\", \"shape\": \"linear\", \"width\": 1.3}, \"mode\": \"lines\", \"name\": \"C\", \"text\": \"\", \"type\": \"scatter\", \"x\": [0, 1, 2, 3, 4, 5, 6, 7, 8, 9, 10, 11, 12, 13, 14, 15, 16, 17, 18, 19, 20, 21, 22, 23, 24, 25, 26, 27, 28, 29, 30, 31, 32, 33, 34, 35, 36, 37, 38, 39, 40, 41, 42, 43, 44, 45, 46, 47, 48, 49, 50, 51, 52, 53, 54, 55, 56, 57, 58, 59, 60, 61, 62, 63, 64, 65, 66, 67, 68, 69, 70, 71, 72, 73, 74, 75, 76, 77, 78, 79, 80, 81, 82, 83, 84, 85, 86, 87, 88, 89, 90, 91, 92, 93, 94, 95, 96, 97, 98, 99], \"y\": [-0.21276462251127787, 0.5392444209308489, 1.201647243870889, 1.6782766296745564, 1.1780165541193524, 0.40167196181061116, -0.1591374159699852, 0.39767413608763563, 0.8651958256291215, 1.478487857872841, -0.6734933053355409, -0.9164503190359672, -0.1522431081070318, -0.17775723859865142, -0.5784508624076548, -0.8953430846986111, -0.5955412799976927, -1.4996597344022469, -0.7358247995812351, -0.933572443609917, -0.008828766883507387, -0.8164283705009511, 1.273678888538661, -0.8651312409226529, 0.35478150022354593, 0.986399459757734, -0.5352650018171781, -1.3886598301517936, -0.9095518855205877, -0.18025157413060977, -1.1639538469777637, -0.45797392379674257, 0.6729367441748657, -1.8550523081681753, -1.2923975140689834, 0.1464356554680572, -0.9334423032882809, -0.44248786315560623, 1.0671262179776113, 0.33753739416763867, 0.9128835546431392, -0.5900917794231104, -0.3737024267929817, 0.3712684727445248, -0.7557372214105362, 0.843767325377286, -2.206479423111974, 0.4426752009503339, -1.418894646378147, -1.6105792466568054, 0.14046905986929045, -1.7025655506186397, -1.1263018556886557, 0.04343967291843729, -1.2047503941915687, -0.09781015949410614, -0.24368586131596517, 0.6958509742327339, -1.0704795691259144, 0.5620221156749131, 0.9390052445805276, -1.3349060314912693, 0.40321915973170414, 1.6285358959063552, -0.17701723872220992, 0.8234083102866014, 0.9957585721559657, -0.3763413287556481, -1.6265324048745329, -0.621938385545258, -0.465630623615682, 1.526182232958349, 0.3520390029182346, 2.5651656043033713, 0.7960377533994962, 0.32625925238639847, -1.1861624824881056, 0.949283354081687, 0.08425473048695817, -0.7318456749714377, -1.0006911553437978, 0.41625205826679096, -1.0046004868315244, 0.09274029071208498, -1.741066554969545, -0.1488349120028584, 0.06298419279152194, -1.0202004771437285, 0.31668257541722206, -1.9144300423394567, 1.8560064604860345, -0.6905437344649258, -0.020351338723384127, -0.7245034758310543, 1.2620486376354592, -0.15544435172249807, -0.38249834037408337, -0.44288833342145334, -0.37916364819204046, 1.500013795209575]}, {\"line\": {\"color\": \"rgba(128, 0, 128, 1.0)\", \"dash\": \"solid\", \"shape\": \"linear\", \"width\": 1.3}, \"mode\": \"lines\", \"name\": \"D\", \"text\": \"\", \"type\": \"scatter\", \"x\": [0, 1, 2, 3, 4, 5, 6, 7, 8, 9, 10, 11, 12, 13, 14, 15, 16, 17, 18, 19, 20, 21, 22, 23, 24, 25, 26, 27, 28, 29, 30, 31, 32, 33, 34, 35, 36, 37, 38, 39, 40, 41, 42, 43, 44, 45, 46, 47, 48, 49, 50, 51, 52, 53, 54, 55, 56, 57, 58, 59, 60, 61, 62, 63, 64, 65, 66, 67, 68, 69, 70, 71, 72, 73, 74, 75, 76, 77, 78, 79, 80, 81, 82, 83, 84, 85, 86, 87, 88, 89, 90, 91, 92, 93, 94, 95, 96, 97, 98, 99], \"y\": [1.2646382812754842, -0.8971743142451027, -2.0754884569254672, 0.24979143146563057, 0.7113633997792028, 1.278216640237135, -0.49685845418634067, 1.2344611106270564, 0.36195754457371004, 0.6043429263082021, 1.1059302402322535, -0.6515379521018477, 0.3646331090549264, -0.9845536691002664, 1.4409263079086052, 0.8816667955217995, -0.7853779284986235, -0.7978616503508753, -1.0828660240395294, 0.10487744298562451, 0.19217934901563238, -0.44483118359065044, 0.081992768065037, 0.717726912938894, -0.4840805058901615, 0.9655267003749074, -0.15515680869122653, 0.18765636261666088, 1.1626969975525205, 1.1221860512686315, -0.7262998465735776, 0.5769953510599819, -0.34292887593453836, -0.7177335259504108, 0.4645526729614544, 2.2636115244007744, 0.6788635025563274, -1.3586866410113239, 1.402105490753138, -0.04773722688359785, -0.05201898018951273, 0.2775465835054213, -2.5368187629127665, 0.7489922275026335, 0.4366105803867375, -0.22742515624588822, 0.8389663215980219, 0.8119997599104144, 1.5599969289424327, 1.1960493070861002, 0.5532823184545692, 0.5429127445526751, -0.9216892467648115, -0.7124766367267783, -0.5469063510503084, 1.2104299366607287, 0.06529088469119605, -0.26731497693372736, 0.18006682091523982, 1.5858814002047847, 0.028250097720445115, 1.3266255468110029, 1.3247055522245879, 0.016966380125314793, -0.8959419956364261, 0.878890833696069, -0.01258411681511281, -0.0795240148058931, 0.09205341634269462, 0.8743683456662174, 1.2651793568520557, -0.01223560757394819, -1.1669543697177909, -1.0420826567320396, 2.063838270434295, 0.0968244764073173, -0.14942699098437895, -1.3822629131066702, 0.15884855391204272, 0.6019636707340277, 1.2663377202008308, -1.6319526838234355, -0.08569233667719377, -0.19194039719829523, 0.6089137382785959, 0.21037399045564947, 1.1878195115705752, 0.10049673180139712, -0.6091707263338128, -1.0208458347127198, -0.7948310997841892, 0.8263015448397337, 0.6008696554415681, -2.853267844849281, -0.953772467478873, -0.3422257288319156, 0.5312134043166221, 0.15022922890648535, 0.2815641965610305, -0.2403819541347331]}],                        {\"legend\": {\"bgcolor\": \"#F5F6F9\", \"font\": {\"color\": \"#4D5663\"}}, \"paper_bgcolor\": \"#F5F6F9\", \"plot_bgcolor\": \"#F5F6F9\", \"template\": {\"data\": {\"bar\": [{\"error_x\": {\"color\": \"#2a3f5f\"}, \"error_y\": {\"color\": \"#2a3f5f\"}, \"marker\": {\"line\": {\"color\": \"#E5ECF6\", \"width\": 0.5}}, \"type\": \"bar\"}], \"barpolar\": [{\"marker\": {\"line\": {\"color\": \"#E5ECF6\", \"width\": 0.5}}, \"type\": \"barpolar\"}], \"carpet\": [{\"aaxis\": {\"endlinecolor\": \"#2a3f5f\", \"gridcolor\": \"white\", \"linecolor\": \"white\", \"minorgridcolor\": \"white\", \"startlinecolor\": \"#2a3f5f\"}, \"baxis\": {\"endlinecolor\": \"#2a3f5f\", \"gridcolor\": \"white\", \"linecolor\": \"white\", \"minorgridcolor\": \"white\", \"startlinecolor\": \"#2a3f5f\"}, \"type\": \"carpet\"}], \"choropleth\": [{\"colorbar\": {\"outlinewidth\": 0, \"ticks\": \"\"}, \"type\": \"choropleth\"}], \"contour\": [{\"colorbar\": {\"outlinewidth\": 0, \"ticks\": \"\"}, \"colorscale\": [[0.0, \"#0d0887\"], [0.1111111111111111, \"#46039f\"], [0.2222222222222222, \"#7201a8\"], [0.3333333333333333, \"#9c179e\"], [0.4444444444444444, \"#bd3786\"], [0.5555555555555556, \"#d8576b\"], [0.6666666666666666, \"#ed7953\"], [0.7777777777777778, \"#fb9f3a\"], [0.8888888888888888, \"#fdca26\"], [1.0, \"#f0f921\"]], \"type\": \"contour\"}], \"contourcarpet\": [{\"colorbar\": {\"outlinewidth\": 0, \"ticks\": \"\"}, \"type\": \"contourcarpet\"}], \"heatmap\": [{\"colorbar\": {\"outlinewidth\": 0, \"ticks\": \"\"}, \"colorscale\": [[0.0, \"#0d0887\"], [0.1111111111111111, \"#46039f\"], [0.2222222222222222, \"#7201a8\"], [0.3333333333333333, \"#9c179e\"], [0.4444444444444444, \"#bd3786\"], [0.5555555555555556, \"#d8576b\"], [0.6666666666666666, \"#ed7953\"], [0.7777777777777778, \"#fb9f3a\"], [0.8888888888888888, \"#fdca26\"], [1.0, \"#f0f921\"]], \"type\": \"heatmap\"}], \"heatmapgl\": [{\"colorbar\": {\"outlinewidth\": 0, \"ticks\": \"\"}, \"colorscale\": [[0.0, \"#0d0887\"], [0.1111111111111111, \"#46039f\"], [0.2222222222222222, \"#7201a8\"], [0.3333333333333333, \"#9c179e\"], [0.4444444444444444, \"#bd3786\"], [0.5555555555555556, \"#d8576b\"], [0.6666666666666666, \"#ed7953\"], [0.7777777777777778, \"#fb9f3a\"], [0.8888888888888888, \"#fdca26\"], [1.0, \"#f0f921\"]], \"type\": \"heatmapgl\"}], \"histogram\": [{\"marker\": {\"colorbar\": {\"outlinewidth\": 0, \"ticks\": \"\"}}, \"type\": \"histogram\"}], \"histogram2d\": [{\"colorbar\": {\"outlinewidth\": 0, \"ticks\": \"\"}, \"colorscale\": [[0.0, \"#0d0887\"], [0.1111111111111111, \"#46039f\"], [0.2222222222222222, \"#7201a8\"], [0.3333333333333333, \"#9c179e\"], [0.4444444444444444, \"#bd3786\"], [0.5555555555555556, \"#d8576b\"], [0.6666666666666666, \"#ed7953\"], [0.7777777777777778, \"#fb9f3a\"], [0.8888888888888888, \"#fdca26\"], [1.0, \"#f0f921\"]], \"type\": \"histogram2d\"}], \"histogram2dcontour\": [{\"colorbar\": {\"outlinewidth\": 0, \"ticks\": \"\"}, \"colorscale\": [[0.0, \"#0d0887\"], [0.1111111111111111, \"#46039f\"], [0.2222222222222222, \"#7201a8\"], [0.3333333333333333, \"#9c179e\"], [0.4444444444444444, \"#bd3786\"], [0.5555555555555556, \"#d8576b\"], [0.6666666666666666, \"#ed7953\"], [0.7777777777777778, \"#fb9f3a\"], [0.8888888888888888, \"#fdca26\"], [1.0, \"#f0f921\"]], \"type\": \"histogram2dcontour\"}], \"mesh3d\": [{\"colorbar\": {\"outlinewidth\": 0, \"ticks\": \"\"}, \"type\": \"mesh3d\"}], \"parcoords\": [{\"line\": {\"colorbar\": {\"outlinewidth\": 0, \"ticks\": \"\"}}, \"type\": \"parcoords\"}], \"pie\": [{\"automargin\": true, \"type\": \"pie\"}], \"scatter\": [{\"marker\": {\"colorbar\": {\"outlinewidth\": 0, \"ticks\": \"\"}}, \"type\": \"scatter\"}], \"scatter3d\": [{\"line\": {\"colorbar\": {\"outlinewidth\": 0, \"ticks\": \"\"}}, \"marker\": {\"colorbar\": {\"outlinewidth\": 0, \"ticks\": \"\"}}, \"type\": \"scatter3d\"}], \"scattercarpet\": [{\"marker\": {\"colorbar\": {\"outlinewidth\": 0, \"ticks\": \"\"}}, \"type\": \"scattercarpet\"}], \"scattergeo\": [{\"marker\": {\"colorbar\": {\"outlinewidth\": 0, \"ticks\": \"\"}}, \"type\": \"scattergeo\"}], \"scattergl\": [{\"marker\": {\"colorbar\": {\"outlinewidth\": 0, \"ticks\": \"\"}}, \"type\": \"scattergl\"}], \"scattermapbox\": [{\"marker\": {\"colorbar\": {\"outlinewidth\": 0, \"ticks\": \"\"}}, \"type\": \"scattermapbox\"}], \"scatterpolar\": [{\"marker\": {\"colorbar\": {\"outlinewidth\": 0, \"ticks\": \"\"}}, \"type\": \"scatterpolar\"}], \"scatterpolargl\": [{\"marker\": {\"colorbar\": {\"outlinewidth\": 0, \"ticks\": \"\"}}, \"type\": \"scatterpolargl\"}], \"scatterternary\": [{\"marker\": {\"colorbar\": {\"outlinewidth\": 0, \"ticks\": \"\"}}, \"type\": \"scatterternary\"}], \"surface\": [{\"colorbar\": {\"outlinewidth\": 0, \"ticks\": \"\"}, \"colorscale\": [[0.0, \"#0d0887\"], [0.1111111111111111, \"#46039f\"], [0.2222222222222222, \"#7201a8\"], [0.3333333333333333, \"#9c179e\"], [0.4444444444444444, \"#bd3786\"], [0.5555555555555556, \"#d8576b\"], [0.6666666666666666, \"#ed7953\"], [0.7777777777777778, \"#fb9f3a\"], [0.8888888888888888, \"#fdca26\"], [1.0, \"#f0f921\"]], \"type\": \"surface\"}], \"table\": [{\"cells\": {\"fill\": {\"color\": \"#EBF0F8\"}, \"line\": {\"color\": \"white\"}}, \"header\": {\"fill\": {\"color\": \"#C8D4E3\"}, \"line\": {\"color\": \"white\"}}, \"type\": \"table\"}]}, \"layout\": {\"annotationdefaults\": {\"arrowcolor\": \"#2a3f5f\", \"arrowhead\": 0, \"arrowwidth\": 1}, \"autotypenumbers\": \"strict\", \"coloraxis\": {\"colorbar\": {\"outlinewidth\": 0, \"ticks\": \"\"}}, \"colorscale\": {\"diverging\": [[0, \"#8e0152\"], [0.1, \"#c51b7d\"], [0.2, \"#de77ae\"], [0.3, \"#f1b6da\"], [0.4, \"#fde0ef\"], [0.5, \"#f7f7f7\"], [0.6, \"#e6f5d0\"], [0.7, \"#b8e186\"], [0.8, \"#7fbc41\"], [0.9, \"#4d9221\"], [1, \"#276419\"]], \"sequential\": [[0.0, \"#0d0887\"], [0.1111111111111111, \"#46039f\"], [0.2222222222222222, \"#7201a8\"], [0.3333333333333333, \"#9c179e\"], [0.4444444444444444, \"#bd3786\"], [0.5555555555555556, \"#d8576b\"], [0.6666666666666666, \"#ed7953\"], [0.7777777777777778, \"#fb9f3a\"], [0.8888888888888888, \"#fdca26\"], [1.0, \"#f0f921\"]], \"sequentialminus\": [[0.0, \"#0d0887\"], [0.1111111111111111, \"#46039f\"], [0.2222222222222222, \"#7201a8\"], [0.3333333333333333, \"#9c179e\"], [0.4444444444444444, \"#bd3786\"], [0.5555555555555556, \"#d8576b\"], [0.6666666666666666, \"#ed7953\"], [0.7777777777777778, \"#fb9f3a\"], [0.8888888888888888, \"#fdca26\"], [1.0, \"#f0f921\"]]}, \"colorway\": [\"#636efa\", \"#EF553B\", \"#00cc96\", \"#ab63fa\", \"#FFA15A\", \"#19d3f3\", \"#FF6692\", \"#B6E880\", \"#FF97FF\", \"#FECB52\"], \"font\": {\"color\": \"#2a3f5f\"}, \"geo\": {\"bgcolor\": \"white\", \"lakecolor\": \"white\", \"landcolor\": \"#E5ECF6\", \"showlakes\": true, \"showland\": true, \"subunitcolor\": \"white\"}, \"hoverlabel\": {\"align\": \"left\"}, \"hovermode\": \"closest\", \"mapbox\": {\"style\": \"light\"}, \"paper_bgcolor\": \"white\", \"plot_bgcolor\": \"#E5ECF6\", \"polar\": {\"angularaxis\": {\"gridcolor\": \"white\", \"linecolor\": \"white\", \"ticks\": \"\"}, \"bgcolor\": \"#E5ECF6\", \"radialaxis\": {\"gridcolor\": \"white\", \"linecolor\": \"white\", \"ticks\": \"\"}}, \"scene\": {\"xaxis\": {\"backgroundcolor\": \"#E5ECF6\", \"gridcolor\": \"white\", \"gridwidth\": 2, \"linecolor\": \"white\", \"showbackground\": true, \"ticks\": \"\", \"zerolinecolor\": \"white\"}, \"yaxis\": {\"backgroundcolor\": \"#E5ECF6\", \"gridcolor\": \"white\", \"gridwidth\": 2, \"linecolor\": \"white\", \"showbackground\": true, \"ticks\": \"\", \"zerolinecolor\": \"white\"}, \"zaxis\": {\"backgroundcolor\": \"#E5ECF6\", \"gridcolor\": \"white\", \"gridwidth\": 2, \"linecolor\": \"white\", \"showbackground\": true, \"ticks\": \"\", \"zerolinecolor\": \"white\"}}, \"shapedefaults\": {\"line\": {\"color\": \"#2a3f5f\"}}, \"ternary\": {\"aaxis\": {\"gridcolor\": \"white\", \"linecolor\": \"white\", \"ticks\": \"\"}, \"baxis\": {\"gridcolor\": \"white\", \"linecolor\": \"white\", \"ticks\": \"\"}, \"bgcolor\": \"#E5ECF6\", \"caxis\": {\"gridcolor\": \"white\", \"linecolor\": \"white\", \"ticks\": \"\"}}, \"title\": {\"x\": 0.05}, \"xaxis\": {\"automargin\": true, \"gridcolor\": \"white\", \"linecolor\": \"white\", \"ticks\": \"\", \"title\": {\"standoff\": 15}, \"zerolinecolor\": \"white\", \"zerolinewidth\": 2}, \"yaxis\": {\"automargin\": true, \"gridcolor\": \"white\", \"linecolor\": \"white\", \"ticks\": \"\", \"title\": {\"standoff\": 15}, \"zerolinecolor\": \"white\", \"zerolinewidth\": 2}}}, \"title\": {\"font\": {\"color\": \"#4D5663\"}}, \"xaxis\": {\"gridcolor\": \"#E1E5ED\", \"showgrid\": true, \"tickfont\": {\"color\": \"#4D5663\"}, \"title\": {\"font\": {\"color\": \"#4D5663\"}, \"text\": \"\"}, \"zerolinecolor\": \"#E1E5ED\"}, \"yaxis\": {\"gridcolor\": \"#E1E5ED\", \"showgrid\": true, \"tickfont\": {\"color\": \"#4D5663\"}, \"title\": {\"font\": {\"color\": \"#4D5663\"}, \"text\": \"\"}, \"zerolinecolor\": \"#E1E5ED\"}},                        {\"showLink\": true, \"linkText\": \"Export to plot.ly\", \"plotlyServerURL\": \"https://plot.ly\", \"responsive\": true}                    ).then(function(){\n",
       "                            \n",
       "var gd = document.getElementById('cc6f6099-9ff3-4212-b1f7-b735d4841645');\n",
       "var x = new MutationObserver(function (mutations, observer) {{\n",
       "        var display = window.getComputedStyle(gd).display;\n",
       "        if (!display || display === 'none') {{\n",
       "            console.log([gd, 'removed!']);\n",
       "            Plotly.purge(gd);\n",
       "            observer.disconnect();\n",
       "        }}\n",
       "}});\n",
       "\n",
       "// Listen for the removal of the full notebook cells\n",
       "var notebookContainer = gd.closest('#notebook-container');\n",
       "if (notebookContainer) {{\n",
       "    x.observe(notebookContainer, {childList: true});\n",
       "}}\n",
       "\n",
       "// Listen for the clearing of the current output cell\n",
       "var outputEl = gd.closest('.output');\n",
       "if (outputEl) {{\n",
       "    x.observe(outputEl, {childList: true});\n",
       "}}\n",
       "\n",
       "                        })                };                });            </script>        </div>"
      ]
     },
     "metadata": {},
     "output_type": "display_data"
    }
   ],
   "source": [
    "df.iplot() # interactive"
   ]
  },
  {
   "cell_type": "markdown",
   "metadata": {},
   "source": [
    "## Using Cufflinks and iplot()\n",
    "\n",
    "* scatter\n",
    "* bar\n",
    "* box\n",
    "* spread\n",
    "* ratio\n",
    "* heatmap\n",
    "* surface\n",
    "* histogram\n",
    "* bubble"
   ]
  },
  {
   "cell_type": "markdown",
   "metadata": {},
   "source": [
    "## Scatter"
   ]
  },
  {
   "cell_type": "code",
   "execution_count": 18,
   "metadata": {},
   "outputs": [
    {
     "data": {
      "application/vnd.plotly.v1+json": {
       "config": {
        "linkText": "Export to plot.ly",
        "plotlyServerURL": "https://plot.ly",
        "showLink": true
       },
       "data": [
        {
         "line": {
          "color": "rgba(255, 153, 51, 1.0)",
          "dash": "solid",
          "shape": "linear",
          "width": 1.3
         },
         "mode": "lines",
         "name": "B",
         "text": "",
         "type": "scatter",
         "x": [
          -1.3743721584499824,
          0.01000404246298731,
          1.060073616887478,
          0.11441049376808408,
          -0.1254638614812266,
          -0.9070069778849268,
          0.052704947052634725,
          -0.018615509263272198,
          0.3426791424383957,
          0.7156411612038974,
          0.10320678514670655,
          1.5303326705609726,
          -0.21191099006121578,
          -2.020852407942947,
          0.22310319700464062,
          0.5054873846397421,
          0.4026865599915081,
          -1.4536017289362706,
          0.7950717634128648,
          -0.23111559189028452,
          0.7663819343502544,
          -0.6235760258594119,
          -0.39259261868434986,
          0.12216190113995658,
          -1.6096224506550463,
          0.5639253855756436,
          -1.0847543814378535,
          1.0885717287652497,
          -0.591208567689423,
          -1.6938094395037835,
          0.018569790345541275,
          0.8539549753616196,
          0.806290563715313,
          -1.6254073372348345,
          0.9733772798627246,
          1.1342632149777827,
          0.6285286305821992,
          0.8898153149689759,
          0.43696724130491166,
          -0.11330861472454354,
          -0.30502763648952747,
          0.23913144901280264,
          -0.5265302051771779,
          -2.428775933644073,
          1.2029442849361394,
          -2.123707409478142,
          -1.391993761824126,
          -0.6561453328335073,
          -1.0638196040870558,
          -1.034440135369431,
          1.4545524807375916,
          0.9664194515222728,
          1.3514860245657558,
          0.641805705752012,
          0.2250786303196695,
          0.5551821716123263,
          -0.3022131037940552,
          0.1957505960294113,
          -0.09000988974301995,
          0.2030785749813345,
          0.20537268885063817,
          2.007683712209121,
          -1.4843400652481071,
          1.600331889395343,
          -2.658926199502142,
          -0.7475374003049038,
          0.059354593787525535,
          -2.3391273652213593,
          0.14801385832510175,
          0.7316816414068449,
          2.6313286535979996,
          -0.6609371876541106,
          1.1687995210202855,
          1.0322937940761117,
          -0.12266208992005274,
          1.35264415917231,
          -0.6569032104004473,
          -1.325436343882467,
          0.03518178304520304,
          0.9882093647510404,
          0.7716022659319737,
          0.2571496555762069,
          0.9497583254883611,
          0.34755083044952106,
          -0.2608789849073516,
          1.6727247611623286,
          0.9699480590442013,
          -0.5146697755100796,
          0.1877515295630458,
          -0.16382196131899163,
          -0.6291505468485376,
          -0.3276311214951528,
          -1.1219800893721616,
          0.9243005130469527,
          0.34121867776964615,
          -0.1776353990815943,
          0.6764803263134359,
          -1.0912902239348543,
          0.23613255869213673,
          -0.9206029120136027
         ],
         "y": [
          -0.41705545013634915,
          -0.48642056858316945,
          -0.026443392359397484,
          0.1978372625783503,
          1.4968152023860652,
          1.2996001460682738,
          -1.9367361458578556,
          -0.7567789330556283,
          -2.054035669273658,
          0.5048997928080652,
          -1.1112808411952075,
          0.5912890910463597,
          0.0955475906516338,
          -0.28622310082696395,
          0.11737426814490341,
          -0.06758176195487915,
          0.3241491954622198,
          -0.5104479126394454,
          0.026529123575938545,
          1.4972763559326852,
          1.8253818450833434,
          -1.2574190220624064,
          0.1257869275628511,
          0.016621627579822357,
          0.979647443174523,
          0.518474140677526,
          -0.41373982543347276,
          0.009111766977325414,
          0.7981851789989233,
          -1.5066373021119543,
          -0.8145019514506392,
          1.2127894892403486,
          1.1666091840168742,
          -0.1826814988975061,
          0.2121435888368178,
          0.5919460396147409,
          0.6706604908690293,
          -0.1538820807314714,
          -0.06481604156077372,
          0.6865617899199997,
          0.5772096001553042,
          0.469910962356171,
          -2.0005706396554475,
          0.7472354988856291,
          -0.6389610051560966,
          -0.38295815856378096,
          -0.09249688990779162,
          1.6673465664575287,
          -0.5169802146802591,
          0.3229158282844716,
          -2.2439072734691266,
          -0.59787255059542,
          2.0190019560628656,
          -0.8827665762111087,
          0.1720370484706035,
          1.1447792901642073,
          -2.021110364925016,
          -0.4431961270162332,
          0.6154890464199887,
          -0.5340413595491634,
          -1.4300515449852669,
          -0.4289970586923092,
          -3.187864606601478,
          -0.5443854916908588,
          1.9027789968231628,
          0.028860644801460108,
          -0.9070719076829377,
          2.2604509548717204,
          -0.4756263042930482,
          -1.0527349279366778,
          1.0989883088287775,
          0.8363471991549375,
          0.9390577333704273,
          -0.6821309372267801,
          -0.040109791076703746,
          -1.0926766026681485,
          0.8810484800262337,
          0.13899121632294173,
          0.18175429939228152,
          0.6641933255515288,
          -0.29364200182227196,
          0.5215667308020342,
          0.511801600346848,
          0.1323902697067605,
          -2.1124151258180466,
          -0.3963021602119647,
          1.1669298215227715,
          0.7144341554925651,
          1.393601613907853,
          0.8542543813843058,
          1.793693509296129,
          1.958951631262988,
          1.9793533489183885,
          0.5393936516728588,
          0.8635557050746643,
          0.19647333456875704,
          -1.3462894052999834,
          -0.036318884695404764,
          -0.5437514526982358,
          -0.8788039924624359
         ]
        }
       ],
       "layout": {
        "legend": {
         "bgcolor": "#F5F6F9",
         "font": {
          "color": "#4D5663"
         }
        },
        "paper_bgcolor": "#F5F6F9",
        "plot_bgcolor": "#F5F6F9",
        "template": {
         "data": {
          "bar": [
           {
            "error_x": {
             "color": "#2a3f5f"
            },
            "error_y": {
             "color": "#2a3f5f"
            },
            "marker": {
             "line": {
              "color": "#E5ECF6",
              "width": 0.5
             }
            },
            "type": "bar"
           }
          ],
          "barpolar": [
           {
            "marker": {
             "line": {
              "color": "#E5ECF6",
              "width": 0.5
             }
            },
            "type": "barpolar"
           }
          ],
          "carpet": [
           {
            "aaxis": {
             "endlinecolor": "#2a3f5f",
             "gridcolor": "white",
             "linecolor": "white",
             "minorgridcolor": "white",
             "startlinecolor": "#2a3f5f"
            },
            "baxis": {
             "endlinecolor": "#2a3f5f",
             "gridcolor": "white",
             "linecolor": "white",
             "minorgridcolor": "white",
             "startlinecolor": "#2a3f5f"
            },
            "type": "carpet"
           }
          ],
          "choropleth": [
           {
            "colorbar": {
             "outlinewidth": 0,
             "ticks": ""
            },
            "type": "choropleth"
           }
          ],
          "contour": [
           {
            "colorbar": {
             "outlinewidth": 0,
             "ticks": ""
            },
            "colorscale": [
             [
              0,
              "#0d0887"
             ],
             [
              0.1111111111111111,
              "#46039f"
             ],
             [
              0.2222222222222222,
              "#7201a8"
             ],
             [
              0.3333333333333333,
              "#9c179e"
             ],
             [
              0.4444444444444444,
              "#bd3786"
             ],
             [
              0.5555555555555556,
              "#d8576b"
             ],
             [
              0.6666666666666666,
              "#ed7953"
             ],
             [
              0.7777777777777778,
              "#fb9f3a"
             ],
             [
              0.8888888888888888,
              "#fdca26"
             ],
             [
              1,
              "#f0f921"
             ]
            ],
            "type": "contour"
           }
          ],
          "contourcarpet": [
           {
            "colorbar": {
             "outlinewidth": 0,
             "ticks": ""
            },
            "type": "contourcarpet"
           }
          ],
          "heatmap": [
           {
            "colorbar": {
             "outlinewidth": 0,
             "ticks": ""
            },
            "colorscale": [
             [
              0,
              "#0d0887"
             ],
             [
              0.1111111111111111,
              "#46039f"
             ],
             [
              0.2222222222222222,
              "#7201a8"
             ],
             [
              0.3333333333333333,
              "#9c179e"
             ],
             [
              0.4444444444444444,
              "#bd3786"
             ],
             [
              0.5555555555555556,
              "#d8576b"
             ],
             [
              0.6666666666666666,
              "#ed7953"
             ],
             [
              0.7777777777777778,
              "#fb9f3a"
             ],
             [
              0.8888888888888888,
              "#fdca26"
             ],
             [
              1,
              "#f0f921"
             ]
            ],
            "type": "heatmap"
           }
          ],
          "heatmapgl": [
           {
            "colorbar": {
             "outlinewidth": 0,
             "ticks": ""
            },
            "colorscale": [
             [
              0,
              "#0d0887"
             ],
             [
              0.1111111111111111,
              "#46039f"
             ],
             [
              0.2222222222222222,
              "#7201a8"
             ],
             [
              0.3333333333333333,
              "#9c179e"
             ],
             [
              0.4444444444444444,
              "#bd3786"
             ],
             [
              0.5555555555555556,
              "#d8576b"
             ],
             [
              0.6666666666666666,
              "#ed7953"
             ],
             [
              0.7777777777777778,
              "#fb9f3a"
             ],
             [
              0.8888888888888888,
              "#fdca26"
             ],
             [
              1,
              "#f0f921"
             ]
            ],
            "type": "heatmapgl"
           }
          ],
          "histogram": [
           {
            "marker": {
             "colorbar": {
              "outlinewidth": 0,
              "ticks": ""
             }
            },
            "type": "histogram"
           }
          ],
          "histogram2d": [
           {
            "colorbar": {
             "outlinewidth": 0,
             "ticks": ""
            },
            "colorscale": [
             [
              0,
              "#0d0887"
             ],
             [
              0.1111111111111111,
              "#46039f"
             ],
             [
              0.2222222222222222,
              "#7201a8"
             ],
             [
              0.3333333333333333,
              "#9c179e"
             ],
             [
              0.4444444444444444,
              "#bd3786"
             ],
             [
              0.5555555555555556,
              "#d8576b"
             ],
             [
              0.6666666666666666,
              "#ed7953"
             ],
             [
              0.7777777777777778,
              "#fb9f3a"
             ],
             [
              0.8888888888888888,
              "#fdca26"
             ],
             [
              1,
              "#f0f921"
             ]
            ],
            "type": "histogram2d"
           }
          ],
          "histogram2dcontour": [
           {
            "colorbar": {
             "outlinewidth": 0,
             "ticks": ""
            },
            "colorscale": [
             [
              0,
              "#0d0887"
             ],
             [
              0.1111111111111111,
              "#46039f"
             ],
             [
              0.2222222222222222,
              "#7201a8"
             ],
             [
              0.3333333333333333,
              "#9c179e"
             ],
             [
              0.4444444444444444,
              "#bd3786"
             ],
             [
              0.5555555555555556,
              "#d8576b"
             ],
             [
              0.6666666666666666,
              "#ed7953"
             ],
             [
              0.7777777777777778,
              "#fb9f3a"
             ],
             [
              0.8888888888888888,
              "#fdca26"
             ],
             [
              1,
              "#f0f921"
             ]
            ],
            "type": "histogram2dcontour"
           }
          ],
          "mesh3d": [
           {
            "colorbar": {
             "outlinewidth": 0,
             "ticks": ""
            },
            "type": "mesh3d"
           }
          ],
          "parcoords": [
           {
            "line": {
             "colorbar": {
              "outlinewidth": 0,
              "ticks": ""
             }
            },
            "type": "parcoords"
           }
          ],
          "pie": [
           {
            "automargin": true,
            "type": "pie"
           }
          ],
          "scatter": [
           {
            "marker": {
             "colorbar": {
              "outlinewidth": 0,
              "ticks": ""
             }
            },
            "type": "scatter"
           }
          ],
          "scatter3d": [
           {
            "line": {
             "colorbar": {
              "outlinewidth": 0,
              "ticks": ""
             }
            },
            "marker": {
             "colorbar": {
              "outlinewidth": 0,
              "ticks": ""
             }
            },
            "type": "scatter3d"
           }
          ],
          "scattercarpet": [
           {
            "marker": {
             "colorbar": {
              "outlinewidth": 0,
              "ticks": ""
             }
            },
            "type": "scattercarpet"
           }
          ],
          "scattergeo": [
           {
            "marker": {
             "colorbar": {
              "outlinewidth": 0,
              "ticks": ""
             }
            },
            "type": "scattergeo"
           }
          ],
          "scattergl": [
           {
            "marker": {
             "colorbar": {
              "outlinewidth": 0,
              "ticks": ""
             }
            },
            "type": "scattergl"
           }
          ],
          "scattermapbox": [
           {
            "marker": {
             "colorbar": {
              "outlinewidth": 0,
              "ticks": ""
             }
            },
            "type": "scattermapbox"
           }
          ],
          "scatterpolar": [
           {
            "marker": {
             "colorbar": {
              "outlinewidth": 0,
              "ticks": ""
             }
            },
            "type": "scatterpolar"
           }
          ],
          "scatterpolargl": [
           {
            "marker": {
             "colorbar": {
              "outlinewidth": 0,
              "ticks": ""
             }
            },
            "type": "scatterpolargl"
           }
          ],
          "scatterternary": [
           {
            "marker": {
             "colorbar": {
              "outlinewidth": 0,
              "ticks": ""
             }
            },
            "type": "scatterternary"
           }
          ],
          "surface": [
           {
            "colorbar": {
             "outlinewidth": 0,
             "ticks": ""
            },
            "colorscale": [
             [
              0,
              "#0d0887"
             ],
             [
              0.1111111111111111,
              "#46039f"
             ],
             [
              0.2222222222222222,
              "#7201a8"
             ],
             [
              0.3333333333333333,
              "#9c179e"
             ],
             [
              0.4444444444444444,
              "#bd3786"
             ],
             [
              0.5555555555555556,
              "#d8576b"
             ],
             [
              0.6666666666666666,
              "#ed7953"
             ],
             [
              0.7777777777777778,
              "#fb9f3a"
             ],
             [
              0.8888888888888888,
              "#fdca26"
             ],
             [
              1,
              "#f0f921"
             ]
            ],
            "type": "surface"
           }
          ],
          "table": [
           {
            "cells": {
             "fill": {
              "color": "#EBF0F8"
             },
             "line": {
              "color": "white"
             }
            },
            "header": {
             "fill": {
              "color": "#C8D4E3"
             },
             "line": {
              "color": "white"
             }
            },
            "type": "table"
           }
          ]
         },
         "layout": {
          "annotationdefaults": {
           "arrowcolor": "#2a3f5f",
           "arrowhead": 0,
           "arrowwidth": 1
          },
          "autotypenumbers": "strict",
          "coloraxis": {
           "colorbar": {
            "outlinewidth": 0,
            "ticks": ""
           }
          },
          "colorscale": {
           "diverging": [
            [
             0,
             "#8e0152"
            ],
            [
             0.1,
             "#c51b7d"
            ],
            [
             0.2,
             "#de77ae"
            ],
            [
             0.3,
             "#f1b6da"
            ],
            [
             0.4,
             "#fde0ef"
            ],
            [
             0.5,
             "#f7f7f7"
            ],
            [
             0.6,
             "#e6f5d0"
            ],
            [
             0.7,
             "#b8e186"
            ],
            [
             0.8,
             "#7fbc41"
            ],
            [
             0.9,
             "#4d9221"
            ],
            [
             1,
             "#276419"
            ]
           ],
           "sequential": [
            [
             0,
             "#0d0887"
            ],
            [
             0.1111111111111111,
             "#46039f"
            ],
            [
             0.2222222222222222,
             "#7201a8"
            ],
            [
             0.3333333333333333,
             "#9c179e"
            ],
            [
             0.4444444444444444,
             "#bd3786"
            ],
            [
             0.5555555555555556,
             "#d8576b"
            ],
            [
             0.6666666666666666,
             "#ed7953"
            ],
            [
             0.7777777777777778,
             "#fb9f3a"
            ],
            [
             0.8888888888888888,
             "#fdca26"
            ],
            [
             1,
             "#f0f921"
            ]
           ],
           "sequentialminus": [
            [
             0,
             "#0d0887"
            ],
            [
             0.1111111111111111,
             "#46039f"
            ],
            [
             0.2222222222222222,
             "#7201a8"
            ],
            [
             0.3333333333333333,
             "#9c179e"
            ],
            [
             0.4444444444444444,
             "#bd3786"
            ],
            [
             0.5555555555555556,
             "#d8576b"
            ],
            [
             0.6666666666666666,
             "#ed7953"
            ],
            [
             0.7777777777777778,
             "#fb9f3a"
            ],
            [
             0.8888888888888888,
             "#fdca26"
            ],
            [
             1,
             "#f0f921"
            ]
           ]
          },
          "colorway": [
           "#636efa",
           "#EF553B",
           "#00cc96",
           "#ab63fa",
           "#FFA15A",
           "#19d3f3",
           "#FF6692",
           "#B6E880",
           "#FF97FF",
           "#FECB52"
          ],
          "font": {
           "color": "#2a3f5f"
          },
          "geo": {
           "bgcolor": "white",
           "lakecolor": "white",
           "landcolor": "#E5ECF6",
           "showlakes": true,
           "showland": true,
           "subunitcolor": "white"
          },
          "hoverlabel": {
           "align": "left"
          },
          "hovermode": "closest",
          "mapbox": {
           "style": "light"
          },
          "paper_bgcolor": "white",
          "plot_bgcolor": "#E5ECF6",
          "polar": {
           "angularaxis": {
            "gridcolor": "white",
            "linecolor": "white",
            "ticks": ""
           },
           "bgcolor": "#E5ECF6",
           "radialaxis": {
            "gridcolor": "white",
            "linecolor": "white",
            "ticks": ""
           }
          },
          "scene": {
           "xaxis": {
            "backgroundcolor": "#E5ECF6",
            "gridcolor": "white",
            "gridwidth": 2,
            "linecolor": "white",
            "showbackground": true,
            "ticks": "",
            "zerolinecolor": "white"
           },
           "yaxis": {
            "backgroundcolor": "#E5ECF6",
            "gridcolor": "white",
            "gridwidth": 2,
            "linecolor": "white",
            "showbackground": true,
            "ticks": "",
            "zerolinecolor": "white"
           },
           "zaxis": {
            "backgroundcolor": "#E5ECF6",
            "gridcolor": "white",
            "gridwidth": 2,
            "linecolor": "white",
            "showbackground": true,
            "ticks": "",
            "zerolinecolor": "white"
           }
          },
          "shapedefaults": {
           "line": {
            "color": "#2a3f5f"
           }
          },
          "ternary": {
           "aaxis": {
            "gridcolor": "white",
            "linecolor": "white",
            "ticks": ""
           },
           "baxis": {
            "gridcolor": "white",
            "linecolor": "white",
            "ticks": ""
           },
           "bgcolor": "#E5ECF6",
           "caxis": {
            "gridcolor": "white",
            "linecolor": "white",
            "ticks": ""
           }
          },
          "title": {
           "x": 0.05
          },
          "xaxis": {
           "automargin": true,
           "gridcolor": "white",
           "linecolor": "white",
           "ticks": "",
           "title": {
            "standoff": 15
           },
           "zerolinecolor": "white",
           "zerolinewidth": 2
          },
          "yaxis": {
           "automargin": true,
           "gridcolor": "white",
           "linecolor": "white",
           "ticks": "",
           "title": {
            "standoff": 15
           },
           "zerolinecolor": "white",
           "zerolinewidth": 2
          }
         }
        },
        "title": {
         "font": {
          "color": "#4D5663"
         }
        },
        "xaxis": {
         "gridcolor": "#E1E5ED",
         "showgrid": true,
         "tickfont": {
          "color": "#4D5663"
         },
         "title": {
          "font": {
           "color": "#4D5663"
          },
          "text": ""
         },
         "zerolinecolor": "#E1E5ED"
        },
        "yaxis": {
         "gridcolor": "#E1E5ED",
         "showgrid": true,
         "tickfont": {
          "color": "#4D5663"
         },
         "title": {
          "font": {
           "color": "#4D5663"
          },
          "text": ""
         },
         "zerolinecolor": "#E1E5ED"
        }
       }
      },
      "text/html": [
       "<div>                            <div id=\"6dad4caa-87e3-49f6-8a79-eca04658880b\" class=\"plotly-graph-div\" style=\"height:525px; width:100%;\"></div>            <script type=\"text/javascript\">                require([\"plotly\"], function(Plotly) {                    window.PLOTLYENV=window.PLOTLYENV || {};\n",
       "                    window.PLOTLYENV.BASE_URL='https://plot.ly';                                    if (document.getElementById(\"6dad4caa-87e3-49f6-8a79-eca04658880b\")) {                    Plotly.newPlot(                        \"6dad4caa-87e3-49f6-8a79-eca04658880b\",                        [{\"line\": {\"color\": \"rgba(255, 153, 51, 1.0)\", \"dash\": \"solid\", \"shape\": \"linear\", \"width\": 1.3}, \"mode\": \"lines\", \"name\": \"B\", \"text\": \"\", \"type\": \"scatter\", \"x\": [-1.3743721584499824, 0.01000404246298731, 1.060073616887478, 0.11441049376808408, -0.1254638614812266, -0.9070069778849268, 0.052704947052634725, -0.018615509263272198, 0.3426791424383957, 0.7156411612038974, 0.10320678514670655, 1.5303326705609726, -0.21191099006121578, -2.020852407942947, 0.22310319700464062, 0.5054873846397421, 0.4026865599915081, -1.4536017289362706, 0.7950717634128648, -0.23111559189028452, 0.7663819343502544, -0.6235760258594119, -0.39259261868434986, 0.12216190113995658, -1.6096224506550463, 0.5639253855756436, -1.0847543814378535, 1.0885717287652497, -0.591208567689423, -1.6938094395037835, 0.018569790345541275, 0.8539549753616196, 0.806290563715313, -1.6254073372348345, 0.9733772798627246, 1.1342632149777827, 0.6285286305821992, 0.8898153149689759, 0.43696724130491166, -0.11330861472454354, -0.30502763648952747, 0.23913144901280264, -0.5265302051771779, -2.428775933644073, 1.2029442849361394, -2.123707409478142, -1.391993761824126, -0.6561453328335073, -1.0638196040870558, -1.034440135369431, 1.4545524807375916, 0.9664194515222728, 1.3514860245657558, 0.641805705752012, 0.2250786303196695, 0.5551821716123263, -0.3022131037940552, 0.1957505960294113, -0.09000988974301995, 0.2030785749813345, 0.20537268885063817, 2.007683712209121, -1.4843400652481071, 1.600331889395343, -2.658926199502142, -0.7475374003049038, 0.059354593787525535, -2.3391273652213593, 0.14801385832510175, 0.7316816414068449, 2.6313286535979996, -0.6609371876541106, 1.1687995210202855, 1.0322937940761117, -0.12266208992005274, 1.35264415917231, -0.6569032104004473, -1.325436343882467, 0.03518178304520304, 0.9882093647510404, 0.7716022659319737, 0.2571496555762069, 0.9497583254883611, 0.34755083044952106, -0.2608789849073516, 1.6727247611623286, 0.9699480590442013, -0.5146697755100796, 0.1877515295630458, -0.16382196131899163, -0.6291505468485376, -0.3276311214951528, -1.1219800893721616, 0.9243005130469527, 0.34121867776964615, -0.1776353990815943, 0.6764803263134359, -1.0912902239348543, 0.23613255869213673, -0.9206029120136027], \"y\": [-0.41705545013634915, -0.48642056858316945, -0.026443392359397484, 0.1978372625783503, 1.4968152023860652, 1.2996001460682738, -1.9367361458578556, -0.7567789330556283, -2.054035669273658, 0.5048997928080652, -1.1112808411952075, 0.5912890910463597, 0.0955475906516338, -0.28622310082696395, 0.11737426814490341, -0.06758176195487915, 0.3241491954622198, -0.5104479126394454, 0.026529123575938545, 1.4972763559326852, 1.8253818450833434, -1.2574190220624064, 0.1257869275628511, 0.016621627579822357, 0.979647443174523, 0.518474140677526, -0.41373982543347276, 0.009111766977325414, 0.7981851789989233, -1.5066373021119543, -0.8145019514506392, 1.2127894892403486, 1.1666091840168742, -0.1826814988975061, 0.2121435888368178, 0.5919460396147409, 0.6706604908690293, -0.1538820807314714, -0.06481604156077372, 0.6865617899199997, 0.5772096001553042, 0.469910962356171, -2.0005706396554475, 0.7472354988856291, -0.6389610051560966, -0.38295815856378096, -0.09249688990779162, 1.6673465664575287, -0.5169802146802591, 0.3229158282844716, -2.2439072734691266, -0.59787255059542, 2.0190019560628656, -0.8827665762111087, 0.1720370484706035, 1.1447792901642073, -2.021110364925016, -0.4431961270162332, 0.6154890464199887, -0.5340413595491634, -1.4300515449852669, -0.4289970586923092, -3.187864606601478, -0.5443854916908588, 1.9027789968231628, 0.028860644801460108, -0.9070719076829377, 2.2604509548717204, -0.4756263042930482, -1.0527349279366778, 1.0989883088287775, 0.8363471991549375, 0.9390577333704273, -0.6821309372267801, -0.040109791076703746, -1.0926766026681485, 0.8810484800262337, 0.13899121632294173, 0.18175429939228152, 0.6641933255515288, -0.29364200182227196, 0.5215667308020342, 0.511801600346848, 0.1323902697067605, -2.1124151258180466, -0.3963021602119647, 1.1669298215227715, 0.7144341554925651, 1.393601613907853, 0.8542543813843058, 1.793693509296129, 1.958951631262988, 1.9793533489183885, 0.5393936516728588, 0.8635557050746643, 0.19647333456875704, -1.3462894052999834, -0.036318884695404764, -0.5437514526982358, -0.8788039924624359]}],                        {\"legend\": {\"bgcolor\": \"#F5F6F9\", \"font\": {\"color\": \"#4D5663\"}}, \"paper_bgcolor\": \"#F5F6F9\", \"plot_bgcolor\": \"#F5F6F9\", \"template\": {\"data\": {\"bar\": [{\"error_x\": {\"color\": \"#2a3f5f\"}, \"error_y\": {\"color\": \"#2a3f5f\"}, \"marker\": {\"line\": {\"color\": \"#E5ECF6\", \"width\": 0.5}}, \"type\": \"bar\"}], \"barpolar\": [{\"marker\": {\"line\": {\"color\": \"#E5ECF6\", \"width\": 0.5}}, \"type\": \"barpolar\"}], \"carpet\": [{\"aaxis\": {\"endlinecolor\": \"#2a3f5f\", \"gridcolor\": \"white\", \"linecolor\": \"white\", \"minorgridcolor\": \"white\", \"startlinecolor\": \"#2a3f5f\"}, \"baxis\": {\"endlinecolor\": \"#2a3f5f\", \"gridcolor\": \"white\", \"linecolor\": \"white\", \"minorgridcolor\": \"white\", \"startlinecolor\": \"#2a3f5f\"}, \"type\": \"carpet\"}], \"choropleth\": [{\"colorbar\": {\"outlinewidth\": 0, \"ticks\": \"\"}, \"type\": \"choropleth\"}], \"contour\": [{\"colorbar\": {\"outlinewidth\": 0, \"ticks\": \"\"}, \"colorscale\": [[0.0, \"#0d0887\"], [0.1111111111111111, \"#46039f\"], [0.2222222222222222, \"#7201a8\"], [0.3333333333333333, \"#9c179e\"], [0.4444444444444444, \"#bd3786\"], [0.5555555555555556, \"#d8576b\"], [0.6666666666666666, \"#ed7953\"], [0.7777777777777778, \"#fb9f3a\"], [0.8888888888888888, \"#fdca26\"], [1.0, \"#f0f921\"]], \"type\": \"contour\"}], \"contourcarpet\": [{\"colorbar\": {\"outlinewidth\": 0, \"ticks\": \"\"}, \"type\": \"contourcarpet\"}], \"heatmap\": [{\"colorbar\": {\"outlinewidth\": 0, \"ticks\": \"\"}, \"colorscale\": [[0.0, \"#0d0887\"], [0.1111111111111111, \"#46039f\"], [0.2222222222222222, \"#7201a8\"], [0.3333333333333333, \"#9c179e\"], [0.4444444444444444, \"#bd3786\"], [0.5555555555555556, \"#d8576b\"], [0.6666666666666666, \"#ed7953\"], [0.7777777777777778, \"#fb9f3a\"], [0.8888888888888888, \"#fdca26\"], [1.0, \"#f0f921\"]], \"type\": \"heatmap\"}], \"heatmapgl\": [{\"colorbar\": {\"outlinewidth\": 0, \"ticks\": \"\"}, \"colorscale\": [[0.0, \"#0d0887\"], [0.1111111111111111, \"#46039f\"], [0.2222222222222222, \"#7201a8\"], [0.3333333333333333, \"#9c179e\"], [0.4444444444444444, \"#bd3786\"], [0.5555555555555556, \"#d8576b\"], [0.6666666666666666, \"#ed7953\"], [0.7777777777777778, \"#fb9f3a\"], [0.8888888888888888, \"#fdca26\"], [1.0, \"#f0f921\"]], \"type\": \"heatmapgl\"}], \"histogram\": [{\"marker\": {\"colorbar\": {\"outlinewidth\": 0, \"ticks\": \"\"}}, \"type\": \"histogram\"}], \"histogram2d\": [{\"colorbar\": {\"outlinewidth\": 0, \"ticks\": \"\"}, \"colorscale\": [[0.0, \"#0d0887\"], [0.1111111111111111, \"#46039f\"], [0.2222222222222222, \"#7201a8\"], [0.3333333333333333, \"#9c179e\"], [0.4444444444444444, \"#bd3786\"], [0.5555555555555556, \"#d8576b\"], [0.6666666666666666, \"#ed7953\"], [0.7777777777777778, \"#fb9f3a\"], [0.8888888888888888, \"#fdca26\"], [1.0, \"#f0f921\"]], \"type\": \"histogram2d\"}], \"histogram2dcontour\": [{\"colorbar\": {\"outlinewidth\": 0, \"ticks\": \"\"}, \"colorscale\": [[0.0, \"#0d0887\"], [0.1111111111111111, \"#46039f\"], [0.2222222222222222, \"#7201a8\"], [0.3333333333333333, \"#9c179e\"], [0.4444444444444444, \"#bd3786\"], [0.5555555555555556, \"#d8576b\"], [0.6666666666666666, \"#ed7953\"], [0.7777777777777778, \"#fb9f3a\"], [0.8888888888888888, \"#fdca26\"], [1.0, \"#f0f921\"]], \"type\": \"histogram2dcontour\"}], \"mesh3d\": [{\"colorbar\": {\"outlinewidth\": 0, \"ticks\": \"\"}, \"type\": \"mesh3d\"}], \"parcoords\": [{\"line\": {\"colorbar\": {\"outlinewidth\": 0, \"ticks\": \"\"}}, \"type\": \"parcoords\"}], \"pie\": [{\"automargin\": true, \"type\": \"pie\"}], \"scatter\": [{\"marker\": {\"colorbar\": {\"outlinewidth\": 0, \"ticks\": \"\"}}, \"type\": \"scatter\"}], \"scatter3d\": [{\"line\": {\"colorbar\": {\"outlinewidth\": 0, \"ticks\": \"\"}}, \"marker\": {\"colorbar\": {\"outlinewidth\": 0, \"ticks\": \"\"}}, \"type\": \"scatter3d\"}], \"scattercarpet\": [{\"marker\": {\"colorbar\": {\"outlinewidth\": 0, \"ticks\": \"\"}}, \"type\": \"scattercarpet\"}], \"scattergeo\": [{\"marker\": {\"colorbar\": {\"outlinewidth\": 0, \"ticks\": \"\"}}, \"type\": \"scattergeo\"}], \"scattergl\": [{\"marker\": {\"colorbar\": {\"outlinewidth\": 0, \"ticks\": \"\"}}, \"type\": \"scattergl\"}], \"scattermapbox\": [{\"marker\": {\"colorbar\": {\"outlinewidth\": 0, \"ticks\": \"\"}}, \"type\": \"scattermapbox\"}], \"scatterpolar\": [{\"marker\": {\"colorbar\": {\"outlinewidth\": 0, \"ticks\": \"\"}}, \"type\": \"scatterpolar\"}], \"scatterpolargl\": [{\"marker\": {\"colorbar\": {\"outlinewidth\": 0, \"ticks\": \"\"}}, \"type\": \"scatterpolargl\"}], \"scatterternary\": [{\"marker\": {\"colorbar\": {\"outlinewidth\": 0, \"ticks\": \"\"}}, \"type\": \"scatterternary\"}], \"surface\": [{\"colorbar\": {\"outlinewidth\": 0, \"ticks\": \"\"}, \"colorscale\": [[0.0, \"#0d0887\"], [0.1111111111111111, \"#46039f\"], [0.2222222222222222, \"#7201a8\"], [0.3333333333333333, \"#9c179e\"], [0.4444444444444444, \"#bd3786\"], [0.5555555555555556, \"#d8576b\"], [0.6666666666666666, \"#ed7953\"], [0.7777777777777778, \"#fb9f3a\"], [0.8888888888888888, \"#fdca26\"], [1.0, \"#f0f921\"]], \"type\": \"surface\"}], \"table\": [{\"cells\": {\"fill\": {\"color\": \"#EBF0F8\"}, \"line\": {\"color\": \"white\"}}, \"header\": {\"fill\": {\"color\": \"#C8D4E3\"}, \"line\": {\"color\": \"white\"}}, \"type\": \"table\"}]}, \"layout\": {\"annotationdefaults\": {\"arrowcolor\": \"#2a3f5f\", \"arrowhead\": 0, \"arrowwidth\": 1}, \"autotypenumbers\": \"strict\", \"coloraxis\": {\"colorbar\": {\"outlinewidth\": 0, \"ticks\": \"\"}}, \"colorscale\": {\"diverging\": [[0, \"#8e0152\"], [0.1, \"#c51b7d\"], [0.2, \"#de77ae\"], [0.3, \"#f1b6da\"], [0.4, \"#fde0ef\"], [0.5, \"#f7f7f7\"], [0.6, \"#e6f5d0\"], [0.7, \"#b8e186\"], [0.8, \"#7fbc41\"], [0.9, \"#4d9221\"], [1, \"#276419\"]], \"sequential\": [[0.0, \"#0d0887\"], [0.1111111111111111, \"#46039f\"], [0.2222222222222222, \"#7201a8\"], [0.3333333333333333, \"#9c179e\"], [0.4444444444444444, \"#bd3786\"], [0.5555555555555556, \"#d8576b\"], [0.6666666666666666, \"#ed7953\"], [0.7777777777777778, \"#fb9f3a\"], [0.8888888888888888, \"#fdca26\"], [1.0, \"#f0f921\"]], \"sequentialminus\": [[0.0, \"#0d0887\"], [0.1111111111111111, \"#46039f\"], [0.2222222222222222, \"#7201a8\"], [0.3333333333333333, \"#9c179e\"], [0.4444444444444444, \"#bd3786\"], [0.5555555555555556, \"#d8576b\"], [0.6666666666666666, \"#ed7953\"], [0.7777777777777778, \"#fb9f3a\"], [0.8888888888888888, \"#fdca26\"], [1.0, \"#f0f921\"]]}, \"colorway\": [\"#636efa\", \"#EF553B\", \"#00cc96\", \"#ab63fa\", \"#FFA15A\", \"#19d3f3\", \"#FF6692\", \"#B6E880\", \"#FF97FF\", \"#FECB52\"], \"font\": {\"color\": \"#2a3f5f\"}, \"geo\": {\"bgcolor\": \"white\", \"lakecolor\": \"white\", \"landcolor\": \"#E5ECF6\", \"showlakes\": true, \"showland\": true, \"subunitcolor\": \"white\"}, \"hoverlabel\": {\"align\": \"left\"}, \"hovermode\": \"closest\", \"mapbox\": {\"style\": \"light\"}, \"paper_bgcolor\": \"white\", \"plot_bgcolor\": \"#E5ECF6\", \"polar\": {\"angularaxis\": {\"gridcolor\": \"white\", \"linecolor\": \"white\", \"ticks\": \"\"}, \"bgcolor\": \"#E5ECF6\", \"radialaxis\": {\"gridcolor\": \"white\", \"linecolor\": \"white\", \"ticks\": \"\"}}, \"scene\": {\"xaxis\": {\"backgroundcolor\": \"#E5ECF6\", \"gridcolor\": \"white\", \"gridwidth\": 2, \"linecolor\": \"white\", \"showbackground\": true, \"ticks\": \"\", \"zerolinecolor\": \"white\"}, \"yaxis\": {\"backgroundcolor\": \"#E5ECF6\", \"gridcolor\": \"white\", \"gridwidth\": 2, \"linecolor\": \"white\", \"showbackground\": true, \"ticks\": \"\", \"zerolinecolor\": \"white\"}, \"zaxis\": {\"backgroundcolor\": \"#E5ECF6\", \"gridcolor\": \"white\", \"gridwidth\": 2, \"linecolor\": \"white\", \"showbackground\": true, \"ticks\": \"\", \"zerolinecolor\": \"white\"}}, \"shapedefaults\": {\"line\": {\"color\": \"#2a3f5f\"}}, \"ternary\": {\"aaxis\": {\"gridcolor\": \"white\", \"linecolor\": \"white\", \"ticks\": \"\"}, \"baxis\": {\"gridcolor\": \"white\", \"linecolor\": \"white\", \"ticks\": \"\"}, \"bgcolor\": \"#E5ECF6\", \"caxis\": {\"gridcolor\": \"white\", \"linecolor\": \"white\", \"ticks\": \"\"}}, \"title\": {\"x\": 0.05}, \"xaxis\": {\"automargin\": true, \"gridcolor\": \"white\", \"linecolor\": \"white\", \"ticks\": \"\", \"title\": {\"standoff\": 15}, \"zerolinecolor\": \"white\", \"zerolinewidth\": 2}, \"yaxis\": {\"automargin\": true, \"gridcolor\": \"white\", \"linecolor\": \"white\", \"ticks\": \"\", \"title\": {\"standoff\": 15}, \"zerolinecolor\": \"white\", \"zerolinewidth\": 2}}}, \"title\": {\"font\": {\"color\": \"#4D5663\"}}, \"xaxis\": {\"gridcolor\": \"#E1E5ED\", \"showgrid\": true, \"tickfont\": {\"color\": \"#4D5663\"}, \"title\": {\"font\": {\"color\": \"#4D5663\"}, \"text\": \"\"}, \"zerolinecolor\": \"#E1E5ED\"}, \"yaxis\": {\"gridcolor\": \"#E1E5ED\", \"showgrid\": true, \"tickfont\": {\"color\": \"#4D5663\"}, \"title\": {\"font\": {\"color\": \"#4D5663\"}, \"text\": \"\"}, \"zerolinecolor\": \"#E1E5ED\"}},                        {\"showLink\": true, \"linkText\": \"Export to plot.ly\", \"plotlyServerURL\": \"https://plot.ly\", \"responsive\": true}                    ).then(function(){\n",
       "                            \n",
       "var gd = document.getElementById('6dad4caa-87e3-49f6-8a79-eca04658880b');\n",
       "var x = new MutationObserver(function (mutations, observer) {{\n",
       "        var display = window.getComputedStyle(gd).display;\n",
       "        if (!display || display === 'none') {{\n",
       "            console.log([gd, 'removed!']);\n",
       "            Plotly.purge(gd);\n",
       "            observer.disconnect();\n",
       "        }}\n",
       "}});\n",
       "\n",
       "// Listen for the removal of the full notebook cells\n",
       "var notebookContainer = gd.closest('#notebook-container');\n",
       "if (notebookContainer) {{\n",
       "    x.observe(notebookContainer, {childList: true});\n",
       "}}\n",
       "\n",
       "// Listen for the clearing of the current output cell\n",
       "var outputEl = gd.closest('.output');\n",
       "if (outputEl) {{\n",
       "    x.observe(outputEl, {childList: true});\n",
       "}}\n",
       "\n",
       "                        })                };                });            </script>        </div>"
      ]
     },
     "metadata": {},
     "output_type": "display_data"
    }
   ],
   "source": [
    "df.iplot(kind='scatter',x='A',y='B')"
   ]
  },
  {
   "cell_type": "code",
   "execution_count": 17,
   "metadata": {},
   "outputs": [
    {
     "data": {
      "application/vnd.plotly.v1+json": {
       "config": {
        "linkText": "Export to plot.ly",
        "plotlyServerURL": "https://plot.ly",
        "showLink": true
       },
       "data": [
        {
         "line": {
          "color": "rgba(255, 153, 51, 1.0)",
          "dash": "solid",
          "shape": "linear",
          "width": 1.3
         },
         "marker": {
          "size": 10,
          "symbol": "circle"
         },
         "mode": "markers",
         "name": "B",
         "text": "",
         "type": "scatter",
         "x": [
          -1.3743721584499824,
          0.01000404246298731,
          1.060073616887478,
          0.11441049376808408,
          -0.1254638614812266,
          -0.9070069778849268,
          0.052704947052634725,
          -0.018615509263272198,
          0.3426791424383957,
          0.7156411612038974,
          0.10320678514670655,
          1.5303326705609726,
          -0.21191099006121578,
          -2.020852407942947,
          0.22310319700464062,
          0.5054873846397421,
          0.4026865599915081,
          -1.4536017289362706,
          0.7950717634128648,
          -0.23111559189028452,
          0.7663819343502544,
          -0.6235760258594119,
          -0.39259261868434986,
          0.12216190113995658,
          -1.6096224506550463,
          0.5639253855756436,
          -1.0847543814378535,
          1.0885717287652497,
          -0.591208567689423,
          -1.6938094395037835,
          0.018569790345541275,
          0.8539549753616196,
          0.806290563715313,
          -1.6254073372348345,
          0.9733772798627246,
          1.1342632149777827,
          0.6285286305821992,
          0.8898153149689759,
          0.43696724130491166,
          -0.11330861472454354,
          -0.30502763648952747,
          0.23913144901280264,
          -0.5265302051771779,
          -2.428775933644073,
          1.2029442849361394,
          -2.123707409478142,
          -1.391993761824126,
          -0.6561453328335073,
          -1.0638196040870558,
          -1.034440135369431,
          1.4545524807375916,
          0.9664194515222728,
          1.3514860245657558,
          0.641805705752012,
          0.2250786303196695,
          0.5551821716123263,
          -0.3022131037940552,
          0.1957505960294113,
          -0.09000988974301995,
          0.2030785749813345,
          0.20537268885063817,
          2.007683712209121,
          -1.4843400652481071,
          1.600331889395343,
          -2.658926199502142,
          -0.7475374003049038,
          0.059354593787525535,
          -2.3391273652213593,
          0.14801385832510175,
          0.7316816414068449,
          2.6313286535979996,
          -0.6609371876541106,
          1.1687995210202855,
          1.0322937940761117,
          -0.12266208992005274,
          1.35264415917231,
          -0.6569032104004473,
          -1.325436343882467,
          0.03518178304520304,
          0.9882093647510404,
          0.7716022659319737,
          0.2571496555762069,
          0.9497583254883611,
          0.34755083044952106,
          -0.2608789849073516,
          1.6727247611623286,
          0.9699480590442013,
          -0.5146697755100796,
          0.1877515295630458,
          -0.16382196131899163,
          -0.6291505468485376,
          -0.3276311214951528,
          -1.1219800893721616,
          0.9243005130469527,
          0.34121867776964615,
          -0.1776353990815943,
          0.6764803263134359,
          -1.0912902239348543,
          0.23613255869213673,
          -0.9206029120136027
         ],
         "y": [
          -0.41705545013634915,
          -0.48642056858316945,
          -0.026443392359397484,
          0.1978372625783503,
          1.4968152023860652,
          1.2996001460682738,
          -1.9367361458578556,
          -0.7567789330556283,
          -2.054035669273658,
          0.5048997928080652,
          -1.1112808411952075,
          0.5912890910463597,
          0.0955475906516338,
          -0.28622310082696395,
          0.11737426814490341,
          -0.06758176195487915,
          0.3241491954622198,
          -0.5104479126394454,
          0.026529123575938545,
          1.4972763559326852,
          1.8253818450833434,
          -1.2574190220624064,
          0.1257869275628511,
          0.016621627579822357,
          0.979647443174523,
          0.518474140677526,
          -0.41373982543347276,
          0.009111766977325414,
          0.7981851789989233,
          -1.5066373021119543,
          -0.8145019514506392,
          1.2127894892403486,
          1.1666091840168742,
          -0.1826814988975061,
          0.2121435888368178,
          0.5919460396147409,
          0.6706604908690293,
          -0.1538820807314714,
          -0.06481604156077372,
          0.6865617899199997,
          0.5772096001553042,
          0.469910962356171,
          -2.0005706396554475,
          0.7472354988856291,
          -0.6389610051560966,
          -0.38295815856378096,
          -0.09249688990779162,
          1.6673465664575287,
          -0.5169802146802591,
          0.3229158282844716,
          -2.2439072734691266,
          -0.59787255059542,
          2.0190019560628656,
          -0.8827665762111087,
          0.1720370484706035,
          1.1447792901642073,
          -2.021110364925016,
          -0.4431961270162332,
          0.6154890464199887,
          -0.5340413595491634,
          -1.4300515449852669,
          -0.4289970586923092,
          -3.187864606601478,
          -0.5443854916908588,
          1.9027789968231628,
          0.028860644801460108,
          -0.9070719076829377,
          2.2604509548717204,
          -0.4756263042930482,
          -1.0527349279366778,
          1.0989883088287775,
          0.8363471991549375,
          0.9390577333704273,
          -0.6821309372267801,
          -0.040109791076703746,
          -1.0926766026681485,
          0.8810484800262337,
          0.13899121632294173,
          0.18175429939228152,
          0.6641933255515288,
          -0.29364200182227196,
          0.5215667308020342,
          0.511801600346848,
          0.1323902697067605,
          -2.1124151258180466,
          -0.3963021602119647,
          1.1669298215227715,
          0.7144341554925651,
          1.393601613907853,
          0.8542543813843058,
          1.793693509296129,
          1.958951631262988,
          1.9793533489183885,
          0.5393936516728588,
          0.8635557050746643,
          0.19647333456875704,
          -1.3462894052999834,
          -0.036318884695404764,
          -0.5437514526982358,
          -0.8788039924624359
         ]
        }
       ],
       "layout": {
        "legend": {
         "bgcolor": "#F5F6F9",
         "font": {
          "color": "#4D5663"
         }
        },
        "paper_bgcolor": "#F5F6F9",
        "plot_bgcolor": "#F5F6F9",
        "template": {
         "data": {
          "bar": [
           {
            "error_x": {
             "color": "#2a3f5f"
            },
            "error_y": {
             "color": "#2a3f5f"
            },
            "marker": {
             "line": {
              "color": "#E5ECF6",
              "width": 0.5
             }
            },
            "type": "bar"
           }
          ],
          "barpolar": [
           {
            "marker": {
             "line": {
              "color": "#E5ECF6",
              "width": 0.5
             }
            },
            "type": "barpolar"
           }
          ],
          "carpet": [
           {
            "aaxis": {
             "endlinecolor": "#2a3f5f",
             "gridcolor": "white",
             "linecolor": "white",
             "minorgridcolor": "white",
             "startlinecolor": "#2a3f5f"
            },
            "baxis": {
             "endlinecolor": "#2a3f5f",
             "gridcolor": "white",
             "linecolor": "white",
             "minorgridcolor": "white",
             "startlinecolor": "#2a3f5f"
            },
            "type": "carpet"
           }
          ],
          "choropleth": [
           {
            "colorbar": {
             "outlinewidth": 0,
             "ticks": ""
            },
            "type": "choropleth"
           }
          ],
          "contour": [
           {
            "colorbar": {
             "outlinewidth": 0,
             "ticks": ""
            },
            "colorscale": [
             [
              0,
              "#0d0887"
             ],
             [
              0.1111111111111111,
              "#46039f"
             ],
             [
              0.2222222222222222,
              "#7201a8"
             ],
             [
              0.3333333333333333,
              "#9c179e"
             ],
             [
              0.4444444444444444,
              "#bd3786"
             ],
             [
              0.5555555555555556,
              "#d8576b"
             ],
             [
              0.6666666666666666,
              "#ed7953"
             ],
             [
              0.7777777777777778,
              "#fb9f3a"
             ],
             [
              0.8888888888888888,
              "#fdca26"
             ],
             [
              1,
              "#f0f921"
             ]
            ],
            "type": "contour"
           }
          ],
          "contourcarpet": [
           {
            "colorbar": {
             "outlinewidth": 0,
             "ticks": ""
            },
            "type": "contourcarpet"
           }
          ],
          "heatmap": [
           {
            "colorbar": {
             "outlinewidth": 0,
             "ticks": ""
            },
            "colorscale": [
             [
              0,
              "#0d0887"
             ],
             [
              0.1111111111111111,
              "#46039f"
             ],
             [
              0.2222222222222222,
              "#7201a8"
             ],
             [
              0.3333333333333333,
              "#9c179e"
             ],
             [
              0.4444444444444444,
              "#bd3786"
             ],
             [
              0.5555555555555556,
              "#d8576b"
             ],
             [
              0.6666666666666666,
              "#ed7953"
             ],
             [
              0.7777777777777778,
              "#fb9f3a"
             ],
             [
              0.8888888888888888,
              "#fdca26"
             ],
             [
              1,
              "#f0f921"
             ]
            ],
            "type": "heatmap"
           }
          ],
          "heatmapgl": [
           {
            "colorbar": {
             "outlinewidth": 0,
             "ticks": ""
            },
            "colorscale": [
             [
              0,
              "#0d0887"
             ],
             [
              0.1111111111111111,
              "#46039f"
             ],
             [
              0.2222222222222222,
              "#7201a8"
             ],
             [
              0.3333333333333333,
              "#9c179e"
             ],
             [
              0.4444444444444444,
              "#bd3786"
             ],
             [
              0.5555555555555556,
              "#d8576b"
             ],
             [
              0.6666666666666666,
              "#ed7953"
             ],
             [
              0.7777777777777778,
              "#fb9f3a"
             ],
             [
              0.8888888888888888,
              "#fdca26"
             ],
             [
              1,
              "#f0f921"
             ]
            ],
            "type": "heatmapgl"
           }
          ],
          "histogram": [
           {
            "marker": {
             "colorbar": {
              "outlinewidth": 0,
              "ticks": ""
             }
            },
            "type": "histogram"
           }
          ],
          "histogram2d": [
           {
            "colorbar": {
             "outlinewidth": 0,
             "ticks": ""
            },
            "colorscale": [
             [
              0,
              "#0d0887"
             ],
             [
              0.1111111111111111,
              "#46039f"
             ],
             [
              0.2222222222222222,
              "#7201a8"
             ],
             [
              0.3333333333333333,
              "#9c179e"
             ],
             [
              0.4444444444444444,
              "#bd3786"
             ],
             [
              0.5555555555555556,
              "#d8576b"
             ],
             [
              0.6666666666666666,
              "#ed7953"
             ],
             [
              0.7777777777777778,
              "#fb9f3a"
             ],
             [
              0.8888888888888888,
              "#fdca26"
             ],
             [
              1,
              "#f0f921"
             ]
            ],
            "type": "histogram2d"
           }
          ],
          "histogram2dcontour": [
           {
            "colorbar": {
             "outlinewidth": 0,
             "ticks": ""
            },
            "colorscale": [
             [
              0,
              "#0d0887"
             ],
             [
              0.1111111111111111,
              "#46039f"
             ],
             [
              0.2222222222222222,
              "#7201a8"
             ],
             [
              0.3333333333333333,
              "#9c179e"
             ],
             [
              0.4444444444444444,
              "#bd3786"
             ],
             [
              0.5555555555555556,
              "#d8576b"
             ],
             [
              0.6666666666666666,
              "#ed7953"
             ],
             [
              0.7777777777777778,
              "#fb9f3a"
             ],
             [
              0.8888888888888888,
              "#fdca26"
             ],
             [
              1,
              "#f0f921"
             ]
            ],
            "type": "histogram2dcontour"
           }
          ],
          "mesh3d": [
           {
            "colorbar": {
             "outlinewidth": 0,
             "ticks": ""
            },
            "type": "mesh3d"
           }
          ],
          "parcoords": [
           {
            "line": {
             "colorbar": {
              "outlinewidth": 0,
              "ticks": ""
             }
            },
            "type": "parcoords"
           }
          ],
          "pie": [
           {
            "automargin": true,
            "type": "pie"
           }
          ],
          "scatter": [
           {
            "marker": {
             "colorbar": {
              "outlinewidth": 0,
              "ticks": ""
             }
            },
            "type": "scatter"
           }
          ],
          "scatter3d": [
           {
            "line": {
             "colorbar": {
              "outlinewidth": 0,
              "ticks": ""
             }
            },
            "marker": {
             "colorbar": {
              "outlinewidth": 0,
              "ticks": ""
             }
            },
            "type": "scatter3d"
           }
          ],
          "scattercarpet": [
           {
            "marker": {
             "colorbar": {
              "outlinewidth": 0,
              "ticks": ""
             }
            },
            "type": "scattercarpet"
           }
          ],
          "scattergeo": [
           {
            "marker": {
             "colorbar": {
              "outlinewidth": 0,
              "ticks": ""
             }
            },
            "type": "scattergeo"
           }
          ],
          "scattergl": [
           {
            "marker": {
             "colorbar": {
              "outlinewidth": 0,
              "ticks": ""
             }
            },
            "type": "scattergl"
           }
          ],
          "scattermapbox": [
           {
            "marker": {
             "colorbar": {
              "outlinewidth": 0,
              "ticks": ""
             }
            },
            "type": "scattermapbox"
           }
          ],
          "scatterpolar": [
           {
            "marker": {
             "colorbar": {
              "outlinewidth": 0,
              "ticks": ""
             }
            },
            "type": "scatterpolar"
           }
          ],
          "scatterpolargl": [
           {
            "marker": {
             "colorbar": {
              "outlinewidth": 0,
              "ticks": ""
             }
            },
            "type": "scatterpolargl"
           }
          ],
          "scatterternary": [
           {
            "marker": {
             "colorbar": {
              "outlinewidth": 0,
              "ticks": ""
             }
            },
            "type": "scatterternary"
           }
          ],
          "surface": [
           {
            "colorbar": {
             "outlinewidth": 0,
             "ticks": ""
            },
            "colorscale": [
             [
              0,
              "#0d0887"
             ],
             [
              0.1111111111111111,
              "#46039f"
             ],
             [
              0.2222222222222222,
              "#7201a8"
             ],
             [
              0.3333333333333333,
              "#9c179e"
             ],
             [
              0.4444444444444444,
              "#bd3786"
             ],
             [
              0.5555555555555556,
              "#d8576b"
             ],
             [
              0.6666666666666666,
              "#ed7953"
             ],
             [
              0.7777777777777778,
              "#fb9f3a"
             ],
             [
              0.8888888888888888,
              "#fdca26"
             ],
             [
              1,
              "#f0f921"
             ]
            ],
            "type": "surface"
           }
          ],
          "table": [
           {
            "cells": {
             "fill": {
              "color": "#EBF0F8"
             },
             "line": {
              "color": "white"
             }
            },
            "header": {
             "fill": {
              "color": "#C8D4E3"
             },
             "line": {
              "color": "white"
             }
            },
            "type": "table"
           }
          ]
         },
         "layout": {
          "annotationdefaults": {
           "arrowcolor": "#2a3f5f",
           "arrowhead": 0,
           "arrowwidth": 1
          },
          "autotypenumbers": "strict",
          "coloraxis": {
           "colorbar": {
            "outlinewidth": 0,
            "ticks": ""
           }
          },
          "colorscale": {
           "diverging": [
            [
             0,
             "#8e0152"
            ],
            [
             0.1,
             "#c51b7d"
            ],
            [
             0.2,
             "#de77ae"
            ],
            [
             0.3,
             "#f1b6da"
            ],
            [
             0.4,
             "#fde0ef"
            ],
            [
             0.5,
             "#f7f7f7"
            ],
            [
             0.6,
             "#e6f5d0"
            ],
            [
             0.7,
             "#b8e186"
            ],
            [
             0.8,
             "#7fbc41"
            ],
            [
             0.9,
             "#4d9221"
            ],
            [
             1,
             "#276419"
            ]
           ],
           "sequential": [
            [
             0,
             "#0d0887"
            ],
            [
             0.1111111111111111,
             "#46039f"
            ],
            [
             0.2222222222222222,
             "#7201a8"
            ],
            [
             0.3333333333333333,
             "#9c179e"
            ],
            [
             0.4444444444444444,
             "#bd3786"
            ],
            [
             0.5555555555555556,
             "#d8576b"
            ],
            [
             0.6666666666666666,
             "#ed7953"
            ],
            [
             0.7777777777777778,
             "#fb9f3a"
            ],
            [
             0.8888888888888888,
             "#fdca26"
            ],
            [
             1,
             "#f0f921"
            ]
           ],
           "sequentialminus": [
            [
             0,
             "#0d0887"
            ],
            [
             0.1111111111111111,
             "#46039f"
            ],
            [
             0.2222222222222222,
             "#7201a8"
            ],
            [
             0.3333333333333333,
             "#9c179e"
            ],
            [
             0.4444444444444444,
             "#bd3786"
            ],
            [
             0.5555555555555556,
             "#d8576b"
            ],
            [
             0.6666666666666666,
             "#ed7953"
            ],
            [
             0.7777777777777778,
             "#fb9f3a"
            ],
            [
             0.8888888888888888,
             "#fdca26"
            ],
            [
             1,
             "#f0f921"
            ]
           ]
          },
          "colorway": [
           "#636efa",
           "#EF553B",
           "#00cc96",
           "#ab63fa",
           "#FFA15A",
           "#19d3f3",
           "#FF6692",
           "#B6E880",
           "#FF97FF",
           "#FECB52"
          ],
          "font": {
           "color": "#2a3f5f"
          },
          "geo": {
           "bgcolor": "white",
           "lakecolor": "white",
           "landcolor": "#E5ECF6",
           "showlakes": true,
           "showland": true,
           "subunitcolor": "white"
          },
          "hoverlabel": {
           "align": "left"
          },
          "hovermode": "closest",
          "mapbox": {
           "style": "light"
          },
          "paper_bgcolor": "white",
          "plot_bgcolor": "#E5ECF6",
          "polar": {
           "angularaxis": {
            "gridcolor": "white",
            "linecolor": "white",
            "ticks": ""
           },
           "bgcolor": "#E5ECF6",
           "radialaxis": {
            "gridcolor": "white",
            "linecolor": "white",
            "ticks": ""
           }
          },
          "scene": {
           "xaxis": {
            "backgroundcolor": "#E5ECF6",
            "gridcolor": "white",
            "gridwidth": 2,
            "linecolor": "white",
            "showbackground": true,
            "ticks": "",
            "zerolinecolor": "white"
           },
           "yaxis": {
            "backgroundcolor": "#E5ECF6",
            "gridcolor": "white",
            "gridwidth": 2,
            "linecolor": "white",
            "showbackground": true,
            "ticks": "",
            "zerolinecolor": "white"
           },
           "zaxis": {
            "backgroundcolor": "#E5ECF6",
            "gridcolor": "white",
            "gridwidth": 2,
            "linecolor": "white",
            "showbackground": true,
            "ticks": "",
            "zerolinecolor": "white"
           }
          },
          "shapedefaults": {
           "line": {
            "color": "#2a3f5f"
           }
          },
          "ternary": {
           "aaxis": {
            "gridcolor": "white",
            "linecolor": "white",
            "ticks": ""
           },
           "baxis": {
            "gridcolor": "white",
            "linecolor": "white",
            "ticks": ""
           },
           "bgcolor": "#E5ECF6",
           "caxis": {
            "gridcolor": "white",
            "linecolor": "white",
            "ticks": ""
           }
          },
          "title": {
           "x": 0.05
          },
          "xaxis": {
           "automargin": true,
           "gridcolor": "white",
           "linecolor": "white",
           "ticks": "",
           "title": {
            "standoff": 15
           },
           "zerolinecolor": "white",
           "zerolinewidth": 2
          },
          "yaxis": {
           "automargin": true,
           "gridcolor": "white",
           "linecolor": "white",
           "ticks": "",
           "title": {
            "standoff": 15
           },
           "zerolinecolor": "white",
           "zerolinewidth": 2
          }
         }
        },
        "title": {
         "font": {
          "color": "#4D5663"
         }
        },
        "xaxis": {
         "gridcolor": "#E1E5ED",
         "showgrid": true,
         "tickfont": {
          "color": "#4D5663"
         },
         "title": {
          "font": {
           "color": "#4D5663"
          },
          "text": ""
         },
         "zerolinecolor": "#E1E5ED"
        },
        "yaxis": {
         "gridcolor": "#E1E5ED",
         "showgrid": true,
         "tickfont": {
          "color": "#4D5663"
         },
         "title": {
          "font": {
           "color": "#4D5663"
          },
          "text": ""
         },
         "zerolinecolor": "#E1E5ED"
        }
       }
      },
      "text/html": [
       "<div>                            <div id=\"4b8acd79-2b66-4a04-a96c-c0fb85a734f8\" class=\"plotly-graph-div\" style=\"height:525px; width:100%;\"></div>            <script type=\"text/javascript\">                require([\"plotly\"], function(Plotly) {                    window.PLOTLYENV=window.PLOTLYENV || {};\n",
       "                    window.PLOTLYENV.BASE_URL='https://plot.ly';                                    if (document.getElementById(\"4b8acd79-2b66-4a04-a96c-c0fb85a734f8\")) {                    Plotly.newPlot(                        \"4b8acd79-2b66-4a04-a96c-c0fb85a734f8\",                        [{\"line\": {\"color\": \"rgba(255, 153, 51, 1.0)\", \"dash\": \"solid\", \"shape\": \"linear\", \"width\": 1.3}, \"marker\": {\"size\": 10, \"symbol\": \"circle\"}, \"mode\": \"markers\", \"name\": \"B\", \"text\": \"\", \"type\": \"scatter\", \"x\": [-1.3743721584499824, 0.01000404246298731, 1.060073616887478, 0.11441049376808408, -0.1254638614812266, -0.9070069778849268, 0.052704947052634725, -0.018615509263272198, 0.3426791424383957, 0.7156411612038974, 0.10320678514670655, 1.5303326705609726, -0.21191099006121578, -2.020852407942947, 0.22310319700464062, 0.5054873846397421, 0.4026865599915081, -1.4536017289362706, 0.7950717634128648, -0.23111559189028452, 0.7663819343502544, -0.6235760258594119, -0.39259261868434986, 0.12216190113995658, -1.6096224506550463, 0.5639253855756436, -1.0847543814378535, 1.0885717287652497, -0.591208567689423, -1.6938094395037835, 0.018569790345541275, 0.8539549753616196, 0.806290563715313, -1.6254073372348345, 0.9733772798627246, 1.1342632149777827, 0.6285286305821992, 0.8898153149689759, 0.43696724130491166, -0.11330861472454354, -0.30502763648952747, 0.23913144901280264, -0.5265302051771779, -2.428775933644073, 1.2029442849361394, -2.123707409478142, -1.391993761824126, -0.6561453328335073, -1.0638196040870558, -1.034440135369431, 1.4545524807375916, 0.9664194515222728, 1.3514860245657558, 0.641805705752012, 0.2250786303196695, 0.5551821716123263, -0.3022131037940552, 0.1957505960294113, -0.09000988974301995, 0.2030785749813345, 0.20537268885063817, 2.007683712209121, -1.4843400652481071, 1.600331889395343, -2.658926199502142, -0.7475374003049038, 0.059354593787525535, -2.3391273652213593, 0.14801385832510175, 0.7316816414068449, 2.6313286535979996, -0.6609371876541106, 1.1687995210202855, 1.0322937940761117, -0.12266208992005274, 1.35264415917231, -0.6569032104004473, -1.325436343882467, 0.03518178304520304, 0.9882093647510404, 0.7716022659319737, 0.2571496555762069, 0.9497583254883611, 0.34755083044952106, -0.2608789849073516, 1.6727247611623286, 0.9699480590442013, -0.5146697755100796, 0.1877515295630458, -0.16382196131899163, -0.6291505468485376, -0.3276311214951528, -1.1219800893721616, 0.9243005130469527, 0.34121867776964615, -0.1776353990815943, 0.6764803263134359, -1.0912902239348543, 0.23613255869213673, -0.9206029120136027], \"y\": [-0.41705545013634915, -0.48642056858316945, -0.026443392359397484, 0.1978372625783503, 1.4968152023860652, 1.2996001460682738, -1.9367361458578556, -0.7567789330556283, -2.054035669273658, 0.5048997928080652, -1.1112808411952075, 0.5912890910463597, 0.0955475906516338, -0.28622310082696395, 0.11737426814490341, -0.06758176195487915, 0.3241491954622198, -0.5104479126394454, 0.026529123575938545, 1.4972763559326852, 1.8253818450833434, -1.2574190220624064, 0.1257869275628511, 0.016621627579822357, 0.979647443174523, 0.518474140677526, -0.41373982543347276, 0.009111766977325414, 0.7981851789989233, -1.5066373021119543, -0.8145019514506392, 1.2127894892403486, 1.1666091840168742, -0.1826814988975061, 0.2121435888368178, 0.5919460396147409, 0.6706604908690293, -0.1538820807314714, -0.06481604156077372, 0.6865617899199997, 0.5772096001553042, 0.469910962356171, -2.0005706396554475, 0.7472354988856291, -0.6389610051560966, -0.38295815856378096, -0.09249688990779162, 1.6673465664575287, -0.5169802146802591, 0.3229158282844716, -2.2439072734691266, -0.59787255059542, 2.0190019560628656, -0.8827665762111087, 0.1720370484706035, 1.1447792901642073, -2.021110364925016, -0.4431961270162332, 0.6154890464199887, -0.5340413595491634, -1.4300515449852669, -0.4289970586923092, -3.187864606601478, -0.5443854916908588, 1.9027789968231628, 0.028860644801460108, -0.9070719076829377, 2.2604509548717204, -0.4756263042930482, -1.0527349279366778, 1.0989883088287775, 0.8363471991549375, 0.9390577333704273, -0.6821309372267801, -0.040109791076703746, -1.0926766026681485, 0.8810484800262337, 0.13899121632294173, 0.18175429939228152, 0.6641933255515288, -0.29364200182227196, 0.5215667308020342, 0.511801600346848, 0.1323902697067605, -2.1124151258180466, -0.3963021602119647, 1.1669298215227715, 0.7144341554925651, 1.393601613907853, 0.8542543813843058, 1.793693509296129, 1.958951631262988, 1.9793533489183885, 0.5393936516728588, 0.8635557050746643, 0.19647333456875704, -1.3462894052999834, -0.036318884695404764, -0.5437514526982358, -0.8788039924624359]}],                        {\"legend\": {\"bgcolor\": \"#F5F6F9\", \"font\": {\"color\": \"#4D5663\"}}, \"paper_bgcolor\": \"#F5F6F9\", \"plot_bgcolor\": \"#F5F6F9\", \"template\": {\"data\": {\"bar\": [{\"error_x\": {\"color\": \"#2a3f5f\"}, \"error_y\": {\"color\": \"#2a3f5f\"}, \"marker\": {\"line\": {\"color\": \"#E5ECF6\", \"width\": 0.5}}, \"type\": \"bar\"}], \"barpolar\": [{\"marker\": {\"line\": {\"color\": \"#E5ECF6\", \"width\": 0.5}}, \"type\": \"barpolar\"}], \"carpet\": [{\"aaxis\": {\"endlinecolor\": \"#2a3f5f\", \"gridcolor\": \"white\", \"linecolor\": \"white\", \"minorgridcolor\": \"white\", \"startlinecolor\": \"#2a3f5f\"}, \"baxis\": {\"endlinecolor\": \"#2a3f5f\", \"gridcolor\": \"white\", \"linecolor\": \"white\", \"minorgridcolor\": \"white\", \"startlinecolor\": \"#2a3f5f\"}, \"type\": \"carpet\"}], \"choropleth\": [{\"colorbar\": {\"outlinewidth\": 0, \"ticks\": \"\"}, \"type\": \"choropleth\"}], \"contour\": [{\"colorbar\": {\"outlinewidth\": 0, \"ticks\": \"\"}, \"colorscale\": [[0.0, \"#0d0887\"], [0.1111111111111111, \"#46039f\"], [0.2222222222222222, \"#7201a8\"], [0.3333333333333333, \"#9c179e\"], [0.4444444444444444, \"#bd3786\"], [0.5555555555555556, \"#d8576b\"], [0.6666666666666666, \"#ed7953\"], [0.7777777777777778, \"#fb9f3a\"], [0.8888888888888888, \"#fdca26\"], [1.0, \"#f0f921\"]], \"type\": \"contour\"}], \"contourcarpet\": [{\"colorbar\": {\"outlinewidth\": 0, \"ticks\": \"\"}, \"type\": \"contourcarpet\"}], \"heatmap\": [{\"colorbar\": {\"outlinewidth\": 0, \"ticks\": \"\"}, \"colorscale\": [[0.0, \"#0d0887\"], [0.1111111111111111, \"#46039f\"], [0.2222222222222222, \"#7201a8\"], [0.3333333333333333, \"#9c179e\"], [0.4444444444444444, \"#bd3786\"], [0.5555555555555556, \"#d8576b\"], [0.6666666666666666, \"#ed7953\"], [0.7777777777777778, \"#fb9f3a\"], [0.8888888888888888, \"#fdca26\"], [1.0, \"#f0f921\"]], \"type\": \"heatmap\"}], \"heatmapgl\": [{\"colorbar\": {\"outlinewidth\": 0, \"ticks\": \"\"}, \"colorscale\": [[0.0, \"#0d0887\"], [0.1111111111111111, \"#46039f\"], [0.2222222222222222, \"#7201a8\"], [0.3333333333333333, \"#9c179e\"], [0.4444444444444444, \"#bd3786\"], [0.5555555555555556, \"#d8576b\"], [0.6666666666666666, \"#ed7953\"], [0.7777777777777778, \"#fb9f3a\"], [0.8888888888888888, \"#fdca26\"], [1.0, \"#f0f921\"]], \"type\": \"heatmapgl\"}], \"histogram\": [{\"marker\": {\"colorbar\": {\"outlinewidth\": 0, \"ticks\": \"\"}}, \"type\": \"histogram\"}], \"histogram2d\": [{\"colorbar\": {\"outlinewidth\": 0, \"ticks\": \"\"}, \"colorscale\": [[0.0, \"#0d0887\"], [0.1111111111111111, \"#46039f\"], [0.2222222222222222, \"#7201a8\"], [0.3333333333333333, \"#9c179e\"], [0.4444444444444444, \"#bd3786\"], [0.5555555555555556, \"#d8576b\"], [0.6666666666666666, \"#ed7953\"], [0.7777777777777778, \"#fb9f3a\"], [0.8888888888888888, \"#fdca26\"], [1.0, \"#f0f921\"]], \"type\": \"histogram2d\"}], \"histogram2dcontour\": [{\"colorbar\": {\"outlinewidth\": 0, \"ticks\": \"\"}, \"colorscale\": [[0.0, \"#0d0887\"], [0.1111111111111111, \"#46039f\"], [0.2222222222222222, \"#7201a8\"], [0.3333333333333333, \"#9c179e\"], [0.4444444444444444, \"#bd3786\"], [0.5555555555555556, \"#d8576b\"], [0.6666666666666666, \"#ed7953\"], [0.7777777777777778, \"#fb9f3a\"], [0.8888888888888888, \"#fdca26\"], [1.0, \"#f0f921\"]], \"type\": \"histogram2dcontour\"}], \"mesh3d\": [{\"colorbar\": {\"outlinewidth\": 0, \"ticks\": \"\"}, \"type\": \"mesh3d\"}], \"parcoords\": [{\"line\": {\"colorbar\": {\"outlinewidth\": 0, \"ticks\": \"\"}}, \"type\": \"parcoords\"}], \"pie\": [{\"automargin\": true, \"type\": \"pie\"}], \"scatter\": [{\"marker\": {\"colorbar\": {\"outlinewidth\": 0, \"ticks\": \"\"}}, \"type\": \"scatter\"}], \"scatter3d\": [{\"line\": {\"colorbar\": {\"outlinewidth\": 0, \"ticks\": \"\"}}, \"marker\": {\"colorbar\": {\"outlinewidth\": 0, \"ticks\": \"\"}}, \"type\": \"scatter3d\"}], \"scattercarpet\": [{\"marker\": {\"colorbar\": {\"outlinewidth\": 0, \"ticks\": \"\"}}, \"type\": \"scattercarpet\"}], \"scattergeo\": [{\"marker\": {\"colorbar\": {\"outlinewidth\": 0, \"ticks\": \"\"}}, \"type\": \"scattergeo\"}], \"scattergl\": [{\"marker\": {\"colorbar\": {\"outlinewidth\": 0, \"ticks\": \"\"}}, \"type\": \"scattergl\"}], \"scattermapbox\": [{\"marker\": {\"colorbar\": {\"outlinewidth\": 0, \"ticks\": \"\"}}, \"type\": \"scattermapbox\"}], \"scatterpolar\": [{\"marker\": {\"colorbar\": {\"outlinewidth\": 0, \"ticks\": \"\"}}, \"type\": \"scatterpolar\"}], \"scatterpolargl\": [{\"marker\": {\"colorbar\": {\"outlinewidth\": 0, \"ticks\": \"\"}}, \"type\": \"scatterpolargl\"}], \"scatterternary\": [{\"marker\": {\"colorbar\": {\"outlinewidth\": 0, \"ticks\": \"\"}}, \"type\": \"scatterternary\"}], \"surface\": [{\"colorbar\": {\"outlinewidth\": 0, \"ticks\": \"\"}, \"colorscale\": [[0.0, \"#0d0887\"], [0.1111111111111111, \"#46039f\"], [0.2222222222222222, \"#7201a8\"], [0.3333333333333333, \"#9c179e\"], [0.4444444444444444, \"#bd3786\"], [0.5555555555555556, \"#d8576b\"], [0.6666666666666666, \"#ed7953\"], [0.7777777777777778, \"#fb9f3a\"], [0.8888888888888888, \"#fdca26\"], [1.0, \"#f0f921\"]], \"type\": \"surface\"}], \"table\": [{\"cells\": {\"fill\": {\"color\": \"#EBF0F8\"}, \"line\": {\"color\": \"white\"}}, \"header\": {\"fill\": {\"color\": \"#C8D4E3\"}, \"line\": {\"color\": \"white\"}}, \"type\": \"table\"}]}, \"layout\": {\"annotationdefaults\": {\"arrowcolor\": \"#2a3f5f\", \"arrowhead\": 0, \"arrowwidth\": 1}, \"autotypenumbers\": \"strict\", \"coloraxis\": {\"colorbar\": {\"outlinewidth\": 0, \"ticks\": \"\"}}, \"colorscale\": {\"diverging\": [[0, \"#8e0152\"], [0.1, \"#c51b7d\"], [0.2, \"#de77ae\"], [0.3, \"#f1b6da\"], [0.4, \"#fde0ef\"], [0.5, \"#f7f7f7\"], [0.6, \"#e6f5d0\"], [0.7, \"#b8e186\"], [0.8, \"#7fbc41\"], [0.9, \"#4d9221\"], [1, \"#276419\"]], \"sequential\": [[0.0, \"#0d0887\"], [0.1111111111111111, \"#46039f\"], [0.2222222222222222, \"#7201a8\"], [0.3333333333333333, \"#9c179e\"], [0.4444444444444444, \"#bd3786\"], [0.5555555555555556, \"#d8576b\"], [0.6666666666666666, \"#ed7953\"], [0.7777777777777778, \"#fb9f3a\"], [0.8888888888888888, \"#fdca26\"], [1.0, \"#f0f921\"]], \"sequentialminus\": [[0.0, \"#0d0887\"], [0.1111111111111111, \"#46039f\"], [0.2222222222222222, \"#7201a8\"], [0.3333333333333333, \"#9c179e\"], [0.4444444444444444, \"#bd3786\"], [0.5555555555555556, \"#d8576b\"], [0.6666666666666666, \"#ed7953\"], [0.7777777777777778, \"#fb9f3a\"], [0.8888888888888888, \"#fdca26\"], [1.0, \"#f0f921\"]]}, \"colorway\": [\"#636efa\", \"#EF553B\", \"#00cc96\", \"#ab63fa\", \"#FFA15A\", \"#19d3f3\", \"#FF6692\", \"#B6E880\", \"#FF97FF\", \"#FECB52\"], \"font\": {\"color\": \"#2a3f5f\"}, \"geo\": {\"bgcolor\": \"white\", \"lakecolor\": \"white\", \"landcolor\": \"#E5ECF6\", \"showlakes\": true, \"showland\": true, \"subunitcolor\": \"white\"}, \"hoverlabel\": {\"align\": \"left\"}, \"hovermode\": \"closest\", \"mapbox\": {\"style\": \"light\"}, \"paper_bgcolor\": \"white\", \"plot_bgcolor\": \"#E5ECF6\", \"polar\": {\"angularaxis\": {\"gridcolor\": \"white\", \"linecolor\": \"white\", \"ticks\": \"\"}, \"bgcolor\": \"#E5ECF6\", \"radialaxis\": {\"gridcolor\": \"white\", \"linecolor\": \"white\", \"ticks\": \"\"}}, \"scene\": {\"xaxis\": {\"backgroundcolor\": \"#E5ECF6\", \"gridcolor\": \"white\", \"gridwidth\": 2, \"linecolor\": \"white\", \"showbackground\": true, \"ticks\": \"\", \"zerolinecolor\": \"white\"}, \"yaxis\": {\"backgroundcolor\": \"#E5ECF6\", \"gridcolor\": \"white\", \"gridwidth\": 2, \"linecolor\": \"white\", \"showbackground\": true, \"ticks\": \"\", \"zerolinecolor\": \"white\"}, \"zaxis\": {\"backgroundcolor\": \"#E5ECF6\", \"gridcolor\": \"white\", \"gridwidth\": 2, \"linecolor\": \"white\", \"showbackground\": true, \"ticks\": \"\", \"zerolinecolor\": \"white\"}}, \"shapedefaults\": {\"line\": {\"color\": \"#2a3f5f\"}}, \"ternary\": {\"aaxis\": {\"gridcolor\": \"white\", \"linecolor\": \"white\", \"ticks\": \"\"}, \"baxis\": {\"gridcolor\": \"white\", \"linecolor\": \"white\", \"ticks\": \"\"}, \"bgcolor\": \"#E5ECF6\", \"caxis\": {\"gridcolor\": \"white\", \"linecolor\": \"white\", \"ticks\": \"\"}}, \"title\": {\"x\": 0.05}, \"xaxis\": {\"automargin\": true, \"gridcolor\": \"white\", \"linecolor\": \"white\", \"ticks\": \"\", \"title\": {\"standoff\": 15}, \"zerolinecolor\": \"white\", \"zerolinewidth\": 2}, \"yaxis\": {\"automargin\": true, \"gridcolor\": \"white\", \"linecolor\": \"white\", \"ticks\": \"\", \"title\": {\"standoff\": 15}, \"zerolinecolor\": \"white\", \"zerolinewidth\": 2}}}, \"title\": {\"font\": {\"color\": \"#4D5663\"}}, \"xaxis\": {\"gridcolor\": \"#E1E5ED\", \"showgrid\": true, \"tickfont\": {\"color\": \"#4D5663\"}, \"title\": {\"font\": {\"color\": \"#4D5663\"}, \"text\": \"\"}, \"zerolinecolor\": \"#E1E5ED\"}, \"yaxis\": {\"gridcolor\": \"#E1E5ED\", \"showgrid\": true, \"tickfont\": {\"color\": \"#4D5663\"}, \"title\": {\"font\": {\"color\": \"#4D5663\"}, \"text\": \"\"}, \"zerolinecolor\": \"#E1E5ED\"}},                        {\"showLink\": true, \"linkText\": \"Export to plot.ly\", \"plotlyServerURL\": \"https://plot.ly\", \"responsive\": true}                    ).then(function(){\n",
       "                            \n",
       "var gd = document.getElementById('4b8acd79-2b66-4a04-a96c-c0fb85a734f8');\n",
       "var x = new MutationObserver(function (mutations, observer) {{\n",
       "        var display = window.getComputedStyle(gd).display;\n",
       "        if (!display || display === 'none') {{\n",
       "            console.log([gd, 'removed!']);\n",
       "            Plotly.purge(gd);\n",
       "            observer.disconnect();\n",
       "        }}\n",
       "}});\n",
       "\n",
       "// Listen for the removal of the full notebook cells\n",
       "var notebookContainer = gd.closest('#notebook-container');\n",
       "if (notebookContainer) {{\n",
       "    x.observe(notebookContainer, {childList: true});\n",
       "}}\n",
       "\n",
       "// Listen for the clearing of the current output cell\n",
       "var outputEl = gd.closest('.output');\n",
       "if (outputEl) {{\n",
       "    x.observe(outputEl, {childList: true});\n",
       "}}\n",
       "\n",
       "                        })                };                });            </script>        </div>"
      ]
     },
     "metadata": {},
     "output_type": "display_data"
    }
   ],
   "source": [
    "df.iplot(kind='scatter',x='A',y='B',mode='markers',size=10)"
   ]
  },
  {
   "cell_type": "markdown",
   "metadata": {},
   "source": [
    "## Bar Plots"
   ]
  },
  {
   "cell_type": "code",
   "execution_count": 19,
   "metadata": {},
   "outputs": [
    {
     "data": {
      "application/vnd.plotly.v1+json": {
       "config": {
        "linkText": "Export to plot.ly",
        "plotlyServerURL": "https://plot.ly",
        "showLink": true
       },
       "data": [
        {
         "marker": {
          "color": "rgba(255, 153, 51, 0.6)",
          "line": {
           "color": "rgba(255, 153, 51, 1.0)",
           "width": 1
          }
         },
         "name": "Values",
         "orientation": "v",
         "text": "",
         "type": "bar",
         "x": [
          "A",
          "B",
          "C"
         ],
         "y": [
          32,
          43,
          50
         ]
        }
       ],
       "layout": {
        "legend": {
         "bgcolor": "#F5F6F9",
         "font": {
          "color": "#4D5663"
         }
        },
        "paper_bgcolor": "#F5F6F9",
        "plot_bgcolor": "#F5F6F9",
        "template": {
         "data": {
          "bar": [
           {
            "error_x": {
             "color": "#2a3f5f"
            },
            "error_y": {
             "color": "#2a3f5f"
            },
            "marker": {
             "line": {
              "color": "#E5ECF6",
              "width": 0.5
             }
            },
            "type": "bar"
           }
          ],
          "barpolar": [
           {
            "marker": {
             "line": {
              "color": "#E5ECF6",
              "width": 0.5
             }
            },
            "type": "barpolar"
           }
          ],
          "carpet": [
           {
            "aaxis": {
             "endlinecolor": "#2a3f5f",
             "gridcolor": "white",
             "linecolor": "white",
             "minorgridcolor": "white",
             "startlinecolor": "#2a3f5f"
            },
            "baxis": {
             "endlinecolor": "#2a3f5f",
             "gridcolor": "white",
             "linecolor": "white",
             "minorgridcolor": "white",
             "startlinecolor": "#2a3f5f"
            },
            "type": "carpet"
           }
          ],
          "choropleth": [
           {
            "colorbar": {
             "outlinewidth": 0,
             "ticks": ""
            },
            "type": "choropleth"
           }
          ],
          "contour": [
           {
            "colorbar": {
             "outlinewidth": 0,
             "ticks": ""
            },
            "colorscale": [
             [
              0,
              "#0d0887"
             ],
             [
              0.1111111111111111,
              "#46039f"
             ],
             [
              0.2222222222222222,
              "#7201a8"
             ],
             [
              0.3333333333333333,
              "#9c179e"
             ],
             [
              0.4444444444444444,
              "#bd3786"
             ],
             [
              0.5555555555555556,
              "#d8576b"
             ],
             [
              0.6666666666666666,
              "#ed7953"
             ],
             [
              0.7777777777777778,
              "#fb9f3a"
             ],
             [
              0.8888888888888888,
              "#fdca26"
             ],
             [
              1,
              "#f0f921"
             ]
            ],
            "type": "contour"
           }
          ],
          "contourcarpet": [
           {
            "colorbar": {
             "outlinewidth": 0,
             "ticks": ""
            },
            "type": "contourcarpet"
           }
          ],
          "heatmap": [
           {
            "colorbar": {
             "outlinewidth": 0,
             "ticks": ""
            },
            "colorscale": [
             [
              0,
              "#0d0887"
             ],
             [
              0.1111111111111111,
              "#46039f"
             ],
             [
              0.2222222222222222,
              "#7201a8"
             ],
             [
              0.3333333333333333,
              "#9c179e"
             ],
             [
              0.4444444444444444,
              "#bd3786"
             ],
             [
              0.5555555555555556,
              "#d8576b"
             ],
             [
              0.6666666666666666,
              "#ed7953"
             ],
             [
              0.7777777777777778,
              "#fb9f3a"
             ],
             [
              0.8888888888888888,
              "#fdca26"
             ],
             [
              1,
              "#f0f921"
             ]
            ],
            "type": "heatmap"
           }
          ],
          "heatmapgl": [
           {
            "colorbar": {
             "outlinewidth": 0,
             "ticks": ""
            },
            "colorscale": [
             [
              0,
              "#0d0887"
             ],
             [
              0.1111111111111111,
              "#46039f"
             ],
             [
              0.2222222222222222,
              "#7201a8"
             ],
             [
              0.3333333333333333,
              "#9c179e"
             ],
             [
              0.4444444444444444,
              "#bd3786"
             ],
             [
              0.5555555555555556,
              "#d8576b"
             ],
             [
              0.6666666666666666,
              "#ed7953"
             ],
             [
              0.7777777777777778,
              "#fb9f3a"
             ],
             [
              0.8888888888888888,
              "#fdca26"
             ],
             [
              1,
              "#f0f921"
             ]
            ],
            "type": "heatmapgl"
           }
          ],
          "histogram": [
           {
            "marker": {
             "colorbar": {
              "outlinewidth": 0,
              "ticks": ""
             }
            },
            "type": "histogram"
           }
          ],
          "histogram2d": [
           {
            "colorbar": {
             "outlinewidth": 0,
             "ticks": ""
            },
            "colorscale": [
             [
              0,
              "#0d0887"
             ],
             [
              0.1111111111111111,
              "#46039f"
             ],
             [
              0.2222222222222222,
              "#7201a8"
             ],
             [
              0.3333333333333333,
              "#9c179e"
             ],
             [
              0.4444444444444444,
              "#bd3786"
             ],
             [
              0.5555555555555556,
              "#d8576b"
             ],
             [
              0.6666666666666666,
              "#ed7953"
             ],
             [
              0.7777777777777778,
              "#fb9f3a"
             ],
             [
              0.8888888888888888,
              "#fdca26"
             ],
             [
              1,
              "#f0f921"
             ]
            ],
            "type": "histogram2d"
           }
          ],
          "histogram2dcontour": [
           {
            "colorbar": {
             "outlinewidth": 0,
             "ticks": ""
            },
            "colorscale": [
             [
              0,
              "#0d0887"
             ],
             [
              0.1111111111111111,
              "#46039f"
             ],
             [
              0.2222222222222222,
              "#7201a8"
             ],
             [
              0.3333333333333333,
              "#9c179e"
             ],
             [
              0.4444444444444444,
              "#bd3786"
             ],
             [
              0.5555555555555556,
              "#d8576b"
             ],
             [
              0.6666666666666666,
              "#ed7953"
             ],
             [
              0.7777777777777778,
              "#fb9f3a"
             ],
             [
              0.8888888888888888,
              "#fdca26"
             ],
             [
              1,
              "#f0f921"
             ]
            ],
            "type": "histogram2dcontour"
           }
          ],
          "mesh3d": [
           {
            "colorbar": {
             "outlinewidth": 0,
             "ticks": ""
            },
            "type": "mesh3d"
           }
          ],
          "parcoords": [
           {
            "line": {
             "colorbar": {
              "outlinewidth": 0,
              "ticks": ""
             }
            },
            "type": "parcoords"
           }
          ],
          "pie": [
           {
            "automargin": true,
            "type": "pie"
           }
          ],
          "scatter": [
           {
            "marker": {
             "colorbar": {
              "outlinewidth": 0,
              "ticks": ""
             }
            },
            "type": "scatter"
           }
          ],
          "scatter3d": [
           {
            "line": {
             "colorbar": {
              "outlinewidth": 0,
              "ticks": ""
             }
            },
            "marker": {
             "colorbar": {
              "outlinewidth": 0,
              "ticks": ""
             }
            },
            "type": "scatter3d"
           }
          ],
          "scattercarpet": [
           {
            "marker": {
             "colorbar": {
              "outlinewidth": 0,
              "ticks": ""
             }
            },
            "type": "scattercarpet"
           }
          ],
          "scattergeo": [
           {
            "marker": {
             "colorbar": {
              "outlinewidth": 0,
              "ticks": ""
             }
            },
            "type": "scattergeo"
           }
          ],
          "scattergl": [
           {
            "marker": {
             "colorbar": {
              "outlinewidth": 0,
              "ticks": ""
             }
            },
            "type": "scattergl"
           }
          ],
          "scattermapbox": [
           {
            "marker": {
             "colorbar": {
              "outlinewidth": 0,
              "ticks": ""
             }
            },
            "type": "scattermapbox"
           }
          ],
          "scatterpolar": [
           {
            "marker": {
             "colorbar": {
              "outlinewidth": 0,
              "ticks": ""
             }
            },
            "type": "scatterpolar"
           }
          ],
          "scatterpolargl": [
           {
            "marker": {
             "colorbar": {
              "outlinewidth": 0,
              "ticks": ""
             }
            },
            "type": "scatterpolargl"
           }
          ],
          "scatterternary": [
           {
            "marker": {
             "colorbar": {
              "outlinewidth": 0,
              "ticks": ""
             }
            },
            "type": "scatterternary"
           }
          ],
          "surface": [
           {
            "colorbar": {
             "outlinewidth": 0,
             "ticks": ""
            },
            "colorscale": [
             [
              0,
              "#0d0887"
             ],
             [
              0.1111111111111111,
              "#46039f"
             ],
             [
              0.2222222222222222,
              "#7201a8"
             ],
             [
              0.3333333333333333,
              "#9c179e"
             ],
             [
              0.4444444444444444,
              "#bd3786"
             ],
             [
              0.5555555555555556,
              "#d8576b"
             ],
             [
              0.6666666666666666,
              "#ed7953"
             ],
             [
              0.7777777777777778,
              "#fb9f3a"
             ],
             [
              0.8888888888888888,
              "#fdca26"
             ],
             [
              1,
              "#f0f921"
             ]
            ],
            "type": "surface"
           }
          ],
          "table": [
           {
            "cells": {
             "fill": {
              "color": "#EBF0F8"
             },
             "line": {
              "color": "white"
             }
            },
            "header": {
             "fill": {
              "color": "#C8D4E3"
             },
             "line": {
              "color": "white"
             }
            },
            "type": "table"
           }
          ]
         },
         "layout": {
          "annotationdefaults": {
           "arrowcolor": "#2a3f5f",
           "arrowhead": 0,
           "arrowwidth": 1
          },
          "autotypenumbers": "strict",
          "coloraxis": {
           "colorbar": {
            "outlinewidth": 0,
            "ticks": ""
           }
          },
          "colorscale": {
           "diverging": [
            [
             0,
             "#8e0152"
            ],
            [
             0.1,
             "#c51b7d"
            ],
            [
             0.2,
             "#de77ae"
            ],
            [
             0.3,
             "#f1b6da"
            ],
            [
             0.4,
             "#fde0ef"
            ],
            [
             0.5,
             "#f7f7f7"
            ],
            [
             0.6,
             "#e6f5d0"
            ],
            [
             0.7,
             "#b8e186"
            ],
            [
             0.8,
             "#7fbc41"
            ],
            [
             0.9,
             "#4d9221"
            ],
            [
             1,
             "#276419"
            ]
           ],
           "sequential": [
            [
             0,
             "#0d0887"
            ],
            [
             0.1111111111111111,
             "#46039f"
            ],
            [
             0.2222222222222222,
             "#7201a8"
            ],
            [
             0.3333333333333333,
             "#9c179e"
            ],
            [
             0.4444444444444444,
             "#bd3786"
            ],
            [
             0.5555555555555556,
             "#d8576b"
            ],
            [
             0.6666666666666666,
             "#ed7953"
            ],
            [
             0.7777777777777778,
             "#fb9f3a"
            ],
            [
             0.8888888888888888,
             "#fdca26"
            ],
            [
             1,
             "#f0f921"
            ]
           ],
           "sequentialminus": [
            [
             0,
             "#0d0887"
            ],
            [
             0.1111111111111111,
             "#46039f"
            ],
            [
             0.2222222222222222,
             "#7201a8"
            ],
            [
             0.3333333333333333,
             "#9c179e"
            ],
            [
             0.4444444444444444,
             "#bd3786"
            ],
            [
             0.5555555555555556,
             "#d8576b"
            ],
            [
             0.6666666666666666,
             "#ed7953"
            ],
            [
             0.7777777777777778,
             "#fb9f3a"
            ],
            [
             0.8888888888888888,
             "#fdca26"
            ],
            [
             1,
             "#f0f921"
            ]
           ]
          },
          "colorway": [
           "#636efa",
           "#EF553B",
           "#00cc96",
           "#ab63fa",
           "#FFA15A",
           "#19d3f3",
           "#FF6692",
           "#B6E880",
           "#FF97FF",
           "#FECB52"
          ],
          "font": {
           "color": "#2a3f5f"
          },
          "geo": {
           "bgcolor": "white",
           "lakecolor": "white",
           "landcolor": "#E5ECF6",
           "showlakes": true,
           "showland": true,
           "subunitcolor": "white"
          },
          "hoverlabel": {
           "align": "left"
          },
          "hovermode": "closest",
          "mapbox": {
           "style": "light"
          },
          "paper_bgcolor": "white",
          "plot_bgcolor": "#E5ECF6",
          "polar": {
           "angularaxis": {
            "gridcolor": "white",
            "linecolor": "white",
            "ticks": ""
           },
           "bgcolor": "#E5ECF6",
           "radialaxis": {
            "gridcolor": "white",
            "linecolor": "white",
            "ticks": ""
           }
          },
          "scene": {
           "xaxis": {
            "backgroundcolor": "#E5ECF6",
            "gridcolor": "white",
            "gridwidth": 2,
            "linecolor": "white",
            "showbackground": true,
            "ticks": "",
            "zerolinecolor": "white"
           },
           "yaxis": {
            "backgroundcolor": "#E5ECF6",
            "gridcolor": "white",
            "gridwidth": 2,
            "linecolor": "white",
            "showbackground": true,
            "ticks": "",
            "zerolinecolor": "white"
           },
           "zaxis": {
            "backgroundcolor": "#E5ECF6",
            "gridcolor": "white",
            "gridwidth": 2,
            "linecolor": "white",
            "showbackground": true,
            "ticks": "",
            "zerolinecolor": "white"
           }
          },
          "shapedefaults": {
           "line": {
            "color": "#2a3f5f"
           }
          },
          "ternary": {
           "aaxis": {
            "gridcolor": "white",
            "linecolor": "white",
            "ticks": ""
           },
           "baxis": {
            "gridcolor": "white",
            "linecolor": "white",
            "ticks": ""
           },
           "bgcolor": "#E5ECF6",
           "caxis": {
            "gridcolor": "white",
            "linecolor": "white",
            "ticks": ""
           }
          },
          "title": {
           "x": 0.05
          },
          "xaxis": {
           "automargin": true,
           "gridcolor": "white",
           "linecolor": "white",
           "ticks": "",
           "title": {
            "standoff": 15
           },
           "zerolinecolor": "white",
           "zerolinewidth": 2
          },
          "yaxis": {
           "automargin": true,
           "gridcolor": "white",
           "linecolor": "white",
           "ticks": "",
           "title": {
            "standoff": 15
           },
           "zerolinecolor": "white",
           "zerolinewidth": 2
          }
         }
        },
        "title": {
         "font": {
          "color": "#4D5663"
         }
        },
        "xaxis": {
         "gridcolor": "#E1E5ED",
         "showgrid": true,
         "tickfont": {
          "color": "#4D5663"
         },
         "title": {
          "font": {
           "color": "#4D5663"
          },
          "text": ""
         },
         "zerolinecolor": "#E1E5ED"
        },
        "yaxis": {
         "gridcolor": "#E1E5ED",
         "showgrid": true,
         "tickfont": {
          "color": "#4D5663"
         },
         "title": {
          "font": {
           "color": "#4D5663"
          },
          "text": ""
         },
         "zerolinecolor": "#E1E5ED"
        }
       }
      },
      "text/html": [
       "<div>                            <div id=\"5bef4d93-9aaa-464d-b72a-7f2a163e4954\" class=\"plotly-graph-div\" style=\"height:525px; width:100%;\"></div>            <script type=\"text/javascript\">                require([\"plotly\"], function(Plotly) {                    window.PLOTLYENV=window.PLOTLYENV || {};\n",
       "                    window.PLOTLYENV.BASE_URL='https://plot.ly';                                    if (document.getElementById(\"5bef4d93-9aaa-464d-b72a-7f2a163e4954\")) {                    Plotly.newPlot(                        \"5bef4d93-9aaa-464d-b72a-7f2a163e4954\",                        [{\"marker\": {\"color\": \"rgba(255, 153, 51, 0.6)\", \"line\": {\"color\": \"rgba(255, 153, 51, 1.0)\", \"width\": 1}}, \"name\": \"Values\", \"orientation\": \"v\", \"text\": \"\", \"type\": \"bar\", \"x\": [\"A\", \"B\", \"C\"], \"y\": [32, 43, 50]}],                        {\"legend\": {\"bgcolor\": \"#F5F6F9\", \"font\": {\"color\": \"#4D5663\"}}, \"paper_bgcolor\": \"#F5F6F9\", \"plot_bgcolor\": \"#F5F6F9\", \"template\": {\"data\": {\"bar\": [{\"error_x\": {\"color\": \"#2a3f5f\"}, \"error_y\": {\"color\": \"#2a3f5f\"}, \"marker\": {\"line\": {\"color\": \"#E5ECF6\", \"width\": 0.5}}, \"type\": \"bar\"}], \"barpolar\": [{\"marker\": {\"line\": {\"color\": \"#E5ECF6\", \"width\": 0.5}}, \"type\": \"barpolar\"}], \"carpet\": [{\"aaxis\": {\"endlinecolor\": \"#2a3f5f\", \"gridcolor\": \"white\", \"linecolor\": \"white\", \"minorgridcolor\": \"white\", \"startlinecolor\": \"#2a3f5f\"}, \"baxis\": {\"endlinecolor\": \"#2a3f5f\", \"gridcolor\": \"white\", \"linecolor\": \"white\", \"minorgridcolor\": \"white\", \"startlinecolor\": \"#2a3f5f\"}, \"type\": \"carpet\"}], \"choropleth\": [{\"colorbar\": {\"outlinewidth\": 0, \"ticks\": \"\"}, \"type\": \"choropleth\"}], \"contour\": [{\"colorbar\": {\"outlinewidth\": 0, \"ticks\": \"\"}, \"colorscale\": [[0.0, \"#0d0887\"], [0.1111111111111111, \"#46039f\"], [0.2222222222222222, \"#7201a8\"], [0.3333333333333333, \"#9c179e\"], [0.4444444444444444, \"#bd3786\"], [0.5555555555555556, \"#d8576b\"], [0.6666666666666666, \"#ed7953\"], [0.7777777777777778, \"#fb9f3a\"], [0.8888888888888888, \"#fdca26\"], [1.0, \"#f0f921\"]], \"type\": \"contour\"}], \"contourcarpet\": [{\"colorbar\": {\"outlinewidth\": 0, \"ticks\": \"\"}, \"type\": \"contourcarpet\"}], \"heatmap\": [{\"colorbar\": {\"outlinewidth\": 0, \"ticks\": \"\"}, \"colorscale\": [[0.0, \"#0d0887\"], [0.1111111111111111, \"#46039f\"], [0.2222222222222222, \"#7201a8\"], [0.3333333333333333, \"#9c179e\"], [0.4444444444444444, \"#bd3786\"], [0.5555555555555556, \"#d8576b\"], [0.6666666666666666, \"#ed7953\"], [0.7777777777777778, \"#fb9f3a\"], [0.8888888888888888, \"#fdca26\"], [1.0, \"#f0f921\"]], \"type\": \"heatmap\"}], \"heatmapgl\": [{\"colorbar\": {\"outlinewidth\": 0, \"ticks\": \"\"}, \"colorscale\": [[0.0, \"#0d0887\"], [0.1111111111111111, \"#46039f\"], [0.2222222222222222, \"#7201a8\"], [0.3333333333333333, \"#9c179e\"], [0.4444444444444444, \"#bd3786\"], [0.5555555555555556, \"#d8576b\"], [0.6666666666666666, \"#ed7953\"], [0.7777777777777778, \"#fb9f3a\"], [0.8888888888888888, \"#fdca26\"], [1.0, \"#f0f921\"]], \"type\": \"heatmapgl\"}], \"histogram\": [{\"marker\": {\"colorbar\": {\"outlinewidth\": 0, \"ticks\": \"\"}}, \"type\": \"histogram\"}], \"histogram2d\": [{\"colorbar\": {\"outlinewidth\": 0, \"ticks\": \"\"}, \"colorscale\": [[0.0, \"#0d0887\"], [0.1111111111111111, \"#46039f\"], [0.2222222222222222, \"#7201a8\"], [0.3333333333333333, \"#9c179e\"], [0.4444444444444444, \"#bd3786\"], [0.5555555555555556, \"#d8576b\"], [0.6666666666666666, \"#ed7953\"], [0.7777777777777778, \"#fb9f3a\"], [0.8888888888888888, \"#fdca26\"], [1.0, \"#f0f921\"]], \"type\": \"histogram2d\"}], \"histogram2dcontour\": [{\"colorbar\": {\"outlinewidth\": 0, \"ticks\": \"\"}, \"colorscale\": [[0.0, \"#0d0887\"], [0.1111111111111111, \"#46039f\"], [0.2222222222222222, \"#7201a8\"], [0.3333333333333333, \"#9c179e\"], [0.4444444444444444, \"#bd3786\"], [0.5555555555555556, \"#d8576b\"], [0.6666666666666666, \"#ed7953\"], [0.7777777777777778, \"#fb9f3a\"], [0.8888888888888888, \"#fdca26\"], [1.0, \"#f0f921\"]], \"type\": \"histogram2dcontour\"}], \"mesh3d\": [{\"colorbar\": {\"outlinewidth\": 0, \"ticks\": \"\"}, \"type\": \"mesh3d\"}], \"parcoords\": [{\"line\": {\"colorbar\": {\"outlinewidth\": 0, \"ticks\": \"\"}}, \"type\": \"parcoords\"}], \"pie\": [{\"automargin\": true, \"type\": \"pie\"}], \"scatter\": [{\"marker\": {\"colorbar\": {\"outlinewidth\": 0, \"ticks\": \"\"}}, \"type\": \"scatter\"}], \"scatter3d\": [{\"line\": {\"colorbar\": {\"outlinewidth\": 0, \"ticks\": \"\"}}, \"marker\": {\"colorbar\": {\"outlinewidth\": 0, \"ticks\": \"\"}}, \"type\": \"scatter3d\"}], \"scattercarpet\": [{\"marker\": {\"colorbar\": {\"outlinewidth\": 0, \"ticks\": \"\"}}, \"type\": \"scattercarpet\"}], \"scattergeo\": [{\"marker\": {\"colorbar\": {\"outlinewidth\": 0, \"ticks\": \"\"}}, \"type\": \"scattergeo\"}], \"scattergl\": [{\"marker\": {\"colorbar\": {\"outlinewidth\": 0, \"ticks\": \"\"}}, \"type\": \"scattergl\"}], \"scattermapbox\": [{\"marker\": {\"colorbar\": {\"outlinewidth\": 0, \"ticks\": \"\"}}, \"type\": \"scattermapbox\"}], \"scatterpolar\": [{\"marker\": {\"colorbar\": {\"outlinewidth\": 0, \"ticks\": \"\"}}, \"type\": \"scatterpolar\"}], \"scatterpolargl\": [{\"marker\": {\"colorbar\": {\"outlinewidth\": 0, \"ticks\": \"\"}}, \"type\": \"scatterpolargl\"}], \"scatterternary\": [{\"marker\": {\"colorbar\": {\"outlinewidth\": 0, \"ticks\": \"\"}}, \"type\": \"scatterternary\"}], \"surface\": [{\"colorbar\": {\"outlinewidth\": 0, \"ticks\": \"\"}, \"colorscale\": [[0.0, \"#0d0887\"], [0.1111111111111111, \"#46039f\"], [0.2222222222222222, \"#7201a8\"], [0.3333333333333333, \"#9c179e\"], [0.4444444444444444, \"#bd3786\"], [0.5555555555555556, \"#d8576b\"], [0.6666666666666666, \"#ed7953\"], [0.7777777777777778, \"#fb9f3a\"], [0.8888888888888888, \"#fdca26\"], [1.0, \"#f0f921\"]], \"type\": \"surface\"}], \"table\": [{\"cells\": {\"fill\": {\"color\": \"#EBF0F8\"}, \"line\": {\"color\": \"white\"}}, \"header\": {\"fill\": {\"color\": \"#C8D4E3\"}, \"line\": {\"color\": \"white\"}}, \"type\": \"table\"}]}, \"layout\": {\"annotationdefaults\": {\"arrowcolor\": \"#2a3f5f\", \"arrowhead\": 0, \"arrowwidth\": 1}, \"autotypenumbers\": \"strict\", \"coloraxis\": {\"colorbar\": {\"outlinewidth\": 0, \"ticks\": \"\"}}, \"colorscale\": {\"diverging\": [[0, \"#8e0152\"], [0.1, \"#c51b7d\"], [0.2, \"#de77ae\"], [0.3, \"#f1b6da\"], [0.4, \"#fde0ef\"], [0.5, \"#f7f7f7\"], [0.6, \"#e6f5d0\"], [0.7, \"#b8e186\"], [0.8, \"#7fbc41\"], [0.9, \"#4d9221\"], [1, \"#276419\"]], \"sequential\": [[0.0, \"#0d0887\"], [0.1111111111111111, \"#46039f\"], [0.2222222222222222, \"#7201a8\"], [0.3333333333333333, \"#9c179e\"], [0.4444444444444444, \"#bd3786\"], [0.5555555555555556, \"#d8576b\"], [0.6666666666666666, \"#ed7953\"], [0.7777777777777778, \"#fb9f3a\"], [0.8888888888888888, \"#fdca26\"], [1.0, \"#f0f921\"]], \"sequentialminus\": [[0.0, \"#0d0887\"], [0.1111111111111111, \"#46039f\"], [0.2222222222222222, \"#7201a8\"], [0.3333333333333333, \"#9c179e\"], [0.4444444444444444, \"#bd3786\"], [0.5555555555555556, \"#d8576b\"], [0.6666666666666666, \"#ed7953\"], [0.7777777777777778, \"#fb9f3a\"], [0.8888888888888888, \"#fdca26\"], [1.0, \"#f0f921\"]]}, \"colorway\": [\"#636efa\", \"#EF553B\", \"#00cc96\", \"#ab63fa\", \"#FFA15A\", \"#19d3f3\", \"#FF6692\", \"#B6E880\", \"#FF97FF\", \"#FECB52\"], \"font\": {\"color\": \"#2a3f5f\"}, \"geo\": {\"bgcolor\": \"white\", \"lakecolor\": \"white\", \"landcolor\": \"#E5ECF6\", \"showlakes\": true, \"showland\": true, \"subunitcolor\": \"white\"}, \"hoverlabel\": {\"align\": \"left\"}, \"hovermode\": \"closest\", \"mapbox\": {\"style\": \"light\"}, \"paper_bgcolor\": \"white\", \"plot_bgcolor\": \"#E5ECF6\", \"polar\": {\"angularaxis\": {\"gridcolor\": \"white\", \"linecolor\": \"white\", \"ticks\": \"\"}, \"bgcolor\": \"#E5ECF6\", \"radialaxis\": {\"gridcolor\": \"white\", \"linecolor\": \"white\", \"ticks\": \"\"}}, \"scene\": {\"xaxis\": {\"backgroundcolor\": \"#E5ECF6\", \"gridcolor\": \"white\", \"gridwidth\": 2, \"linecolor\": \"white\", \"showbackground\": true, \"ticks\": \"\", \"zerolinecolor\": \"white\"}, \"yaxis\": {\"backgroundcolor\": \"#E5ECF6\", \"gridcolor\": \"white\", \"gridwidth\": 2, \"linecolor\": \"white\", \"showbackground\": true, \"ticks\": \"\", \"zerolinecolor\": \"white\"}, \"zaxis\": {\"backgroundcolor\": \"#E5ECF6\", \"gridcolor\": \"white\", \"gridwidth\": 2, \"linecolor\": \"white\", \"showbackground\": true, \"ticks\": \"\", \"zerolinecolor\": \"white\"}}, \"shapedefaults\": {\"line\": {\"color\": \"#2a3f5f\"}}, \"ternary\": {\"aaxis\": {\"gridcolor\": \"white\", \"linecolor\": \"white\", \"ticks\": \"\"}, \"baxis\": {\"gridcolor\": \"white\", \"linecolor\": \"white\", \"ticks\": \"\"}, \"bgcolor\": \"#E5ECF6\", \"caxis\": {\"gridcolor\": \"white\", \"linecolor\": \"white\", \"ticks\": \"\"}}, \"title\": {\"x\": 0.05}, \"xaxis\": {\"automargin\": true, \"gridcolor\": \"white\", \"linecolor\": \"white\", \"ticks\": \"\", \"title\": {\"standoff\": 15}, \"zerolinecolor\": \"white\", \"zerolinewidth\": 2}, \"yaxis\": {\"automargin\": true, \"gridcolor\": \"white\", \"linecolor\": \"white\", \"ticks\": \"\", \"title\": {\"standoff\": 15}, \"zerolinecolor\": \"white\", \"zerolinewidth\": 2}}}, \"title\": {\"font\": {\"color\": \"#4D5663\"}}, \"xaxis\": {\"gridcolor\": \"#E1E5ED\", \"showgrid\": true, \"tickfont\": {\"color\": \"#4D5663\"}, \"title\": {\"font\": {\"color\": \"#4D5663\"}, \"text\": \"\"}, \"zerolinecolor\": \"#E1E5ED\"}, \"yaxis\": {\"gridcolor\": \"#E1E5ED\", \"showgrid\": true, \"tickfont\": {\"color\": \"#4D5663\"}, \"title\": {\"font\": {\"color\": \"#4D5663\"}, \"text\": \"\"}, \"zerolinecolor\": \"#E1E5ED\"}},                        {\"showLink\": true, \"linkText\": \"Export to plot.ly\", \"plotlyServerURL\": \"https://plot.ly\", \"responsive\": true}                    ).then(function(){\n",
       "                            \n",
       "var gd = document.getElementById('5bef4d93-9aaa-464d-b72a-7f2a163e4954');\n",
       "var x = new MutationObserver(function (mutations, observer) {{\n",
       "        var display = window.getComputedStyle(gd).display;\n",
       "        if (!display || display === 'none') {{\n",
       "            console.log([gd, 'removed!']);\n",
       "            Plotly.purge(gd);\n",
       "            observer.disconnect();\n",
       "        }}\n",
       "}});\n",
       "\n",
       "// Listen for the removal of the full notebook cells\n",
       "var notebookContainer = gd.closest('#notebook-container');\n",
       "if (notebookContainer) {{\n",
       "    x.observe(notebookContainer, {childList: true});\n",
       "}}\n",
       "\n",
       "// Listen for the clearing of the current output cell\n",
       "var outputEl = gd.closest('.output');\n",
       "if (outputEl) {{\n",
       "    x.observe(outputEl, {childList: true});\n",
       "}}\n",
       "\n",
       "                        })                };                });            </script>        </div>"
      ]
     },
     "metadata": {},
     "output_type": "display_data"
    }
   ],
   "source": [
    "df2.iplot(kind='bar',x='Category',y='Values')"
   ]
  },
  {
   "cell_type": "code",
   "execution_count": 21,
   "metadata": {},
   "outputs": [
    {
     "data": {
      "application/vnd.plotly.v1+json": {
       "config": {
        "linkText": "Export to plot.ly",
        "plotlyServerURL": "https://plot.ly",
        "showLink": true
       },
       "data": [
        {
         "marker": {
          "color": "rgba(255, 153, 51, 0.6)",
          "line": {
           "color": "rgba(255, 153, 51, 1.0)",
           "width": 1
          }
         },
         "name": "A",
         "orientation": "v",
         "text": "",
         "type": "bar",
         "x": [
          0,
          1,
          2,
          3,
          4,
          5,
          6,
          7,
          8,
          9,
          10,
          11,
          12,
          13,
          14,
          15,
          16,
          17,
          18,
          19,
          20,
          21,
          22,
          23,
          24,
          25,
          26,
          27,
          28,
          29,
          30,
          31,
          32,
          33,
          34,
          35,
          36,
          37,
          38,
          39,
          40,
          41,
          42,
          43,
          44,
          45,
          46,
          47,
          48,
          49,
          50,
          51,
          52,
          53,
          54,
          55,
          56,
          57,
          58,
          59,
          60,
          61,
          62,
          63,
          64,
          65,
          66,
          67,
          68,
          69,
          70,
          71,
          72,
          73,
          74,
          75,
          76,
          77,
          78,
          79,
          80,
          81,
          82,
          83,
          84,
          85,
          86,
          87,
          88,
          89,
          90,
          91,
          92,
          93,
          94,
          95,
          96,
          97,
          98,
          99
         ],
         "y": [
          -1.3743721584499824,
          0.01000404246298731,
          1.060073616887478,
          0.11441049376808408,
          -0.1254638614812266,
          -0.9070069778849268,
          0.052704947052634725,
          -0.018615509263272198,
          0.3426791424383957,
          0.7156411612038974,
          0.10320678514670655,
          1.5303326705609726,
          -0.21191099006121578,
          -2.020852407942947,
          0.22310319700464062,
          0.5054873846397421,
          0.4026865599915081,
          -1.4536017289362706,
          0.7950717634128648,
          -0.23111559189028452,
          0.7663819343502544,
          -0.6235760258594119,
          -0.39259261868434986,
          0.12216190113995658,
          -1.6096224506550463,
          0.5639253855756436,
          -1.0847543814378535,
          1.0885717287652497,
          -0.591208567689423,
          -1.6938094395037835,
          0.018569790345541275,
          0.8539549753616196,
          0.806290563715313,
          -1.6254073372348345,
          0.9733772798627246,
          1.1342632149777827,
          0.6285286305821992,
          0.8898153149689759,
          0.43696724130491166,
          -0.11330861472454354,
          -0.30502763648952747,
          0.23913144901280264,
          -0.5265302051771779,
          -2.428775933644073,
          1.2029442849361394,
          -2.123707409478142,
          -1.391993761824126,
          -0.6561453328335073,
          -1.0638196040870558,
          -1.034440135369431,
          1.4545524807375916,
          0.9664194515222728,
          1.3514860245657558,
          0.641805705752012,
          0.2250786303196695,
          0.5551821716123263,
          -0.3022131037940552,
          0.1957505960294113,
          -0.09000988974301995,
          0.2030785749813345,
          0.20537268885063817,
          2.007683712209121,
          -1.4843400652481071,
          1.600331889395343,
          -2.658926199502142,
          -0.7475374003049038,
          0.059354593787525535,
          -2.3391273652213593,
          0.14801385832510175,
          0.7316816414068449,
          2.6313286535979996,
          -0.6609371876541106,
          1.1687995210202855,
          1.0322937940761117,
          -0.12266208992005274,
          1.35264415917231,
          -0.6569032104004473,
          -1.325436343882467,
          0.03518178304520304,
          0.9882093647510404,
          0.7716022659319737,
          0.2571496555762069,
          0.9497583254883611,
          0.34755083044952106,
          -0.2608789849073516,
          1.6727247611623286,
          0.9699480590442013,
          -0.5146697755100796,
          0.1877515295630458,
          -0.16382196131899163,
          -0.6291505468485376,
          -0.3276311214951528,
          -1.1219800893721616,
          0.9243005130469527,
          0.34121867776964615,
          -0.1776353990815943,
          0.6764803263134359,
          -1.0912902239348543,
          0.23613255869213673,
          -0.9206029120136027
         ]
        },
        {
         "marker": {
          "color": "rgba(55, 128, 191, 0.6)",
          "line": {
           "color": "rgba(55, 128, 191, 1.0)",
           "width": 1
          }
         },
         "name": "B",
         "orientation": "v",
         "text": "",
         "type": "bar",
         "x": [
          0,
          1,
          2,
          3,
          4,
          5,
          6,
          7,
          8,
          9,
          10,
          11,
          12,
          13,
          14,
          15,
          16,
          17,
          18,
          19,
          20,
          21,
          22,
          23,
          24,
          25,
          26,
          27,
          28,
          29,
          30,
          31,
          32,
          33,
          34,
          35,
          36,
          37,
          38,
          39,
          40,
          41,
          42,
          43,
          44,
          45,
          46,
          47,
          48,
          49,
          50,
          51,
          52,
          53,
          54,
          55,
          56,
          57,
          58,
          59,
          60,
          61,
          62,
          63,
          64,
          65,
          66,
          67,
          68,
          69,
          70,
          71,
          72,
          73,
          74,
          75,
          76,
          77,
          78,
          79,
          80,
          81,
          82,
          83,
          84,
          85,
          86,
          87,
          88,
          89,
          90,
          91,
          92,
          93,
          94,
          95,
          96,
          97,
          98,
          99
         ],
         "y": [
          -0.41705545013634915,
          -0.48642056858316945,
          -0.026443392359397484,
          0.1978372625783503,
          1.4968152023860652,
          1.2996001460682738,
          -1.9367361458578556,
          -0.7567789330556283,
          -2.054035669273658,
          0.5048997928080652,
          -1.1112808411952075,
          0.5912890910463597,
          0.0955475906516338,
          -0.28622310082696395,
          0.11737426814490341,
          -0.06758176195487915,
          0.3241491954622198,
          -0.5104479126394454,
          0.026529123575938545,
          1.4972763559326852,
          1.8253818450833434,
          -1.2574190220624064,
          0.1257869275628511,
          0.016621627579822357,
          0.979647443174523,
          0.518474140677526,
          -0.41373982543347276,
          0.009111766977325414,
          0.7981851789989233,
          -1.5066373021119543,
          -0.8145019514506392,
          1.2127894892403486,
          1.1666091840168742,
          -0.1826814988975061,
          0.2121435888368178,
          0.5919460396147409,
          0.6706604908690293,
          -0.1538820807314714,
          -0.06481604156077372,
          0.6865617899199997,
          0.5772096001553042,
          0.469910962356171,
          -2.0005706396554475,
          0.7472354988856291,
          -0.6389610051560966,
          -0.38295815856378096,
          -0.09249688990779162,
          1.6673465664575287,
          -0.5169802146802591,
          0.3229158282844716,
          -2.2439072734691266,
          -0.59787255059542,
          2.0190019560628656,
          -0.8827665762111087,
          0.1720370484706035,
          1.1447792901642073,
          -2.021110364925016,
          -0.4431961270162332,
          0.6154890464199887,
          -0.5340413595491634,
          -1.4300515449852669,
          -0.4289970586923092,
          -3.187864606601478,
          -0.5443854916908588,
          1.9027789968231628,
          0.028860644801460108,
          -0.9070719076829377,
          2.2604509548717204,
          -0.4756263042930482,
          -1.0527349279366778,
          1.0989883088287775,
          0.8363471991549375,
          0.9390577333704273,
          -0.6821309372267801,
          -0.040109791076703746,
          -1.0926766026681485,
          0.8810484800262337,
          0.13899121632294173,
          0.18175429939228152,
          0.6641933255515288,
          -0.29364200182227196,
          0.5215667308020342,
          0.511801600346848,
          0.1323902697067605,
          -2.1124151258180466,
          -0.3963021602119647,
          1.1669298215227715,
          0.7144341554925651,
          1.393601613907853,
          0.8542543813843058,
          1.793693509296129,
          1.958951631262988,
          1.9793533489183885,
          0.5393936516728588,
          0.8635557050746643,
          0.19647333456875704,
          -1.3462894052999834,
          -0.036318884695404764,
          -0.5437514526982358,
          -0.8788039924624359
         ]
        },
        {
         "marker": {
          "color": "rgba(50, 171, 96, 0.6)",
          "line": {
           "color": "rgba(50, 171, 96, 1.0)",
           "width": 1
          }
         },
         "name": "C",
         "orientation": "v",
         "text": "",
         "type": "bar",
         "x": [
          0,
          1,
          2,
          3,
          4,
          5,
          6,
          7,
          8,
          9,
          10,
          11,
          12,
          13,
          14,
          15,
          16,
          17,
          18,
          19,
          20,
          21,
          22,
          23,
          24,
          25,
          26,
          27,
          28,
          29,
          30,
          31,
          32,
          33,
          34,
          35,
          36,
          37,
          38,
          39,
          40,
          41,
          42,
          43,
          44,
          45,
          46,
          47,
          48,
          49,
          50,
          51,
          52,
          53,
          54,
          55,
          56,
          57,
          58,
          59,
          60,
          61,
          62,
          63,
          64,
          65,
          66,
          67,
          68,
          69,
          70,
          71,
          72,
          73,
          74,
          75,
          76,
          77,
          78,
          79,
          80,
          81,
          82,
          83,
          84,
          85,
          86,
          87,
          88,
          89,
          90,
          91,
          92,
          93,
          94,
          95,
          96,
          97,
          98,
          99
         ],
         "y": [
          -0.21276462251127787,
          0.5392444209308489,
          1.201647243870889,
          1.6782766296745564,
          1.1780165541193524,
          0.40167196181061116,
          -0.1591374159699852,
          0.39767413608763563,
          0.8651958256291215,
          1.478487857872841,
          -0.6734933053355409,
          -0.9164503190359672,
          -0.1522431081070318,
          -0.17775723859865142,
          -0.5784508624076548,
          -0.8953430846986111,
          -0.5955412799976927,
          -1.4996597344022469,
          -0.7358247995812351,
          -0.933572443609917,
          -0.008828766883507387,
          -0.8164283705009511,
          1.273678888538661,
          -0.8651312409226529,
          0.35478150022354593,
          0.986399459757734,
          -0.5352650018171781,
          -1.3886598301517936,
          -0.9095518855205877,
          -0.18025157413060977,
          -1.1639538469777637,
          -0.45797392379674257,
          0.6729367441748657,
          -1.8550523081681753,
          -1.2923975140689834,
          0.1464356554680572,
          -0.9334423032882809,
          -0.44248786315560623,
          1.0671262179776113,
          0.33753739416763867,
          0.9128835546431392,
          -0.5900917794231104,
          -0.3737024267929817,
          0.3712684727445248,
          -0.7557372214105362,
          0.843767325377286,
          -2.206479423111974,
          0.4426752009503339,
          -1.418894646378147,
          -1.6105792466568054,
          0.14046905986929045,
          -1.7025655506186397,
          -1.1263018556886557,
          0.04343967291843729,
          -1.2047503941915687,
          -0.09781015949410614,
          -0.24368586131596517,
          0.6958509742327339,
          -1.0704795691259144,
          0.5620221156749131,
          0.9390052445805276,
          -1.3349060314912693,
          0.40321915973170414,
          1.6285358959063552,
          -0.17701723872220992,
          0.8234083102866014,
          0.9957585721559657,
          -0.3763413287556481,
          -1.6265324048745329,
          -0.621938385545258,
          -0.465630623615682,
          1.526182232958349,
          0.3520390029182346,
          2.5651656043033713,
          0.7960377533994962,
          0.32625925238639847,
          -1.1861624824881056,
          0.949283354081687,
          0.08425473048695817,
          -0.7318456749714377,
          -1.0006911553437978,
          0.41625205826679096,
          -1.0046004868315244,
          0.09274029071208498,
          -1.741066554969545,
          -0.1488349120028584,
          0.06298419279152194,
          -1.0202004771437285,
          0.31668257541722206,
          -1.9144300423394567,
          1.8560064604860345,
          -0.6905437344649258,
          -0.020351338723384127,
          -0.7245034758310543,
          1.2620486376354592,
          -0.15544435172249807,
          -0.38249834037408337,
          -0.44288833342145334,
          -0.37916364819204046,
          1.500013795209575
         ]
        },
        {
         "marker": {
          "color": "rgba(128, 0, 128, 0.6)",
          "line": {
           "color": "rgba(128, 0, 128, 1.0)",
           "width": 1
          }
         },
         "name": "D",
         "orientation": "v",
         "text": "",
         "type": "bar",
         "x": [
          0,
          1,
          2,
          3,
          4,
          5,
          6,
          7,
          8,
          9,
          10,
          11,
          12,
          13,
          14,
          15,
          16,
          17,
          18,
          19,
          20,
          21,
          22,
          23,
          24,
          25,
          26,
          27,
          28,
          29,
          30,
          31,
          32,
          33,
          34,
          35,
          36,
          37,
          38,
          39,
          40,
          41,
          42,
          43,
          44,
          45,
          46,
          47,
          48,
          49,
          50,
          51,
          52,
          53,
          54,
          55,
          56,
          57,
          58,
          59,
          60,
          61,
          62,
          63,
          64,
          65,
          66,
          67,
          68,
          69,
          70,
          71,
          72,
          73,
          74,
          75,
          76,
          77,
          78,
          79,
          80,
          81,
          82,
          83,
          84,
          85,
          86,
          87,
          88,
          89,
          90,
          91,
          92,
          93,
          94,
          95,
          96,
          97,
          98,
          99
         ],
         "y": [
          1.2646382812754842,
          -0.8971743142451027,
          -2.0754884569254672,
          0.24979143146563057,
          0.7113633997792028,
          1.278216640237135,
          -0.49685845418634067,
          1.2344611106270564,
          0.36195754457371004,
          0.6043429263082021,
          1.1059302402322535,
          -0.6515379521018477,
          0.3646331090549264,
          -0.9845536691002664,
          1.4409263079086052,
          0.8816667955217995,
          -0.7853779284986235,
          -0.7978616503508753,
          -1.0828660240395294,
          0.10487744298562451,
          0.19217934901563238,
          -0.44483118359065044,
          0.081992768065037,
          0.717726912938894,
          -0.4840805058901615,
          0.9655267003749074,
          -0.15515680869122653,
          0.18765636261666088,
          1.1626969975525205,
          1.1221860512686315,
          -0.7262998465735776,
          0.5769953510599819,
          -0.34292887593453836,
          -0.7177335259504108,
          0.4645526729614544,
          2.2636115244007744,
          0.6788635025563274,
          -1.3586866410113239,
          1.402105490753138,
          -0.04773722688359785,
          -0.05201898018951273,
          0.2775465835054213,
          -2.5368187629127665,
          0.7489922275026335,
          0.4366105803867375,
          -0.22742515624588822,
          0.8389663215980219,
          0.8119997599104144,
          1.5599969289424327,
          1.1960493070861002,
          0.5532823184545692,
          0.5429127445526751,
          -0.9216892467648115,
          -0.7124766367267783,
          -0.5469063510503084,
          1.2104299366607287,
          0.06529088469119605,
          -0.26731497693372736,
          0.18006682091523982,
          1.5858814002047847,
          0.028250097720445115,
          1.3266255468110029,
          1.3247055522245879,
          0.016966380125314793,
          -0.8959419956364261,
          0.878890833696069,
          -0.01258411681511281,
          -0.0795240148058931,
          0.09205341634269462,
          0.8743683456662174,
          1.2651793568520557,
          -0.01223560757394819,
          -1.1669543697177909,
          -1.0420826567320396,
          2.063838270434295,
          0.0968244764073173,
          -0.14942699098437895,
          -1.3822629131066702,
          0.15884855391204272,
          0.6019636707340277,
          1.2663377202008308,
          -1.6319526838234355,
          -0.08569233667719377,
          -0.19194039719829523,
          0.6089137382785959,
          0.21037399045564947,
          1.1878195115705752,
          0.10049673180139712,
          -0.6091707263338128,
          -1.0208458347127198,
          -0.7948310997841892,
          0.8263015448397337,
          0.6008696554415681,
          -2.853267844849281,
          -0.953772467478873,
          -0.3422257288319156,
          0.5312134043166221,
          0.15022922890648535,
          0.2815641965610305,
          -0.2403819541347331
         ]
        }
       ],
       "layout": {
        "legend": {
         "bgcolor": "#F5F6F9",
         "font": {
          "color": "#4D5663"
         }
        },
        "paper_bgcolor": "#F5F6F9",
        "plot_bgcolor": "#F5F6F9",
        "template": {
         "data": {
          "bar": [
           {
            "error_x": {
             "color": "#2a3f5f"
            },
            "error_y": {
             "color": "#2a3f5f"
            },
            "marker": {
             "line": {
              "color": "#E5ECF6",
              "width": 0.5
             }
            },
            "type": "bar"
           }
          ],
          "barpolar": [
           {
            "marker": {
             "line": {
              "color": "#E5ECF6",
              "width": 0.5
             }
            },
            "type": "barpolar"
           }
          ],
          "carpet": [
           {
            "aaxis": {
             "endlinecolor": "#2a3f5f",
             "gridcolor": "white",
             "linecolor": "white",
             "minorgridcolor": "white",
             "startlinecolor": "#2a3f5f"
            },
            "baxis": {
             "endlinecolor": "#2a3f5f",
             "gridcolor": "white",
             "linecolor": "white",
             "minorgridcolor": "white",
             "startlinecolor": "#2a3f5f"
            },
            "type": "carpet"
           }
          ],
          "choropleth": [
           {
            "colorbar": {
             "outlinewidth": 0,
             "ticks": ""
            },
            "type": "choropleth"
           }
          ],
          "contour": [
           {
            "colorbar": {
             "outlinewidth": 0,
             "ticks": ""
            },
            "colorscale": [
             [
              0,
              "#0d0887"
             ],
             [
              0.1111111111111111,
              "#46039f"
             ],
             [
              0.2222222222222222,
              "#7201a8"
             ],
             [
              0.3333333333333333,
              "#9c179e"
             ],
             [
              0.4444444444444444,
              "#bd3786"
             ],
             [
              0.5555555555555556,
              "#d8576b"
             ],
             [
              0.6666666666666666,
              "#ed7953"
             ],
             [
              0.7777777777777778,
              "#fb9f3a"
             ],
             [
              0.8888888888888888,
              "#fdca26"
             ],
             [
              1,
              "#f0f921"
             ]
            ],
            "type": "contour"
           }
          ],
          "contourcarpet": [
           {
            "colorbar": {
             "outlinewidth": 0,
             "ticks": ""
            },
            "type": "contourcarpet"
           }
          ],
          "heatmap": [
           {
            "colorbar": {
             "outlinewidth": 0,
             "ticks": ""
            },
            "colorscale": [
             [
              0,
              "#0d0887"
             ],
             [
              0.1111111111111111,
              "#46039f"
             ],
             [
              0.2222222222222222,
              "#7201a8"
             ],
             [
              0.3333333333333333,
              "#9c179e"
             ],
             [
              0.4444444444444444,
              "#bd3786"
             ],
             [
              0.5555555555555556,
              "#d8576b"
             ],
             [
              0.6666666666666666,
              "#ed7953"
             ],
             [
              0.7777777777777778,
              "#fb9f3a"
             ],
             [
              0.8888888888888888,
              "#fdca26"
             ],
             [
              1,
              "#f0f921"
             ]
            ],
            "type": "heatmap"
           }
          ],
          "heatmapgl": [
           {
            "colorbar": {
             "outlinewidth": 0,
             "ticks": ""
            },
            "colorscale": [
             [
              0,
              "#0d0887"
             ],
             [
              0.1111111111111111,
              "#46039f"
             ],
             [
              0.2222222222222222,
              "#7201a8"
             ],
             [
              0.3333333333333333,
              "#9c179e"
             ],
             [
              0.4444444444444444,
              "#bd3786"
             ],
             [
              0.5555555555555556,
              "#d8576b"
             ],
             [
              0.6666666666666666,
              "#ed7953"
             ],
             [
              0.7777777777777778,
              "#fb9f3a"
             ],
             [
              0.8888888888888888,
              "#fdca26"
             ],
             [
              1,
              "#f0f921"
             ]
            ],
            "type": "heatmapgl"
           }
          ],
          "histogram": [
           {
            "marker": {
             "colorbar": {
              "outlinewidth": 0,
              "ticks": ""
             }
            },
            "type": "histogram"
           }
          ],
          "histogram2d": [
           {
            "colorbar": {
             "outlinewidth": 0,
             "ticks": ""
            },
            "colorscale": [
             [
              0,
              "#0d0887"
             ],
             [
              0.1111111111111111,
              "#46039f"
             ],
             [
              0.2222222222222222,
              "#7201a8"
             ],
             [
              0.3333333333333333,
              "#9c179e"
             ],
             [
              0.4444444444444444,
              "#bd3786"
             ],
             [
              0.5555555555555556,
              "#d8576b"
             ],
             [
              0.6666666666666666,
              "#ed7953"
             ],
             [
              0.7777777777777778,
              "#fb9f3a"
             ],
             [
              0.8888888888888888,
              "#fdca26"
             ],
             [
              1,
              "#f0f921"
             ]
            ],
            "type": "histogram2d"
           }
          ],
          "histogram2dcontour": [
           {
            "colorbar": {
             "outlinewidth": 0,
             "ticks": ""
            },
            "colorscale": [
             [
              0,
              "#0d0887"
             ],
             [
              0.1111111111111111,
              "#46039f"
             ],
             [
              0.2222222222222222,
              "#7201a8"
             ],
             [
              0.3333333333333333,
              "#9c179e"
             ],
             [
              0.4444444444444444,
              "#bd3786"
             ],
             [
              0.5555555555555556,
              "#d8576b"
             ],
             [
              0.6666666666666666,
              "#ed7953"
             ],
             [
              0.7777777777777778,
              "#fb9f3a"
             ],
             [
              0.8888888888888888,
              "#fdca26"
             ],
             [
              1,
              "#f0f921"
             ]
            ],
            "type": "histogram2dcontour"
           }
          ],
          "mesh3d": [
           {
            "colorbar": {
             "outlinewidth": 0,
             "ticks": ""
            },
            "type": "mesh3d"
           }
          ],
          "parcoords": [
           {
            "line": {
             "colorbar": {
              "outlinewidth": 0,
              "ticks": ""
             }
            },
            "type": "parcoords"
           }
          ],
          "pie": [
           {
            "automargin": true,
            "type": "pie"
           }
          ],
          "scatter": [
           {
            "marker": {
             "colorbar": {
              "outlinewidth": 0,
              "ticks": ""
             }
            },
            "type": "scatter"
           }
          ],
          "scatter3d": [
           {
            "line": {
             "colorbar": {
              "outlinewidth": 0,
              "ticks": ""
             }
            },
            "marker": {
             "colorbar": {
              "outlinewidth": 0,
              "ticks": ""
             }
            },
            "type": "scatter3d"
           }
          ],
          "scattercarpet": [
           {
            "marker": {
             "colorbar": {
              "outlinewidth": 0,
              "ticks": ""
             }
            },
            "type": "scattercarpet"
           }
          ],
          "scattergeo": [
           {
            "marker": {
             "colorbar": {
              "outlinewidth": 0,
              "ticks": ""
             }
            },
            "type": "scattergeo"
           }
          ],
          "scattergl": [
           {
            "marker": {
             "colorbar": {
              "outlinewidth": 0,
              "ticks": ""
             }
            },
            "type": "scattergl"
           }
          ],
          "scattermapbox": [
           {
            "marker": {
             "colorbar": {
              "outlinewidth": 0,
              "ticks": ""
             }
            },
            "type": "scattermapbox"
           }
          ],
          "scatterpolar": [
           {
            "marker": {
             "colorbar": {
              "outlinewidth": 0,
              "ticks": ""
             }
            },
            "type": "scatterpolar"
           }
          ],
          "scatterpolargl": [
           {
            "marker": {
             "colorbar": {
              "outlinewidth": 0,
              "ticks": ""
             }
            },
            "type": "scatterpolargl"
           }
          ],
          "scatterternary": [
           {
            "marker": {
             "colorbar": {
              "outlinewidth": 0,
              "ticks": ""
             }
            },
            "type": "scatterternary"
           }
          ],
          "surface": [
           {
            "colorbar": {
             "outlinewidth": 0,
             "ticks": ""
            },
            "colorscale": [
             [
              0,
              "#0d0887"
             ],
             [
              0.1111111111111111,
              "#46039f"
             ],
             [
              0.2222222222222222,
              "#7201a8"
             ],
             [
              0.3333333333333333,
              "#9c179e"
             ],
             [
              0.4444444444444444,
              "#bd3786"
             ],
             [
              0.5555555555555556,
              "#d8576b"
             ],
             [
              0.6666666666666666,
              "#ed7953"
             ],
             [
              0.7777777777777778,
              "#fb9f3a"
             ],
             [
              0.8888888888888888,
              "#fdca26"
             ],
             [
              1,
              "#f0f921"
             ]
            ],
            "type": "surface"
           }
          ],
          "table": [
           {
            "cells": {
             "fill": {
              "color": "#EBF0F8"
             },
             "line": {
              "color": "white"
             }
            },
            "header": {
             "fill": {
              "color": "#C8D4E3"
             },
             "line": {
              "color": "white"
             }
            },
            "type": "table"
           }
          ]
         },
         "layout": {
          "annotationdefaults": {
           "arrowcolor": "#2a3f5f",
           "arrowhead": 0,
           "arrowwidth": 1
          },
          "autotypenumbers": "strict",
          "coloraxis": {
           "colorbar": {
            "outlinewidth": 0,
            "ticks": ""
           }
          },
          "colorscale": {
           "diverging": [
            [
             0,
             "#8e0152"
            ],
            [
             0.1,
             "#c51b7d"
            ],
            [
             0.2,
             "#de77ae"
            ],
            [
             0.3,
             "#f1b6da"
            ],
            [
             0.4,
             "#fde0ef"
            ],
            [
             0.5,
             "#f7f7f7"
            ],
            [
             0.6,
             "#e6f5d0"
            ],
            [
             0.7,
             "#b8e186"
            ],
            [
             0.8,
             "#7fbc41"
            ],
            [
             0.9,
             "#4d9221"
            ],
            [
             1,
             "#276419"
            ]
           ],
           "sequential": [
            [
             0,
             "#0d0887"
            ],
            [
             0.1111111111111111,
             "#46039f"
            ],
            [
             0.2222222222222222,
             "#7201a8"
            ],
            [
             0.3333333333333333,
             "#9c179e"
            ],
            [
             0.4444444444444444,
             "#bd3786"
            ],
            [
             0.5555555555555556,
             "#d8576b"
            ],
            [
             0.6666666666666666,
             "#ed7953"
            ],
            [
             0.7777777777777778,
             "#fb9f3a"
            ],
            [
             0.8888888888888888,
             "#fdca26"
            ],
            [
             1,
             "#f0f921"
            ]
           ],
           "sequentialminus": [
            [
             0,
             "#0d0887"
            ],
            [
             0.1111111111111111,
             "#46039f"
            ],
            [
             0.2222222222222222,
             "#7201a8"
            ],
            [
             0.3333333333333333,
             "#9c179e"
            ],
            [
             0.4444444444444444,
             "#bd3786"
            ],
            [
             0.5555555555555556,
             "#d8576b"
            ],
            [
             0.6666666666666666,
             "#ed7953"
            ],
            [
             0.7777777777777778,
             "#fb9f3a"
            ],
            [
             0.8888888888888888,
             "#fdca26"
            ],
            [
             1,
             "#f0f921"
            ]
           ]
          },
          "colorway": [
           "#636efa",
           "#EF553B",
           "#00cc96",
           "#ab63fa",
           "#FFA15A",
           "#19d3f3",
           "#FF6692",
           "#B6E880",
           "#FF97FF",
           "#FECB52"
          ],
          "font": {
           "color": "#2a3f5f"
          },
          "geo": {
           "bgcolor": "white",
           "lakecolor": "white",
           "landcolor": "#E5ECF6",
           "showlakes": true,
           "showland": true,
           "subunitcolor": "white"
          },
          "hoverlabel": {
           "align": "left"
          },
          "hovermode": "closest",
          "mapbox": {
           "style": "light"
          },
          "paper_bgcolor": "white",
          "plot_bgcolor": "#E5ECF6",
          "polar": {
           "angularaxis": {
            "gridcolor": "white",
            "linecolor": "white",
            "ticks": ""
           },
           "bgcolor": "#E5ECF6",
           "radialaxis": {
            "gridcolor": "white",
            "linecolor": "white",
            "ticks": ""
           }
          },
          "scene": {
           "xaxis": {
            "backgroundcolor": "#E5ECF6",
            "gridcolor": "white",
            "gridwidth": 2,
            "linecolor": "white",
            "showbackground": true,
            "ticks": "",
            "zerolinecolor": "white"
           },
           "yaxis": {
            "backgroundcolor": "#E5ECF6",
            "gridcolor": "white",
            "gridwidth": 2,
            "linecolor": "white",
            "showbackground": true,
            "ticks": "",
            "zerolinecolor": "white"
           },
           "zaxis": {
            "backgroundcolor": "#E5ECF6",
            "gridcolor": "white",
            "gridwidth": 2,
            "linecolor": "white",
            "showbackground": true,
            "ticks": "",
            "zerolinecolor": "white"
           }
          },
          "shapedefaults": {
           "line": {
            "color": "#2a3f5f"
           }
          },
          "ternary": {
           "aaxis": {
            "gridcolor": "white",
            "linecolor": "white",
            "ticks": ""
           },
           "baxis": {
            "gridcolor": "white",
            "linecolor": "white",
            "ticks": ""
           },
           "bgcolor": "#E5ECF6",
           "caxis": {
            "gridcolor": "white",
            "linecolor": "white",
            "ticks": ""
           }
          },
          "title": {
           "x": 0.05
          },
          "xaxis": {
           "automargin": true,
           "gridcolor": "white",
           "linecolor": "white",
           "ticks": "",
           "title": {
            "standoff": 15
           },
           "zerolinecolor": "white",
           "zerolinewidth": 2
          },
          "yaxis": {
           "automargin": true,
           "gridcolor": "white",
           "linecolor": "white",
           "ticks": "",
           "title": {
            "standoff": 15
           },
           "zerolinecolor": "white",
           "zerolinewidth": 2
          }
         }
        },
        "title": {
         "font": {
          "color": "#4D5663"
         }
        },
        "xaxis": {
         "gridcolor": "#E1E5ED",
         "showgrid": true,
         "tickfont": {
          "color": "#4D5663"
         },
         "title": {
          "font": {
           "color": "#4D5663"
          },
          "text": ""
         },
         "zerolinecolor": "#E1E5ED"
        },
        "yaxis": {
         "gridcolor": "#E1E5ED",
         "showgrid": true,
         "tickfont": {
          "color": "#4D5663"
         },
         "title": {
          "font": {
           "color": "#4D5663"
          },
          "text": ""
         },
         "zerolinecolor": "#E1E5ED"
        }
       }
      },
      "text/html": [
       "<div>                            <div id=\"6ae87a39-2a51-4453-8d6d-0e464dd27418\" class=\"plotly-graph-div\" style=\"height:525px; width:100%;\"></div>            <script type=\"text/javascript\">                require([\"plotly\"], function(Plotly) {                    window.PLOTLYENV=window.PLOTLYENV || {};\n",
       "                    window.PLOTLYENV.BASE_URL='https://plot.ly';                                    if (document.getElementById(\"6ae87a39-2a51-4453-8d6d-0e464dd27418\")) {                    Plotly.newPlot(                        \"6ae87a39-2a51-4453-8d6d-0e464dd27418\",                        [{\"marker\": {\"color\": \"rgba(255, 153, 51, 0.6)\", \"line\": {\"color\": \"rgba(255, 153, 51, 1.0)\", \"width\": 1}}, \"name\": \"A\", \"orientation\": \"v\", \"text\": \"\", \"type\": \"bar\", \"x\": [0, 1, 2, 3, 4, 5, 6, 7, 8, 9, 10, 11, 12, 13, 14, 15, 16, 17, 18, 19, 20, 21, 22, 23, 24, 25, 26, 27, 28, 29, 30, 31, 32, 33, 34, 35, 36, 37, 38, 39, 40, 41, 42, 43, 44, 45, 46, 47, 48, 49, 50, 51, 52, 53, 54, 55, 56, 57, 58, 59, 60, 61, 62, 63, 64, 65, 66, 67, 68, 69, 70, 71, 72, 73, 74, 75, 76, 77, 78, 79, 80, 81, 82, 83, 84, 85, 86, 87, 88, 89, 90, 91, 92, 93, 94, 95, 96, 97, 98, 99], \"y\": [-1.3743721584499824, 0.01000404246298731, 1.060073616887478, 0.11441049376808408, -0.1254638614812266, -0.9070069778849268, 0.052704947052634725, -0.018615509263272198, 0.3426791424383957, 0.7156411612038974, 0.10320678514670655, 1.5303326705609726, -0.21191099006121578, -2.020852407942947, 0.22310319700464062, 0.5054873846397421, 0.4026865599915081, -1.4536017289362706, 0.7950717634128648, -0.23111559189028452, 0.7663819343502544, -0.6235760258594119, -0.39259261868434986, 0.12216190113995658, -1.6096224506550463, 0.5639253855756436, -1.0847543814378535, 1.0885717287652497, -0.591208567689423, -1.6938094395037835, 0.018569790345541275, 0.8539549753616196, 0.806290563715313, -1.6254073372348345, 0.9733772798627246, 1.1342632149777827, 0.6285286305821992, 0.8898153149689759, 0.43696724130491166, -0.11330861472454354, -0.30502763648952747, 0.23913144901280264, -0.5265302051771779, -2.428775933644073, 1.2029442849361394, -2.123707409478142, -1.391993761824126, -0.6561453328335073, -1.0638196040870558, -1.034440135369431, 1.4545524807375916, 0.9664194515222728, 1.3514860245657558, 0.641805705752012, 0.2250786303196695, 0.5551821716123263, -0.3022131037940552, 0.1957505960294113, -0.09000988974301995, 0.2030785749813345, 0.20537268885063817, 2.007683712209121, -1.4843400652481071, 1.600331889395343, -2.658926199502142, -0.7475374003049038, 0.059354593787525535, -2.3391273652213593, 0.14801385832510175, 0.7316816414068449, 2.6313286535979996, -0.6609371876541106, 1.1687995210202855, 1.0322937940761117, -0.12266208992005274, 1.35264415917231, -0.6569032104004473, -1.325436343882467, 0.03518178304520304, 0.9882093647510404, 0.7716022659319737, 0.2571496555762069, 0.9497583254883611, 0.34755083044952106, -0.2608789849073516, 1.6727247611623286, 0.9699480590442013, -0.5146697755100796, 0.1877515295630458, -0.16382196131899163, -0.6291505468485376, -0.3276311214951528, -1.1219800893721616, 0.9243005130469527, 0.34121867776964615, -0.1776353990815943, 0.6764803263134359, -1.0912902239348543, 0.23613255869213673, -0.9206029120136027]}, {\"marker\": {\"color\": \"rgba(55, 128, 191, 0.6)\", \"line\": {\"color\": \"rgba(55, 128, 191, 1.0)\", \"width\": 1}}, \"name\": \"B\", \"orientation\": \"v\", \"text\": \"\", \"type\": \"bar\", \"x\": [0, 1, 2, 3, 4, 5, 6, 7, 8, 9, 10, 11, 12, 13, 14, 15, 16, 17, 18, 19, 20, 21, 22, 23, 24, 25, 26, 27, 28, 29, 30, 31, 32, 33, 34, 35, 36, 37, 38, 39, 40, 41, 42, 43, 44, 45, 46, 47, 48, 49, 50, 51, 52, 53, 54, 55, 56, 57, 58, 59, 60, 61, 62, 63, 64, 65, 66, 67, 68, 69, 70, 71, 72, 73, 74, 75, 76, 77, 78, 79, 80, 81, 82, 83, 84, 85, 86, 87, 88, 89, 90, 91, 92, 93, 94, 95, 96, 97, 98, 99], \"y\": [-0.41705545013634915, -0.48642056858316945, -0.026443392359397484, 0.1978372625783503, 1.4968152023860652, 1.2996001460682738, -1.9367361458578556, -0.7567789330556283, -2.054035669273658, 0.5048997928080652, -1.1112808411952075, 0.5912890910463597, 0.0955475906516338, -0.28622310082696395, 0.11737426814490341, -0.06758176195487915, 0.3241491954622198, -0.5104479126394454, 0.026529123575938545, 1.4972763559326852, 1.8253818450833434, -1.2574190220624064, 0.1257869275628511, 0.016621627579822357, 0.979647443174523, 0.518474140677526, -0.41373982543347276, 0.009111766977325414, 0.7981851789989233, -1.5066373021119543, -0.8145019514506392, 1.2127894892403486, 1.1666091840168742, -0.1826814988975061, 0.2121435888368178, 0.5919460396147409, 0.6706604908690293, -0.1538820807314714, -0.06481604156077372, 0.6865617899199997, 0.5772096001553042, 0.469910962356171, -2.0005706396554475, 0.7472354988856291, -0.6389610051560966, -0.38295815856378096, -0.09249688990779162, 1.6673465664575287, -0.5169802146802591, 0.3229158282844716, -2.2439072734691266, -0.59787255059542, 2.0190019560628656, -0.8827665762111087, 0.1720370484706035, 1.1447792901642073, -2.021110364925016, -0.4431961270162332, 0.6154890464199887, -0.5340413595491634, -1.4300515449852669, -0.4289970586923092, -3.187864606601478, -0.5443854916908588, 1.9027789968231628, 0.028860644801460108, -0.9070719076829377, 2.2604509548717204, -0.4756263042930482, -1.0527349279366778, 1.0989883088287775, 0.8363471991549375, 0.9390577333704273, -0.6821309372267801, -0.040109791076703746, -1.0926766026681485, 0.8810484800262337, 0.13899121632294173, 0.18175429939228152, 0.6641933255515288, -0.29364200182227196, 0.5215667308020342, 0.511801600346848, 0.1323902697067605, -2.1124151258180466, -0.3963021602119647, 1.1669298215227715, 0.7144341554925651, 1.393601613907853, 0.8542543813843058, 1.793693509296129, 1.958951631262988, 1.9793533489183885, 0.5393936516728588, 0.8635557050746643, 0.19647333456875704, -1.3462894052999834, -0.036318884695404764, -0.5437514526982358, -0.8788039924624359]}, {\"marker\": {\"color\": \"rgba(50, 171, 96, 0.6)\", \"line\": {\"color\": \"rgba(50, 171, 96, 1.0)\", \"width\": 1}}, \"name\": \"C\", \"orientation\": \"v\", \"text\": \"\", \"type\": \"bar\", \"x\": [0, 1, 2, 3, 4, 5, 6, 7, 8, 9, 10, 11, 12, 13, 14, 15, 16, 17, 18, 19, 20, 21, 22, 23, 24, 25, 26, 27, 28, 29, 30, 31, 32, 33, 34, 35, 36, 37, 38, 39, 40, 41, 42, 43, 44, 45, 46, 47, 48, 49, 50, 51, 52, 53, 54, 55, 56, 57, 58, 59, 60, 61, 62, 63, 64, 65, 66, 67, 68, 69, 70, 71, 72, 73, 74, 75, 76, 77, 78, 79, 80, 81, 82, 83, 84, 85, 86, 87, 88, 89, 90, 91, 92, 93, 94, 95, 96, 97, 98, 99], \"y\": [-0.21276462251127787, 0.5392444209308489, 1.201647243870889, 1.6782766296745564, 1.1780165541193524, 0.40167196181061116, -0.1591374159699852, 0.39767413608763563, 0.8651958256291215, 1.478487857872841, -0.6734933053355409, -0.9164503190359672, -0.1522431081070318, -0.17775723859865142, -0.5784508624076548, -0.8953430846986111, -0.5955412799976927, -1.4996597344022469, -0.7358247995812351, -0.933572443609917, -0.008828766883507387, -0.8164283705009511, 1.273678888538661, -0.8651312409226529, 0.35478150022354593, 0.986399459757734, -0.5352650018171781, -1.3886598301517936, -0.9095518855205877, -0.18025157413060977, -1.1639538469777637, -0.45797392379674257, 0.6729367441748657, -1.8550523081681753, -1.2923975140689834, 0.1464356554680572, -0.9334423032882809, -0.44248786315560623, 1.0671262179776113, 0.33753739416763867, 0.9128835546431392, -0.5900917794231104, -0.3737024267929817, 0.3712684727445248, -0.7557372214105362, 0.843767325377286, -2.206479423111974, 0.4426752009503339, -1.418894646378147, -1.6105792466568054, 0.14046905986929045, -1.7025655506186397, -1.1263018556886557, 0.04343967291843729, -1.2047503941915687, -0.09781015949410614, -0.24368586131596517, 0.6958509742327339, -1.0704795691259144, 0.5620221156749131, 0.9390052445805276, -1.3349060314912693, 0.40321915973170414, 1.6285358959063552, -0.17701723872220992, 0.8234083102866014, 0.9957585721559657, -0.3763413287556481, -1.6265324048745329, -0.621938385545258, -0.465630623615682, 1.526182232958349, 0.3520390029182346, 2.5651656043033713, 0.7960377533994962, 0.32625925238639847, -1.1861624824881056, 0.949283354081687, 0.08425473048695817, -0.7318456749714377, -1.0006911553437978, 0.41625205826679096, -1.0046004868315244, 0.09274029071208498, -1.741066554969545, -0.1488349120028584, 0.06298419279152194, -1.0202004771437285, 0.31668257541722206, -1.9144300423394567, 1.8560064604860345, -0.6905437344649258, -0.020351338723384127, -0.7245034758310543, 1.2620486376354592, -0.15544435172249807, -0.38249834037408337, -0.44288833342145334, -0.37916364819204046, 1.500013795209575]}, {\"marker\": {\"color\": \"rgba(128, 0, 128, 0.6)\", \"line\": {\"color\": \"rgba(128, 0, 128, 1.0)\", \"width\": 1}}, \"name\": \"D\", \"orientation\": \"v\", \"text\": \"\", \"type\": \"bar\", \"x\": [0, 1, 2, 3, 4, 5, 6, 7, 8, 9, 10, 11, 12, 13, 14, 15, 16, 17, 18, 19, 20, 21, 22, 23, 24, 25, 26, 27, 28, 29, 30, 31, 32, 33, 34, 35, 36, 37, 38, 39, 40, 41, 42, 43, 44, 45, 46, 47, 48, 49, 50, 51, 52, 53, 54, 55, 56, 57, 58, 59, 60, 61, 62, 63, 64, 65, 66, 67, 68, 69, 70, 71, 72, 73, 74, 75, 76, 77, 78, 79, 80, 81, 82, 83, 84, 85, 86, 87, 88, 89, 90, 91, 92, 93, 94, 95, 96, 97, 98, 99], \"y\": [1.2646382812754842, -0.8971743142451027, -2.0754884569254672, 0.24979143146563057, 0.7113633997792028, 1.278216640237135, -0.49685845418634067, 1.2344611106270564, 0.36195754457371004, 0.6043429263082021, 1.1059302402322535, -0.6515379521018477, 0.3646331090549264, -0.9845536691002664, 1.4409263079086052, 0.8816667955217995, -0.7853779284986235, -0.7978616503508753, -1.0828660240395294, 0.10487744298562451, 0.19217934901563238, -0.44483118359065044, 0.081992768065037, 0.717726912938894, -0.4840805058901615, 0.9655267003749074, -0.15515680869122653, 0.18765636261666088, 1.1626969975525205, 1.1221860512686315, -0.7262998465735776, 0.5769953510599819, -0.34292887593453836, -0.7177335259504108, 0.4645526729614544, 2.2636115244007744, 0.6788635025563274, -1.3586866410113239, 1.402105490753138, -0.04773722688359785, -0.05201898018951273, 0.2775465835054213, -2.5368187629127665, 0.7489922275026335, 0.4366105803867375, -0.22742515624588822, 0.8389663215980219, 0.8119997599104144, 1.5599969289424327, 1.1960493070861002, 0.5532823184545692, 0.5429127445526751, -0.9216892467648115, -0.7124766367267783, -0.5469063510503084, 1.2104299366607287, 0.06529088469119605, -0.26731497693372736, 0.18006682091523982, 1.5858814002047847, 0.028250097720445115, 1.3266255468110029, 1.3247055522245879, 0.016966380125314793, -0.8959419956364261, 0.878890833696069, -0.01258411681511281, -0.0795240148058931, 0.09205341634269462, 0.8743683456662174, 1.2651793568520557, -0.01223560757394819, -1.1669543697177909, -1.0420826567320396, 2.063838270434295, 0.0968244764073173, -0.14942699098437895, -1.3822629131066702, 0.15884855391204272, 0.6019636707340277, 1.2663377202008308, -1.6319526838234355, -0.08569233667719377, -0.19194039719829523, 0.6089137382785959, 0.21037399045564947, 1.1878195115705752, 0.10049673180139712, -0.6091707263338128, -1.0208458347127198, -0.7948310997841892, 0.8263015448397337, 0.6008696554415681, -2.853267844849281, -0.953772467478873, -0.3422257288319156, 0.5312134043166221, 0.15022922890648535, 0.2815641965610305, -0.2403819541347331]}],                        {\"legend\": {\"bgcolor\": \"#F5F6F9\", \"font\": {\"color\": \"#4D5663\"}}, \"paper_bgcolor\": \"#F5F6F9\", \"plot_bgcolor\": \"#F5F6F9\", \"template\": {\"data\": {\"bar\": [{\"error_x\": {\"color\": \"#2a3f5f\"}, \"error_y\": {\"color\": \"#2a3f5f\"}, \"marker\": {\"line\": {\"color\": \"#E5ECF6\", \"width\": 0.5}}, \"type\": \"bar\"}], \"barpolar\": [{\"marker\": {\"line\": {\"color\": \"#E5ECF6\", \"width\": 0.5}}, \"type\": \"barpolar\"}], \"carpet\": [{\"aaxis\": {\"endlinecolor\": \"#2a3f5f\", \"gridcolor\": \"white\", \"linecolor\": \"white\", \"minorgridcolor\": \"white\", \"startlinecolor\": \"#2a3f5f\"}, \"baxis\": {\"endlinecolor\": \"#2a3f5f\", \"gridcolor\": \"white\", \"linecolor\": \"white\", \"minorgridcolor\": \"white\", \"startlinecolor\": \"#2a3f5f\"}, \"type\": \"carpet\"}], \"choropleth\": [{\"colorbar\": {\"outlinewidth\": 0, \"ticks\": \"\"}, \"type\": \"choropleth\"}], \"contour\": [{\"colorbar\": {\"outlinewidth\": 0, \"ticks\": \"\"}, \"colorscale\": [[0.0, \"#0d0887\"], [0.1111111111111111, \"#46039f\"], [0.2222222222222222, \"#7201a8\"], [0.3333333333333333, \"#9c179e\"], [0.4444444444444444, \"#bd3786\"], [0.5555555555555556, \"#d8576b\"], [0.6666666666666666, \"#ed7953\"], [0.7777777777777778, \"#fb9f3a\"], [0.8888888888888888, \"#fdca26\"], [1.0, \"#f0f921\"]], \"type\": \"contour\"}], \"contourcarpet\": [{\"colorbar\": {\"outlinewidth\": 0, \"ticks\": \"\"}, \"type\": \"contourcarpet\"}], \"heatmap\": [{\"colorbar\": {\"outlinewidth\": 0, \"ticks\": \"\"}, \"colorscale\": [[0.0, \"#0d0887\"], [0.1111111111111111, \"#46039f\"], [0.2222222222222222, \"#7201a8\"], [0.3333333333333333, \"#9c179e\"], [0.4444444444444444, \"#bd3786\"], [0.5555555555555556, \"#d8576b\"], [0.6666666666666666, \"#ed7953\"], [0.7777777777777778, \"#fb9f3a\"], [0.8888888888888888, \"#fdca26\"], [1.0, \"#f0f921\"]], \"type\": \"heatmap\"}], \"heatmapgl\": [{\"colorbar\": {\"outlinewidth\": 0, \"ticks\": \"\"}, \"colorscale\": [[0.0, \"#0d0887\"], [0.1111111111111111, \"#46039f\"], [0.2222222222222222, \"#7201a8\"], [0.3333333333333333, \"#9c179e\"], [0.4444444444444444, \"#bd3786\"], [0.5555555555555556, \"#d8576b\"], [0.6666666666666666, \"#ed7953\"], [0.7777777777777778, \"#fb9f3a\"], [0.8888888888888888, \"#fdca26\"], [1.0, \"#f0f921\"]], \"type\": \"heatmapgl\"}], \"histogram\": [{\"marker\": {\"colorbar\": {\"outlinewidth\": 0, \"ticks\": \"\"}}, \"type\": \"histogram\"}], \"histogram2d\": [{\"colorbar\": {\"outlinewidth\": 0, \"ticks\": \"\"}, \"colorscale\": [[0.0, \"#0d0887\"], [0.1111111111111111, \"#46039f\"], [0.2222222222222222, \"#7201a8\"], [0.3333333333333333, \"#9c179e\"], [0.4444444444444444, \"#bd3786\"], [0.5555555555555556, \"#d8576b\"], [0.6666666666666666, \"#ed7953\"], [0.7777777777777778, \"#fb9f3a\"], [0.8888888888888888, \"#fdca26\"], [1.0, \"#f0f921\"]], \"type\": \"histogram2d\"}], \"histogram2dcontour\": [{\"colorbar\": {\"outlinewidth\": 0, \"ticks\": \"\"}, \"colorscale\": [[0.0, \"#0d0887\"], [0.1111111111111111, \"#46039f\"], [0.2222222222222222, \"#7201a8\"], [0.3333333333333333, \"#9c179e\"], [0.4444444444444444, \"#bd3786\"], [0.5555555555555556, \"#d8576b\"], [0.6666666666666666, \"#ed7953\"], [0.7777777777777778, \"#fb9f3a\"], [0.8888888888888888, \"#fdca26\"], [1.0, \"#f0f921\"]], \"type\": \"histogram2dcontour\"}], \"mesh3d\": [{\"colorbar\": {\"outlinewidth\": 0, \"ticks\": \"\"}, \"type\": \"mesh3d\"}], \"parcoords\": [{\"line\": {\"colorbar\": {\"outlinewidth\": 0, \"ticks\": \"\"}}, \"type\": \"parcoords\"}], \"pie\": [{\"automargin\": true, \"type\": \"pie\"}], \"scatter\": [{\"marker\": {\"colorbar\": {\"outlinewidth\": 0, \"ticks\": \"\"}}, \"type\": \"scatter\"}], \"scatter3d\": [{\"line\": {\"colorbar\": {\"outlinewidth\": 0, \"ticks\": \"\"}}, \"marker\": {\"colorbar\": {\"outlinewidth\": 0, \"ticks\": \"\"}}, \"type\": \"scatter3d\"}], \"scattercarpet\": [{\"marker\": {\"colorbar\": {\"outlinewidth\": 0, \"ticks\": \"\"}}, \"type\": \"scattercarpet\"}], \"scattergeo\": [{\"marker\": {\"colorbar\": {\"outlinewidth\": 0, \"ticks\": \"\"}}, \"type\": \"scattergeo\"}], \"scattergl\": [{\"marker\": {\"colorbar\": {\"outlinewidth\": 0, \"ticks\": \"\"}}, \"type\": \"scattergl\"}], \"scattermapbox\": [{\"marker\": {\"colorbar\": {\"outlinewidth\": 0, \"ticks\": \"\"}}, \"type\": \"scattermapbox\"}], \"scatterpolar\": [{\"marker\": {\"colorbar\": {\"outlinewidth\": 0, \"ticks\": \"\"}}, \"type\": \"scatterpolar\"}], \"scatterpolargl\": [{\"marker\": {\"colorbar\": {\"outlinewidth\": 0, \"ticks\": \"\"}}, \"type\": \"scatterpolargl\"}], \"scatterternary\": [{\"marker\": {\"colorbar\": {\"outlinewidth\": 0, \"ticks\": \"\"}}, \"type\": \"scatterternary\"}], \"surface\": [{\"colorbar\": {\"outlinewidth\": 0, \"ticks\": \"\"}, \"colorscale\": [[0.0, \"#0d0887\"], [0.1111111111111111, \"#46039f\"], [0.2222222222222222, \"#7201a8\"], [0.3333333333333333, \"#9c179e\"], [0.4444444444444444, \"#bd3786\"], [0.5555555555555556, \"#d8576b\"], [0.6666666666666666, \"#ed7953\"], [0.7777777777777778, \"#fb9f3a\"], [0.8888888888888888, \"#fdca26\"], [1.0, \"#f0f921\"]], \"type\": \"surface\"}], \"table\": [{\"cells\": {\"fill\": {\"color\": \"#EBF0F8\"}, \"line\": {\"color\": \"white\"}}, \"header\": {\"fill\": {\"color\": \"#C8D4E3\"}, \"line\": {\"color\": \"white\"}}, \"type\": \"table\"}]}, \"layout\": {\"annotationdefaults\": {\"arrowcolor\": \"#2a3f5f\", \"arrowhead\": 0, \"arrowwidth\": 1}, \"autotypenumbers\": \"strict\", \"coloraxis\": {\"colorbar\": {\"outlinewidth\": 0, \"ticks\": \"\"}}, \"colorscale\": {\"diverging\": [[0, \"#8e0152\"], [0.1, \"#c51b7d\"], [0.2, \"#de77ae\"], [0.3, \"#f1b6da\"], [0.4, \"#fde0ef\"], [0.5, \"#f7f7f7\"], [0.6, \"#e6f5d0\"], [0.7, \"#b8e186\"], [0.8, \"#7fbc41\"], [0.9, \"#4d9221\"], [1, \"#276419\"]], \"sequential\": [[0.0, \"#0d0887\"], [0.1111111111111111, \"#46039f\"], [0.2222222222222222, \"#7201a8\"], [0.3333333333333333, \"#9c179e\"], [0.4444444444444444, \"#bd3786\"], [0.5555555555555556, \"#d8576b\"], [0.6666666666666666, \"#ed7953\"], [0.7777777777777778, \"#fb9f3a\"], [0.8888888888888888, \"#fdca26\"], [1.0, \"#f0f921\"]], \"sequentialminus\": [[0.0, \"#0d0887\"], [0.1111111111111111, \"#46039f\"], [0.2222222222222222, \"#7201a8\"], [0.3333333333333333, \"#9c179e\"], [0.4444444444444444, \"#bd3786\"], [0.5555555555555556, \"#d8576b\"], [0.6666666666666666, \"#ed7953\"], [0.7777777777777778, \"#fb9f3a\"], [0.8888888888888888, \"#fdca26\"], [1.0, \"#f0f921\"]]}, \"colorway\": [\"#636efa\", \"#EF553B\", \"#00cc96\", \"#ab63fa\", \"#FFA15A\", \"#19d3f3\", \"#FF6692\", \"#B6E880\", \"#FF97FF\", \"#FECB52\"], \"font\": {\"color\": \"#2a3f5f\"}, \"geo\": {\"bgcolor\": \"white\", \"lakecolor\": \"white\", \"landcolor\": \"#E5ECF6\", \"showlakes\": true, \"showland\": true, \"subunitcolor\": \"white\"}, \"hoverlabel\": {\"align\": \"left\"}, \"hovermode\": \"closest\", \"mapbox\": {\"style\": \"light\"}, \"paper_bgcolor\": \"white\", \"plot_bgcolor\": \"#E5ECF6\", \"polar\": {\"angularaxis\": {\"gridcolor\": \"white\", \"linecolor\": \"white\", \"ticks\": \"\"}, \"bgcolor\": \"#E5ECF6\", \"radialaxis\": {\"gridcolor\": \"white\", \"linecolor\": \"white\", \"ticks\": \"\"}}, \"scene\": {\"xaxis\": {\"backgroundcolor\": \"#E5ECF6\", \"gridcolor\": \"white\", \"gridwidth\": 2, \"linecolor\": \"white\", \"showbackground\": true, \"ticks\": \"\", \"zerolinecolor\": \"white\"}, \"yaxis\": {\"backgroundcolor\": \"#E5ECF6\", \"gridcolor\": \"white\", \"gridwidth\": 2, \"linecolor\": \"white\", \"showbackground\": true, \"ticks\": \"\", \"zerolinecolor\": \"white\"}, \"zaxis\": {\"backgroundcolor\": \"#E5ECF6\", \"gridcolor\": \"white\", \"gridwidth\": 2, \"linecolor\": \"white\", \"showbackground\": true, \"ticks\": \"\", \"zerolinecolor\": \"white\"}}, \"shapedefaults\": {\"line\": {\"color\": \"#2a3f5f\"}}, \"ternary\": {\"aaxis\": {\"gridcolor\": \"white\", \"linecolor\": \"white\", \"ticks\": \"\"}, \"baxis\": {\"gridcolor\": \"white\", \"linecolor\": \"white\", \"ticks\": \"\"}, \"bgcolor\": \"#E5ECF6\", \"caxis\": {\"gridcolor\": \"white\", \"linecolor\": \"white\", \"ticks\": \"\"}}, \"title\": {\"x\": 0.05}, \"xaxis\": {\"automargin\": true, \"gridcolor\": \"white\", \"linecolor\": \"white\", \"ticks\": \"\", \"title\": {\"standoff\": 15}, \"zerolinecolor\": \"white\", \"zerolinewidth\": 2}, \"yaxis\": {\"automargin\": true, \"gridcolor\": \"white\", \"linecolor\": \"white\", \"ticks\": \"\", \"title\": {\"standoff\": 15}, \"zerolinecolor\": \"white\", \"zerolinewidth\": 2}}}, \"title\": {\"font\": {\"color\": \"#4D5663\"}}, \"xaxis\": {\"gridcolor\": \"#E1E5ED\", \"showgrid\": true, \"tickfont\": {\"color\": \"#4D5663\"}, \"title\": {\"font\": {\"color\": \"#4D5663\"}, \"text\": \"\"}, \"zerolinecolor\": \"#E1E5ED\"}, \"yaxis\": {\"gridcolor\": \"#E1E5ED\", \"showgrid\": true, \"tickfont\": {\"color\": \"#4D5663\"}, \"title\": {\"font\": {\"color\": \"#4D5663\"}, \"text\": \"\"}, \"zerolinecolor\": \"#E1E5ED\"}},                        {\"showLink\": true, \"linkText\": \"Export to plot.ly\", \"plotlyServerURL\": \"https://plot.ly\", \"responsive\": true}                    ).then(function(){\n",
       "                            \n",
       "var gd = document.getElementById('6ae87a39-2a51-4453-8d6d-0e464dd27418');\n",
       "var x = new MutationObserver(function (mutations, observer) {{\n",
       "        var display = window.getComputedStyle(gd).display;\n",
       "        if (!display || display === 'none') {{\n",
       "            console.log([gd, 'removed!']);\n",
       "            Plotly.purge(gd);\n",
       "            observer.disconnect();\n",
       "        }}\n",
       "}});\n",
       "\n",
       "// Listen for the removal of the full notebook cells\n",
       "var notebookContainer = gd.closest('#notebook-container');\n",
       "if (notebookContainer) {{\n",
       "    x.observe(notebookContainer, {childList: true});\n",
       "}}\n",
       "\n",
       "// Listen for the clearing of the current output cell\n",
       "var outputEl = gd.closest('.output');\n",
       "if (outputEl) {{\n",
       "    x.observe(outputEl, {childList: true});\n",
       "}}\n",
       "\n",
       "                        })                };                });            </script>        </div>"
      ]
     },
     "metadata": {},
     "output_type": "display_data"
    }
   ],
   "source": [
    "df.iplot(kind='bar')"
   ]
  },
  {
   "cell_type": "code",
   "execution_count": 20,
   "metadata": {},
   "outputs": [
    {
     "data": {
      "application/vnd.plotly.v1+json": {
       "config": {
        "linkText": "Export to plot.ly",
        "plotlyServerURL": "https://plot.ly",
        "showLink": true
       },
       "data": [
        {
         "marker": {
          "color": "rgba(255, 153, 51, 0.6)",
          "line": {
           "color": "rgba(255, 153, 51, 1.0)",
           "width": 1
          }
         },
         "name": "None",
         "orientation": "v",
         "text": "",
         "type": "bar",
         "x": [
          "A",
          "B",
          "C",
          "D"
         ],
         "y": [
          100,
          100,
          100,
          100
         ]
        }
       ],
       "layout": {
        "legend": {
         "bgcolor": "#F5F6F9",
         "font": {
          "color": "#4D5663"
         }
        },
        "paper_bgcolor": "#F5F6F9",
        "plot_bgcolor": "#F5F6F9",
        "template": {
         "data": {
          "bar": [
           {
            "error_x": {
             "color": "#2a3f5f"
            },
            "error_y": {
             "color": "#2a3f5f"
            },
            "marker": {
             "line": {
              "color": "#E5ECF6",
              "width": 0.5
             }
            },
            "type": "bar"
           }
          ],
          "barpolar": [
           {
            "marker": {
             "line": {
              "color": "#E5ECF6",
              "width": 0.5
             }
            },
            "type": "barpolar"
           }
          ],
          "carpet": [
           {
            "aaxis": {
             "endlinecolor": "#2a3f5f",
             "gridcolor": "white",
             "linecolor": "white",
             "minorgridcolor": "white",
             "startlinecolor": "#2a3f5f"
            },
            "baxis": {
             "endlinecolor": "#2a3f5f",
             "gridcolor": "white",
             "linecolor": "white",
             "minorgridcolor": "white",
             "startlinecolor": "#2a3f5f"
            },
            "type": "carpet"
           }
          ],
          "choropleth": [
           {
            "colorbar": {
             "outlinewidth": 0,
             "ticks": ""
            },
            "type": "choropleth"
           }
          ],
          "contour": [
           {
            "colorbar": {
             "outlinewidth": 0,
             "ticks": ""
            },
            "colorscale": [
             [
              0,
              "#0d0887"
             ],
             [
              0.1111111111111111,
              "#46039f"
             ],
             [
              0.2222222222222222,
              "#7201a8"
             ],
             [
              0.3333333333333333,
              "#9c179e"
             ],
             [
              0.4444444444444444,
              "#bd3786"
             ],
             [
              0.5555555555555556,
              "#d8576b"
             ],
             [
              0.6666666666666666,
              "#ed7953"
             ],
             [
              0.7777777777777778,
              "#fb9f3a"
             ],
             [
              0.8888888888888888,
              "#fdca26"
             ],
             [
              1,
              "#f0f921"
             ]
            ],
            "type": "contour"
           }
          ],
          "contourcarpet": [
           {
            "colorbar": {
             "outlinewidth": 0,
             "ticks": ""
            },
            "type": "contourcarpet"
           }
          ],
          "heatmap": [
           {
            "colorbar": {
             "outlinewidth": 0,
             "ticks": ""
            },
            "colorscale": [
             [
              0,
              "#0d0887"
             ],
             [
              0.1111111111111111,
              "#46039f"
             ],
             [
              0.2222222222222222,
              "#7201a8"
             ],
             [
              0.3333333333333333,
              "#9c179e"
             ],
             [
              0.4444444444444444,
              "#bd3786"
             ],
             [
              0.5555555555555556,
              "#d8576b"
             ],
             [
              0.6666666666666666,
              "#ed7953"
             ],
             [
              0.7777777777777778,
              "#fb9f3a"
             ],
             [
              0.8888888888888888,
              "#fdca26"
             ],
             [
              1,
              "#f0f921"
             ]
            ],
            "type": "heatmap"
           }
          ],
          "heatmapgl": [
           {
            "colorbar": {
             "outlinewidth": 0,
             "ticks": ""
            },
            "colorscale": [
             [
              0,
              "#0d0887"
             ],
             [
              0.1111111111111111,
              "#46039f"
             ],
             [
              0.2222222222222222,
              "#7201a8"
             ],
             [
              0.3333333333333333,
              "#9c179e"
             ],
             [
              0.4444444444444444,
              "#bd3786"
             ],
             [
              0.5555555555555556,
              "#d8576b"
             ],
             [
              0.6666666666666666,
              "#ed7953"
             ],
             [
              0.7777777777777778,
              "#fb9f3a"
             ],
             [
              0.8888888888888888,
              "#fdca26"
             ],
             [
              1,
              "#f0f921"
             ]
            ],
            "type": "heatmapgl"
           }
          ],
          "histogram": [
           {
            "marker": {
             "colorbar": {
              "outlinewidth": 0,
              "ticks": ""
             }
            },
            "type": "histogram"
           }
          ],
          "histogram2d": [
           {
            "colorbar": {
             "outlinewidth": 0,
             "ticks": ""
            },
            "colorscale": [
             [
              0,
              "#0d0887"
             ],
             [
              0.1111111111111111,
              "#46039f"
             ],
             [
              0.2222222222222222,
              "#7201a8"
             ],
             [
              0.3333333333333333,
              "#9c179e"
             ],
             [
              0.4444444444444444,
              "#bd3786"
             ],
             [
              0.5555555555555556,
              "#d8576b"
             ],
             [
              0.6666666666666666,
              "#ed7953"
             ],
             [
              0.7777777777777778,
              "#fb9f3a"
             ],
             [
              0.8888888888888888,
              "#fdca26"
             ],
             [
              1,
              "#f0f921"
             ]
            ],
            "type": "histogram2d"
           }
          ],
          "histogram2dcontour": [
           {
            "colorbar": {
             "outlinewidth": 0,
             "ticks": ""
            },
            "colorscale": [
             [
              0,
              "#0d0887"
             ],
             [
              0.1111111111111111,
              "#46039f"
             ],
             [
              0.2222222222222222,
              "#7201a8"
             ],
             [
              0.3333333333333333,
              "#9c179e"
             ],
             [
              0.4444444444444444,
              "#bd3786"
             ],
             [
              0.5555555555555556,
              "#d8576b"
             ],
             [
              0.6666666666666666,
              "#ed7953"
             ],
             [
              0.7777777777777778,
              "#fb9f3a"
             ],
             [
              0.8888888888888888,
              "#fdca26"
             ],
             [
              1,
              "#f0f921"
             ]
            ],
            "type": "histogram2dcontour"
           }
          ],
          "mesh3d": [
           {
            "colorbar": {
             "outlinewidth": 0,
             "ticks": ""
            },
            "type": "mesh3d"
           }
          ],
          "parcoords": [
           {
            "line": {
             "colorbar": {
              "outlinewidth": 0,
              "ticks": ""
             }
            },
            "type": "parcoords"
           }
          ],
          "pie": [
           {
            "automargin": true,
            "type": "pie"
           }
          ],
          "scatter": [
           {
            "marker": {
             "colorbar": {
              "outlinewidth": 0,
              "ticks": ""
             }
            },
            "type": "scatter"
           }
          ],
          "scatter3d": [
           {
            "line": {
             "colorbar": {
              "outlinewidth": 0,
              "ticks": ""
             }
            },
            "marker": {
             "colorbar": {
              "outlinewidth": 0,
              "ticks": ""
             }
            },
            "type": "scatter3d"
           }
          ],
          "scattercarpet": [
           {
            "marker": {
             "colorbar": {
              "outlinewidth": 0,
              "ticks": ""
             }
            },
            "type": "scattercarpet"
           }
          ],
          "scattergeo": [
           {
            "marker": {
             "colorbar": {
              "outlinewidth": 0,
              "ticks": ""
             }
            },
            "type": "scattergeo"
           }
          ],
          "scattergl": [
           {
            "marker": {
             "colorbar": {
              "outlinewidth": 0,
              "ticks": ""
             }
            },
            "type": "scattergl"
           }
          ],
          "scattermapbox": [
           {
            "marker": {
             "colorbar": {
              "outlinewidth": 0,
              "ticks": ""
             }
            },
            "type": "scattermapbox"
           }
          ],
          "scatterpolar": [
           {
            "marker": {
             "colorbar": {
              "outlinewidth": 0,
              "ticks": ""
             }
            },
            "type": "scatterpolar"
           }
          ],
          "scatterpolargl": [
           {
            "marker": {
             "colorbar": {
              "outlinewidth": 0,
              "ticks": ""
             }
            },
            "type": "scatterpolargl"
           }
          ],
          "scatterternary": [
           {
            "marker": {
             "colorbar": {
              "outlinewidth": 0,
              "ticks": ""
             }
            },
            "type": "scatterternary"
           }
          ],
          "surface": [
           {
            "colorbar": {
             "outlinewidth": 0,
             "ticks": ""
            },
            "colorscale": [
             [
              0,
              "#0d0887"
             ],
             [
              0.1111111111111111,
              "#46039f"
             ],
             [
              0.2222222222222222,
              "#7201a8"
             ],
             [
              0.3333333333333333,
              "#9c179e"
             ],
             [
              0.4444444444444444,
              "#bd3786"
             ],
             [
              0.5555555555555556,
              "#d8576b"
             ],
             [
              0.6666666666666666,
              "#ed7953"
             ],
             [
              0.7777777777777778,
              "#fb9f3a"
             ],
             [
              0.8888888888888888,
              "#fdca26"
             ],
             [
              1,
              "#f0f921"
             ]
            ],
            "type": "surface"
           }
          ],
          "table": [
           {
            "cells": {
             "fill": {
              "color": "#EBF0F8"
             },
             "line": {
              "color": "white"
             }
            },
            "header": {
             "fill": {
              "color": "#C8D4E3"
             },
             "line": {
              "color": "white"
             }
            },
            "type": "table"
           }
          ]
         },
         "layout": {
          "annotationdefaults": {
           "arrowcolor": "#2a3f5f",
           "arrowhead": 0,
           "arrowwidth": 1
          },
          "autotypenumbers": "strict",
          "coloraxis": {
           "colorbar": {
            "outlinewidth": 0,
            "ticks": ""
           }
          },
          "colorscale": {
           "diverging": [
            [
             0,
             "#8e0152"
            ],
            [
             0.1,
             "#c51b7d"
            ],
            [
             0.2,
             "#de77ae"
            ],
            [
             0.3,
             "#f1b6da"
            ],
            [
             0.4,
             "#fde0ef"
            ],
            [
             0.5,
             "#f7f7f7"
            ],
            [
             0.6,
             "#e6f5d0"
            ],
            [
             0.7,
             "#b8e186"
            ],
            [
             0.8,
             "#7fbc41"
            ],
            [
             0.9,
             "#4d9221"
            ],
            [
             1,
             "#276419"
            ]
           ],
           "sequential": [
            [
             0,
             "#0d0887"
            ],
            [
             0.1111111111111111,
             "#46039f"
            ],
            [
             0.2222222222222222,
             "#7201a8"
            ],
            [
             0.3333333333333333,
             "#9c179e"
            ],
            [
             0.4444444444444444,
             "#bd3786"
            ],
            [
             0.5555555555555556,
             "#d8576b"
            ],
            [
             0.6666666666666666,
             "#ed7953"
            ],
            [
             0.7777777777777778,
             "#fb9f3a"
            ],
            [
             0.8888888888888888,
             "#fdca26"
            ],
            [
             1,
             "#f0f921"
            ]
           ],
           "sequentialminus": [
            [
             0,
             "#0d0887"
            ],
            [
             0.1111111111111111,
             "#46039f"
            ],
            [
             0.2222222222222222,
             "#7201a8"
            ],
            [
             0.3333333333333333,
             "#9c179e"
            ],
            [
             0.4444444444444444,
             "#bd3786"
            ],
            [
             0.5555555555555556,
             "#d8576b"
            ],
            [
             0.6666666666666666,
             "#ed7953"
            ],
            [
             0.7777777777777778,
             "#fb9f3a"
            ],
            [
             0.8888888888888888,
             "#fdca26"
            ],
            [
             1,
             "#f0f921"
            ]
           ]
          },
          "colorway": [
           "#636efa",
           "#EF553B",
           "#00cc96",
           "#ab63fa",
           "#FFA15A",
           "#19d3f3",
           "#FF6692",
           "#B6E880",
           "#FF97FF",
           "#FECB52"
          ],
          "font": {
           "color": "#2a3f5f"
          },
          "geo": {
           "bgcolor": "white",
           "lakecolor": "white",
           "landcolor": "#E5ECF6",
           "showlakes": true,
           "showland": true,
           "subunitcolor": "white"
          },
          "hoverlabel": {
           "align": "left"
          },
          "hovermode": "closest",
          "mapbox": {
           "style": "light"
          },
          "paper_bgcolor": "white",
          "plot_bgcolor": "#E5ECF6",
          "polar": {
           "angularaxis": {
            "gridcolor": "white",
            "linecolor": "white",
            "ticks": ""
           },
           "bgcolor": "#E5ECF6",
           "radialaxis": {
            "gridcolor": "white",
            "linecolor": "white",
            "ticks": ""
           }
          },
          "scene": {
           "xaxis": {
            "backgroundcolor": "#E5ECF6",
            "gridcolor": "white",
            "gridwidth": 2,
            "linecolor": "white",
            "showbackground": true,
            "ticks": "",
            "zerolinecolor": "white"
           },
           "yaxis": {
            "backgroundcolor": "#E5ECF6",
            "gridcolor": "white",
            "gridwidth": 2,
            "linecolor": "white",
            "showbackground": true,
            "ticks": "",
            "zerolinecolor": "white"
           },
           "zaxis": {
            "backgroundcolor": "#E5ECF6",
            "gridcolor": "white",
            "gridwidth": 2,
            "linecolor": "white",
            "showbackground": true,
            "ticks": "",
            "zerolinecolor": "white"
           }
          },
          "shapedefaults": {
           "line": {
            "color": "#2a3f5f"
           }
          },
          "ternary": {
           "aaxis": {
            "gridcolor": "white",
            "linecolor": "white",
            "ticks": ""
           },
           "baxis": {
            "gridcolor": "white",
            "linecolor": "white",
            "ticks": ""
           },
           "bgcolor": "#E5ECF6",
           "caxis": {
            "gridcolor": "white",
            "linecolor": "white",
            "ticks": ""
           }
          },
          "title": {
           "x": 0.05
          },
          "xaxis": {
           "automargin": true,
           "gridcolor": "white",
           "linecolor": "white",
           "ticks": "",
           "title": {
            "standoff": 15
           },
           "zerolinecolor": "white",
           "zerolinewidth": 2
          },
          "yaxis": {
           "automargin": true,
           "gridcolor": "white",
           "linecolor": "white",
           "ticks": "",
           "title": {
            "standoff": 15
           },
           "zerolinecolor": "white",
           "zerolinewidth": 2
          }
         }
        },
        "title": {
         "font": {
          "color": "#4D5663"
         }
        },
        "xaxis": {
         "gridcolor": "#E1E5ED",
         "showgrid": true,
         "tickfont": {
          "color": "#4D5663"
         },
         "title": {
          "font": {
           "color": "#4D5663"
          },
          "text": ""
         },
         "zerolinecolor": "#E1E5ED"
        },
        "yaxis": {
         "gridcolor": "#E1E5ED",
         "showgrid": true,
         "tickfont": {
          "color": "#4D5663"
         },
         "title": {
          "font": {
           "color": "#4D5663"
          },
          "text": ""
         },
         "zerolinecolor": "#E1E5ED"
        }
       }
      },
      "text/html": [
       "<div>                            <div id=\"227d776b-8930-4c6a-94e8-f199b3aea920\" class=\"plotly-graph-div\" style=\"height:525px; width:100%;\"></div>            <script type=\"text/javascript\">                require([\"plotly\"], function(Plotly) {                    window.PLOTLYENV=window.PLOTLYENV || {};\n",
       "                    window.PLOTLYENV.BASE_URL='https://plot.ly';                                    if (document.getElementById(\"227d776b-8930-4c6a-94e8-f199b3aea920\")) {                    Plotly.newPlot(                        \"227d776b-8930-4c6a-94e8-f199b3aea920\",                        [{\"marker\": {\"color\": \"rgba(255, 153, 51, 0.6)\", \"line\": {\"color\": \"rgba(255, 153, 51, 1.0)\", \"width\": 1}}, \"name\": \"None\", \"orientation\": \"v\", \"text\": \"\", \"type\": \"bar\", \"x\": [\"A\", \"B\", \"C\", \"D\"], \"y\": [100, 100, 100, 100]}],                        {\"legend\": {\"bgcolor\": \"#F5F6F9\", \"font\": {\"color\": \"#4D5663\"}}, \"paper_bgcolor\": \"#F5F6F9\", \"plot_bgcolor\": \"#F5F6F9\", \"template\": {\"data\": {\"bar\": [{\"error_x\": {\"color\": \"#2a3f5f\"}, \"error_y\": {\"color\": \"#2a3f5f\"}, \"marker\": {\"line\": {\"color\": \"#E5ECF6\", \"width\": 0.5}}, \"type\": \"bar\"}], \"barpolar\": [{\"marker\": {\"line\": {\"color\": \"#E5ECF6\", \"width\": 0.5}}, \"type\": \"barpolar\"}], \"carpet\": [{\"aaxis\": {\"endlinecolor\": \"#2a3f5f\", \"gridcolor\": \"white\", \"linecolor\": \"white\", \"minorgridcolor\": \"white\", \"startlinecolor\": \"#2a3f5f\"}, \"baxis\": {\"endlinecolor\": \"#2a3f5f\", \"gridcolor\": \"white\", \"linecolor\": \"white\", \"minorgridcolor\": \"white\", \"startlinecolor\": \"#2a3f5f\"}, \"type\": \"carpet\"}], \"choropleth\": [{\"colorbar\": {\"outlinewidth\": 0, \"ticks\": \"\"}, \"type\": \"choropleth\"}], \"contour\": [{\"colorbar\": {\"outlinewidth\": 0, \"ticks\": \"\"}, \"colorscale\": [[0.0, \"#0d0887\"], [0.1111111111111111, \"#46039f\"], [0.2222222222222222, \"#7201a8\"], [0.3333333333333333, \"#9c179e\"], [0.4444444444444444, \"#bd3786\"], [0.5555555555555556, \"#d8576b\"], [0.6666666666666666, \"#ed7953\"], [0.7777777777777778, \"#fb9f3a\"], [0.8888888888888888, \"#fdca26\"], [1.0, \"#f0f921\"]], \"type\": \"contour\"}], \"contourcarpet\": [{\"colorbar\": {\"outlinewidth\": 0, \"ticks\": \"\"}, \"type\": \"contourcarpet\"}], \"heatmap\": [{\"colorbar\": {\"outlinewidth\": 0, \"ticks\": \"\"}, \"colorscale\": [[0.0, \"#0d0887\"], [0.1111111111111111, \"#46039f\"], [0.2222222222222222, \"#7201a8\"], [0.3333333333333333, \"#9c179e\"], [0.4444444444444444, \"#bd3786\"], [0.5555555555555556, \"#d8576b\"], [0.6666666666666666, \"#ed7953\"], [0.7777777777777778, \"#fb9f3a\"], [0.8888888888888888, \"#fdca26\"], [1.0, \"#f0f921\"]], \"type\": \"heatmap\"}], \"heatmapgl\": [{\"colorbar\": {\"outlinewidth\": 0, \"ticks\": \"\"}, \"colorscale\": [[0.0, \"#0d0887\"], [0.1111111111111111, \"#46039f\"], [0.2222222222222222, \"#7201a8\"], [0.3333333333333333, \"#9c179e\"], [0.4444444444444444, \"#bd3786\"], [0.5555555555555556, \"#d8576b\"], [0.6666666666666666, \"#ed7953\"], [0.7777777777777778, \"#fb9f3a\"], [0.8888888888888888, \"#fdca26\"], [1.0, \"#f0f921\"]], \"type\": \"heatmapgl\"}], \"histogram\": [{\"marker\": {\"colorbar\": {\"outlinewidth\": 0, \"ticks\": \"\"}}, \"type\": \"histogram\"}], \"histogram2d\": [{\"colorbar\": {\"outlinewidth\": 0, \"ticks\": \"\"}, \"colorscale\": [[0.0, \"#0d0887\"], [0.1111111111111111, \"#46039f\"], [0.2222222222222222, \"#7201a8\"], [0.3333333333333333, \"#9c179e\"], [0.4444444444444444, \"#bd3786\"], [0.5555555555555556, \"#d8576b\"], [0.6666666666666666, \"#ed7953\"], [0.7777777777777778, \"#fb9f3a\"], [0.8888888888888888, \"#fdca26\"], [1.0, \"#f0f921\"]], \"type\": \"histogram2d\"}], \"histogram2dcontour\": [{\"colorbar\": {\"outlinewidth\": 0, \"ticks\": \"\"}, \"colorscale\": [[0.0, \"#0d0887\"], [0.1111111111111111, \"#46039f\"], [0.2222222222222222, \"#7201a8\"], [0.3333333333333333, \"#9c179e\"], [0.4444444444444444, \"#bd3786\"], [0.5555555555555556, \"#d8576b\"], [0.6666666666666666, \"#ed7953\"], [0.7777777777777778, \"#fb9f3a\"], [0.8888888888888888, \"#fdca26\"], [1.0, \"#f0f921\"]], \"type\": \"histogram2dcontour\"}], \"mesh3d\": [{\"colorbar\": {\"outlinewidth\": 0, \"ticks\": \"\"}, \"type\": \"mesh3d\"}], \"parcoords\": [{\"line\": {\"colorbar\": {\"outlinewidth\": 0, \"ticks\": \"\"}}, \"type\": \"parcoords\"}], \"pie\": [{\"automargin\": true, \"type\": \"pie\"}], \"scatter\": [{\"marker\": {\"colorbar\": {\"outlinewidth\": 0, \"ticks\": \"\"}}, \"type\": \"scatter\"}], \"scatter3d\": [{\"line\": {\"colorbar\": {\"outlinewidth\": 0, \"ticks\": \"\"}}, \"marker\": {\"colorbar\": {\"outlinewidth\": 0, \"ticks\": \"\"}}, \"type\": \"scatter3d\"}], \"scattercarpet\": [{\"marker\": {\"colorbar\": {\"outlinewidth\": 0, \"ticks\": \"\"}}, \"type\": \"scattercarpet\"}], \"scattergeo\": [{\"marker\": {\"colorbar\": {\"outlinewidth\": 0, \"ticks\": \"\"}}, \"type\": \"scattergeo\"}], \"scattergl\": [{\"marker\": {\"colorbar\": {\"outlinewidth\": 0, \"ticks\": \"\"}}, \"type\": \"scattergl\"}], \"scattermapbox\": [{\"marker\": {\"colorbar\": {\"outlinewidth\": 0, \"ticks\": \"\"}}, \"type\": \"scattermapbox\"}], \"scatterpolar\": [{\"marker\": {\"colorbar\": {\"outlinewidth\": 0, \"ticks\": \"\"}}, \"type\": \"scatterpolar\"}], \"scatterpolargl\": [{\"marker\": {\"colorbar\": {\"outlinewidth\": 0, \"ticks\": \"\"}}, \"type\": \"scatterpolargl\"}], \"scatterternary\": [{\"marker\": {\"colorbar\": {\"outlinewidth\": 0, \"ticks\": \"\"}}, \"type\": \"scatterternary\"}], \"surface\": [{\"colorbar\": {\"outlinewidth\": 0, \"ticks\": \"\"}, \"colorscale\": [[0.0, \"#0d0887\"], [0.1111111111111111, \"#46039f\"], [0.2222222222222222, \"#7201a8\"], [0.3333333333333333, \"#9c179e\"], [0.4444444444444444, \"#bd3786\"], [0.5555555555555556, \"#d8576b\"], [0.6666666666666666, \"#ed7953\"], [0.7777777777777778, \"#fb9f3a\"], [0.8888888888888888, \"#fdca26\"], [1.0, \"#f0f921\"]], \"type\": \"surface\"}], \"table\": [{\"cells\": {\"fill\": {\"color\": \"#EBF0F8\"}, \"line\": {\"color\": \"white\"}}, \"header\": {\"fill\": {\"color\": \"#C8D4E3\"}, \"line\": {\"color\": \"white\"}}, \"type\": \"table\"}]}, \"layout\": {\"annotationdefaults\": {\"arrowcolor\": \"#2a3f5f\", \"arrowhead\": 0, \"arrowwidth\": 1}, \"autotypenumbers\": \"strict\", \"coloraxis\": {\"colorbar\": {\"outlinewidth\": 0, \"ticks\": \"\"}}, \"colorscale\": {\"diverging\": [[0, \"#8e0152\"], [0.1, \"#c51b7d\"], [0.2, \"#de77ae\"], [0.3, \"#f1b6da\"], [0.4, \"#fde0ef\"], [0.5, \"#f7f7f7\"], [0.6, \"#e6f5d0\"], [0.7, \"#b8e186\"], [0.8, \"#7fbc41\"], [0.9, \"#4d9221\"], [1, \"#276419\"]], \"sequential\": [[0.0, \"#0d0887\"], [0.1111111111111111, \"#46039f\"], [0.2222222222222222, \"#7201a8\"], [0.3333333333333333, \"#9c179e\"], [0.4444444444444444, \"#bd3786\"], [0.5555555555555556, \"#d8576b\"], [0.6666666666666666, \"#ed7953\"], [0.7777777777777778, \"#fb9f3a\"], [0.8888888888888888, \"#fdca26\"], [1.0, \"#f0f921\"]], \"sequentialminus\": [[0.0, \"#0d0887\"], [0.1111111111111111, \"#46039f\"], [0.2222222222222222, \"#7201a8\"], [0.3333333333333333, \"#9c179e\"], [0.4444444444444444, \"#bd3786\"], [0.5555555555555556, \"#d8576b\"], [0.6666666666666666, \"#ed7953\"], [0.7777777777777778, \"#fb9f3a\"], [0.8888888888888888, \"#fdca26\"], [1.0, \"#f0f921\"]]}, \"colorway\": [\"#636efa\", \"#EF553B\", \"#00cc96\", \"#ab63fa\", \"#FFA15A\", \"#19d3f3\", \"#FF6692\", \"#B6E880\", \"#FF97FF\", \"#FECB52\"], \"font\": {\"color\": \"#2a3f5f\"}, \"geo\": {\"bgcolor\": \"white\", \"lakecolor\": \"white\", \"landcolor\": \"#E5ECF6\", \"showlakes\": true, \"showland\": true, \"subunitcolor\": \"white\"}, \"hoverlabel\": {\"align\": \"left\"}, \"hovermode\": \"closest\", \"mapbox\": {\"style\": \"light\"}, \"paper_bgcolor\": \"white\", \"plot_bgcolor\": \"#E5ECF6\", \"polar\": {\"angularaxis\": {\"gridcolor\": \"white\", \"linecolor\": \"white\", \"ticks\": \"\"}, \"bgcolor\": \"#E5ECF6\", \"radialaxis\": {\"gridcolor\": \"white\", \"linecolor\": \"white\", \"ticks\": \"\"}}, \"scene\": {\"xaxis\": {\"backgroundcolor\": \"#E5ECF6\", \"gridcolor\": \"white\", \"gridwidth\": 2, \"linecolor\": \"white\", \"showbackground\": true, \"ticks\": \"\", \"zerolinecolor\": \"white\"}, \"yaxis\": {\"backgroundcolor\": \"#E5ECF6\", \"gridcolor\": \"white\", \"gridwidth\": 2, \"linecolor\": \"white\", \"showbackground\": true, \"ticks\": \"\", \"zerolinecolor\": \"white\"}, \"zaxis\": {\"backgroundcolor\": \"#E5ECF6\", \"gridcolor\": \"white\", \"gridwidth\": 2, \"linecolor\": \"white\", \"showbackground\": true, \"ticks\": \"\", \"zerolinecolor\": \"white\"}}, \"shapedefaults\": {\"line\": {\"color\": \"#2a3f5f\"}}, \"ternary\": {\"aaxis\": {\"gridcolor\": \"white\", \"linecolor\": \"white\", \"ticks\": \"\"}, \"baxis\": {\"gridcolor\": \"white\", \"linecolor\": \"white\", \"ticks\": \"\"}, \"bgcolor\": \"#E5ECF6\", \"caxis\": {\"gridcolor\": \"white\", \"linecolor\": \"white\", \"ticks\": \"\"}}, \"title\": {\"x\": 0.05}, \"xaxis\": {\"automargin\": true, \"gridcolor\": \"white\", \"linecolor\": \"white\", \"ticks\": \"\", \"title\": {\"standoff\": 15}, \"zerolinecolor\": \"white\", \"zerolinewidth\": 2}, \"yaxis\": {\"automargin\": true, \"gridcolor\": \"white\", \"linecolor\": \"white\", \"ticks\": \"\", \"title\": {\"standoff\": 15}, \"zerolinecolor\": \"white\", \"zerolinewidth\": 2}}}, \"title\": {\"font\": {\"color\": \"#4D5663\"}}, \"xaxis\": {\"gridcolor\": \"#E1E5ED\", \"showgrid\": true, \"tickfont\": {\"color\": \"#4D5663\"}, \"title\": {\"font\": {\"color\": \"#4D5663\"}, \"text\": \"\"}, \"zerolinecolor\": \"#E1E5ED\"}, \"yaxis\": {\"gridcolor\": \"#E1E5ED\", \"showgrid\": true, \"tickfont\": {\"color\": \"#4D5663\"}, \"title\": {\"font\": {\"color\": \"#4D5663\"}, \"text\": \"\"}, \"zerolinecolor\": \"#E1E5ED\"}},                        {\"showLink\": true, \"linkText\": \"Export to plot.ly\", \"plotlyServerURL\": \"https://plot.ly\", \"responsive\": true}                    ).then(function(){\n",
       "                            \n",
       "var gd = document.getElementById('227d776b-8930-4c6a-94e8-f199b3aea920');\n",
       "var x = new MutationObserver(function (mutations, observer) {{\n",
       "        var display = window.getComputedStyle(gd).display;\n",
       "        if (!display || display === 'none') {{\n",
       "            console.log([gd, 'removed!']);\n",
       "            Plotly.purge(gd);\n",
       "            observer.disconnect();\n",
       "        }}\n",
       "}});\n",
       "\n",
       "// Listen for the removal of the full notebook cells\n",
       "var notebookContainer = gd.closest('#notebook-container');\n",
       "if (notebookContainer) {{\n",
       "    x.observe(notebookContainer, {childList: true});\n",
       "}}\n",
       "\n",
       "// Listen for the clearing of the current output cell\n",
       "var outputEl = gd.closest('.output');\n",
       "if (outputEl) {{\n",
       "    x.observe(outputEl, {childList: true});\n",
       "}}\n",
       "\n",
       "                        })                };                });            </script>        </div>"
      ]
     },
     "metadata": {},
     "output_type": "display_data"
    }
   ],
   "source": [
    "df.count().iplot(kind='bar')"
   ]
  },
  {
   "cell_type": "code",
   "execution_count": 23,
   "metadata": {},
   "outputs": [
    {
     "data": {
      "application/vnd.plotly.v1+json": {
       "config": {
        "linkText": "Export to plot.ly",
        "plotlyServerURL": "https://plot.ly",
        "showLink": true
       },
       "data": [
        {
         "marker": {
          "color": "rgba(255, 153, 51, 0.6)",
          "line": {
           "color": "rgba(255, 153, 51, 1.0)",
           "width": 1
          }
         },
         "name": "None",
         "orientation": "v",
         "text": "",
         "type": "bar",
         "x": [
          "A",
          "B",
          "C",
          "D"
         ],
         "y": [
          1.2657397069093332,
          6.409319397841011,
          -13.438967809242584,
          13.140642037249062
         ]
        }
       ],
       "layout": {
        "legend": {
         "bgcolor": "#F5F6F9",
         "font": {
          "color": "#4D5663"
         }
        },
        "paper_bgcolor": "#F5F6F9",
        "plot_bgcolor": "#F5F6F9",
        "template": {
         "data": {
          "bar": [
           {
            "error_x": {
             "color": "#2a3f5f"
            },
            "error_y": {
             "color": "#2a3f5f"
            },
            "marker": {
             "line": {
              "color": "#E5ECF6",
              "width": 0.5
             }
            },
            "type": "bar"
           }
          ],
          "barpolar": [
           {
            "marker": {
             "line": {
              "color": "#E5ECF6",
              "width": 0.5
             }
            },
            "type": "barpolar"
           }
          ],
          "carpet": [
           {
            "aaxis": {
             "endlinecolor": "#2a3f5f",
             "gridcolor": "white",
             "linecolor": "white",
             "minorgridcolor": "white",
             "startlinecolor": "#2a3f5f"
            },
            "baxis": {
             "endlinecolor": "#2a3f5f",
             "gridcolor": "white",
             "linecolor": "white",
             "minorgridcolor": "white",
             "startlinecolor": "#2a3f5f"
            },
            "type": "carpet"
           }
          ],
          "choropleth": [
           {
            "colorbar": {
             "outlinewidth": 0,
             "ticks": ""
            },
            "type": "choropleth"
           }
          ],
          "contour": [
           {
            "colorbar": {
             "outlinewidth": 0,
             "ticks": ""
            },
            "colorscale": [
             [
              0,
              "#0d0887"
             ],
             [
              0.1111111111111111,
              "#46039f"
             ],
             [
              0.2222222222222222,
              "#7201a8"
             ],
             [
              0.3333333333333333,
              "#9c179e"
             ],
             [
              0.4444444444444444,
              "#bd3786"
             ],
             [
              0.5555555555555556,
              "#d8576b"
             ],
             [
              0.6666666666666666,
              "#ed7953"
             ],
             [
              0.7777777777777778,
              "#fb9f3a"
             ],
             [
              0.8888888888888888,
              "#fdca26"
             ],
             [
              1,
              "#f0f921"
             ]
            ],
            "type": "contour"
           }
          ],
          "contourcarpet": [
           {
            "colorbar": {
             "outlinewidth": 0,
             "ticks": ""
            },
            "type": "contourcarpet"
           }
          ],
          "heatmap": [
           {
            "colorbar": {
             "outlinewidth": 0,
             "ticks": ""
            },
            "colorscale": [
             [
              0,
              "#0d0887"
             ],
             [
              0.1111111111111111,
              "#46039f"
             ],
             [
              0.2222222222222222,
              "#7201a8"
             ],
             [
              0.3333333333333333,
              "#9c179e"
             ],
             [
              0.4444444444444444,
              "#bd3786"
             ],
             [
              0.5555555555555556,
              "#d8576b"
             ],
             [
              0.6666666666666666,
              "#ed7953"
             ],
             [
              0.7777777777777778,
              "#fb9f3a"
             ],
             [
              0.8888888888888888,
              "#fdca26"
             ],
             [
              1,
              "#f0f921"
             ]
            ],
            "type": "heatmap"
           }
          ],
          "heatmapgl": [
           {
            "colorbar": {
             "outlinewidth": 0,
             "ticks": ""
            },
            "colorscale": [
             [
              0,
              "#0d0887"
             ],
             [
              0.1111111111111111,
              "#46039f"
             ],
             [
              0.2222222222222222,
              "#7201a8"
             ],
             [
              0.3333333333333333,
              "#9c179e"
             ],
             [
              0.4444444444444444,
              "#bd3786"
             ],
             [
              0.5555555555555556,
              "#d8576b"
             ],
             [
              0.6666666666666666,
              "#ed7953"
             ],
             [
              0.7777777777777778,
              "#fb9f3a"
             ],
             [
              0.8888888888888888,
              "#fdca26"
             ],
             [
              1,
              "#f0f921"
             ]
            ],
            "type": "heatmapgl"
           }
          ],
          "histogram": [
           {
            "marker": {
             "colorbar": {
              "outlinewidth": 0,
              "ticks": ""
             }
            },
            "type": "histogram"
           }
          ],
          "histogram2d": [
           {
            "colorbar": {
             "outlinewidth": 0,
             "ticks": ""
            },
            "colorscale": [
             [
              0,
              "#0d0887"
             ],
             [
              0.1111111111111111,
              "#46039f"
             ],
             [
              0.2222222222222222,
              "#7201a8"
             ],
             [
              0.3333333333333333,
              "#9c179e"
             ],
             [
              0.4444444444444444,
              "#bd3786"
             ],
             [
              0.5555555555555556,
              "#d8576b"
             ],
             [
              0.6666666666666666,
              "#ed7953"
             ],
             [
              0.7777777777777778,
              "#fb9f3a"
             ],
             [
              0.8888888888888888,
              "#fdca26"
             ],
             [
              1,
              "#f0f921"
             ]
            ],
            "type": "histogram2d"
           }
          ],
          "histogram2dcontour": [
           {
            "colorbar": {
             "outlinewidth": 0,
             "ticks": ""
            },
            "colorscale": [
             [
              0,
              "#0d0887"
             ],
             [
              0.1111111111111111,
              "#46039f"
             ],
             [
              0.2222222222222222,
              "#7201a8"
             ],
             [
              0.3333333333333333,
              "#9c179e"
             ],
             [
              0.4444444444444444,
              "#bd3786"
             ],
             [
              0.5555555555555556,
              "#d8576b"
             ],
             [
              0.6666666666666666,
              "#ed7953"
             ],
             [
              0.7777777777777778,
              "#fb9f3a"
             ],
             [
              0.8888888888888888,
              "#fdca26"
             ],
             [
              1,
              "#f0f921"
             ]
            ],
            "type": "histogram2dcontour"
           }
          ],
          "mesh3d": [
           {
            "colorbar": {
             "outlinewidth": 0,
             "ticks": ""
            },
            "type": "mesh3d"
           }
          ],
          "parcoords": [
           {
            "line": {
             "colorbar": {
              "outlinewidth": 0,
              "ticks": ""
             }
            },
            "type": "parcoords"
           }
          ],
          "pie": [
           {
            "automargin": true,
            "type": "pie"
           }
          ],
          "scatter": [
           {
            "marker": {
             "colorbar": {
              "outlinewidth": 0,
              "ticks": ""
             }
            },
            "type": "scatter"
           }
          ],
          "scatter3d": [
           {
            "line": {
             "colorbar": {
              "outlinewidth": 0,
              "ticks": ""
             }
            },
            "marker": {
             "colorbar": {
              "outlinewidth": 0,
              "ticks": ""
             }
            },
            "type": "scatter3d"
           }
          ],
          "scattercarpet": [
           {
            "marker": {
             "colorbar": {
              "outlinewidth": 0,
              "ticks": ""
             }
            },
            "type": "scattercarpet"
           }
          ],
          "scattergeo": [
           {
            "marker": {
             "colorbar": {
              "outlinewidth": 0,
              "ticks": ""
             }
            },
            "type": "scattergeo"
           }
          ],
          "scattergl": [
           {
            "marker": {
             "colorbar": {
              "outlinewidth": 0,
              "ticks": ""
             }
            },
            "type": "scattergl"
           }
          ],
          "scattermapbox": [
           {
            "marker": {
             "colorbar": {
              "outlinewidth": 0,
              "ticks": ""
             }
            },
            "type": "scattermapbox"
           }
          ],
          "scatterpolar": [
           {
            "marker": {
             "colorbar": {
              "outlinewidth": 0,
              "ticks": ""
             }
            },
            "type": "scatterpolar"
           }
          ],
          "scatterpolargl": [
           {
            "marker": {
             "colorbar": {
              "outlinewidth": 0,
              "ticks": ""
             }
            },
            "type": "scatterpolargl"
           }
          ],
          "scatterternary": [
           {
            "marker": {
             "colorbar": {
              "outlinewidth": 0,
              "ticks": ""
             }
            },
            "type": "scatterternary"
           }
          ],
          "surface": [
           {
            "colorbar": {
             "outlinewidth": 0,
             "ticks": ""
            },
            "colorscale": [
             [
              0,
              "#0d0887"
             ],
             [
              0.1111111111111111,
              "#46039f"
             ],
             [
              0.2222222222222222,
              "#7201a8"
             ],
             [
              0.3333333333333333,
              "#9c179e"
             ],
             [
              0.4444444444444444,
              "#bd3786"
             ],
             [
              0.5555555555555556,
              "#d8576b"
             ],
             [
              0.6666666666666666,
              "#ed7953"
             ],
             [
              0.7777777777777778,
              "#fb9f3a"
             ],
             [
              0.8888888888888888,
              "#fdca26"
             ],
             [
              1,
              "#f0f921"
             ]
            ],
            "type": "surface"
           }
          ],
          "table": [
           {
            "cells": {
             "fill": {
              "color": "#EBF0F8"
             },
             "line": {
              "color": "white"
             }
            },
            "header": {
             "fill": {
              "color": "#C8D4E3"
             },
             "line": {
              "color": "white"
             }
            },
            "type": "table"
           }
          ]
         },
         "layout": {
          "annotationdefaults": {
           "arrowcolor": "#2a3f5f",
           "arrowhead": 0,
           "arrowwidth": 1
          },
          "autotypenumbers": "strict",
          "coloraxis": {
           "colorbar": {
            "outlinewidth": 0,
            "ticks": ""
           }
          },
          "colorscale": {
           "diverging": [
            [
             0,
             "#8e0152"
            ],
            [
             0.1,
             "#c51b7d"
            ],
            [
             0.2,
             "#de77ae"
            ],
            [
             0.3,
             "#f1b6da"
            ],
            [
             0.4,
             "#fde0ef"
            ],
            [
             0.5,
             "#f7f7f7"
            ],
            [
             0.6,
             "#e6f5d0"
            ],
            [
             0.7,
             "#b8e186"
            ],
            [
             0.8,
             "#7fbc41"
            ],
            [
             0.9,
             "#4d9221"
            ],
            [
             1,
             "#276419"
            ]
           ],
           "sequential": [
            [
             0,
             "#0d0887"
            ],
            [
             0.1111111111111111,
             "#46039f"
            ],
            [
             0.2222222222222222,
             "#7201a8"
            ],
            [
             0.3333333333333333,
             "#9c179e"
            ],
            [
             0.4444444444444444,
             "#bd3786"
            ],
            [
             0.5555555555555556,
             "#d8576b"
            ],
            [
             0.6666666666666666,
             "#ed7953"
            ],
            [
             0.7777777777777778,
             "#fb9f3a"
            ],
            [
             0.8888888888888888,
             "#fdca26"
            ],
            [
             1,
             "#f0f921"
            ]
           ],
           "sequentialminus": [
            [
             0,
             "#0d0887"
            ],
            [
             0.1111111111111111,
             "#46039f"
            ],
            [
             0.2222222222222222,
             "#7201a8"
            ],
            [
             0.3333333333333333,
             "#9c179e"
            ],
            [
             0.4444444444444444,
             "#bd3786"
            ],
            [
             0.5555555555555556,
             "#d8576b"
            ],
            [
             0.6666666666666666,
             "#ed7953"
            ],
            [
             0.7777777777777778,
             "#fb9f3a"
            ],
            [
             0.8888888888888888,
             "#fdca26"
            ],
            [
             1,
             "#f0f921"
            ]
           ]
          },
          "colorway": [
           "#636efa",
           "#EF553B",
           "#00cc96",
           "#ab63fa",
           "#FFA15A",
           "#19d3f3",
           "#FF6692",
           "#B6E880",
           "#FF97FF",
           "#FECB52"
          ],
          "font": {
           "color": "#2a3f5f"
          },
          "geo": {
           "bgcolor": "white",
           "lakecolor": "white",
           "landcolor": "#E5ECF6",
           "showlakes": true,
           "showland": true,
           "subunitcolor": "white"
          },
          "hoverlabel": {
           "align": "left"
          },
          "hovermode": "closest",
          "mapbox": {
           "style": "light"
          },
          "paper_bgcolor": "white",
          "plot_bgcolor": "#E5ECF6",
          "polar": {
           "angularaxis": {
            "gridcolor": "white",
            "linecolor": "white",
            "ticks": ""
           },
           "bgcolor": "#E5ECF6",
           "radialaxis": {
            "gridcolor": "white",
            "linecolor": "white",
            "ticks": ""
           }
          },
          "scene": {
           "xaxis": {
            "backgroundcolor": "#E5ECF6",
            "gridcolor": "white",
            "gridwidth": 2,
            "linecolor": "white",
            "showbackground": true,
            "ticks": "",
            "zerolinecolor": "white"
           },
           "yaxis": {
            "backgroundcolor": "#E5ECF6",
            "gridcolor": "white",
            "gridwidth": 2,
            "linecolor": "white",
            "showbackground": true,
            "ticks": "",
            "zerolinecolor": "white"
           },
           "zaxis": {
            "backgroundcolor": "#E5ECF6",
            "gridcolor": "white",
            "gridwidth": 2,
            "linecolor": "white",
            "showbackground": true,
            "ticks": "",
            "zerolinecolor": "white"
           }
          },
          "shapedefaults": {
           "line": {
            "color": "#2a3f5f"
           }
          },
          "ternary": {
           "aaxis": {
            "gridcolor": "white",
            "linecolor": "white",
            "ticks": ""
           },
           "baxis": {
            "gridcolor": "white",
            "linecolor": "white",
            "ticks": ""
           },
           "bgcolor": "#E5ECF6",
           "caxis": {
            "gridcolor": "white",
            "linecolor": "white",
            "ticks": ""
           }
          },
          "title": {
           "x": 0.05
          },
          "xaxis": {
           "automargin": true,
           "gridcolor": "white",
           "linecolor": "white",
           "ticks": "",
           "title": {
            "standoff": 15
           },
           "zerolinecolor": "white",
           "zerolinewidth": 2
          },
          "yaxis": {
           "automargin": true,
           "gridcolor": "white",
           "linecolor": "white",
           "ticks": "",
           "title": {
            "standoff": 15
           },
           "zerolinecolor": "white",
           "zerolinewidth": 2
          }
         }
        },
        "title": {
         "font": {
          "color": "#4D5663"
         }
        },
        "xaxis": {
         "gridcolor": "#E1E5ED",
         "showgrid": true,
         "tickfont": {
          "color": "#4D5663"
         },
         "title": {
          "font": {
           "color": "#4D5663"
          },
          "text": ""
         },
         "zerolinecolor": "#E1E5ED"
        },
        "yaxis": {
         "gridcolor": "#E1E5ED",
         "showgrid": true,
         "tickfont": {
          "color": "#4D5663"
         },
         "title": {
          "font": {
           "color": "#4D5663"
          },
          "text": ""
         },
         "zerolinecolor": "#E1E5ED"
        }
       }
      },
      "text/html": [
       "<div>                            <div id=\"0f65f235-4428-4b10-9783-fbad93076b5a\" class=\"plotly-graph-div\" style=\"height:525px; width:100%;\"></div>            <script type=\"text/javascript\">                require([\"plotly\"], function(Plotly) {                    window.PLOTLYENV=window.PLOTLYENV || {};\n",
       "                    window.PLOTLYENV.BASE_URL='https://plot.ly';                                    if (document.getElementById(\"0f65f235-4428-4b10-9783-fbad93076b5a\")) {                    Plotly.newPlot(                        \"0f65f235-4428-4b10-9783-fbad93076b5a\",                        [{\"marker\": {\"color\": \"rgba(255, 153, 51, 0.6)\", \"line\": {\"color\": \"rgba(255, 153, 51, 1.0)\", \"width\": 1}}, \"name\": \"None\", \"orientation\": \"v\", \"text\": \"\", \"type\": \"bar\", \"x\": [\"A\", \"B\", \"C\", \"D\"], \"y\": [1.2657397069093332, 6.409319397841011, -13.438967809242584, 13.140642037249062]}],                        {\"legend\": {\"bgcolor\": \"#F5F6F9\", \"font\": {\"color\": \"#4D5663\"}}, \"paper_bgcolor\": \"#F5F6F9\", \"plot_bgcolor\": \"#F5F6F9\", \"template\": {\"data\": {\"bar\": [{\"error_x\": {\"color\": \"#2a3f5f\"}, \"error_y\": {\"color\": \"#2a3f5f\"}, \"marker\": {\"line\": {\"color\": \"#E5ECF6\", \"width\": 0.5}}, \"type\": \"bar\"}], \"barpolar\": [{\"marker\": {\"line\": {\"color\": \"#E5ECF6\", \"width\": 0.5}}, \"type\": \"barpolar\"}], \"carpet\": [{\"aaxis\": {\"endlinecolor\": \"#2a3f5f\", \"gridcolor\": \"white\", \"linecolor\": \"white\", \"minorgridcolor\": \"white\", \"startlinecolor\": \"#2a3f5f\"}, \"baxis\": {\"endlinecolor\": \"#2a3f5f\", \"gridcolor\": \"white\", \"linecolor\": \"white\", \"minorgridcolor\": \"white\", \"startlinecolor\": \"#2a3f5f\"}, \"type\": \"carpet\"}], \"choropleth\": [{\"colorbar\": {\"outlinewidth\": 0, \"ticks\": \"\"}, \"type\": \"choropleth\"}], \"contour\": [{\"colorbar\": {\"outlinewidth\": 0, \"ticks\": \"\"}, \"colorscale\": [[0.0, \"#0d0887\"], [0.1111111111111111, \"#46039f\"], [0.2222222222222222, \"#7201a8\"], [0.3333333333333333, \"#9c179e\"], [0.4444444444444444, \"#bd3786\"], [0.5555555555555556, \"#d8576b\"], [0.6666666666666666, \"#ed7953\"], [0.7777777777777778, \"#fb9f3a\"], [0.8888888888888888, \"#fdca26\"], [1.0, \"#f0f921\"]], \"type\": \"contour\"}], \"contourcarpet\": [{\"colorbar\": {\"outlinewidth\": 0, \"ticks\": \"\"}, \"type\": \"contourcarpet\"}], \"heatmap\": [{\"colorbar\": {\"outlinewidth\": 0, \"ticks\": \"\"}, \"colorscale\": [[0.0, \"#0d0887\"], [0.1111111111111111, \"#46039f\"], [0.2222222222222222, \"#7201a8\"], [0.3333333333333333, \"#9c179e\"], [0.4444444444444444, \"#bd3786\"], [0.5555555555555556, \"#d8576b\"], [0.6666666666666666, \"#ed7953\"], [0.7777777777777778, \"#fb9f3a\"], [0.8888888888888888, \"#fdca26\"], [1.0, \"#f0f921\"]], \"type\": \"heatmap\"}], \"heatmapgl\": [{\"colorbar\": {\"outlinewidth\": 0, \"ticks\": \"\"}, \"colorscale\": [[0.0, \"#0d0887\"], [0.1111111111111111, \"#46039f\"], [0.2222222222222222, \"#7201a8\"], [0.3333333333333333, \"#9c179e\"], [0.4444444444444444, \"#bd3786\"], [0.5555555555555556, \"#d8576b\"], [0.6666666666666666, \"#ed7953\"], [0.7777777777777778, \"#fb9f3a\"], [0.8888888888888888, \"#fdca26\"], [1.0, \"#f0f921\"]], \"type\": \"heatmapgl\"}], \"histogram\": [{\"marker\": {\"colorbar\": {\"outlinewidth\": 0, \"ticks\": \"\"}}, \"type\": \"histogram\"}], \"histogram2d\": [{\"colorbar\": {\"outlinewidth\": 0, \"ticks\": \"\"}, \"colorscale\": [[0.0, \"#0d0887\"], [0.1111111111111111, \"#46039f\"], [0.2222222222222222, \"#7201a8\"], [0.3333333333333333, \"#9c179e\"], [0.4444444444444444, \"#bd3786\"], [0.5555555555555556, \"#d8576b\"], [0.6666666666666666, \"#ed7953\"], [0.7777777777777778, \"#fb9f3a\"], [0.8888888888888888, \"#fdca26\"], [1.0, \"#f0f921\"]], \"type\": \"histogram2d\"}], \"histogram2dcontour\": [{\"colorbar\": {\"outlinewidth\": 0, \"ticks\": \"\"}, \"colorscale\": [[0.0, \"#0d0887\"], [0.1111111111111111, \"#46039f\"], [0.2222222222222222, \"#7201a8\"], [0.3333333333333333, \"#9c179e\"], [0.4444444444444444, \"#bd3786\"], [0.5555555555555556, \"#d8576b\"], [0.6666666666666666, \"#ed7953\"], [0.7777777777777778, \"#fb9f3a\"], [0.8888888888888888, \"#fdca26\"], [1.0, \"#f0f921\"]], \"type\": \"histogram2dcontour\"}], \"mesh3d\": [{\"colorbar\": {\"outlinewidth\": 0, \"ticks\": \"\"}, \"type\": \"mesh3d\"}], \"parcoords\": [{\"line\": {\"colorbar\": {\"outlinewidth\": 0, \"ticks\": \"\"}}, \"type\": \"parcoords\"}], \"pie\": [{\"automargin\": true, \"type\": \"pie\"}], \"scatter\": [{\"marker\": {\"colorbar\": {\"outlinewidth\": 0, \"ticks\": \"\"}}, \"type\": \"scatter\"}], \"scatter3d\": [{\"line\": {\"colorbar\": {\"outlinewidth\": 0, \"ticks\": \"\"}}, \"marker\": {\"colorbar\": {\"outlinewidth\": 0, \"ticks\": \"\"}}, \"type\": \"scatter3d\"}], \"scattercarpet\": [{\"marker\": {\"colorbar\": {\"outlinewidth\": 0, \"ticks\": \"\"}}, \"type\": \"scattercarpet\"}], \"scattergeo\": [{\"marker\": {\"colorbar\": {\"outlinewidth\": 0, \"ticks\": \"\"}}, \"type\": \"scattergeo\"}], \"scattergl\": [{\"marker\": {\"colorbar\": {\"outlinewidth\": 0, \"ticks\": \"\"}}, \"type\": \"scattergl\"}], \"scattermapbox\": [{\"marker\": {\"colorbar\": {\"outlinewidth\": 0, \"ticks\": \"\"}}, \"type\": \"scattermapbox\"}], \"scatterpolar\": [{\"marker\": {\"colorbar\": {\"outlinewidth\": 0, \"ticks\": \"\"}}, \"type\": \"scatterpolar\"}], \"scatterpolargl\": [{\"marker\": {\"colorbar\": {\"outlinewidth\": 0, \"ticks\": \"\"}}, \"type\": \"scatterpolargl\"}], \"scatterternary\": [{\"marker\": {\"colorbar\": {\"outlinewidth\": 0, \"ticks\": \"\"}}, \"type\": \"scatterternary\"}], \"surface\": [{\"colorbar\": {\"outlinewidth\": 0, \"ticks\": \"\"}, \"colorscale\": [[0.0, \"#0d0887\"], [0.1111111111111111, \"#46039f\"], [0.2222222222222222, \"#7201a8\"], [0.3333333333333333, \"#9c179e\"], [0.4444444444444444, \"#bd3786\"], [0.5555555555555556, \"#d8576b\"], [0.6666666666666666, \"#ed7953\"], [0.7777777777777778, \"#fb9f3a\"], [0.8888888888888888, \"#fdca26\"], [1.0, \"#f0f921\"]], \"type\": \"surface\"}], \"table\": [{\"cells\": {\"fill\": {\"color\": \"#EBF0F8\"}, \"line\": {\"color\": \"white\"}}, \"header\": {\"fill\": {\"color\": \"#C8D4E3\"}, \"line\": {\"color\": \"white\"}}, \"type\": \"table\"}]}, \"layout\": {\"annotationdefaults\": {\"arrowcolor\": \"#2a3f5f\", \"arrowhead\": 0, \"arrowwidth\": 1}, \"autotypenumbers\": \"strict\", \"coloraxis\": {\"colorbar\": {\"outlinewidth\": 0, \"ticks\": \"\"}}, \"colorscale\": {\"diverging\": [[0, \"#8e0152\"], [0.1, \"#c51b7d\"], [0.2, \"#de77ae\"], [0.3, \"#f1b6da\"], [0.4, \"#fde0ef\"], [0.5, \"#f7f7f7\"], [0.6, \"#e6f5d0\"], [0.7, \"#b8e186\"], [0.8, \"#7fbc41\"], [0.9, \"#4d9221\"], [1, \"#276419\"]], \"sequential\": [[0.0, \"#0d0887\"], [0.1111111111111111, \"#46039f\"], [0.2222222222222222, \"#7201a8\"], [0.3333333333333333, \"#9c179e\"], [0.4444444444444444, \"#bd3786\"], [0.5555555555555556, \"#d8576b\"], [0.6666666666666666, \"#ed7953\"], [0.7777777777777778, \"#fb9f3a\"], [0.8888888888888888, \"#fdca26\"], [1.0, \"#f0f921\"]], \"sequentialminus\": [[0.0, \"#0d0887\"], [0.1111111111111111, \"#46039f\"], [0.2222222222222222, \"#7201a8\"], [0.3333333333333333, \"#9c179e\"], [0.4444444444444444, \"#bd3786\"], [0.5555555555555556, \"#d8576b\"], [0.6666666666666666, \"#ed7953\"], [0.7777777777777778, \"#fb9f3a\"], [0.8888888888888888, \"#fdca26\"], [1.0, \"#f0f921\"]]}, \"colorway\": [\"#636efa\", \"#EF553B\", \"#00cc96\", \"#ab63fa\", \"#FFA15A\", \"#19d3f3\", \"#FF6692\", \"#B6E880\", \"#FF97FF\", \"#FECB52\"], \"font\": {\"color\": \"#2a3f5f\"}, \"geo\": {\"bgcolor\": \"white\", \"lakecolor\": \"white\", \"landcolor\": \"#E5ECF6\", \"showlakes\": true, \"showland\": true, \"subunitcolor\": \"white\"}, \"hoverlabel\": {\"align\": \"left\"}, \"hovermode\": \"closest\", \"mapbox\": {\"style\": \"light\"}, \"paper_bgcolor\": \"white\", \"plot_bgcolor\": \"#E5ECF6\", \"polar\": {\"angularaxis\": {\"gridcolor\": \"white\", \"linecolor\": \"white\", \"ticks\": \"\"}, \"bgcolor\": \"#E5ECF6\", \"radialaxis\": {\"gridcolor\": \"white\", \"linecolor\": \"white\", \"ticks\": \"\"}}, \"scene\": {\"xaxis\": {\"backgroundcolor\": \"#E5ECF6\", \"gridcolor\": \"white\", \"gridwidth\": 2, \"linecolor\": \"white\", \"showbackground\": true, \"ticks\": \"\", \"zerolinecolor\": \"white\"}, \"yaxis\": {\"backgroundcolor\": \"#E5ECF6\", \"gridcolor\": \"white\", \"gridwidth\": 2, \"linecolor\": \"white\", \"showbackground\": true, \"ticks\": \"\", \"zerolinecolor\": \"white\"}, \"zaxis\": {\"backgroundcolor\": \"#E5ECF6\", \"gridcolor\": \"white\", \"gridwidth\": 2, \"linecolor\": \"white\", \"showbackground\": true, \"ticks\": \"\", \"zerolinecolor\": \"white\"}}, \"shapedefaults\": {\"line\": {\"color\": \"#2a3f5f\"}}, \"ternary\": {\"aaxis\": {\"gridcolor\": \"white\", \"linecolor\": \"white\", \"ticks\": \"\"}, \"baxis\": {\"gridcolor\": \"white\", \"linecolor\": \"white\", \"ticks\": \"\"}, \"bgcolor\": \"#E5ECF6\", \"caxis\": {\"gridcolor\": \"white\", \"linecolor\": \"white\", \"ticks\": \"\"}}, \"title\": {\"x\": 0.05}, \"xaxis\": {\"automargin\": true, \"gridcolor\": \"white\", \"linecolor\": \"white\", \"ticks\": \"\", \"title\": {\"standoff\": 15}, \"zerolinecolor\": \"white\", \"zerolinewidth\": 2}, \"yaxis\": {\"automargin\": true, \"gridcolor\": \"white\", \"linecolor\": \"white\", \"ticks\": \"\", \"title\": {\"standoff\": 15}, \"zerolinecolor\": \"white\", \"zerolinewidth\": 2}}}, \"title\": {\"font\": {\"color\": \"#4D5663\"}}, \"xaxis\": {\"gridcolor\": \"#E1E5ED\", \"showgrid\": true, \"tickfont\": {\"color\": \"#4D5663\"}, \"title\": {\"font\": {\"color\": \"#4D5663\"}, \"text\": \"\"}, \"zerolinecolor\": \"#E1E5ED\"}, \"yaxis\": {\"gridcolor\": \"#E1E5ED\", \"showgrid\": true, \"tickfont\": {\"color\": \"#4D5663\"}, \"title\": {\"font\": {\"color\": \"#4D5663\"}, \"text\": \"\"}, \"zerolinecolor\": \"#E1E5ED\"}},                        {\"showLink\": true, \"linkText\": \"Export to plot.ly\", \"plotlyServerURL\": \"https://plot.ly\", \"responsive\": true}                    ).then(function(){\n",
       "                            \n",
       "var gd = document.getElementById('0f65f235-4428-4b10-9783-fbad93076b5a');\n",
       "var x = new MutationObserver(function (mutations, observer) {{\n",
       "        var display = window.getComputedStyle(gd).display;\n",
       "        if (!display || display === 'none') {{\n",
       "            console.log([gd, 'removed!']);\n",
       "            Plotly.purge(gd);\n",
       "            observer.disconnect();\n",
       "        }}\n",
       "}});\n",
       "\n",
       "// Listen for the removal of the full notebook cells\n",
       "var notebookContainer = gd.closest('#notebook-container');\n",
       "if (notebookContainer) {{\n",
       "    x.observe(notebookContainer, {childList: true});\n",
       "}}\n",
       "\n",
       "// Listen for the clearing of the current output cell\n",
       "var outputEl = gd.closest('.output');\n",
       "if (outputEl) {{\n",
       "    x.observe(outputEl, {childList: true});\n",
       "}}\n",
       "\n",
       "                        })                };                });            </script>        </div>"
      ]
     },
     "metadata": {},
     "output_type": "display_data"
    }
   ],
   "source": [
    "df.sum().iplot(kind='bar')"
   ]
  },
  {
   "cell_type": "markdown",
   "metadata": {},
   "source": [
    "## Boxplots"
   ]
  },
  {
   "cell_type": "code",
   "execution_count": 24,
   "metadata": {},
   "outputs": [
    {
     "data": {
      "application/vnd.plotly.v1+json": {
       "config": {
        "linkText": "Export to plot.ly",
        "plotlyServerURL": "https://plot.ly",
        "showLink": true
       },
       "data": [
        {
         "boxpoints": false,
         "line": {
          "width": 1.3
         },
         "marker": {
          "color": "rgba(255, 153, 51, 1.0)"
         },
         "name": "A",
         "orientation": "v",
         "type": "box",
         "y": [
          -1.3743721584499824,
          0.01000404246298731,
          1.060073616887478,
          0.11441049376808408,
          -0.1254638614812266,
          -0.9070069778849268,
          0.052704947052634725,
          -0.018615509263272198,
          0.3426791424383957,
          0.7156411612038974,
          0.10320678514670655,
          1.5303326705609726,
          -0.21191099006121578,
          -2.020852407942947,
          0.22310319700464062,
          0.5054873846397421,
          0.4026865599915081,
          -1.4536017289362706,
          0.7950717634128648,
          -0.23111559189028452,
          0.7663819343502544,
          -0.6235760258594119,
          -0.39259261868434986,
          0.12216190113995658,
          -1.6096224506550463,
          0.5639253855756436,
          -1.0847543814378535,
          1.0885717287652497,
          -0.591208567689423,
          -1.6938094395037835,
          0.018569790345541275,
          0.8539549753616196,
          0.806290563715313,
          -1.6254073372348345,
          0.9733772798627246,
          1.1342632149777827,
          0.6285286305821992,
          0.8898153149689759,
          0.43696724130491166,
          -0.11330861472454354,
          -0.30502763648952747,
          0.23913144901280264,
          -0.5265302051771779,
          -2.428775933644073,
          1.2029442849361394,
          -2.123707409478142,
          -1.391993761824126,
          -0.6561453328335073,
          -1.0638196040870558,
          -1.034440135369431,
          1.4545524807375916,
          0.9664194515222728,
          1.3514860245657558,
          0.641805705752012,
          0.2250786303196695,
          0.5551821716123263,
          -0.3022131037940552,
          0.1957505960294113,
          -0.09000988974301995,
          0.2030785749813345,
          0.20537268885063817,
          2.007683712209121,
          -1.4843400652481071,
          1.600331889395343,
          -2.658926199502142,
          -0.7475374003049038,
          0.059354593787525535,
          -2.3391273652213593,
          0.14801385832510175,
          0.7316816414068449,
          2.6313286535979996,
          -0.6609371876541106,
          1.1687995210202855,
          1.0322937940761117,
          -0.12266208992005274,
          1.35264415917231,
          -0.6569032104004473,
          -1.325436343882467,
          0.03518178304520304,
          0.9882093647510404,
          0.7716022659319737,
          0.2571496555762069,
          0.9497583254883611,
          0.34755083044952106,
          -0.2608789849073516,
          1.6727247611623286,
          0.9699480590442013,
          -0.5146697755100796,
          0.1877515295630458,
          -0.16382196131899163,
          -0.6291505468485376,
          -0.3276311214951528,
          -1.1219800893721616,
          0.9243005130469527,
          0.34121867776964615,
          -0.1776353990815943,
          0.6764803263134359,
          -1.0912902239348543,
          0.23613255869213673,
          -0.9206029120136027
         ]
        },
        {
         "boxpoints": false,
         "line": {
          "width": 1.3
         },
         "marker": {
          "color": "rgba(55, 128, 191, 1.0)"
         },
         "name": "B",
         "orientation": "v",
         "type": "box",
         "y": [
          -0.41705545013634915,
          -0.48642056858316945,
          -0.026443392359397484,
          0.1978372625783503,
          1.4968152023860652,
          1.2996001460682738,
          -1.9367361458578556,
          -0.7567789330556283,
          -2.054035669273658,
          0.5048997928080652,
          -1.1112808411952075,
          0.5912890910463597,
          0.0955475906516338,
          -0.28622310082696395,
          0.11737426814490341,
          -0.06758176195487915,
          0.3241491954622198,
          -0.5104479126394454,
          0.026529123575938545,
          1.4972763559326852,
          1.8253818450833434,
          -1.2574190220624064,
          0.1257869275628511,
          0.016621627579822357,
          0.979647443174523,
          0.518474140677526,
          -0.41373982543347276,
          0.009111766977325414,
          0.7981851789989233,
          -1.5066373021119543,
          -0.8145019514506392,
          1.2127894892403486,
          1.1666091840168742,
          -0.1826814988975061,
          0.2121435888368178,
          0.5919460396147409,
          0.6706604908690293,
          -0.1538820807314714,
          -0.06481604156077372,
          0.6865617899199997,
          0.5772096001553042,
          0.469910962356171,
          -2.0005706396554475,
          0.7472354988856291,
          -0.6389610051560966,
          -0.38295815856378096,
          -0.09249688990779162,
          1.6673465664575287,
          -0.5169802146802591,
          0.3229158282844716,
          -2.2439072734691266,
          -0.59787255059542,
          2.0190019560628656,
          -0.8827665762111087,
          0.1720370484706035,
          1.1447792901642073,
          -2.021110364925016,
          -0.4431961270162332,
          0.6154890464199887,
          -0.5340413595491634,
          -1.4300515449852669,
          -0.4289970586923092,
          -3.187864606601478,
          -0.5443854916908588,
          1.9027789968231628,
          0.028860644801460108,
          -0.9070719076829377,
          2.2604509548717204,
          -0.4756263042930482,
          -1.0527349279366778,
          1.0989883088287775,
          0.8363471991549375,
          0.9390577333704273,
          -0.6821309372267801,
          -0.040109791076703746,
          -1.0926766026681485,
          0.8810484800262337,
          0.13899121632294173,
          0.18175429939228152,
          0.6641933255515288,
          -0.29364200182227196,
          0.5215667308020342,
          0.511801600346848,
          0.1323902697067605,
          -2.1124151258180466,
          -0.3963021602119647,
          1.1669298215227715,
          0.7144341554925651,
          1.393601613907853,
          0.8542543813843058,
          1.793693509296129,
          1.958951631262988,
          1.9793533489183885,
          0.5393936516728588,
          0.8635557050746643,
          0.19647333456875704,
          -1.3462894052999834,
          -0.036318884695404764,
          -0.5437514526982358,
          -0.8788039924624359
         ]
        },
        {
         "boxpoints": false,
         "line": {
          "width": 1.3
         },
         "marker": {
          "color": "rgba(50, 171, 96, 1.0)"
         },
         "name": "C",
         "orientation": "v",
         "type": "box",
         "y": [
          -0.21276462251127787,
          0.5392444209308489,
          1.201647243870889,
          1.6782766296745564,
          1.1780165541193524,
          0.40167196181061116,
          -0.1591374159699852,
          0.39767413608763563,
          0.8651958256291215,
          1.478487857872841,
          -0.6734933053355409,
          -0.9164503190359672,
          -0.1522431081070318,
          -0.17775723859865142,
          -0.5784508624076548,
          -0.8953430846986111,
          -0.5955412799976927,
          -1.4996597344022469,
          -0.7358247995812351,
          -0.933572443609917,
          -0.008828766883507387,
          -0.8164283705009511,
          1.273678888538661,
          -0.8651312409226529,
          0.35478150022354593,
          0.986399459757734,
          -0.5352650018171781,
          -1.3886598301517936,
          -0.9095518855205877,
          -0.18025157413060977,
          -1.1639538469777637,
          -0.45797392379674257,
          0.6729367441748657,
          -1.8550523081681753,
          -1.2923975140689834,
          0.1464356554680572,
          -0.9334423032882809,
          -0.44248786315560623,
          1.0671262179776113,
          0.33753739416763867,
          0.9128835546431392,
          -0.5900917794231104,
          -0.3737024267929817,
          0.3712684727445248,
          -0.7557372214105362,
          0.843767325377286,
          -2.206479423111974,
          0.4426752009503339,
          -1.418894646378147,
          -1.6105792466568054,
          0.14046905986929045,
          -1.7025655506186397,
          -1.1263018556886557,
          0.04343967291843729,
          -1.2047503941915687,
          -0.09781015949410614,
          -0.24368586131596517,
          0.6958509742327339,
          -1.0704795691259144,
          0.5620221156749131,
          0.9390052445805276,
          -1.3349060314912693,
          0.40321915973170414,
          1.6285358959063552,
          -0.17701723872220992,
          0.8234083102866014,
          0.9957585721559657,
          -0.3763413287556481,
          -1.6265324048745329,
          -0.621938385545258,
          -0.465630623615682,
          1.526182232958349,
          0.3520390029182346,
          2.5651656043033713,
          0.7960377533994962,
          0.32625925238639847,
          -1.1861624824881056,
          0.949283354081687,
          0.08425473048695817,
          -0.7318456749714377,
          -1.0006911553437978,
          0.41625205826679096,
          -1.0046004868315244,
          0.09274029071208498,
          -1.741066554969545,
          -0.1488349120028584,
          0.06298419279152194,
          -1.0202004771437285,
          0.31668257541722206,
          -1.9144300423394567,
          1.8560064604860345,
          -0.6905437344649258,
          -0.020351338723384127,
          -0.7245034758310543,
          1.2620486376354592,
          -0.15544435172249807,
          -0.38249834037408337,
          -0.44288833342145334,
          -0.37916364819204046,
          1.500013795209575
         ]
        },
        {
         "boxpoints": false,
         "line": {
          "width": 1.3
         },
         "marker": {
          "color": "rgba(128, 0, 128, 1.0)"
         },
         "name": "D",
         "orientation": "v",
         "type": "box",
         "y": [
          1.2646382812754842,
          -0.8971743142451027,
          -2.0754884569254672,
          0.24979143146563057,
          0.7113633997792028,
          1.278216640237135,
          -0.49685845418634067,
          1.2344611106270564,
          0.36195754457371004,
          0.6043429263082021,
          1.1059302402322535,
          -0.6515379521018477,
          0.3646331090549264,
          -0.9845536691002664,
          1.4409263079086052,
          0.8816667955217995,
          -0.7853779284986235,
          -0.7978616503508753,
          -1.0828660240395294,
          0.10487744298562451,
          0.19217934901563238,
          -0.44483118359065044,
          0.081992768065037,
          0.717726912938894,
          -0.4840805058901615,
          0.9655267003749074,
          -0.15515680869122653,
          0.18765636261666088,
          1.1626969975525205,
          1.1221860512686315,
          -0.7262998465735776,
          0.5769953510599819,
          -0.34292887593453836,
          -0.7177335259504108,
          0.4645526729614544,
          2.2636115244007744,
          0.6788635025563274,
          -1.3586866410113239,
          1.402105490753138,
          -0.04773722688359785,
          -0.05201898018951273,
          0.2775465835054213,
          -2.5368187629127665,
          0.7489922275026335,
          0.4366105803867375,
          -0.22742515624588822,
          0.8389663215980219,
          0.8119997599104144,
          1.5599969289424327,
          1.1960493070861002,
          0.5532823184545692,
          0.5429127445526751,
          -0.9216892467648115,
          -0.7124766367267783,
          -0.5469063510503084,
          1.2104299366607287,
          0.06529088469119605,
          -0.26731497693372736,
          0.18006682091523982,
          1.5858814002047847,
          0.028250097720445115,
          1.3266255468110029,
          1.3247055522245879,
          0.016966380125314793,
          -0.8959419956364261,
          0.878890833696069,
          -0.01258411681511281,
          -0.0795240148058931,
          0.09205341634269462,
          0.8743683456662174,
          1.2651793568520557,
          -0.01223560757394819,
          -1.1669543697177909,
          -1.0420826567320396,
          2.063838270434295,
          0.0968244764073173,
          -0.14942699098437895,
          -1.3822629131066702,
          0.15884855391204272,
          0.6019636707340277,
          1.2663377202008308,
          -1.6319526838234355,
          -0.08569233667719377,
          -0.19194039719829523,
          0.6089137382785959,
          0.21037399045564947,
          1.1878195115705752,
          0.10049673180139712,
          -0.6091707263338128,
          -1.0208458347127198,
          -0.7948310997841892,
          0.8263015448397337,
          0.6008696554415681,
          -2.853267844849281,
          -0.953772467478873,
          -0.3422257288319156,
          0.5312134043166221,
          0.15022922890648535,
          0.2815641965610305,
          -0.2403819541347331
         ]
        }
       ],
       "layout": {
        "legend": {
         "bgcolor": "#F5F6F9",
         "font": {
          "color": "#4D5663"
         }
        },
        "paper_bgcolor": "#F5F6F9",
        "plot_bgcolor": "#F5F6F9",
        "template": {
         "data": {
          "bar": [
           {
            "error_x": {
             "color": "#2a3f5f"
            },
            "error_y": {
             "color": "#2a3f5f"
            },
            "marker": {
             "line": {
              "color": "#E5ECF6",
              "width": 0.5
             }
            },
            "type": "bar"
           }
          ],
          "barpolar": [
           {
            "marker": {
             "line": {
              "color": "#E5ECF6",
              "width": 0.5
             }
            },
            "type": "barpolar"
           }
          ],
          "carpet": [
           {
            "aaxis": {
             "endlinecolor": "#2a3f5f",
             "gridcolor": "white",
             "linecolor": "white",
             "minorgridcolor": "white",
             "startlinecolor": "#2a3f5f"
            },
            "baxis": {
             "endlinecolor": "#2a3f5f",
             "gridcolor": "white",
             "linecolor": "white",
             "minorgridcolor": "white",
             "startlinecolor": "#2a3f5f"
            },
            "type": "carpet"
           }
          ],
          "choropleth": [
           {
            "colorbar": {
             "outlinewidth": 0,
             "ticks": ""
            },
            "type": "choropleth"
           }
          ],
          "contour": [
           {
            "colorbar": {
             "outlinewidth": 0,
             "ticks": ""
            },
            "colorscale": [
             [
              0,
              "#0d0887"
             ],
             [
              0.1111111111111111,
              "#46039f"
             ],
             [
              0.2222222222222222,
              "#7201a8"
             ],
             [
              0.3333333333333333,
              "#9c179e"
             ],
             [
              0.4444444444444444,
              "#bd3786"
             ],
             [
              0.5555555555555556,
              "#d8576b"
             ],
             [
              0.6666666666666666,
              "#ed7953"
             ],
             [
              0.7777777777777778,
              "#fb9f3a"
             ],
             [
              0.8888888888888888,
              "#fdca26"
             ],
             [
              1,
              "#f0f921"
             ]
            ],
            "type": "contour"
           }
          ],
          "contourcarpet": [
           {
            "colorbar": {
             "outlinewidth": 0,
             "ticks": ""
            },
            "type": "contourcarpet"
           }
          ],
          "heatmap": [
           {
            "colorbar": {
             "outlinewidth": 0,
             "ticks": ""
            },
            "colorscale": [
             [
              0,
              "#0d0887"
             ],
             [
              0.1111111111111111,
              "#46039f"
             ],
             [
              0.2222222222222222,
              "#7201a8"
             ],
             [
              0.3333333333333333,
              "#9c179e"
             ],
             [
              0.4444444444444444,
              "#bd3786"
             ],
             [
              0.5555555555555556,
              "#d8576b"
             ],
             [
              0.6666666666666666,
              "#ed7953"
             ],
             [
              0.7777777777777778,
              "#fb9f3a"
             ],
             [
              0.8888888888888888,
              "#fdca26"
             ],
             [
              1,
              "#f0f921"
             ]
            ],
            "type": "heatmap"
           }
          ],
          "heatmapgl": [
           {
            "colorbar": {
             "outlinewidth": 0,
             "ticks": ""
            },
            "colorscale": [
             [
              0,
              "#0d0887"
             ],
             [
              0.1111111111111111,
              "#46039f"
             ],
             [
              0.2222222222222222,
              "#7201a8"
             ],
             [
              0.3333333333333333,
              "#9c179e"
             ],
             [
              0.4444444444444444,
              "#bd3786"
             ],
             [
              0.5555555555555556,
              "#d8576b"
             ],
             [
              0.6666666666666666,
              "#ed7953"
             ],
             [
              0.7777777777777778,
              "#fb9f3a"
             ],
             [
              0.8888888888888888,
              "#fdca26"
             ],
             [
              1,
              "#f0f921"
             ]
            ],
            "type": "heatmapgl"
           }
          ],
          "histogram": [
           {
            "marker": {
             "colorbar": {
              "outlinewidth": 0,
              "ticks": ""
             }
            },
            "type": "histogram"
           }
          ],
          "histogram2d": [
           {
            "colorbar": {
             "outlinewidth": 0,
             "ticks": ""
            },
            "colorscale": [
             [
              0,
              "#0d0887"
             ],
             [
              0.1111111111111111,
              "#46039f"
             ],
             [
              0.2222222222222222,
              "#7201a8"
             ],
             [
              0.3333333333333333,
              "#9c179e"
             ],
             [
              0.4444444444444444,
              "#bd3786"
             ],
             [
              0.5555555555555556,
              "#d8576b"
             ],
             [
              0.6666666666666666,
              "#ed7953"
             ],
             [
              0.7777777777777778,
              "#fb9f3a"
             ],
             [
              0.8888888888888888,
              "#fdca26"
             ],
             [
              1,
              "#f0f921"
             ]
            ],
            "type": "histogram2d"
           }
          ],
          "histogram2dcontour": [
           {
            "colorbar": {
             "outlinewidth": 0,
             "ticks": ""
            },
            "colorscale": [
             [
              0,
              "#0d0887"
             ],
             [
              0.1111111111111111,
              "#46039f"
             ],
             [
              0.2222222222222222,
              "#7201a8"
             ],
             [
              0.3333333333333333,
              "#9c179e"
             ],
             [
              0.4444444444444444,
              "#bd3786"
             ],
             [
              0.5555555555555556,
              "#d8576b"
             ],
             [
              0.6666666666666666,
              "#ed7953"
             ],
             [
              0.7777777777777778,
              "#fb9f3a"
             ],
             [
              0.8888888888888888,
              "#fdca26"
             ],
             [
              1,
              "#f0f921"
             ]
            ],
            "type": "histogram2dcontour"
           }
          ],
          "mesh3d": [
           {
            "colorbar": {
             "outlinewidth": 0,
             "ticks": ""
            },
            "type": "mesh3d"
           }
          ],
          "parcoords": [
           {
            "line": {
             "colorbar": {
              "outlinewidth": 0,
              "ticks": ""
             }
            },
            "type": "parcoords"
           }
          ],
          "pie": [
           {
            "automargin": true,
            "type": "pie"
           }
          ],
          "scatter": [
           {
            "marker": {
             "colorbar": {
              "outlinewidth": 0,
              "ticks": ""
             }
            },
            "type": "scatter"
           }
          ],
          "scatter3d": [
           {
            "line": {
             "colorbar": {
              "outlinewidth": 0,
              "ticks": ""
             }
            },
            "marker": {
             "colorbar": {
              "outlinewidth": 0,
              "ticks": ""
             }
            },
            "type": "scatter3d"
           }
          ],
          "scattercarpet": [
           {
            "marker": {
             "colorbar": {
              "outlinewidth": 0,
              "ticks": ""
             }
            },
            "type": "scattercarpet"
           }
          ],
          "scattergeo": [
           {
            "marker": {
             "colorbar": {
              "outlinewidth": 0,
              "ticks": ""
             }
            },
            "type": "scattergeo"
           }
          ],
          "scattergl": [
           {
            "marker": {
             "colorbar": {
              "outlinewidth": 0,
              "ticks": ""
             }
            },
            "type": "scattergl"
           }
          ],
          "scattermapbox": [
           {
            "marker": {
             "colorbar": {
              "outlinewidth": 0,
              "ticks": ""
             }
            },
            "type": "scattermapbox"
           }
          ],
          "scatterpolar": [
           {
            "marker": {
             "colorbar": {
              "outlinewidth": 0,
              "ticks": ""
             }
            },
            "type": "scatterpolar"
           }
          ],
          "scatterpolargl": [
           {
            "marker": {
             "colorbar": {
              "outlinewidth": 0,
              "ticks": ""
             }
            },
            "type": "scatterpolargl"
           }
          ],
          "scatterternary": [
           {
            "marker": {
             "colorbar": {
              "outlinewidth": 0,
              "ticks": ""
             }
            },
            "type": "scatterternary"
           }
          ],
          "surface": [
           {
            "colorbar": {
             "outlinewidth": 0,
             "ticks": ""
            },
            "colorscale": [
             [
              0,
              "#0d0887"
             ],
             [
              0.1111111111111111,
              "#46039f"
             ],
             [
              0.2222222222222222,
              "#7201a8"
             ],
             [
              0.3333333333333333,
              "#9c179e"
             ],
             [
              0.4444444444444444,
              "#bd3786"
             ],
             [
              0.5555555555555556,
              "#d8576b"
             ],
             [
              0.6666666666666666,
              "#ed7953"
             ],
             [
              0.7777777777777778,
              "#fb9f3a"
             ],
             [
              0.8888888888888888,
              "#fdca26"
             ],
             [
              1,
              "#f0f921"
             ]
            ],
            "type": "surface"
           }
          ],
          "table": [
           {
            "cells": {
             "fill": {
              "color": "#EBF0F8"
             },
             "line": {
              "color": "white"
             }
            },
            "header": {
             "fill": {
              "color": "#C8D4E3"
             },
             "line": {
              "color": "white"
             }
            },
            "type": "table"
           }
          ]
         },
         "layout": {
          "annotationdefaults": {
           "arrowcolor": "#2a3f5f",
           "arrowhead": 0,
           "arrowwidth": 1
          },
          "autotypenumbers": "strict",
          "coloraxis": {
           "colorbar": {
            "outlinewidth": 0,
            "ticks": ""
           }
          },
          "colorscale": {
           "diverging": [
            [
             0,
             "#8e0152"
            ],
            [
             0.1,
             "#c51b7d"
            ],
            [
             0.2,
             "#de77ae"
            ],
            [
             0.3,
             "#f1b6da"
            ],
            [
             0.4,
             "#fde0ef"
            ],
            [
             0.5,
             "#f7f7f7"
            ],
            [
             0.6,
             "#e6f5d0"
            ],
            [
             0.7,
             "#b8e186"
            ],
            [
             0.8,
             "#7fbc41"
            ],
            [
             0.9,
             "#4d9221"
            ],
            [
             1,
             "#276419"
            ]
           ],
           "sequential": [
            [
             0,
             "#0d0887"
            ],
            [
             0.1111111111111111,
             "#46039f"
            ],
            [
             0.2222222222222222,
             "#7201a8"
            ],
            [
             0.3333333333333333,
             "#9c179e"
            ],
            [
             0.4444444444444444,
             "#bd3786"
            ],
            [
             0.5555555555555556,
             "#d8576b"
            ],
            [
             0.6666666666666666,
             "#ed7953"
            ],
            [
             0.7777777777777778,
             "#fb9f3a"
            ],
            [
             0.8888888888888888,
             "#fdca26"
            ],
            [
             1,
             "#f0f921"
            ]
           ],
           "sequentialminus": [
            [
             0,
             "#0d0887"
            ],
            [
             0.1111111111111111,
             "#46039f"
            ],
            [
             0.2222222222222222,
             "#7201a8"
            ],
            [
             0.3333333333333333,
             "#9c179e"
            ],
            [
             0.4444444444444444,
             "#bd3786"
            ],
            [
             0.5555555555555556,
             "#d8576b"
            ],
            [
             0.6666666666666666,
             "#ed7953"
            ],
            [
             0.7777777777777778,
             "#fb9f3a"
            ],
            [
             0.8888888888888888,
             "#fdca26"
            ],
            [
             1,
             "#f0f921"
            ]
           ]
          },
          "colorway": [
           "#636efa",
           "#EF553B",
           "#00cc96",
           "#ab63fa",
           "#FFA15A",
           "#19d3f3",
           "#FF6692",
           "#B6E880",
           "#FF97FF",
           "#FECB52"
          ],
          "font": {
           "color": "#2a3f5f"
          },
          "geo": {
           "bgcolor": "white",
           "lakecolor": "white",
           "landcolor": "#E5ECF6",
           "showlakes": true,
           "showland": true,
           "subunitcolor": "white"
          },
          "hoverlabel": {
           "align": "left"
          },
          "hovermode": "closest",
          "mapbox": {
           "style": "light"
          },
          "paper_bgcolor": "white",
          "plot_bgcolor": "#E5ECF6",
          "polar": {
           "angularaxis": {
            "gridcolor": "white",
            "linecolor": "white",
            "ticks": ""
           },
           "bgcolor": "#E5ECF6",
           "radialaxis": {
            "gridcolor": "white",
            "linecolor": "white",
            "ticks": ""
           }
          },
          "scene": {
           "xaxis": {
            "backgroundcolor": "#E5ECF6",
            "gridcolor": "white",
            "gridwidth": 2,
            "linecolor": "white",
            "showbackground": true,
            "ticks": "",
            "zerolinecolor": "white"
           },
           "yaxis": {
            "backgroundcolor": "#E5ECF6",
            "gridcolor": "white",
            "gridwidth": 2,
            "linecolor": "white",
            "showbackground": true,
            "ticks": "",
            "zerolinecolor": "white"
           },
           "zaxis": {
            "backgroundcolor": "#E5ECF6",
            "gridcolor": "white",
            "gridwidth": 2,
            "linecolor": "white",
            "showbackground": true,
            "ticks": "",
            "zerolinecolor": "white"
           }
          },
          "shapedefaults": {
           "line": {
            "color": "#2a3f5f"
           }
          },
          "ternary": {
           "aaxis": {
            "gridcolor": "white",
            "linecolor": "white",
            "ticks": ""
           },
           "baxis": {
            "gridcolor": "white",
            "linecolor": "white",
            "ticks": ""
           },
           "bgcolor": "#E5ECF6",
           "caxis": {
            "gridcolor": "white",
            "linecolor": "white",
            "ticks": ""
           }
          },
          "title": {
           "x": 0.05
          },
          "xaxis": {
           "automargin": true,
           "gridcolor": "white",
           "linecolor": "white",
           "ticks": "",
           "title": {
            "standoff": 15
           },
           "zerolinecolor": "white",
           "zerolinewidth": 2
          },
          "yaxis": {
           "automargin": true,
           "gridcolor": "white",
           "linecolor": "white",
           "ticks": "",
           "title": {
            "standoff": 15
           },
           "zerolinecolor": "white",
           "zerolinewidth": 2
          }
         }
        },
        "title": {
         "font": {
          "color": "#4D5663"
         }
        },
        "xaxis": {
         "gridcolor": "#E1E5ED",
         "showgrid": true,
         "tickfont": {
          "color": "#4D5663"
         },
         "title": {
          "font": {
           "color": "#4D5663"
          },
          "text": ""
         },
         "zerolinecolor": "#E1E5ED"
        },
        "yaxis": {
         "gridcolor": "#E1E5ED",
         "showgrid": true,
         "tickfont": {
          "color": "#4D5663"
         },
         "title": {
          "font": {
           "color": "#4D5663"
          },
          "text": ""
         },
         "zerolinecolor": "#E1E5ED"
        }
       }
      },
      "text/html": [
       "<div>                            <div id=\"18e6fca5-3a0d-4671-a4c7-ef382d4292fd\" class=\"plotly-graph-div\" style=\"height:525px; width:100%;\"></div>            <script type=\"text/javascript\">                require([\"plotly\"], function(Plotly) {                    window.PLOTLYENV=window.PLOTLYENV || {};\n",
       "                    window.PLOTLYENV.BASE_URL='https://plot.ly';                                    if (document.getElementById(\"18e6fca5-3a0d-4671-a4c7-ef382d4292fd\")) {                    Plotly.newPlot(                        \"18e6fca5-3a0d-4671-a4c7-ef382d4292fd\",                        [{\"boxpoints\": false, \"line\": {\"width\": 1.3}, \"marker\": {\"color\": \"rgba(255, 153, 51, 1.0)\"}, \"name\": \"A\", \"orientation\": \"v\", \"type\": \"box\", \"y\": [-1.3743721584499824, 0.01000404246298731, 1.060073616887478, 0.11441049376808408, -0.1254638614812266, -0.9070069778849268, 0.052704947052634725, -0.018615509263272198, 0.3426791424383957, 0.7156411612038974, 0.10320678514670655, 1.5303326705609726, -0.21191099006121578, -2.020852407942947, 0.22310319700464062, 0.5054873846397421, 0.4026865599915081, -1.4536017289362706, 0.7950717634128648, -0.23111559189028452, 0.7663819343502544, -0.6235760258594119, -0.39259261868434986, 0.12216190113995658, -1.6096224506550463, 0.5639253855756436, -1.0847543814378535, 1.0885717287652497, -0.591208567689423, -1.6938094395037835, 0.018569790345541275, 0.8539549753616196, 0.806290563715313, -1.6254073372348345, 0.9733772798627246, 1.1342632149777827, 0.6285286305821992, 0.8898153149689759, 0.43696724130491166, -0.11330861472454354, -0.30502763648952747, 0.23913144901280264, -0.5265302051771779, -2.428775933644073, 1.2029442849361394, -2.123707409478142, -1.391993761824126, -0.6561453328335073, -1.0638196040870558, -1.034440135369431, 1.4545524807375916, 0.9664194515222728, 1.3514860245657558, 0.641805705752012, 0.2250786303196695, 0.5551821716123263, -0.3022131037940552, 0.1957505960294113, -0.09000988974301995, 0.2030785749813345, 0.20537268885063817, 2.007683712209121, -1.4843400652481071, 1.600331889395343, -2.658926199502142, -0.7475374003049038, 0.059354593787525535, -2.3391273652213593, 0.14801385832510175, 0.7316816414068449, 2.6313286535979996, -0.6609371876541106, 1.1687995210202855, 1.0322937940761117, -0.12266208992005274, 1.35264415917231, -0.6569032104004473, -1.325436343882467, 0.03518178304520304, 0.9882093647510404, 0.7716022659319737, 0.2571496555762069, 0.9497583254883611, 0.34755083044952106, -0.2608789849073516, 1.6727247611623286, 0.9699480590442013, -0.5146697755100796, 0.1877515295630458, -0.16382196131899163, -0.6291505468485376, -0.3276311214951528, -1.1219800893721616, 0.9243005130469527, 0.34121867776964615, -0.1776353990815943, 0.6764803263134359, -1.0912902239348543, 0.23613255869213673, -0.9206029120136027]}, {\"boxpoints\": false, \"line\": {\"width\": 1.3}, \"marker\": {\"color\": \"rgba(55, 128, 191, 1.0)\"}, \"name\": \"B\", \"orientation\": \"v\", \"type\": \"box\", \"y\": [-0.41705545013634915, -0.48642056858316945, -0.026443392359397484, 0.1978372625783503, 1.4968152023860652, 1.2996001460682738, -1.9367361458578556, -0.7567789330556283, -2.054035669273658, 0.5048997928080652, -1.1112808411952075, 0.5912890910463597, 0.0955475906516338, -0.28622310082696395, 0.11737426814490341, -0.06758176195487915, 0.3241491954622198, -0.5104479126394454, 0.026529123575938545, 1.4972763559326852, 1.8253818450833434, -1.2574190220624064, 0.1257869275628511, 0.016621627579822357, 0.979647443174523, 0.518474140677526, -0.41373982543347276, 0.009111766977325414, 0.7981851789989233, -1.5066373021119543, -0.8145019514506392, 1.2127894892403486, 1.1666091840168742, -0.1826814988975061, 0.2121435888368178, 0.5919460396147409, 0.6706604908690293, -0.1538820807314714, -0.06481604156077372, 0.6865617899199997, 0.5772096001553042, 0.469910962356171, -2.0005706396554475, 0.7472354988856291, -0.6389610051560966, -0.38295815856378096, -0.09249688990779162, 1.6673465664575287, -0.5169802146802591, 0.3229158282844716, -2.2439072734691266, -0.59787255059542, 2.0190019560628656, -0.8827665762111087, 0.1720370484706035, 1.1447792901642073, -2.021110364925016, -0.4431961270162332, 0.6154890464199887, -0.5340413595491634, -1.4300515449852669, -0.4289970586923092, -3.187864606601478, -0.5443854916908588, 1.9027789968231628, 0.028860644801460108, -0.9070719076829377, 2.2604509548717204, -0.4756263042930482, -1.0527349279366778, 1.0989883088287775, 0.8363471991549375, 0.9390577333704273, -0.6821309372267801, -0.040109791076703746, -1.0926766026681485, 0.8810484800262337, 0.13899121632294173, 0.18175429939228152, 0.6641933255515288, -0.29364200182227196, 0.5215667308020342, 0.511801600346848, 0.1323902697067605, -2.1124151258180466, -0.3963021602119647, 1.1669298215227715, 0.7144341554925651, 1.393601613907853, 0.8542543813843058, 1.793693509296129, 1.958951631262988, 1.9793533489183885, 0.5393936516728588, 0.8635557050746643, 0.19647333456875704, -1.3462894052999834, -0.036318884695404764, -0.5437514526982358, -0.8788039924624359]}, {\"boxpoints\": false, \"line\": {\"width\": 1.3}, \"marker\": {\"color\": \"rgba(50, 171, 96, 1.0)\"}, \"name\": \"C\", \"orientation\": \"v\", \"type\": \"box\", \"y\": [-0.21276462251127787, 0.5392444209308489, 1.201647243870889, 1.6782766296745564, 1.1780165541193524, 0.40167196181061116, -0.1591374159699852, 0.39767413608763563, 0.8651958256291215, 1.478487857872841, -0.6734933053355409, -0.9164503190359672, -0.1522431081070318, -0.17775723859865142, -0.5784508624076548, -0.8953430846986111, -0.5955412799976927, -1.4996597344022469, -0.7358247995812351, -0.933572443609917, -0.008828766883507387, -0.8164283705009511, 1.273678888538661, -0.8651312409226529, 0.35478150022354593, 0.986399459757734, -0.5352650018171781, -1.3886598301517936, -0.9095518855205877, -0.18025157413060977, -1.1639538469777637, -0.45797392379674257, 0.6729367441748657, -1.8550523081681753, -1.2923975140689834, 0.1464356554680572, -0.9334423032882809, -0.44248786315560623, 1.0671262179776113, 0.33753739416763867, 0.9128835546431392, -0.5900917794231104, -0.3737024267929817, 0.3712684727445248, -0.7557372214105362, 0.843767325377286, -2.206479423111974, 0.4426752009503339, -1.418894646378147, -1.6105792466568054, 0.14046905986929045, -1.7025655506186397, -1.1263018556886557, 0.04343967291843729, -1.2047503941915687, -0.09781015949410614, -0.24368586131596517, 0.6958509742327339, -1.0704795691259144, 0.5620221156749131, 0.9390052445805276, -1.3349060314912693, 0.40321915973170414, 1.6285358959063552, -0.17701723872220992, 0.8234083102866014, 0.9957585721559657, -0.3763413287556481, -1.6265324048745329, -0.621938385545258, -0.465630623615682, 1.526182232958349, 0.3520390029182346, 2.5651656043033713, 0.7960377533994962, 0.32625925238639847, -1.1861624824881056, 0.949283354081687, 0.08425473048695817, -0.7318456749714377, -1.0006911553437978, 0.41625205826679096, -1.0046004868315244, 0.09274029071208498, -1.741066554969545, -0.1488349120028584, 0.06298419279152194, -1.0202004771437285, 0.31668257541722206, -1.9144300423394567, 1.8560064604860345, -0.6905437344649258, -0.020351338723384127, -0.7245034758310543, 1.2620486376354592, -0.15544435172249807, -0.38249834037408337, -0.44288833342145334, -0.37916364819204046, 1.500013795209575]}, {\"boxpoints\": false, \"line\": {\"width\": 1.3}, \"marker\": {\"color\": \"rgba(128, 0, 128, 1.0)\"}, \"name\": \"D\", \"orientation\": \"v\", \"type\": \"box\", \"y\": [1.2646382812754842, -0.8971743142451027, -2.0754884569254672, 0.24979143146563057, 0.7113633997792028, 1.278216640237135, -0.49685845418634067, 1.2344611106270564, 0.36195754457371004, 0.6043429263082021, 1.1059302402322535, -0.6515379521018477, 0.3646331090549264, -0.9845536691002664, 1.4409263079086052, 0.8816667955217995, -0.7853779284986235, -0.7978616503508753, -1.0828660240395294, 0.10487744298562451, 0.19217934901563238, -0.44483118359065044, 0.081992768065037, 0.717726912938894, -0.4840805058901615, 0.9655267003749074, -0.15515680869122653, 0.18765636261666088, 1.1626969975525205, 1.1221860512686315, -0.7262998465735776, 0.5769953510599819, -0.34292887593453836, -0.7177335259504108, 0.4645526729614544, 2.2636115244007744, 0.6788635025563274, -1.3586866410113239, 1.402105490753138, -0.04773722688359785, -0.05201898018951273, 0.2775465835054213, -2.5368187629127665, 0.7489922275026335, 0.4366105803867375, -0.22742515624588822, 0.8389663215980219, 0.8119997599104144, 1.5599969289424327, 1.1960493070861002, 0.5532823184545692, 0.5429127445526751, -0.9216892467648115, -0.7124766367267783, -0.5469063510503084, 1.2104299366607287, 0.06529088469119605, -0.26731497693372736, 0.18006682091523982, 1.5858814002047847, 0.028250097720445115, 1.3266255468110029, 1.3247055522245879, 0.016966380125314793, -0.8959419956364261, 0.878890833696069, -0.01258411681511281, -0.0795240148058931, 0.09205341634269462, 0.8743683456662174, 1.2651793568520557, -0.01223560757394819, -1.1669543697177909, -1.0420826567320396, 2.063838270434295, 0.0968244764073173, -0.14942699098437895, -1.3822629131066702, 0.15884855391204272, 0.6019636707340277, 1.2663377202008308, -1.6319526838234355, -0.08569233667719377, -0.19194039719829523, 0.6089137382785959, 0.21037399045564947, 1.1878195115705752, 0.10049673180139712, -0.6091707263338128, -1.0208458347127198, -0.7948310997841892, 0.8263015448397337, 0.6008696554415681, -2.853267844849281, -0.953772467478873, -0.3422257288319156, 0.5312134043166221, 0.15022922890648535, 0.2815641965610305, -0.2403819541347331]}],                        {\"legend\": {\"bgcolor\": \"#F5F6F9\", \"font\": {\"color\": \"#4D5663\"}}, \"paper_bgcolor\": \"#F5F6F9\", \"plot_bgcolor\": \"#F5F6F9\", \"template\": {\"data\": {\"bar\": [{\"error_x\": {\"color\": \"#2a3f5f\"}, \"error_y\": {\"color\": \"#2a3f5f\"}, \"marker\": {\"line\": {\"color\": \"#E5ECF6\", \"width\": 0.5}}, \"type\": \"bar\"}], \"barpolar\": [{\"marker\": {\"line\": {\"color\": \"#E5ECF6\", \"width\": 0.5}}, \"type\": \"barpolar\"}], \"carpet\": [{\"aaxis\": {\"endlinecolor\": \"#2a3f5f\", \"gridcolor\": \"white\", \"linecolor\": \"white\", \"minorgridcolor\": \"white\", \"startlinecolor\": \"#2a3f5f\"}, \"baxis\": {\"endlinecolor\": \"#2a3f5f\", \"gridcolor\": \"white\", \"linecolor\": \"white\", \"minorgridcolor\": \"white\", \"startlinecolor\": \"#2a3f5f\"}, \"type\": \"carpet\"}], \"choropleth\": [{\"colorbar\": {\"outlinewidth\": 0, \"ticks\": \"\"}, \"type\": \"choropleth\"}], \"contour\": [{\"colorbar\": {\"outlinewidth\": 0, \"ticks\": \"\"}, \"colorscale\": [[0.0, \"#0d0887\"], [0.1111111111111111, \"#46039f\"], [0.2222222222222222, \"#7201a8\"], [0.3333333333333333, \"#9c179e\"], [0.4444444444444444, \"#bd3786\"], [0.5555555555555556, \"#d8576b\"], [0.6666666666666666, \"#ed7953\"], [0.7777777777777778, \"#fb9f3a\"], [0.8888888888888888, \"#fdca26\"], [1.0, \"#f0f921\"]], \"type\": \"contour\"}], \"contourcarpet\": [{\"colorbar\": {\"outlinewidth\": 0, \"ticks\": \"\"}, \"type\": \"contourcarpet\"}], \"heatmap\": [{\"colorbar\": {\"outlinewidth\": 0, \"ticks\": \"\"}, \"colorscale\": [[0.0, \"#0d0887\"], [0.1111111111111111, \"#46039f\"], [0.2222222222222222, \"#7201a8\"], [0.3333333333333333, \"#9c179e\"], [0.4444444444444444, \"#bd3786\"], [0.5555555555555556, \"#d8576b\"], [0.6666666666666666, \"#ed7953\"], [0.7777777777777778, \"#fb9f3a\"], [0.8888888888888888, \"#fdca26\"], [1.0, \"#f0f921\"]], \"type\": \"heatmap\"}], \"heatmapgl\": [{\"colorbar\": {\"outlinewidth\": 0, \"ticks\": \"\"}, \"colorscale\": [[0.0, \"#0d0887\"], [0.1111111111111111, \"#46039f\"], [0.2222222222222222, \"#7201a8\"], [0.3333333333333333, \"#9c179e\"], [0.4444444444444444, \"#bd3786\"], [0.5555555555555556, \"#d8576b\"], [0.6666666666666666, \"#ed7953\"], [0.7777777777777778, \"#fb9f3a\"], [0.8888888888888888, \"#fdca26\"], [1.0, \"#f0f921\"]], \"type\": \"heatmapgl\"}], \"histogram\": [{\"marker\": {\"colorbar\": {\"outlinewidth\": 0, \"ticks\": \"\"}}, \"type\": \"histogram\"}], \"histogram2d\": [{\"colorbar\": {\"outlinewidth\": 0, \"ticks\": \"\"}, \"colorscale\": [[0.0, \"#0d0887\"], [0.1111111111111111, \"#46039f\"], [0.2222222222222222, \"#7201a8\"], [0.3333333333333333, \"#9c179e\"], [0.4444444444444444, \"#bd3786\"], [0.5555555555555556, \"#d8576b\"], [0.6666666666666666, \"#ed7953\"], [0.7777777777777778, \"#fb9f3a\"], [0.8888888888888888, \"#fdca26\"], [1.0, \"#f0f921\"]], \"type\": \"histogram2d\"}], \"histogram2dcontour\": [{\"colorbar\": {\"outlinewidth\": 0, \"ticks\": \"\"}, \"colorscale\": [[0.0, \"#0d0887\"], [0.1111111111111111, \"#46039f\"], [0.2222222222222222, \"#7201a8\"], [0.3333333333333333, \"#9c179e\"], [0.4444444444444444, \"#bd3786\"], [0.5555555555555556, \"#d8576b\"], [0.6666666666666666, \"#ed7953\"], [0.7777777777777778, \"#fb9f3a\"], [0.8888888888888888, \"#fdca26\"], [1.0, \"#f0f921\"]], \"type\": \"histogram2dcontour\"}], \"mesh3d\": [{\"colorbar\": {\"outlinewidth\": 0, \"ticks\": \"\"}, \"type\": \"mesh3d\"}], \"parcoords\": [{\"line\": {\"colorbar\": {\"outlinewidth\": 0, \"ticks\": \"\"}}, \"type\": \"parcoords\"}], \"pie\": [{\"automargin\": true, \"type\": \"pie\"}], \"scatter\": [{\"marker\": {\"colorbar\": {\"outlinewidth\": 0, \"ticks\": \"\"}}, \"type\": \"scatter\"}], \"scatter3d\": [{\"line\": {\"colorbar\": {\"outlinewidth\": 0, \"ticks\": \"\"}}, \"marker\": {\"colorbar\": {\"outlinewidth\": 0, \"ticks\": \"\"}}, \"type\": \"scatter3d\"}], \"scattercarpet\": [{\"marker\": {\"colorbar\": {\"outlinewidth\": 0, \"ticks\": \"\"}}, \"type\": \"scattercarpet\"}], \"scattergeo\": [{\"marker\": {\"colorbar\": {\"outlinewidth\": 0, \"ticks\": \"\"}}, \"type\": \"scattergeo\"}], \"scattergl\": [{\"marker\": {\"colorbar\": {\"outlinewidth\": 0, \"ticks\": \"\"}}, \"type\": \"scattergl\"}], \"scattermapbox\": [{\"marker\": {\"colorbar\": {\"outlinewidth\": 0, \"ticks\": \"\"}}, \"type\": \"scattermapbox\"}], \"scatterpolar\": [{\"marker\": {\"colorbar\": {\"outlinewidth\": 0, \"ticks\": \"\"}}, \"type\": \"scatterpolar\"}], \"scatterpolargl\": [{\"marker\": {\"colorbar\": {\"outlinewidth\": 0, \"ticks\": \"\"}}, \"type\": \"scatterpolargl\"}], \"scatterternary\": [{\"marker\": {\"colorbar\": {\"outlinewidth\": 0, \"ticks\": \"\"}}, \"type\": \"scatterternary\"}], \"surface\": [{\"colorbar\": {\"outlinewidth\": 0, \"ticks\": \"\"}, \"colorscale\": [[0.0, \"#0d0887\"], [0.1111111111111111, \"#46039f\"], [0.2222222222222222, \"#7201a8\"], [0.3333333333333333, \"#9c179e\"], [0.4444444444444444, \"#bd3786\"], [0.5555555555555556, \"#d8576b\"], [0.6666666666666666, \"#ed7953\"], [0.7777777777777778, \"#fb9f3a\"], [0.8888888888888888, \"#fdca26\"], [1.0, \"#f0f921\"]], \"type\": \"surface\"}], \"table\": [{\"cells\": {\"fill\": {\"color\": \"#EBF0F8\"}, \"line\": {\"color\": \"white\"}}, \"header\": {\"fill\": {\"color\": \"#C8D4E3\"}, \"line\": {\"color\": \"white\"}}, \"type\": \"table\"}]}, \"layout\": {\"annotationdefaults\": {\"arrowcolor\": \"#2a3f5f\", \"arrowhead\": 0, \"arrowwidth\": 1}, \"autotypenumbers\": \"strict\", \"coloraxis\": {\"colorbar\": {\"outlinewidth\": 0, \"ticks\": \"\"}}, \"colorscale\": {\"diverging\": [[0, \"#8e0152\"], [0.1, \"#c51b7d\"], [0.2, \"#de77ae\"], [0.3, \"#f1b6da\"], [0.4, \"#fde0ef\"], [0.5, \"#f7f7f7\"], [0.6, \"#e6f5d0\"], [0.7, \"#b8e186\"], [0.8, \"#7fbc41\"], [0.9, \"#4d9221\"], [1, \"#276419\"]], \"sequential\": [[0.0, \"#0d0887\"], [0.1111111111111111, \"#46039f\"], [0.2222222222222222, \"#7201a8\"], [0.3333333333333333, \"#9c179e\"], [0.4444444444444444, \"#bd3786\"], [0.5555555555555556, \"#d8576b\"], [0.6666666666666666, \"#ed7953\"], [0.7777777777777778, \"#fb9f3a\"], [0.8888888888888888, \"#fdca26\"], [1.0, \"#f0f921\"]], \"sequentialminus\": [[0.0, \"#0d0887\"], [0.1111111111111111, \"#46039f\"], [0.2222222222222222, \"#7201a8\"], [0.3333333333333333, \"#9c179e\"], [0.4444444444444444, \"#bd3786\"], [0.5555555555555556, \"#d8576b\"], [0.6666666666666666, \"#ed7953\"], [0.7777777777777778, \"#fb9f3a\"], [0.8888888888888888, \"#fdca26\"], [1.0, \"#f0f921\"]]}, \"colorway\": [\"#636efa\", \"#EF553B\", \"#00cc96\", \"#ab63fa\", \"#FFA15A\", \"#19d3f3\", \"#FF6692\", \"#B6E880\", \"#FF97FF\", \"#FECB52\"], \"font\": {\"color\": \"#2a3f5f\"}, \"geo\": {\"bgcolor\": \"white\", \"lakecolor\": \"white\", \"landcolor\": \"#E5ECF6\", \"showlakes\": true, \"showland\": true, \"subunitcolor\": \"white\"}, \"hoverlabel\": {\"align\": \"left\"}, \"hovermode\": \"closest\", \"mapbox\": {\"style\": \"light\"}, \"paper_bgcolor\": \"white\", \"plot_bgcolor\": \"#E5ECF6\", \"polar\": {\"angularaxis\": {\"gridcolor\": \"white\", \"linecolor\": \"white\", \"ticks\": \"\"}, \"bgcolor\": \"#E5ECF6\", \"radialaxis\": {\"gridcolor\": \"white\", \"linecolor\": \"white\", \"ticks\": \"\"}}, \"scene\": {\"xaxis\": {\"backgroundcolor\": \"#E5ECF6\", \"gridcolor\": \"white\", \"gridwidth\": 2, \"linecolor\": \"white\", \"showbackground\": true, \"ticks\": \"\", \"zerolinecolor\": \"white\"}, \"yaxis\": {\"backgroundcolor\": \"#E5ECF6\", \"gridcolor\": \"white\", \"gridwidth\": 2, \"linecolor\": \"white\", \"showbackground\": true, \"ticks\": \"\", \"zerolinecolor\": \"white\"}, \"zaxis\": {\"backgroundcolor\": \"#E5ECF6\", \"gridcolor\": \"white\", \"gridwidth\": 2, \"linecolor\": \"white\", \"showbackground\": true, \"ticks\": \"\", \"zerolinecolor\": \"white\"}}, \"shapedefaults\": {\"line\": {\"color\": \"#2a3f5f\"}}, \"ternary\": {\"aaxis\": {\"gridcolor\": \"white\", \"linecolor\": \"white\", \"ticks\": \"\"}, \"baxis\": {\"gridcolor\": \"white\", \"linecolor\": \"white\", \"ticks\": \"\"}, \"bgcolor\": \"#E5ECF6\", \"caxis\": {\"gridcolor\": \"white\", \"linecolor\": \"white\", \"ticks\": \"\"}}, \"title\": {\"x\": 0.05}, \"xaxis\": {\"automargin\": true, \"gridcolor\": \"white\", \"linecolor\": \"white\", \"ticks\": \"\", \"title\": {\"standoff\": 15}, \"zerolinecolor\": \"white\", \"zerolinewidth\": 2}, \"yaxis\": {\"automargin\": true, \"gridcolor\": \"white\", \"linecolor\": \"white\", \"ticks\": \"\", \"title\": {\"standoff\": 15}, \"zerolinecolor\": \"white\", \"zerolinewidth\": 2}}}, \"title\": {\"font\": {\"color\": \"#4D5663\"}}, \"xaxis\": {\"gridcolor\": \"#E1E5ED\", \"showgrid\": true, \"tickfont\": {\"color\": \"#4D5663\"}, \"title\": {\"font\": {\"color\": \"#4D5663\"}, \"text\": \"\"}, \"zerolinecolor\": \"#E1E5ED\"}, \"yaxis\": {\"gridcolor\": \"#E1E5ED\", \"showgrid\": true, \"tickfont\": {\"color\": \"#4D5663\"}, \"title\": {\"font\": {\"color\": \"#4D5663\"}, \"text\": \"\"}, \"zerolinecolor\": \"#E1E5ED\"}},                        {\"showLink\": true, \"linkText\": \"Export to plot.ly\", \"plotlyServerURL\": \"https://plot.ly\", \"responsive\": true}                    ).then(function(){\n",
       "                            \n",
       "var gd = document.getElementById('18e6fca5-3a0d-4671-a4c7-ef382d4292fd');\n",
       "var x = new MutationObserver(function (mutations, observer) {{\n",
       "        var display = window.getComputedStyle(gd).display;\n",
       "        if (!display || display === 'none') {{\n",
       "            console.log([gd, 'removed!']);\n",
       "            Plotly.purge(gd);\n",
       "            observer.disconnect();\n",
       "        }}\n",
       "}});\n",
       "\n",
       "// Listen for the removal of the full notebook cells\n",
       "var notebookContainer = gd.closest('#notebook-container');\n",
       "if (notebookContainer) {{\n",
       "    x.observe(notebookContainer, {childList: true});\n",
       "}}\n",
       "\n",
       "// Listen for the clearing of the current output cell\n",
       "var outputEl = gd.closest('.output');\n",
       "if (outputEl) {{\n",
       "    x.observe(outputEl, {childList: true});\n",
       "}}\n",
       "\n",
       "                        })                };                });            </script>        </div>"
      ]
     },
     "metadata": {},
     "output_type": "display_data"
    }
   ],
   "source": [
    "df.iplot(kind='box')"
   ]
  },
  {
   "cell_type": "markdown",
   "metadata": {},
   "source": [
    "## 3d Surface"
   ]
  },
  {
   "cell_type": "code",
   "execution_count": 25,
   "metadata": {},
   "outputs": [],
   "source": [
    "df3 = pd.DataFrame({'x':[1,2,3,4,5],'y':[10,20,30,20,10],'z':[5,4,3,2,1]})"
   ]
  },
  {
   "cell_type": "code",
   "execution_count": 26,
   "metadata": {},
   "outputs": [
    {
     "data": {
      "text/plain": [
       "<matplotlib.axes._subplots.AxesSubplot at 0x27869e3c9e8>"
      ]
     },
     "execution_count": 26,
     "metadata": {},
     "output_type": "execute_result"
    },
    {
     "data": {
      "image/png": "[encoded data removed]",
      "text/plain": [
       "<Figure size 432x288 with 1 Axes>"
      ]
     },
     "metadata": {
      "needs_background": "light"
     },
     "output_type": "display_data"
    }
   ],
   "source": [
    "df3.plot()"
   ]
  },
  {
   "cell_type": "code",
   "execution_count": 27,
   "metadata": {},
   "outputs": [
    {
     "data": {
      "application/vnd.plotly.v1+json": {
       "config": {
        "linkText": "Export to plot.ly",
        "plotlyServerURL": "https://plot.ly",
        "showLink": true
       },
       "data": [
        {
         "colorscale": [
          [
           0,
           "rgb(165,0,38)"
          ],
          [
           0.1,
           "rgb(215,48,39)"
          ],
          [
           0.2,
           "rgb(244,109,67)"
          ],
          [
           0.3,
           "rgb(253,174,97)"
          ],
          [
           0.4,
           "rgb(254,224,144)"
          ],
          [
           0.5,
           "rgb(255,255,191)"
          ],
          [
           0.6,
           "rgb(224,243,248)"
          ],
          [
           0.7,
           "rgb(171,217,233)"
          ],
          [
           0.8,
           "rgb(116,173,209)"
          ],
          [
           0.9,
           "rgb(69,117,180)"
          ],
          [
           1,
           "rgb(49,54,149)"
          ]
         ],
         "type": "surface",
         "x": [
          0,
          1,
          2,
          3,
          4
         ],
         "y": [
          "x",
          "y",
          "z"
         ],
         "z": [
          [
           1,
           2,
           3,
           4,
           5
          ],
          [
           10,
           20,
           30,
           20,
           10
          ],
          [
           5,
           4,
           3,
           2,
           1
          ]
         ]
        }
       ],
       "layout": {
        "legend": {
         "bgcolor": "#F5F6F9",
         "font": {
          "color": "#4D5663"
         }
        },
        "paper_bgcolor": "#F5F6F9",
        "plot_bgcolor": "#F5F6F9",
        "template": {
         "data": {
          "bar": [
           {
            "error_x": {
             "color": "#2a3f5f"
            },
            "error_y": {
             "color": "#2a3f5f"
            },
            "marker": {
             "line": {
              "color": "#E5ECF6",
              "width": 0.5
             }
            },
            "type": "bar"
           }
          ],
          "barpolar": [
           {
            "marker": {
             "line": {
              "color": "#E5ECF6",
              "width": 0.5
             }
            },
            "type": "barpolar"
           }
          ],
          "carpet": [
           {
            "aaxis": {
             "endlinecolor": "#2a3f5f",
             "gridcolor": "white",
             "linecolor": "white",
             "minorgridcolor": "white",
             "startlinecolor": "#2a3f5f"
            },
            "baxis": {
             "endlinecolor": "#2a3f5f",
             "gridcolor": "white",
             "linecolor": "white",
             "minorgridcolor": "white",
             "startlinecolor": "#2a3f5f"
            },
            "type": "carpet"
           }
          ],
          "choropleth": [
           {
            "colorbar": {
             "outlinewidth": 0,
             "ticks": ""
            },
            "type": "choropleth"
           }
          ],
          "contour": [
           {
            "colorbar": {
             "outlinewidth": 0,
             "ticks": ""
            },
            "colorscale": [
             [
              0,
              "#0d0887"
             ],
             [
              0.1111111111111111,
              "#46039f"
             ],
             [
              0.2222222222222222,
              "#7201a8"
             ],
             [
              0.3333333333333333,
              "#9c179e"
             ],
             [
              0.4444444444444444,
              "#bd3786"
             ],
             [
              0.5555555555555556,
              "#d8576b"
             ],
             [
              0.6666666666666666,
              "#ed7953"
             ],
             [
              0.7777777777777778,
              "#fb9f3a"
             ],
             [
              0.8888888888888888,
              "#fdca26"
             ],
             [
              1,
              "#f0f921"
             ]
            ],
            "type": "contour"
           }
          ],
          "contourcarpet": [
           {
            "colorbar": {
             "outlinewidth": 0,
             "ticks": ""
            },
            "type": "contourcarpet"
           }
          ],
          "heatmap": [
           {
            "colorbar": {
             "outlinewidth": 0,
             "ticks": ""
            },
            "colorscale": [
             [
              0,
              "#0d0887"
             ],
             [
              0.1111111111111111,
              "#46039f"
             ],
             [
              0.2222222222222222,
              "#7201a8"
             ],
             [
              0.3333333333333333,
              "#9c179e"
             ],
             [
              0.4444444444444444,
              "#bd3786"
             ],
             [
              0.5555555555555556,
              "#d8576b"
             ],
             [
              0.6666666666666666,
              "#ed7953"
             ],
             [
              0.7777777777777778,
              "#fb9f3a"
             ],
             [
              0.8888888888888888,
              "#fdca26"
             ],
             [
              1,
              "#f0f921"
             ]
            ],
            "type": "heatmap"
           }
          ],
          "heatmapgl": [
           {
            "colorbar": {
             "outlinewidth": 0,
             "ticks": ""
            },
            "colorscale": [
             [
              0,
              "#0d0887"
             ],
             [
              0.1111111111111111,
              "#46039f"
             ],
             [
              0.2222222222222222,
              "#7201a8"
             ],
             [
              0.3333333333333333,
              "#9c179e"
             ],
             [
              0.4444444444444444,
              "#bd3786"
             ],
             [
              0.5555555555555556,
              "#d8576b"
             ],
             [
              0.6666666666666666,
              "#ed7953"
             ],
             [
              0.7777777777777778,
              "#fb9f3a"
             ],
             [
              0.8888888888888888,
              "#fdca26"
             ],
             [
              1,
              "#f0f921"
             ]
            ],
            "type": "heatmapgl"
           }
          ],
          "histogram": [
           {
            "marker": {
             "colorbar": {
              "outlinewidth": 0,
              "ticks": ""
             }
            },
            "type": "histogram"
           }
          ],
          "histogram2d": [
           {
            "colorbar": {
             "outlinewidth": 0,
             "ticks": ""
            },
            "colorscale": [
             [
              0,
              "#0d0887"
             ],
             [
              0.1111111111111111,
              "#46039f"
             ],
             [
              0.2222222222222222,
              "#7201a8"
             ],
             [
              0.3333333333333333,
              "#9c179e"
             ],
             [
              0.4444444444444444,
              "#bd3786"
             ],
             [
              0.5555555555555556,
              "#d8576b"
             ],
             [
              0.6666666666666666,
              "#ed7953"
             ],
             [
              0.7777777777777778,
              "#fb9f3a"
             ],
             [
              0.8888888888888888,
              "#fdca26"
             ],
             [
              1,
              "#f0f921"
             ]
            ],
            "type": "histogram2d"
           }
          ],
          "histogram2dcontour": [
           {
            "colorbar": {
             "outlinewidth": 0,
             "ticks": ""
            },
            "colorscale": [
             [
              0,
              "#0d0887"
             ],
             [
              0.1111111111111111,
              "#46039f"
             ],
             [
              0.2222222222222222,
              "#7201a8"
             ],
             [
              0.3333333333333333,
              "#9c179e"
             ],
             [
              0.4444444444444444,
              "#bd3786"
             ],
             [
              0.5555555555555556,
              "#d8576b"
             ],
             [
              0.6666666666666666,
              "#ed7953"
             ],
             [
              0.7777777777777778,
              "#fb9f3a"
             ],
             [
              0.8888888888888888,
              "#fdca26"
             ],
             [
              1,
              "#f0f921"
             ]
            ],
            "type": "histogram2dcontour"
           }
          ],
          "mesh3d": [
           {
            "colorbar": {
             "outlinewidth": 0,
             "ticks": ""
            },
            "type": "mesh3d"
           }
          ],
          "parcoords": [
           {
            "line": {
             "colorbar": {
              "outlinewidth": 0,
              "ticks": ""
             }
            },
            "type": "parcoords"
           }
          ],
          "pie": [
           {
            "automargin": true,
            "type": "pie"
           }
          ],
          "scatter": [
           {
            "marker": {
             "colorbar": {
              "outlinewidth": 0,
              "ticks": ""
             }
            },
            "type": "scatter"
           }
          ],
          "scatter3d": [
           {
            "line": {
             "colorbar": {
              "outlinewidth": 0,
              "ticks": ""
             }
            },
            "marker": {
             "colorbar": {
              "outlinewidth": 0,
              "ticks": ""
             }
            },
            "type": "scatter3d"
           }
          ],
          "scattercarpet": [
           {
            "marker": {
             "colorbar": {
              "outlinewidth": 0,
              "ticks": ""
             }
            },
            "type": "scattercarpet"
           }
          ],
          "scattergeo": [
           {
            "marker": {
             "colorbar": {
              "outlinewidth": 0,
              "ticks": ""
             }
            },
            "type": "scattergeo"
           }
          ],
          "scattergl": [
           {
            "marker": {
             "colorbar": {
              "outlinewidth": 0,
              "ticks": ""
             }
            },
            "type": "scattergl"
           }
          ],
          "scattermapbox": [
           {
            "marker": {
             "colorbar": {
              "outlinewidth": 0,
              "ticks": ""
             }
            },
            "type": "scattermapbox"
           }
          ],
          "scatterpolar": [
           {
            "marker": {
             "colorbar": {
              "outlinewidth": 0,
              "ticks": ""
             }
            },
            "type": "scatterpolar"
           }
          ],
          "scatterpolargl": [
           {
            "marker": {
             "colorbar": {
              "outlinewidth": 0,
              "ticks": ""
             }
            },
            "type": "scatterpolargl"
           }
          ],
          "scatterternary": [
           {
            "marker": {
             "colorbar": {
              "outlinewidth": 0,
              "ticks": ""
             }
            },
            "type": "scatterternary"
           }
          ],
          "surface": [
           {
            "colorbar": {
             "outlinewidth": 0,
             "ticks": ""
            },
            "colorscale": [
             [
              0,
              "#0d0887"
             ],
             [
              0.1111111111111111,
              "#46039f"
             ],
             [
              0.2222222222222222,
              "#7201a8"
             ],
             [
              0.3333333333333333,
              "#9c179e"
             ],
             [
              0.4444444444444444,
              "#bd3786"
             ],
             [
              0.5555555555555556,
              "#d8576b"
             ],
             [
              0.6666666666666666,
              "#ed7953"
             ],
             [
              0.7777777777777778,
              "#fb9f3a"
             ],
             [
              0.8888888888888888,
              "#fdca26"
             ],
             [
              1,
              "#f0f921"
             ]
            ],
            "type": "surface"
           }
          ],
          "table": [
           {
            "cells": {
             "fill": {
              "color": "#EBF0F8"
             },
             "line": {
              "color": "white"
             }
            },
            "header": {
             "fill": {
              "color": "#C8D4E3"
             },
             "line": {
              "color": "white"
             }
            },
            "type": "table"
           }
          ]
         },
         "layout": {
          "annotationdefaults": {
           "arrowcolor": "#2a3f5f",
           "arrowhead": 0,
           "arrowwidth": 1
          },
          "autotypenumbers": "strict",
          "coloraxis": {
           "colorbar": {
            "outlinewidth": 0,
            "ticks": ""
           }
          },
          "colorscale": {
           "diverging": [
            [
             0,
             "#8e0152"
            ],
            [
             0.1,
             "#c51b7d"
            ],
            [
             0.2,
             "#de77ae"
            ],
            [
             0.3,
             "#f1b6da"
            ],
            [
             0.4,
             "#fde0ef"
            ],
            [
             0.5,
             "#f7f7f7"
            ],
            [
             0.6,
             "#e6f5d0"
            ],
            [
             0.7,
             "#b8e186"
            ],
            [
             0.8,
             "#7fbc41"
            ],
            [
             0.9,
             "#4d9221"
            ],
            [
             1,
             "#276419"
            ]
           ],
           "sequential": [
            [
             0,
             "#0d0887"
            ],
            [
             0.1111111111111111,
             "#46039f"
            ],
            [
             0.2222222222222222,
             "#7201a8"
            ],
            [
             0.3333333333333333,
             "#9c179e"
            ],
            [
             0.4444444444444444,
             "#bd3786"
            ],
            [
             0.5555555555555556,
             "#d8576b"
            ],
            [
             0.6666666666666666,
             "#ed7953"
            ],
            [
             0.7777777777777778,
             "#fb9f3a"
            ],
            [
             0.8888888888888888,
             "#fdca26"
            ],
            [
             1,
             "#f0f921"
            ]
           ],
           "sequentialminus": [
            [
             0,
             "#0d0887"
            ],
            [
             0.1111111111111111,
             "#46039f"
            ],
            [
             0.2222222222222222,
             "#7201a8"
            ],
            [
             0.3333333333333333,
             "#9c179e"
            ],
            [
             0.4444444444444444,
             "#bd3786"
            ],
            [
             0.5555555555555556,
             "#d8576b"
            ],
            [
             0.6666666666666666,
             "#ed7953"
            ],
            [
             0.7777777777777778,
             "#fb9f3a"
            ],
            [
             0.8888888888888888,
             "#fdca26"
            ],
            [
             1,
             "#f0f921"
            ]
           ]
          },
          "colorway": [
           "#636efa",
           "#EF553B",
           "#00cc96",
           "#ab63fa",
           "#FFA15A",
           "#19d3f3",
           "#FF6692",
           "#B6E880",
           "#FF97FF",
           "#FECB52"
          ],
          "font": {
           "color": "#2a3f5f"
          },
          "geo": {
           "bgcolor": "white",
           "lakecolor": "white",
           "landcolor": "#E5ECF6",
           "showlakes": true,
           "showland": true,
           "subunitcolor": "white"
          },
          "hoverlabel": {
           "align": "left"
          },
          "hovermode": "closest",
          "mapbox": {
           "style": "light"
          },
          "paper_bgcolor": "white",
          "plot_bgcolor": "#E5ECF6",
          "polar": {
           "angularaxis": {
            "gridcolor": "white",
            "linecolor": "white",
            "ticks": ""
           },
           "bgcolor": "#E5ECF6",
           "radialaxis": {
            "gridcolor": "white",
            "linecolor": "white",
            "ticks": ""
           }
          },
          "scene": {
           "xaxis": {
            "backgroundcolor": "#E5ECF6",
            "gridcolor": "white",
            "gridwidth": 2,
            "linecolor": "white",
            "showbackground": true,
            "ticks": "",
            "zerolinecolor": "white"
           },
           "yaxis": {
            "backgroundcolor": "#E5ECF6",
            "gridcolor": "white",
            "gridwidth": 2,
            "linecolor": "white",
            "showbackground": true,
            "ticks": "",
            "zerolinecolor": "white"
           },
           "zaxis": {
            "backgroundcolor": "#E5ECF6",
            "gridcolor": "white",
            "gridwidth": 2,
            "linecolor": "white",
            "showbackground": true,
            "ticks": "",
            "zerolinecolor": "white"
           }
          },
          "shapedefaults": {
           "line": {
            "color": "#2a3f5f"
           }
          },
          "ternary": {
           "aaxis": {
            "gridcolor": "white",
            "linecolor": "white",
            "ticks": ""
           },
           "baxis": {
            "gridcolor": "white",
            "linecolor": "white",
            "ticks": ""
           },
           "bgcolor": "#E5ECF6",
           "caxis": {
            "gridcolor": "white",
            "linecolor": "white",
            "ticks": ""
           }
          },
          "title": {
           "x": 0.05
          },
          "xaxis": {
           "automargin": true,
           "gridcolor": "white",
           "linecolor": "white",
           "ticks": "",
           "title": {
            "standoff": 15
           },
           "zerolinecolor": "white",
           "zerolinewidth": 2
          },
          "yaxis": {
           "automargin": true,
           "gridcolor": "white",
           "linecolor": "white",
           "ticks": "",
           "title": {
            "standoff": 15
           },
           "zerolinecolor": "white",
           "zerolinewidth": 2
          }
         }
        },
        "title": {
         "font": {
          "color": "#4D5663"
         }
        },
        "xaxis": {
         "gridcolor": "#E1E5ED",
         "showgrid": true,
         "tickfont": {
          "color": "#4D5663"
         },
         "title": {
          "font": {
           "color": "#4D5663"
          },
          "text": ""
         },
         "zerolinecolor": "#E1E5ED"
        },
        "yaxis": {
         "gridcolor": "#E1E5ED",
         "showgrid": true,
         "tickfont": {
          "color": "#4D5663"
         },
         "title": {
          "font": {
           "color": "#4D5663"
          },
          "text": ""
         },
         "zerolinecolor": "#E1E5ED"
        }
       }
      },
      "text/html": [
       "<div>                            <div id=\"c2e261e9-cf59-4187-a7f7-46617f0f7a75\" class=\"plotly-graph-div\" style=\"height:525px; width:100%;\"></div>            <script type=\"text/javascript\">                require([\"plotly\"], function(Plotly) {                    window.PLOTLYENV=window.PLOTLYENV || {};\n",
       "                    window.PLOTLYENV.BASE_URL='https://plot.ly';                                    if (document.getElementById(\"c2e261e9-cf59-4187-a7f7-46617f0f7a75\")) {                    Plotly.newPlot(                        \"c2e261e9-cf59-4187-a7f7-46617f0f7a75\",                        [{\"colorscale\": [[0.0, \"rgb(165,0,38)\"], [0.1, \"rgb(215,48,39)\"], [0.2, \"rgb(244,109,67)\"], [0.3, \"rgb(253,174,97)\"], [0.4, \"rgb(254,224,144)\"], [0.5, \"rgb(255,255,191)\"], [0.6, \"rgb(224,243,248)\"], [0.7, \"rgb(171,217,233)\"], [0.8, \"rgb(116,173,209)\"], [0.9, \"rgb(69,117,180)\"], [1.0, \"rgb(49,54,149)\"]], \"type\": \"surface\", \"x\": [0, 1, 2, 3, 4], \"y\": [\"x\", \"y\", \"z\"], \"z\": [[1, 2, 3, 4, 5], [10, 20, 30, 20, 10], [5, 4, 3, 2, 1]]}],                        {\"legend\": {\"bgcolor\": \"#F5F6F9\", \"font\": {\"color\": \"#4D5663\"}}, \"paper_bgcolor\": \"#F5F6F9\", \"plot_bgcolor\": \"#F5F6F9\", \"template\": {\"data\": {\"bar\": [{\"error_x\": {\"color\": \"#2a3f5f\"}, \"error_y\": {\"color\": \"#2a3f5f\"}, \"marker\": {\"line\": {\"color\": \"#E5ECF6\", \"width\": 0.5}}, \"type\": \"bar\"}], \"barpolar\": [{\"marker\": {\"line\": {\"color\": \"#E5ECF6\", \"width\": 0.5}}, \"type\": \"barpolar\"}], \"carpet\": [{\"aaxis\": {\"endlinecolor\": \"#2a3f5f\", \"gridcolor\": \"white\", \"linecolor\": \"white\", \"minorgridcolor\": \"white\", \"startlinecolor\": \"#2a3f5f\"}, \"baxis\": {\"endlinecolor\": \"#2a3f5f\", \"gridcolor\": \"white\", \"linecolor\": \"white\", \"minorgridcolor\": \"white\", \"startlinecolor\": \"#2a3f5f\"}, \"type\": \"carpet\"}], \"choropleth\": [{\"colorbar\": {\"outlinewidth\": 0, \"ticks\": \"\"}, \"type\": \"choropleth\"}], \"contour\": [{\"colorbar\": {\"outlinewidth\": 0, \"ticks\": \"\"}, \"colorscale\": [[0.0, \"#0d0887\"], [0.1111111111111111, \"#46039f\"], [0.2222222222222222, \"#7201a8\"], [0.3333333333333333, \"#9c179e\"], [0.4444444444444444, \"#bd3786\"], [0.5555555555555556, \"#d8576b\"], [0.6666666666666666, \"#ed7953\"], [0.7777777777777778, \"#fb9f3a\"], [0.8888888888888888, \"#fdca26\"], [1.0, \"#f0f921\"]], \"type\": \"contour\"}], \"contourcarpet\": [{\"colorbar\": {\"outlinewidth\": 0, \"ticks\": \"\"}, \"type\": \"contourcarpet\"}], \"heatmap\": [{\"colorbar\": {\"outlinewidth\": 0, \"ticks\": \"\"}, \"colorscale\": [[0.0, \"#0d0887\"], [0.1111111111111111, \"#46039f\"], [0.2222222222222222, \"#7201a8\"], [0.3333333333333333, \"#9c179e\"], [0.4444444444444444, \"#bd3786\"], [0.5555555555555556, \"#d8576b\"], [0.6666666666666666, \"#ed7953\"], [0.7777777777777778, \"#fb9f3a\"], [0.8888888888888888, \"#fdca26\"], [1.0, \"#f0f921\"]], \"type\": \"heatmap\"}], \"heatmapgl\": [{\"colorbar\": {\"outlinewidth\": 0, \"ticks\": \"\"}, \"colorscale\": [[0.0, \"#0d0887\"], [0.1111111111111111, \"#46039f\"], [0.2222222222222222, \"#7201a8\"], [0.3333333333333333, \"#9c179e\"], [0.4444444444444444, \"#bd3786\"], [0.5555555555555556, \"#d8576b\"], [0.6666666666666666, \"#ed7953\"], [0.7777777777777778, \"#fb9f3a\"], [0.8888888888888888, \"#fdca26\"], [1.0, \"#f0f921\"]], \"type\": \"heatmapgl\"}], \"histogram\": [{\"marker\": {\"colorbar\": {\"outlinewidth\": 0, \"ticks\": \"\"}}, \"type\": \"histogram\"}], \"histogram2d\": [{\"colorbar\": {\"outlinewidth\": 0, \"ticks\": \"\"}, \"colorscale\": [[0.0, \"#0d0887\"], [0.1111111111111111, \"#46039f\"], [0.2222222222222222, \"#7201a8\"], [0.3333333333333333, \"#9c179e\"], [0.4444444444444444, \"#bd3786\"], [0.5555555555555556, \"#d8576b\"], [0.6666666666666666, \"#ed7953\"], [0.7777777777777778, \"#fb9f3a\"], [0.8888888888888888, \"#fdca26\"], [1.0, \"#f0f921\"]], \"type\": \"histogram2d\"}], \"histogram2dcontour\": [{\"colorbar\": {\"outlinewidth\": 0, \"ticks\": \"\"}, \"colorscale\": [[0.0, \"#0d0887\"], [0.1111111111111111, \"#46039f\"], [0.2222222222222222, \"#7201a8\"], [0.3333333333333333, \"#9c179e\"], [0.4444444444444444, \"#bd3786\"], [0.5555555555555556, \"#d8576b\"], [0.6666666666666666, \"#ed7953\"], [0.7777777777777778, \"#fb9f3a\"], [0.8888888888888888, \"#fdca26\"], [1.0, \"#f0f921\"]], \"type\": \"histogram2dcontour\"}], \"mesh3d\": [{\"colorbar\": {\"outlinewidth\": 0, \"ticks\": \"\"}, \"type\": \"mesh3d\"}], \"parcoords\": [{\"line\": {\"colorbar\": {\"outlinewidth\": 0, \"ticks\": \"\"}}, \"type\": \"parcoords\"}], \"pie\": [{\"automargin\": true, \"type\": \"pie\"}], \"scatter\": [{\"marker\": {\"colorbar\": {\"outlinewidth\": 0, \"ticks\": \"\"}}, \"type\": \"scatter\"}], \"scatter3d\": [{\"line\": {\"colorbar\": {\"outlinewidth\": 0, \"ticks\": \"\"}}, \"marker\": {\"colorbar\": {\"outlinewidth\": 0, \"ticks\": \"\"}}, \"type\": \"scatter3d\"}], \"scattercarpet\": [{\"marker\": {\"colorbar\": {\"outlinewidth\": 0, \"ticks\": \"\"}}, \"type\": \"scattercarpet\"}], \"scattergeo\": [{\"marker\": {\"colorbar\": {\"outlinewidth\": 0, \"ticks\": \"\"}}, \"type\": \"scattergeo\"}], \"scattergl\": [{\"marker\": {\"colorbar\": {\"outlinewidth\": 0, \"ticks\": \"\"}}, \"type\": \"scattergl\"}], \"scattermapbox\": [{\"marker\": {\"colorbar\": {\"outlinewidth\": 0, \"ticks\": \"\"}}, \"type\": \"scattermapbox\"}], \"scatterpolar\": [{\"marker\": {\"colorbar\": {\"outlinewidth\": 0, \"ticks\": \"\"}}, \"type\": \"scatterpolar\"}], \"scatterpolargl\": [{\"marker\": {\"colorbar\": {\"outlinewidth\": 0, \"ticks\": \"\"}}, \"type\": \"scatterpolargl\"}], \"scatterternary\": [{\"marker\": {\"colorbar\": {\"outlinewidth\": 0, \"ticks\": \"\"}}, \"type\": \"scatterternary\"}], \"surface\": [{\"colorbar\": {\"outlinewidth\": 0, \"ticks\": \"\"}, \"colorscale\": [[0.0, \"#0d0887\"], [0.1111111111111111, \"#46039f\"], [0.2222222222222222, \"#7201a8\"], [0.3333333333333333, \"#9c179e\"], [0.4444444444444444, \"#bd3786\"], [0.5555555555555556, \"#d8576b\"], [0.6666666666666666, \"#ed7953\"], [0.7777777777777778, \"#fb9f3a\"], [0.8888888888888888, \"#fdca26\"], [1.0, \"#f0f921\"]], \"type\": \"surface\"}], \"table\": [{\"cells\": {\"fill\": {\"color\": \"#EBF0F8\"}, \"line\": {\"color\": \"white\"}}, \"header\": {\"fill\": {\"color\": \"#C8D4E3\"}, \"line\": {\"color\": \"white\"}}, \"type\": \"table\"}]}, \"layout\": {\"annotationdefaults\": {\"arrowcolor\": \"#2a3f5f\", \"arrowhead\": 0, \"arrowwidth\": 1}, \"autotypenumbers\": \"strict\", \"coloraxis\": {\"colorbar\": {\"outlinewidth\": 0, \"ticks\": \"\"}}, \"colorscale\": {\"diverging\": [[0, \"#8e0152\"], [0.1, \"#c51b7d\"], [0.2, \"#de77ae\"], [0.3, \"#f1b6da\"], [0.4, \"#fde0ef\"], [0.5, \"#f7f7f7\"], [0.6, \"#e6f5d0\"], [0.7, \"#b8e186\"], [0.8, \"#7fbc41\"], [0.9, \"#4d9221\"], [1, \"#276419\"]], \"sequential\": [[0.0, \"#0d0887\"], [0.1111111111111111, \"#46039f\"], [0.2222222222222222, \"#7201a8\"], [0.3333333333333333, \"#9c179e\"], [0.4444444444444444, \"#bd3786\"], [0.5555555555555556, \"#d8576b\"], [0.6666666666666666, \"#ed7953\"], [0.7777777777777778, \"#fb9f3a\"], [0.8888888888888888, \"#fdca26\"], [1.0, \"#f0f921\"]], \"sequentialminus\": [[0.0, \"#0d0887\"], [0.1111111111111111, \"#46039f\"], [0.2222222222222222, \"#7201a8\"], [0.3333333333333333, \"#9c179e\"], [0.4444444444444444, \"#bd3786\"], [0.5555555555555556, \"#d8576b\"], [0.6666666666666666, \"#ed7953\"], [0.7777777777777778, \"#fb9f3a\"], [0.8888888888888888, \"#fdca26\"], [1.0, \"#f0f921\"]]}, \"colorway\": [\"#636efa\", \"#EF553B\", \"#00cc96\", \"#ab63fa\", \"#FFA15A\", \"#19d3f3\", \"#FF6692\", \"#B6E880\", \"#FF97FF\", \"#FECB52\"], \"font\": {\"color\": \"#2a3f5f\"}, \"geo\": {\"bgcolor\": \"white\", \"lakecolor\": \"white\", \"landcolor\": \"#E5ECF6\", \"showlakes\": true, \"showland\": true, \"subunitcolor\": \"white\"}, \"hoverlabel\": {\"align\": \"left\"}, \"hovermode\": \"closest\", \"mapbox\": {\"style\": \"light\"}, \"paper_bgcolor\": \"white\", \"plot_bgcolor\": \"#E5ECF6\", \"polar\": {\"angularaxis\": {\"gridcolor\": \"white\", \"linecolor\": \"white\", \"ticks\": \"\"}, \"bgcolor\": \"#E5ECF6\", \"radialaxis\": {\"gridcolor\": \"white\", \"linecolor\": \"white\", \"ticks\": \"\"}}, \"scene\": {\"xaxis\": {\"backgroundcolor\": \"#E5ECF6\", \"gridcolor\": \"white\", \"gridwidth\": 2, \"linecolor\": \"white\", \"showbackground\": true, \"ticks\": \"\", \"zerolinecolor\": \"white\"}, \"yaxis\": {\"backgroundcolor\": \"#E5ECF6\", \"gridcolor\": \"white\", \"gridwidth\": 2, \"linecolor\": \"white\", \"showbackground\": true, \"ticks\": \"\", \"zerolinecolor\": \"white\"}, \"zaxis\": {\"backgroundcolor\": \"#E5ECF6\", \"gridcolor\": \"white\", \"gridwidth\": 2, \"linecolor\": \"white\", \"showbackground\": true, \"ticks\": \"\", \"zerolinecolor\": \"white\"}}, \"shapedefaults\": {\"line\": {\"color\": \"#2a3f5f\"}}, \"ternary\": {\"aaxis\": {\"gridcolor\": \"white\", \"linecolor\": \"white\", \"ticks\": \"\"}, \"baxis\": {\"gridcolor\": \"white\", \"linecolor\": \"white\", \"ticks\": \"\"}, \"bgcolor\": \"#E5ECF6\", \"caxis\": {\"gridcolor\": \"white\", \"linecolor\": \"white\", \"ticks\": \"\"}}, \"title\": {\"x\": 0.05}, \"xaxis\": {\"automargin\": true, \"gridcolor\": \"white\", \"linecolor\": \"white\", \"ticks\": \"\", \"title\": {\"standoff\": 15}, \"zerolinecolor\": \"white\", \"zerolinewidth\": 2}, \"yaxis\": {\"automargin\": true, \"gridcolor\": \"white\", \"linecolor\": \"white\", \"ticks\": \"\", \"title\": {\"standoff\": 15}, \"zerolinecolor\": \"white\", \"zerolinewidth\": 2}}}, \"title\": {\"font\": {\"color\": \"#4D5663\"}}, \"xaxis\": {\"gridcolor\": \"#E1E5ED\", \"showgrid\": true, \"tickfont\": {\"color\": \"#4D5663\"}, \"title\": {\"font\": {\"color\": \"#4D5663\"}, \"text\": \"\"}, \"zerolinecolor\": \"#E1E5ED\"}, \"yaxis\": {\"gridcolor\": \"#E1E5ED\", \"showgrid\": true, \"tickfont\": {\"color\": \"#4D5663\"}, \"title\": {\"font\": {\"color\": \"#4D5663\"}, \"text\": \"\"}, \"zerolinecolor\": \"#E1E5ED\"}},                        {\"showLink\": true, \"linkText\": \"Export to plot.ly\", \"plotlyServerURL\": \"https://plot.ly\", \"responsive\": true}                    ).then(function(){\n",
       "                            \n",
       "var gd = document.getElementById('c2e261e9-cf59-4187-a7f7-46617f0f7a75');\n",
       "var x = new MutationObserver(function (mutations, observer) {{\n",
       "        var display = window.getComputedStyle(gd).display;\n",
       "        if (!display || display === 'none') {{\n",
       "            console.log([gd, 'removed!']);\n",
       "            Plotly.purge(gd);\n",
       "            observer.disconnect();\n",
       "        }}\n",
       "}});\n",
       "\n",
       "// Listen for the removal of the full notebook cells\n",
       "var notebookContainer = gd.closest('#notebook-container');\n",
       "if (notebookContainer) {{\n",
       "    x.observe(notebookContainer, {childList: true});\n",
       "}}\n",
       "\n",
       "// Listen for the clearing of the current output cell\n",
       "var outputEl = gd.closest('.output');\n",
       "if (outputEl) {{\n",
       "    x.observe(outputEl, {childList: true});\n",
       "}}\n",
       "\n",
       "                        })                };                });            </script>        </div>"
      ]
     },
     "metadata": {},
     "output_type": "display_data"
    }
   ],
   "source": [
    "df3.iplot(kind='surface',colorscale='rdylbu')"
   ]
  },
  {
   "cell_type": "markdown",
   "metadata": {},
   "source": [
    "## Spread"
   ]
  },
  {
   "cell_type": "code",
   "execution_count": 28,
   "metadata": {},
   "outputs": [
    {
     "data": {
      "application/vnd.plotly.v1+json": {
       "config": {
        "linkText": "Export to plot.ly",
        "plotlyServerURL": "https://plot.ly",
        "showLink": true
       },
       "data": [
        {
         "line": {
          "color": "rgba(255, 153, 51, 1.0)",
          "dash": "solid",
          "shape": "linear",
          "width": 1.3
         },
         "mode": "lines",
         "name": "A",
         "text": "",
         "type": "scatter",
         "x": [
          0,
          1,
          2,
          3,
          4,
          5,
          6,
          7,
          8,
          9,
          10,
          11,
          12,
          13,
          14,
          15,
          16,
          17,
          18,
          19,
          20,
          21,
          22,
          23,
          24,
          25,
          26,
          27,
          28,
          29,
          30,
          31,
          32,
          33,
          34,
          35,
          36,
          37,
          38,
          39,
          40,
          41,
          42,
          43,
          44,
          45,
          46,
          47,
          48,
          49,
          50,
          51,
          52,
          53,
          54,
          55,
          56,
          57,
          58,
          59,
          60,
          61,
          62,
          63,
          64,
          65,
          66,
          67,
          68,
          69,
          70,
          71,
          72,
          73,
          74,
          75,
          76,
          77,
          78,
          79,
          80,
          81,
          82,
          83,
          84,
          85,
          86,
          87,
          88,
          89,
          90,
          91,
          92,
          93,
          94,
          95,
          96,
          97,
          98,
          99
         ],
         "y": [
          -1.3743721584499824,
          0.01000404246298731,
          1.060073616887478,
          0.11441049376808408,
          -0.1254638614812266,
          -0.9070069778849268,
          0.052704947052634725,
          -0.018615509263272198,
          0.3426791424383957,
          0.7156411612038974,
          0.10320678514670655,
          1.5303326705609726,
          -0.21191099006121578,
          -2.020852407942947,
          0.22310319700464062,
          0.5054873846397421,
          0.4026865599915081,
          -1.4536017289362706,
          0.7950717634128648,
          -0.23111559189028452,
          0.7663819343502544,
          -0.6235760258594119,
          -0.39259261868434986,
          0.12216190113995658,
          -1.6096224506550463,
          0.5639253855756436,
          -1.0847543814378535,
          1.0885717287652497,
          -0.591208567689423,
          -1.6938094395037835,
          0.018569790345541275,
          0.8539549753616196,
          0.806290563715313,
          -1.6254073372348345,
          0.9733772798627246,
          1.1342632149777827,
          0.6285286305821992,
          0.8898153149689759,
          0.43696724130491166,
          -0.11330861472454354,
          -0.30502763648952747,
          0.23913144901280264,
          -0.5265302051771779,
          -2.428775933644073,
          1.2029442849361394,
          -2.123707409478142,
          -1.391993761824126,
          -0.6561453328335073,
          -1.0638196040870558,
          -1.034440135369431,
          1.4545524807375916,
          0.9664194515222728,
          1.3514860245657558,
          0.641805705752012,
          0.2250786303196695,
          0.5551821716123263,
          -0.3022131037940552,
          0.1957505960294113,
          -0.09000988974301995,
          0.2030785749813345,
          0.20537268885063817,
          2.007683712209121,
          -1.4843400652481071,
          1.600331889395343,
          -2.658926199502142,
          -0.7475374003049038,
          0.059354593787525535,
          -2.3391273652213593,
          0.14801385832510175,
          0.7316816414068449,
          2.6313286535979996,
          -0.6609371876541106,
          1.1687995210202855,
          1.0322937940761117,
          -0.12266208992005274,
          1.35264415917231,
          -0.6569032104004473,
          -1.325436343882467,
          0.03518178304520304,
          0.9882093647510404,
          0.7716022659319737,
          0.2571496555762069,
          0.9497583254883611,
          0.34755083044952106,
          -0.2608789849073516,
          1.6727247611623286,
          0.9699480590442013,
          -0.5146697755100796,
          0.1877515295630458,
          -0.16382196131899163,
          -0.6291505468485376,
          -0.3276311214951528,
          -1.1219800893721616,
          0.9243005130469527,
          0.34121867776964615,
          -0.1776353990815943,
          0.6764803263134359,
          -1.0912902239348543,
          0.23613255869213673,
          -0.9206029120136027
         ]
        },
        {
         "line": {
          "color": "rgba(55, 128, 191, 1.0)",
          "dash": "solid",
          "shape": "linear",
          "width": 1.3
         },
         "mode": "lines",
         "name": "B",
         "text": "",
         "type": "scatter",
         "x": [
          0,
          1,
          2,
          3,
          4,
          5,
          6,
          7,
          8,
          9,
          10,
          11,
          12,
          13,
          14,
          15,
          16,
          17,
          18,
          19,
          20,
          21,
          22,
          23,
          24,
          25,
          26,
          27,
          28,
          29,
          30,
          31,
          32,
          33,
          34,
          35,
          36,
          37,
          38,
          39,
          40,
          41,
          42,
          43,
          44,
          45,
          46,
          47,
          48,
          49,
          50,
          51,
          52,
          53,
          54,
          55,
          56,
          57,
          58,
          59,
          60,
          61,
          62,
          63,
          64,
          65,
          66,
          67,
          68,
          69,
          70,
          71,
          72,
          73,
          74,
          75,
          76,
          77,
          78,
          79,
          80,
          81,
          82,
          83,
          84,
          85,
          86,
          87,
          88,
          89,
          90,
          91,
          92,
          93,
          94,
          95,
          96,
          97,
          98,
          99
         ],
         "y": [
          -0.41705545013634915,
          -0.48642056858316945,
          -0.026443392359397484,
          0.1978372625783503,
          1.4968152023860652,
          1.2996001460682738,
          -1.9367361458578556,
          -0.7567789330556283,
          -2.054035669273658,
          0.5048997928080652,
          -1.1112808411952075,
          0.5912890910463597,
          0.0955475906516338,
          -0.28622310082696395,
          0.11737426814490341,
          -0.06758176195487915,
          0.3241491954622198,
          -0.5104479126394454,
          0.026529123575938545,
          1.4972763559326852,
          1.8253818450833434,
          -1.2574190220624064,
          0.1257869275628511,
          0.016621627579822357,
          0.979647443174523,
          0.518474140677526,
          -0.41373982543347276,
          0.009111766977325414,
          0.7981851789989233,
          -1.5066373021119543,
          -0.8145019514506392,
          1.2127894892403486,
          1.1666091840168742,
          -0.1826814988975061,
          0.2121435888368178,
          0.5919460396147409,
          0.6706604908690293,
          -0.1538820807314714,
          -0.06481604156077372,
          0.6865617899199997,
          0.5772096001553042,
          0.469910962356171,
          -2.0005706396554475,
          0.7472354988856291,
          -0.6389610051560966,
          -0.38295815856378096,
          -0.09249688990779162,
          1.6673465664575287,
          -0.5169802146802591,
          0.3229158282844716,
          -2.2439072734691266,
          -0.59787255059542,
          2.0190019560628656,
          -0.8827665762111087,
          0.1720370484706035,
          1.1447792901642073,
          -2.021110364925016,
          -0.4431961270162332,
          0.6154890464199887,
          -0.5340413595491634,
          -1.4300515449852669,
          -0.4289970586923092,
          -3.187864606601478,
          -0.5443854916908588,
          1.9027789968231628,
          0.028860644801460108,
          -0.9070719076829377,
          2.2604509548717204,
          -0.4756263042930482,
          -1.0527349279366778,
          1.0989883088287775,
          0.8363471991549375,
          0.9390577333704273,
          -0.6821309372267801,
          -0.040109791076703746,
          -1.0926766026681485,
          0.8810484800262337,
          0.13899121632294173,
          0.18175429939228152,
          0.6641933255515288,
          -0.29364200182227196,
          0.5215667308020342,
          0.511801600346848,
          0.1323902697067605,
          -2.1124151258180466,
          -0.3963021602119647,
          1.1669298215227715,
          0.7144341554925651,
          1.393601613907853,
          0.8542543813843058,
          1.793693509296129,
          1.958951631262988,
          1.9793533489183885,
          0.5393936516728588,
          0.8635557050746643,
          0.19647333456875704,
          -1.3462894052999834,
          -0.036318884695404764,
          -0.5437514526982358,
          -0.8788039924624359
         ]
        },
        {
         "connectgaps": false,
         "fill": "tozeroy",
         "line": {
          "color": "green",
          "dash": "solid",
          "shape": "linear",
          "width": 0.5
         },
         "mode": "lines",
         "name": "Spread",
         "showlegend": false,
         "type": "scatter",
         "x": [
          0,
          1,
          2,
          3,
          4,
          5,
          6,
          7,
          8,
          9,
          10,
          11,
          12,
          13,
          14,
          15,
          16,
          17,
          18,
          19,
          20,
          21,
          22,
          23,
          24,
          25,
          26,
          27,
          28,
          29,
          30,
          31,
          32,
          33,
          34,
          35,
          36,
          37,
          38,
          39,
          40,
          41,
          42,
          43,
          44,
          45,
          46,
          47,
          48,
          49,
          50,
          51,
          52,
          53,
          54,
          55,
          56,
          57,
          58,
          59,
          60,
          61,
          62,
          63,
          64,
          65,
          66,
          67,
          68,
          69,
          70,
          71,
          72,
          73,
          74,
          75,
          76,
          77,
          78,
          79,
          80,
          81,
          82,
          83,
          84,
          85,
          86,
          87,
          88,
          89,
          90,
          91,
          92,
          93,
          94,
          95,
          96,
          97,
          98,
          99
         ],
         "xaxis": "x2",
         "y": [
          "",
          0.49642461104615676,
          1.0865170092468754,
          "",
          "",
          "",
          1.9894410929104902,
          0.7381634237923561,
          2.396714811712054,
          0.21074136839583224,
          1.214487626341914,
          0.9390435795146128,
          "",
          "",
          0.10572892885973721,
          0.5730691465946213,
          0.07853736452928828,
          "",
          0.7685426398369263,
          "",
          "",
          0.6338429962029946,
          "",
          0.10554027356013422,
          "",
          0.04545124489811769,
          "",
          1.0794599617879241,
          "",
          "",
          0.8330717417961805,
          "",
          "",
          "",
          0.7612336910259068,
          0.5423171753630418,
          "",
          1.0436973957004474,
          0.5017832828656854,
          "",
          "",
          "",
          1.4740404344782696,
          "",
          1.841905290092236,
          "",
          "",
          "",
          "",
          "",
          3.698459754206718,
          1.5642920021176927,
          "",
          1.5245722819631207,
          0.05304158184906599,
          "",
          1.718897261130961,
          0.6389467230456445,
          "",
          0.737119934530498,
          1.635424233835905,
          2.43668077090143,
          1.703524541353371,
          2.1447173810862017,
          "",
          "",
          0.9664265014704632,
          "",
          0.6236401626181499,
          1.7844165693435228,
          1.532340344769222,
          "",
          0.2297417876498582,
          1.7144247313028917,
          "",
          2.4453207618404584,
          "",
          "",
          "",
          0.3240160391995116,
          1.0652442677542457,
          "",
          0.4379567251415132,
          0.21516056074276058,
          1.851536140910695,
          2.0690269213742933,
          "",
          "",
          "",
          "",
          "",
          "",
          "",
          0.3849068613740939,
          "",
          "",
          2.0227697316134194,
          "",
          0.7798840113903724,
          ""
         ],
         "yaxis": "y2"
        },
        {
         "connectgaps": false,
         "fill": "tozeroy",
         "line": {
          "color": "red",
          "dash": "solid",
          "shape": "linear",
          "width": 0.5
         },
         "mode": "lines",
         "name": "Spread",
         "showlegend": false,
         "type": "scatter",
         "x": [
          0,
          1,
          2,
          3,
          4,
          5,
          6,
          7,
          8,
          9,
          10,
          11,
          12,
          13,
          14,
          15,
          16,
          17,
          18,
          19,
          20,
          21,
          22,
          23,
          24,
          25,
          26,
          27,
          28,
          29,
          30,
          31,
          32,
          33,
          34,
          35,
          36,
          37,
          38,
          39,
          40,
          41,
          42,
          43,
          44,
          45,
          46,
          47,
          48,
          49,
          50,
          51,
          52,
          53,
          54,
          55,
          56,
          57,
          58,
          59,
          60,
          61,
          62,
          63,
          64,
          65,
          66,
          67,
          68,
          69,
          70,
          71,
          72,
          73,
          74,
          75,
          76,
          77,
          78,
          79,
          80,
          81,
          82,
          83,
          84,
          85,
          86,
          87,
          88,
          89,
          90,
          91,
          92,
          93,
          94,
          95,
          96,
          97,
          98,
          99
         ],
         "xaxis": "x2",
         "y": [
          -0.9573167083136332,
          "",
          "",
          -0.08342676881026621,
          -1.622279063867292,
          -2.2066071239532006,
          "",
          "",
          "",
          "",
          "",
          "",
          -0.3074585807128496,
          -1.734629307115983,
          "",
          "",
          "",
          -0.9431538162968252,
          "",
          -1.7283919478229697,
          -1.058999910733089,
          "",
          -0.518379546247201,
          "",
          -2.5892698938295693,
          "",
          -0.6710145560043808,
          "",
          -1.3893937466883464,
          -0.18717213739182914,
          "",
          -0.358834513878729,
          -0.36031862030156114,
          -1.4427258383373285,
          "",
          "",
          -0.042131860286830136,
          "",
          "",
          -0.7998704046445433,
          -0.8822372366448317,
          -0.23077951334336838,
          "",
          -3.176011432529702,
          "",
          -1.7407492509143612,
          -1.2994968719163345,
          -2.323491899291036,
          -0.5468393894067967,
          -1.3573559636539025,
          "",
          "",
          -0.6675159314971097,
          "",
          "",
          -0.589597118551881,
          "",
          "",
          -0.7054989361630086,
          "",
          "",
          "",
          "",
          "",
          -4.561705196325304,
          -0.7763980451063639,
          "",
          -4.59957832009308,
          "",
          "",
          "",
          -1.497284386809048,
          "",
          "",
          -0.082552298843349,
          "",
          -1.537951690426681,
          -1.4644275602054087,
          -0.1465725163470785,
          "",
          "",
          -0.2644170752258273,
          "",
          "",
          "",
          "",
          -0.19698176247857013,
          -1.2291039310026446,
          -1.2058500843448072,
          -1.0180763427032975,
          -2.4228440561446667,
          -2.286582752758141,
          -3.10133343829055,
          "",
          -0.5223370273050181,
          -0.37410873365035135,
          "",
          -1.0549713392394495,
          "",
          -0.04179891955116677
         ],
         "yaxis": "y2"
        }
       ],
       "layout": {
        "hovermode": "x",
        "legend": {
         "bgcolor": "#F5F6F9",
         "font": {
          "color": "#4D5663"
         }
        },
        "paper_bgcolor": "#F5F6F9",
        "plot_bgcolor": "#F5F6F9",
        "template": {
         "data": {
          "bar": [
           {
            "error_x": {
             "color": "#2a3f5f"
            },
            "error_y": {
             "color": "#2a3f5f"
            },
            "marker": {
             "line": {
              "color": "#E5ECF6",
              "width": 0.5
             }
            },
            "type": "bar"
           }
          ],
          "barpolar": [
           {
            "marker": {
             "line": {
              "color": "#E5ECF6",
              "width": 0.5
             }
            },
            "type": "barpolar"
           }
          ],
          "carpet": [
           {
            "aaxis": {
             "endlinecolor": "#2a3f5f",
             "gridcolor": "white",
             "linecolor": "white",
             "minorgridcolor": "white",
             "startlinecolor": "#2a3f5f"
            },
            "baxis": {
             "endlinecolor": "#2a3f5f",
             "gridcolor": "white",
             "linecolor": "white",
             "minorgridcolor": "white",
             "startlinecolor": "#2a3f5f"
            },
            "type": "carpet"
           }
          ],
          "choropleth": [
           {
            "colorbar": {
             "outlinewidth": 0,
             "ticks": ""
            },
            "type": "choropleth"
           }
          ],
          "contour": [
           {
            "colorbar": {
             "outlinewidth": 0,
             "ticks": ""
            },
            "colorscale": [
             [
              0,
              "#0d0887"
             ],
             [
              0.1111111111111111,
              "#46039f"
             ],
             [
              0.2222222222222222,
              "#7201a8"
             ],
             [
              0.3333333333333333,
              "#9c179e"
             ],
             [
              0.4444444444444444,
              "#bd3786"
             ],
             [
              0.5555555555555556,
              "#d8576b"
             ],
             [
              0.6666666666666666,
              "#ed7953"
             ],
             [
              0.7777777777777778,
              "#fb9f3a"
             ],
             [
              0.8888888888888888,
              "#fdca26"
             ],
             [
              1,
              "#f0f921"
             ]
            ],
            "type": "contour"
           }
          ],
          "contourcarpet": [
           {
            "colorbar": {
             "outlinewidth": 0,
             "ticks": ""
            },
            "type": "contourcarpet"
           }
          ],
          "heatmap": [
           {
            "colorbar": {
             "outlinewidth": 0,
             "ticks": ""
            },
            "colorscale": [
             [
              0,
              "#0d0887"
             ],
             [
              0.1111111111111111,
              "#46039f"
             ],
             [
              0.2222222222222222,
              "#7201a8"
             ],
             [
              0.3333333333333333,
              "#9c179e"
             ],
             [
              0.4444444444444444,
              "#bd3786"
             ],
             [
              0.5555555555555556,
              "#d8576b"
             ],
             [
              0.6666666666666666,
              "#ed7953"
             ],
             [
              0.7777777777777778,
              "#fb9f3a"
             ],
             [
              0.8888888888888888,
              "#fdca26"
             ],
             [
              1,
              "#f0f921"
             ]
            ],
            "type": "heatmap"
           }
          ],
          "heatmapgl": [
           {
            "colorbar": {
             "outlinewidth": 0,
             "ticks": ""
            },
            "colorscale": [
             [
              0,
              "#0d0887"
             ],
             [
              0.1111111111111111,
              "#46039f"
             ],
             [
              0.2222222222222222,
              "#7201a8"
             ],
             [
              0.3333333333333333,
              "#9c179e"
             ],
             [
              0.4444444444444444,
              "#bd3786"
             ],
             [
              0.5555555555555556,
              "#d8576b"
             ],
             [
              0.6666666666666666,
              "#ed7953"
             ],
             [
              0.7777777777777778,
              "#fb9f3a"
             ],
             [
              0.8888888888888888,
              "#fdca26"
             ],
             [
              1,
              "#f0f921"
             ]
            ],
            "type": "heatmapgl"
           }
          ],
          "histogram": [
           {
            "marker": {
             "colorbar": {
              "outlinewidth": 0,
              "ticks": ""
             }
            },
            "type": "histogram"
           }
          ],
          "histogram2d": [
           {
            "colorbar": {
             "outlinewidth": 0,
             "ticks": ""
            },
            "colorscale": [
             [
              0,
              "#0d0887"
             ],
             [
              0.1111111111111111,
              "#46039f"
             ],
             [
              0.2222222222222222,
              "#7201a8"
             ],
             [
              0.3333333333333333,
              "#9c179e"
             ],
             [
              0.4444444444444444,
              "#bd3786"
             ],
             [
              0.5555555555555556,
              "#d8576b"
             ],
             [
              0.6666666666666666,
              "#ed7953"
             ],
             [
              0.7777777777777778,
              "#fb9f3a"
             ],
             [
              0.8888888888888888,
              "#fdca26"
             ],
             [
              1,
              "#f0f921"
             ]
            ],
            "type": "histogram2d"
           }
          ],
          "histogram2dcontour": [
           {
            "colorbar": {
             "outlinewidth": 0,
             "ticks": ""
            },
            "colorscale": [
             [
              0,
              "#0d0887"
             ],
             [
              0.1111111111111111,
              "#46039f"
             ],
             [
              0.2222222222222222,
              "#7201a8"
             ],
             [
              0.3333333333333333,
              "#9c179e"
             ],
             [
              0.4444444444444444,
              "#bd3786"
             ],
             [
              0.5555555555555556,
              "#d8576b"
             ],
             [
              0.6666666666666666,
              "#ed7953"
             ],
             [
              0.7777777777777778,
              "#fb9f3a"
             ],
             [
              0.8888888888888888,
              "#fdca26"
             ],
             [
              1,
              "#f0f921"
             ]
            ],
            "type": "histogram2dcontour"
           }
          ],
          "mesh3d": [
           {
            "colorbar": {
             "outlinewidth": 0,
             "ticks": ""
            },
            "type": "mesh3d"
           }
          ],
          "parcoords": [
           {
            "line": {
             "colorbar": {
              "outlinewidth": 0,
              "ticks": ""
             }
            },
            "type": "parcoords"
           }
          ],
          "pie": [
           {
            "automargin": true,
            "type": "pie"
           }
          ],
          "scatter": [
           {
            "marker": {
             "colorbar": {
              "outlinewidth": 0,
              "ticks": ""
             }
            },
            "type": "scatter"
           }
          ],
          "scatter3d": [
           {
            "line": {
             "colorbar": {
              "outlinewidth": 0,
              "ticks": ""
             }
            },
            "marker": {
             "colorbar": {
              "outlinewidth": 0,
              "ticks": ""
             }
            },
            "type": "scatter3d"
           }
          ],
          "scattercarpet": [
           {
            "marker": {
             "colorbar": {
              "outlinewidth": 0,
              "ticks": ""
             }
            },
            "type": "scattercarpet"
           }
          ],
          "scattergeo": [
           {
            "marker": {
             "colorbar": {
              "outlinewidth": 0,
              "ticks": ""
             }
            },
            "type": "scattergeo"
           }
          ],
          "scattergl": [
           {
            "marker": {
             "colorbar": {
              "outlinewidth": 0,
              "ticks": ""
             }
            },
            "type": "scattergl"
           }
          ],
          "scattermapbox": [
           {
            "marker": {
             "colorbar": {
              "outlinewidth": 0,
              "ticks": ""
             }
            },
            "type": "scattermapbox"
           }
          ],
          "scatterpolar": [
           {
            "marker": {
             "colorbar": {
              "outlinewidth": 0,
              "ticks": ""
             }
            },
            "type": "scatterpolar"
           }
          ],
          "scatterpolargl": [
           {
            "marker": {
             "colorbar": {
              "outlinewidth": 0,
              "ticks": ""
             }
            },
            "type": "scatterpolargl"
           }
          ],
          "scatterternary": [
           {
            "marker": {
             "colorbar": {
              "outlinewidth": 0,
              "ticks": ""
             }
            },
            "type": "scatterternary"
           }
          ],
          "surface": [
           {
            "colorbar": {
             "outlinewidth": 0,
             "ticks": ""
            },
            "colorscale": [
             [
              0,
              "#0d0887"
             ],
             [
              0.1111111111111111,
              "#46039f"
             ],
             [
              0.2222222222222222,
              "#7201a8"
             ],
             [
              0.3333333333333333,
              "#9c179e"
             ],
             [
              0.4444444444444444,
              "#bd3786"
             ],
             [
              0.5555555555555556,
              "#d8576b"
             ],
             [
              0.6666666666666666,
              "#ed7953"
             ],
             [
              0.7777777777777778,
              "#fb9f3a"
             ],
             [
              0.8888888888888888,
              "#fdca26"
             ],
             [
              1,
              "#f0f921"
             ]
            ],
            "type": "surface"
           }
          ],
          "table": [
           {
            "cells": {
             "fill": {
              "color": "#EBF0F8"
             },
             "line": {
              "color": "white"
             }
            },
            "header": {
             "fill": {
              "color": "#C8D4E3"
             },
             "line": {
              "color": "white"
             }
            },
            "type": "table"
           }
          ]
         },
         "layout": {
          "annotationdefaults": {
           "arrowcolor": "#2a3f5f",
           "arrowhead": 0,
           "arrowwidth": 1
          },
          "autotypenumbers": "strict",
          "coloraxis": {
           "colorbar": {
            "outlinewidth": 0,
            "ticks": ""
           }
          },
          "colorscale": {
           "diverging": [
            [
             0,
             "#8e0152"
            ],
            [
             0.1,
             "#c51b7d"
            ],
            [
             0.2,
             "#de77ae"
            ],
            [
             0.3,
             "#f1b6da"
            ],
            [
             0.4,
             "#fde0ef"
            ],
            [
             0.5,
             "#f7f7f7"
            ],
            [
             0.6,
             "#e6f5d0"
            ],
            [
             0.7,
             "#b8e186"
            ],
            [
             0.8,
             "#7fbc41"
            ],
            [
             0.9,
             "#4d9221"
            ],
            [
             1,
             "#276419"
            ]
           ],
           "sequential": [
            [
             0,
             "#0d0887"
            ],
            [
             0.1111111111111111,
             "#46039f"
            ],
            [
             0.2222222222222222,
             "#7201a8"
            ],
            [
             0.3333333333333333,
             "#9c179e"
            ],
            [
             0.4444444444444444,
             "#bd3786"
            ],
            [
             0.5555555555555556,
             "#d8576b"
            ],
            [
             0.6666666666666666,
             "#ed7953"
            ],
            [
             0.7777777777777778,
             "#fb9f3a"
            ],
            [
             0.8888888888888888,
             "#fdca26"
            ],
            [
             1,
             "#f0f921"
            ]
           ],
           "sequentialminus": [
            [
             0,
             "#0d0887"
            ],
            [
             0.1111111111111111,
             "#46039f"
            ],
            [
             0.2222222222222222,
             "#7201a8"
            ],
            [
             0.3333333333333333,
             "#9c179e"
            ],
            [
             0.4444444444444444,
             "#bd3786"
            ],
            [
             0.5555555555555556,
             "#d8576b"
            ],
            [
             0.6666666666666666,
             "#ed7953"
            ],
            [
             0.7777777777777778,
             "#fb9f3a"
            ],
            [
             0.8888888888888888,
             "#fdca26"
            ],
            [
             1,
             "#f0f921"
            ]
           ]
          },
          "colorway": [
           "#636efa",
           "#EF553B",
           "#00cc96",
           "#ab63fa",
           "#FFA15A",
           "#19d3f3",
           "#FF6692",
           "#B6E880",
           "#FF97FF",
           "#FECB52"
          ],
          "font": {
           "color": "#2a3f5f"
          },
          "geo": {
           "bgcolor": "white",
           "lakecolor": "white",
           "landcolor": "#E5ECF6",
           "showlakes": true,
           "showland": true,
           "subunitcolor": "white"
          },
          "hoverlabel": {
           "align": "left"
          },
          "hovermode": "closest",
          "mapbox": {
           "style": "light"
          },
          "paper_bgcolor": "white",
          "plot_bgcolor": "#E5ECF6",
          "polar": {
           "angularaxis": {
            "gridcolor": "white",
            "linecolor": "white",
            "ticks": ""
           },
           "bgcolor": "#E5ECF6",
           "radialaxis": {
            "gridcolor": "white",
            "linecolor": "white",
            "ticks": ""
           }
          },
          "scene": {
           "xaxis": {
            "backgroundcolor": "#E5ECF6",
            "gridcolor": "white",
            "gridwidth": 2,
            "linecolor": "white",
            "showbackground": true,
            "ticks": "",
            "zerolinecolor": "white"
           },
           "yaxis": {
            "backgroundcolor": "#E5ECF6",
            "gridcolor": "white",
            "gridwidth": 2,
            "linecolor": "white",
            "showbackground": true,
            "ticks": "",
            "zerolinecolor": "white"
           },
           "zaxis": {
            "backgroundcolor": "#E5ECF6",
            "gridcolor": "white",
            "gridwidth": 2,
            "linecolor": "white",
            "showbackground": true,
            "ticks": "",
            "zerolinecolor": "white"
           }
          },
          "shapedefaults": {
           "line": {
            "color": "#2a3f5f"
           }
          },
          "ternary": {
           "aaxis": {
            "gridcolor": "white",
            "linecolor": "white",
            "ticks": ""
           },
           "baxis": {
            "gridcolor": "white",
            "linecolor": "white",
            "ticks": ""
           },
           "bgcolor": "#E5ECF6",
           "caxis": {
            "gridcolor": "white",
            "linecolor": "white",
            "ticks": ""
           }
          },
          "title": {
           "x": 0.05
          },
          "xaxis": {
           "automargin": true,
           "gridcolor": "white",
           "linecolor": "white",
           "ticks": "",
           "title": {
            "standoff": 15
           },
           "zerolinecolor": "white",
           "zerolinewidth": 2
          },
          "yaxis": {
           "automargin": true,
           "gridcolor": "white",
           "linecolor": "white",
           "ticks": "",
           "title": {
            "standoff": 15
           },
           "zerolinecolor": "white",
           "zerolinewidth": 2
          }
         }
        },
        "title": {
         "font": {
          "color": "#4D5663"
         }
        },
        "xaxis": {
         "gridcolor": "#E1E5ED",
         "showgrid": true,
         "tickfont": {
          "color": "#4D5663"
         },
         "title": {
          "font": {
           "color": "#4D5663"
          },
          "text": ""
         },
         "zerolinecolor": "#E1E5ED"
        },
        "xaxis2": {
         "anchor": "y2",
         "gridcolor": "#E1E5ED",
         "showgrid": true,
         "showticklabels": false,
         "tickfont": {
          "color": "#4D5663"
         },
         "title": {
          "font": {
           "color": "#4D5663"
          },
          "text": ""
         },
         "zerolinecolor": "#E1E5ED"
        },
        "yaxis": {
         "domain": [
          0.3,
          1
         ],
         "gridcolor": "#E1E5ED",
         "showgrid": true,
         "tickfont": {
          "color": "#4D5663"
         },
         "title": {
          "font": {
           "color": "#4D5663"
          },
          "text": ""
         },
         "zerolinecolor": "#E1E5ED"
        },
        "yaxis2": {
         "domain": [
          0,
          0.25
         ],
         "gridcolor": "#E1E5ED",
         "showgrid": true,
         "tickfont": {
          "color": "#4D5663"
         },
         "title": {
          "font": {
           "color": "#4D5663"
          },
          "text": "Spread"
         },
         "zerolinecolor": "#E1E5ED"
        }
       }
      },
      "text/html": [
       "<div>                            <div id=\"ce9df0fe-a5f2-4b76-b70a-f447c1130464\" class=\"plotly-graph-div\" style=\"height:525px; width:100%;\"></div>            <script type=\"text/javascript\">                require([\"plotly\"], function(Plotly) {                    window.PLOTLYENV=window.PLOTLYENV || {};\n",
       "                    window.PLOTLYENV.BASE_URL='https://plot.ly';                                    if (document.getElementById(\"ce9df0fe-a5f2-4b76-b70a-f447c1130464\")) {                    Plotly.newPlot(                        \"ce9df0fe-a5f2-4b76-b70a-f447c1130464\",                        [{\"line\": {\"color\": \"rgba(255, 153, 51, 1.0)\", \"dash\": \"solid\", \"shape\": \"linear\", \"width\": 1.3}, \"mode\": \"lines\", \"name\": \"A\", \"text\": \"\", \"type\": \"scatter\", \"x\": [0, 1, 2, 3, 4, 5, 6, 7, 8, 9, 10, 11, 12, 13, 14, 15, 16, 17, 18, 19, 20, 21, 22, 23, 24, 25, 26, 27, 28, 29, 30, 31, 32, 33, 34, 35, 36, 37, 38, 39, 40, 41, 42, 43, 44, 45, 46, 47, 48, 49, 50, 51, 52, 53, 54, 55, 56, 57, 58, 59, 60, 61, 62, 63, 64, 65, 66, 67, 68, 69, 70, 71, 72, 73, 74, 75, 76, 77, 78, 79, 80, 81, 82, 83, 84, 85, 86, 87, 88, 89, 90, 91, 92, 93, 94, 95, 96, 97, 98, 99], \"y\": [-1.3743721584499824, 0.01000404246298731, 1.060073616887478, 0.11441049376808408, -0.1254638614812266, -0.9070069778849268, 0.052704947052634725, -0.018615509263272198, 0.3426791424383957, 0.7156411612038974, 0.10320678514670655, 1.5303326705609726, -0.21191099006121578, -2.020852407942947, 0.22310319700464062, 0.5054873846397421, 0.4026865599915081, -1.4536017289362706, 0.7950717634128648, -0.23111559189028452, 0.7663819343502544, -0.6235760258594119, -0.39259261868434986, 0.12216190113995658, -1.6096224506550463, 0.5639253855756436, -1.0847543814378535, 1.0885717287652497, -0.591208567689423, -1.6938094395037835, 0.018569790345541275, 0.8539549753616196, 0.806290563715313, -1.6254073372348345, 0.9733772798627246, 1.1342632149777827, 0.6285286305821992, 0.8898153149689759, 0.43696724130491166, -0.11330861472454354, -0.30502763648952747, 0.23913144901280264, -0.5265302051771779, -2.428775933644073, 1.2029442849361394, -2.123707409478142, -1.391993761824126, -0.6561453328335073, -1.0638196040870558, -1.034440135369431, 1.4545524807375916, 0.9664194515222728, 1.3514860245657558, 0.641805705752012, 0.2250786303196695, 0.5551821716123263, -0.3022131037940552, 0.1957505960294113, -0.09000988974301995, 0.2030785749813345, 0.20537268885063817, 2.007683712209121, -1.4843400652481071, 1.600331889395343, -2.658926199502142, -0.7475374003049038, 0.059354593787525535, -2.3391273652213593, 0.14801385832510175, 0.7316816414068449, 2.6313286535979996, -0.6609371876541106, 1.1687995210202855, 1.0322937940761117, -0.12266208992005274, 1.35264415917231, -0.6569032104004473, -1.325436343882467, 0.03518178304520304, 0.9882093647510404, 0.7716022659319737, 0.2571496555762069, 0.9497583254883611, 0.34755083044952106, -0.2608789849073516, 1.6727247611623286, 0.9699480590442013, -0.5146697755100796, 0.1877515295630458, -0.16382196131899163, -0.6291505468485376, -0.3276311214951528, -1.1219800893721616, 0.9243005130469527, 0.34121867776964615, -0.1776353990815943, 0.6764803263134359, -1.0912902239348543, 0.23613255869213673, -0.9206029120136027]}, {\"line\": {\"color\": \"rgba(55, 128, 191, 1.0)\", \"dash\": \"solid\", \"shape\": \"linear\", \"width\": 1.3}, \"mode\": \"lines\", \"name\": \"B\", \"text\": \"\", \"type\": \"scatter\", \"x\": [0, 1, 2, 3, 4, 5, 6, 7, 8, 9, 10, 11, 12, 13, 14, 15, 16, 17, 18, 19, 20, 21, 22, 23, 24, 25, 26, 27, 28, 29, 30, 31, 32, 33, 34, 35, 36, 37, 38, 39, 40, 41, 42, 43, 44, 45, 46, 47, 48, 49, 50, 51, 52, 53, 54, 55, 56, 57, 58, 59, 60, 61, 62, 63, 64, 65, 66, 67, 68, 69, 70, 71, 72, 73, 74, 75, 76, 77, 78, 79, 80, 81, 82, 83, 84, 85, 86, 87, 88, 89, 90, 91, 92, 93, 94, 95, 96, 97, 98, 99], \"y\": [-0.41705545013634915, -0.48642056858316945, -0.026443392359397484, 0.1978372625783503, 1.4968152023860652, 1.2996001460682738, -1.9367361458578556, -0.7567789330556283, -2.054035669273658, 0.5048997928080652, -1.1112808411952075, 0.5912890910463597, 0.0955475906516338, -0.28622310082696395, 0.11737426814490341, -0.06758176195487915, 0.3241491954622198, -0.5104479126394454, 0.026529123575938545, 1.4972763559326852, 1.8253818450833434, -1.2574190220624064, 0.1257869275628511, 0.016621627579822357, 0.979647443174523, 0.518474140677526, -0.41373982543347276, 0.009111766977325414, 0.7981851789989233, -1.5066373021119543, -0.8145019514506392, 1.2127894892403486, 1.1666091840168742, -0.1826814988975061, 0.2121435888368178, 0.5919460396147409, 0.6706604908690293, -0.1538820807314714, -0.06481604156077372, 0.6865617899199997, 0.5772096001553042, 0.469910962356171, -2.0005706396554475, 0.7472354988856291, -0.6389610051560966, -0.38295815856378096, -0.09249688990779162, 1.6673465664575287, -0.5169802146802591, 0.3229158282844716, -2.2439072734691266, -0.59787255059542, 2.0190019560628656, -0.8827665762111087, 0.1720370484706035, 1.1447792901642073, -2.021110364925016, -0.4431961270162332, 0.6154890464199887, -0.5340413595491634, -1.4300515449852669, -0.4289970586923092, -3.187864606601478, -0.5443854916908588, 1.9027789968231628, 0.028860644801460108, -0.9070719076829377, 2.2604509548717204, -0.4756263042930482, -1.0527349279366778, 1.0989883088287775, 0.8363471991549375, 0.9390577333704273, -0.6821309372267801, -0.040109791076703746, -1.0926766026681485, 0.8810484800262337, 0.13899121632294173, 0.18175429939228152, 0.6641933255515288, -0.29364200182227196, 0.5215667308020342, 0.511801600346848, 0.1323902697067605, -2.1124151258180466, -0.3963021602119647, 1.1669298215227715, 0.7144341554925651, 1.393601613907853, 0.8542543813843058, 1.793693509296129, 1.958951631262988, 1.9793533489183885, 0.5393936516728588, 0.8635557050746643, 0.19647333456875704, -1.3462894052999834, -0.036318884695404764, -0.5437514526982358, -0.8788039924624359]}, {\"connectgaps\": false, \"fill\": \"tozeroy\", \"line\": {\"color\": \"green\", \"dash\": \"solid\", \"shape\": \"linear\", \"width\": 0.5}, \"mode\": \"lines\", \"name\": \"Spread\", \"showlegend\": false, \"type\": \"scatter\", \"x\": [0, 1, 2, 3, 4, 5, 6, 7, 8, 9, 10, 11, 12, 13, 14, 15, 16, 17, 18, 19, 20, 21, 22, 23, 24, 25, 26, 27, 28, 29, 30, 31, 32, 33, 34, 35, 36, 37, 38, 39, 40, 41, 42, 43, 44, 45, 46, 47, 48, 49, 50, 51, 52, 53, 54, 55, 56, 57, 58, 59, 60, 61, 62, 63, 64, 65, 66, 67, 68, 69, 70, 71, 72, 73, 74, 75, 76, 77, 78, 79, 80, 81, 82, 83, 84, 85, 86, 87, 88, 89, 90, 91, 92, 93, 94, 95, 96, 97, 98, 99], \"xaxis\": \"x2\", \"y\": [\"\", 0.49642461104615676, 1.0865170092468754, \"\", \"\", \"\", 1.9894410929104902, 0.7381634237923561, 2.396714811712054, 0.21074136839583224, 1.214487626341914, 0.9390435795146128, \"\", \"\", 0.10572892885973721, 0.5730691465946213, 0.07853736452928828, \"\", 0.7685426398369263, \"\", \"\", 0.6338429962029946, \"\", 0.10554027356013422, \"\", 0.04545124489811769, \"\", 1.0794599617879241, \"\", \"\", 0.8330717417961805, \"\", \"\", \"\", 0.7612336910259068, 0.5423171753630418, \"\", 1.0436973957004474, 0.5017832828656854, \"\", \"\", \"\", 1.4740404344782696, \"\", 1.841905290092236, \"\", \"\", \"\", \"\", \"\", 3.698459754206718, 1.5642920021176927, \"\", 1.5245722819631207, 0.05304158184906599, \"\", 1.718897261130961, 0.6389467230456445, \"\", 0.737119934530498, 1.635424233835905, 2.43668077090143, 1.703524541353371, 2.1447173810862017, \"\", \"\", 0.9664265014704632, \"\", 0.6236401626181499, 1.7844165693435228, 1.532340344769222, \"\", 0.2297417876498582, 1.7144247313028917, \"\", 2.4453207618404584, \"\", \"\", \"\", 0.3240160391995116, 1.0652442677542457, \"\", 0.4379567251415132, 0.21516056074276058, 1.851536140910695, 2.0690269213742933, \"\", \"\", \"\", \"\", \"\", \"\", \"\", 0.3849068613740939, \"\", \"\", 2.0227697316134194, \"\", 0.7798840113903724, \"\"], \"yaxis\": \"y2\"}, {\"connectgaps\": false, \"fill\": \"tozeroy\", \"line\": {\"color\": \"red\", \"dash\": \"solid\", \"shape\": \"linear\", \"width\": 0.5}, \"mode\": \"lines\", \"name\": \"Spread\", \"showlegend\": false, \"type\": \"scatter\", \"x\": [0, 1, 2, 3, 4, 5, 6, 7, 8, 9, 10, 11, 12, 13, 14, 15, 16, 17, 18, 19, 20, 21, 22, 23, 24, 25, 26, 27, 28, 29, 30, 31, 32, 33, 34, 35, 36, 37, 38, 39, 40, 41, 42, 43, 44, 45, 46, 47, 48, 49, 50, 51, 52, 53, 54, 55, 56, 57, 58, 59, 60, 61, 62, 63, 64, 65, 66, 67, 68, 69, 70, 71, 72, 73, 74, 75, 76, 77, 78, 79, 80, 81, 82, 83, 84, 85, 86, 87, 88, 89, 90, 91, 92, 93, 94, 95, 96, 97, 98, 99], \"xaxis\": \"x2\", \"y\": [-0.9573167083136332, \"\", \"\", -0.08342676881026621, -1.622279063867292, -2.2066071239532006, \"\", \"\", \"\", \"\", \"\", \"\", -0.3074585807128496, -1.734629307115983, \"\", \"\", \"\", -0.9431538162968252, \"\", -1.7283919478229697, -1.058999910733089, \"\", -0.518379546247201, \"\", -2.5892698938295693, \"\", -0.6710145560043808, \"\", -1.3893937466883464, -0.18717213739182914, \"\", -0.358834513878729, -0.36031862030156114, -1.4427258383373285, \"\", \"\", -0.042131860286830136, \"\", \"\", -0.7998704046445433, -0.8822372366448317, -0.23077951334336838, \"\", -3.176011432529702, \"\", -1.7407492509143612, -1.2994968719163345, -2.323491899291036, -0.5468393894067967, -1.3573559636539025, \"\", \"\", -0.6675159314971097, \"\", \"\", -0.589597118551881, \"\", \"\", -0.7054989361630086, \"\", \"\", \"\", \"\", \"\", -4.561705196325304, -0.7763980451063639, \"\", -4.59957832009308, \"\", \"\", \"\", -1.497284386809048, \"\", \"\", -0.082552298843349, \"\", -1.537951690426681, -1.4644275602054087, -0.1465725163470785, \"\", \"\", -0.2644170752258273, \"\", \"\", \"\", \"\", -0.19698176247857013, -1.2291039310026446, -1.2058500843448072, -1.0180763427032975, -2.4228440561446667, -2.286582752758141, -3.10133343829055, \"\", -0.5223370273050181, -0.37410873365035135, \"\", -1.0549713392394495, \"\", -0.04179891955116677], \"yaxis\": \"y2\"}],                        {\"hovermode\": \"x\", \"legend\": {\"bgcolor\": \"#F5F6F9\", \"font\": {\"color\": \"#4D5663\"}}, \"paper_bgcolor\": \"#F5F6F9\", \"plot_bgcolor\": \"#F5F6F9\", \"template\": {\"data\": {\"bar\": [{\"error_x\": {\"color\": \"#2a3f5f\"}, \"error_y\": {\"color\": \"#2a3f5f\"}, \"marker\": {\"line\": {\"color\": \"#E5ECF6\", \"width\": 0.5}}, \"type\": \"bar\"}], \"barpolar\": [{\"marker\": {\"line\": {\"color\": \"#E5ECF6\", \"width\": 0.5}}, \"type\": \"barpolar\"}], \"carpet\": [{\"aaxis\": {\"endlinecolor\": \"#2a3f5f\", \"gridcolor\": \"white\", \"linecolor\": \"white\", \"minorgridcolor\": \"white\", \"startlinecolor\": \"#2a3f5f\"}, \"baxis\": {\"endlinecolor\": \"#2a3f5f\", \"gridcolor\": \"white\", \"linecolor\": \"white\", \"minorgridcolor\": \"white\", \"startlinecolor\": \"#2a3f5f\"}, \"type\": \"carpet\"}], \"choropleth\": [{\"colorbar\": {\"outlinewidth\": 0, \"ticks\": \"\"}, \"type\": \"choropleth\"}], \"contour\": [{\"colorbar\": {\"outlinewidth\": 0, \"ticks\": \"\"}, \"colorscale\": [[0.0, \"#0d0887\"], [0.1111111111111111, \"#46039f\"], [0.2222222222222222, \"#7201a8\"], [0.3333333333333333, \"#9c179e\"], [0.4444444444444444, \"#bd3786\"], [0.5555555555555556, \"#d8576b\"], [0.6666666666666666, \"#ed7953\"], [0.7777777777777778, \"#fb9f3a\"], [0.8888888888888888, \"#fdca26\"], [1.0, \"#f0f921\"]], \"type\": \"contour\"}], \"contourcarpet\": [{\"colorbar\": {\"outlinewidth\": 0, \"ticks\": \"\"}, \"type\": \"contourcarpet\"}], \"heatmap\": [{\"colorbar\": {\"outlinewidth\": 0, \"ticks\": \"\"}, \"colorscale\": [[0.0, \"#0d0887\"], [0.1111111111111111, \"#46039f\"], [0.2222222222222222, \"#7201a8\"], [0.3333333333333333, \"#9c179e\"], [0.4444444444444444, \"#bd3786\"], [0.5555555555555556, \"#d8576b\"], [0.6666666666666666, \"#ed7953\"], [0.7777777777777778, \"#fb9f3a\"], [0.8888888888888888, \"#fdca26\"], [1.0, \"#f0f921\"]], \"type\": \"heatmap\"}], \"heatmapgl\": [{\"colorbar\": {\"outlinewidth\": 0, \"ticks\": \"\"}, \"colorscale\": [[0.0, \"#0d0887\"], [0.1111111111111111, \"#46039f\"], [0.2222222222222222, \"#7201a8\"], [0.3333333333333333, \"#9c179e\"], [0.4444444444444444, \"#bd3786\"], [0.5555555555555556, \"#d8576b\"], [0.6666666666666666, \"#ed7953\"], [0.7777777777777778, \"#fb9f3a\"], [0.8888888888888888, \"#fdca26\"], [1.0, \"#f0f921\"]], \"type\": \"heatmapgl\"}], \"histogram\": [{\"marker\": {\"colorbar\": {\"outlinewidth\": 0, \"ticks\": \"\"}}, \"type\": \"histogram\"}], \"histogram2d\": [{\"colorbar\": {\"outlinewidth\": 0, \"ticks\": \"\"}, \"colorscale\": [[0.0, \"#0d0887\"], [0.1111111111111111, \"#46039f\"], [0.2222222222222222, \"#7201a8\"], [0.3333333333333333, \"#9c179e\"], [0.4444444444444444, \"#bd3786\"], [0.5555555555555556, \"#d8576b\"], [0.6666666666666666, \"#ed7953\"], [0.7777777777777778, \"#fb9f3a\"], [0.8888888888888888, \"#fdca26\"], [1.0, \"#f0f921\"]], \"type\": \"histogram2d\"}], \"histogram2dcontour\": [{\"colorbar\": {\"outlinewidth\": 0, \"ticks\": \"\"}, \"colorscale\": [[0.0, \"#0d0887\"], [0.1111111111111111, \"#46039f\"], [0.2222222222222222, \"#7201a8\"], [0.3333333333333333, \"#9c179e\"], [0.4444444444444444, \"#bd3786\"], [0.5555555555555556, \"#d8576b\"], [0.6666666666666666, \"#ed7953\"], [0.7777777777777778, \"#fb9f3a\"], [0.8888888888888888, \"#fdca26\"], [1.0, \"#f0f921\"]], \"type\": \"histogram2dcontour\"}], \"mesh3d\": [{\"colorbar\": {\"outlinewidth\": 0, \"ticks\": \"\"}, \"type\": \"mesh3d\"}], \"parcoords\": [{\"line\": {\"colorbar\": {\"outlinewidth\": 0, \"ticks\": \"\"}}, \"type\": \"parcoords\"}], \"pie\": [{\"automargin\": true, \"type\": \"pie\"}], \"scatter\": [{\"marker\": {\"colorbar\": {\"outlinewidth\": 0, \"ticks\": \"\"}}, \"type\": \"scatter\"}], \"scatter3d\": [{\"line\": {\"colorbar\": {\"outlinewidth\": 0, \"ticks\": \"\"}}, \"marker\": {\"colorbar\": {\"outlinewidth\": 0, \"ticks\": \"\"}}, \"type\": \"scatter3d\"}], \"scattercarpet\": [{\"marker\": {\"colorbar\": {\"outlinewidth\": 0, \"ticks\": \"\"}}, \"type\": \"scattercarpet\"}], \"scattergeo\": [{\"marker\": {\"colorbar\": {\"outlinewidth\": 0, \"ticks\": \"\"}}, \"type\": \"scattergeo\"}], \"scattergl\": [{\"marker\": {\"colorbar\": {\"outlinewidth\": 0, \"ticks\": \"\"}}, \"type\": \"scattergl\"}], \"scattermapbox\": [{\"marker\": {\"colorbar\": {\"outlinewidth\": 0, \"ticks\": \"\"}}, \"type\": \"scattermapbox\"}], \"scatterpolar\": [{\"marker\": {\"colorbar\": {\"outlinewidth\": 0, \"ticks\": \"\"}}, \"type\": \"scatterpolar\"}], \"scatterpolargl\": [{\"marker\": {\"colorbar\": {\"outlinewidth\": 0, \"ticks\": \"\"}}, \"type\": \"scatterpolargl\"}], \"scatterternary\": [{\"marker\": {\"colorbar\": {\"outlinewidth\": 0, \"ticks\": \"\"}}, \"type\": \"scatterternary\"}], \"surface\": [{\"colorbar\": {\"outlinewidth\": 0, \"ticks\": \"\"}, \"colorscale\": [[0.0, \"#0d0887\"], [0.1111111111111111, \"#46039f\"], [0.2222222222222222, \"#7201a8\"], [0.3333333333333333, \"#9c179e\"], [0.4444444444444444, \"#bd3786\"], [0.5555555555555556, \"#d8576b\"], [0.6666666666666666, \"#ed7953\"], [0.7777777777777778, \"#fb9f3a\"], [0.8888888888888888, \"#fdca26\"], [1.0, \"#f0f921\"]], \"type\": \"surface\"}], \"table\": [{\"cells\": {\"fill\": {\"color\": \"#EBF0F8\"}, \"line\": {\"color\": \"white\"}}, \"header\": {\"fill\": {\"color\": \"#C8D4E3\"}, \"line\": {\"color\": \"white\"}}, \"type\": \"table\"}]}, \"layout\": {\"annotationdefaults\": {\"arrowcolor\": \"#2a3f5f\", \"arrowhead\": 0, \"arrowwidth\": 1}, \"autotypenumbers\": \"strict\", \"coloraxis\": {\"colorbar\": {\"outlinewidth\": 0, \"ticks\": \"\"}}, \"colorscale\": {\"diverging\": [[0, \"#8e0152\"], [0.1, \"#c51b7d\"], [0.2, \"#de77ae\"], [0.3, \"#f1b6da\"], [0.4, \"#fde0ef\"], [0.5, \"#f7f7f7\"], [0.6, \"#e6f5d0\"], [0.7, \"#b8e186\"], [0.8, \"#7fbc41\"], [0.9, \"#4d9221\"], [1, \"#276419\"]], \"sequential\": [[0.0, \"#0d0887\"], [0.1111111111111111, \"#46039f\"], [0.2222222222222222, \"#7201a8\"], [0.3333333333333333, \"#9c179e\"], [0.4444444444444444, \"#bd3786\"], [0.5555555555555556, \"#d8576b\"], [0.6666666666666666, \"#ed7953\"], [0.7777777777777778, \"#fb9f3a\"], [0.8888888888888888, \"#fdca26\"], [1.0, \"#f0f921\"]], \"sequentialminus\": [[0.0, \"#0d0887\"], [0.1111111111111111, \"#46039f\"], [0.2222222222222222, \"#7201a8\"], [0.3333333333333333, \"#9c179e\"], [0.4444444444444444, \"#bd3786\"], [0.5555555555555556, \"#d8576b\"], [0.6666666666666666, \"#ed7953\"], [0.7777777777777778, \"#fb9f3a\"], [0.8888888888888888, \"#fdca26\"], [1.0, \"#f0f921\"]]}, \"colorway\": [\"#636efa\", \"#EF553B\", \"#00cc96\", \"#ab63fa\", \"#FFA15A\", \"#19d3f3\", \"#FF6692\", \"#B6E880\", \"#FF97FF\", \"#FECB52\"], \"font\": {\"color\": \"#2a3f5f\"}, \"geo\": {\"bgcolor\": \"white\", \"lakecolor\": \"white\", \"landcolor\": \"#E5ECF6\", \"showlakes\": true, \"showland\": true, \"subunitcolor\": \"white\"}, \"hoverlabel\": {\"align\": \"left\"}, \"hovermode\": \"closest\", \"mapbox\": {\"style\": \"light\"}, \"paper_bgcolor\": \"white\", \"plot_bgcolor\": \"#E5ECF6\", \"polar\": {\"angularaxis\": {\"gridcolor\": \"white\", \"linecolor\": \"white\", \"ticks\": \"\"}, \"bgcolor\": \"#E5ECF6\", \"radialaxis\": {\"gridcolor\": \"white\", \"linecolor\": \"white\", \"ticks\": \"\"}}, \"scene\": {\"xaxis\": {\"backgroundcolor\": \"#E5ECF6\", \"gridcolor\": \"white\", \"gridwidth\": 2, \"linecolor\": \"white\", \"showbackground\": true, \"ticks\": \"\", \"zerolinecolor\": \"white\"}, \"yaxis\": {\"backgroundcolor\": \"#E5ECF6\", \"gridcolor\": \"white\", \"gridwidth\": 2, \"linecolor\": \"white\", \"showbackground\": true, \"ticks\": \"\", \"zerolinecolor\": \"white\"}, \"zaxis\": {\"backgroundcolor\": \"#E5ECF6\", \"gridcolor\": \"white\", \"gridwidth\": 2, \"linecolor\": \"white\", \"showbackground\": true, \"ticks\": \"\", \"zerolinecolor\": \"white\"}}, \"shapedefaults\": {\"line\": {\"color\": \"#2a3f5f\"}}, \"ternary\": {\"aaxis\": {\"gridcolor\": \"white\", \"linecolor\": \"white\", \"ticks\": \"\"}, \"baxis\": {\"gridcolor\": \"white\", \"linecolor\": \"white\", \"ticks\": \"\"}, \"bgcolor\": \"#E5ECF6\", \"caxis\": {\"gridcolor\": \"white\", \"linecolor\": \"white\", \"ticks\": \"\"}}, \"title\": {\"x\": 0.05}, \"xaxis\": {\"automargin\": true, \"gridcolor\": \"white\", \"linecolor\": \"white\", \"ticks\": \"\", \"title\": {\"standoff\": 15}, \"zerolinecolor\": \"white\", \"zerolinewidth\": 2}, \"yaxis\": {\"automargin\": true, \"gridcolor\": \"white\", \"linecolor\": \"white\", \"ticks\": \"\", \"title\": {\"standoff\": 15}, \"zerolinecolor\": \"white\", \"zerolinewidth\": 2}}}, \"title\": {\"font\": {\"color\": \"#4D5663\"}}, \"xaxis\": {\"gridcolor\": \"#E1E5ED\", \"showgrid\": true, \"tickfont\": {\"color\": \"#4D5663\"}, \"title\": {\"font\": {\"color\": \"#4D5663\"}, \"text\": \"\"}, \"zerolinecolor\": \"#E1E5ED\"}, \"xaxis2\": {\"anchor\": \"y2\", \"gridcolor\": \"#E1E5ED\", \"showgrid\": true, \"showticklabels\": false, \"tickfont\": {\"color\": \"#4D5663\"}, \"title\": {\"font\": {\"color\": \"#4D5663\"}, \"text\": \"\"}, \"zerolinecolor\": \"#E1E5ED\"}, \"yaxis\": {\"domain\": [0.3, 1], \"gridcolor\": \"#E1E5ED\", \"showgrid\": true, \"tickfont\": {\"color\": \"#4D5663\"}, \"title\": {\"font\": {\"color\": \"#4D5663\"}, \"text\": \"\"}, \"zerolinecolor\": \"#E1E5ED\"}, \"yaxis2\": {\"domain\": [0, 0.25], \"gridcolor\": \"#E1E5ED\", \"showgrid\": true, \"tickfont\": {\"color\": \"#4D5663\"}, \"title\": {\"font\": {\"color\": \"#4D5663\"}, \"text\": \"Spread\"}, \"zerolinecolor\": \"#E1E5ED\"}},                        {\"showLink\": true, \"linkText\": \"Export to plot.ly\", \"plotlyServerURL\": \"https://plot.ly\", \"responsive\": true}                    ).then(function(){\n",
       "                            \n",
       "var gd = document.getElementById('ce9df0fe-a5f2-4b76-b70a-f447c1130464');\n",
       "var x = new MutationObserver(function (mutations, observer) {{\n",
       "        var display = window.getComputedStyle(gd).display;\n",
       "        if (!display || display === 'none') {{\n",
       "            console.log([gd, 'removed!']);\n",
       "            Plotly.purge(gd);\n",
       "            observer.disconnect();\n",
       "        }}\n",
       "}});\n",
       "\n",
       "// Listen for the removal of the full notebook cells\n",
       "var notebookContainer = gd.closest('#notebook-container');\n",
       "if (notebookContainer) {{\n",
       "    x.observe(notebookContainer, {childList: true});\n",
       "}}\n",
       "\n",
       "// Listen for the clearing of the current output cell\n",
       "var outputEl = gd.closest('.output');\n",
       "if (outputEl) {{\n",
       "    x.observe(outputEl, {childList: true});\n",
       "}}\n",
       "\n",
       "                        })                };                });            </script>        </div>"
      ]
     },
     "metadata": {},
     "output_type": "display_data"
    }
   ],
   "source": [
    "df[['A','B']].iplot(kind='spread')"
   ]
  },
  {
   "cell_type": "markdown",
   "metadata": {},
   "source": [
    "## histogram"
   ]
  },
  {
   "cell_type": "code",
   "execution_count": 30,
   "metadata": {},
   "outputs": [
    {
     "data": {
      "application/vnd.plotly.v1+json": {
       "config": {
        "linkText": "Export to plot.ly",
        "plotlyServerURL": "https://plot.ly",
        "showLink": true
       },
       "data": [
        {
         "histfunc": "count",
         "histnorm": "",
         "marker": {
          "color": "rgba(255, 153, 51, 1.0)",
          "line": {
           "color": "#4D5663",
           "width": 1.3
          }
         },
         "name": "A",
         "opacity": 0.8,
         "orientation": "v",
         "type": "histogram",
         "x": [
          -1.3743721584499824,
          0.01000404246298731,
          1.060073616887478,
          0.11441049376808408,
          -0.1254638614812266,
          -0.9070069778849268,
          0.052704947052634725,
          -0.018615509263272198,
          0.3426791424383957,
          0.7156411612038974,
          0.10320678514670655,
          1.5303326705609726,
          -0.21191099006121578,
          -2.020852407942947,
          0.22310319700464062,
          0.5054873846397421,
          0.4026865599915081,
          -1.4536017289362706,
          0.7950717634128648,
          -0.23111559189028452,
          0.7663819343502544,
          -0.6235760258594119,
          -0.39259261868434986,
          0.12216190113995658,
          -1.6096224506550463,
          0.5639253855756436,
          -1.0847543814378535,
          1.0885717287652497,
          -0.591208567689423,
          -1.6938094395037835,
          0.018569790345541275,
          0.8539549753616196,
          0.806290563715313,
          -1.6254073372348345,
          0.9733772798627246,
          1.1342632149777827,
          0.6285286305821992,
          0.8898153149689759,
          0.43696724130491166,
          -0.11330861472454354,
          -0.30502763648952747,
          0.23913144901280264,
          -0.5265302051771779,
          -2.428775933644073,
          1.2029442849361394,
          -2.123707409478142,
          -1.391993761824126,
          -0.6561453328335073,
          -1.0638196040870558,
          -1.034440135369431,
          1.4545524807375916,
          0.9664194515222728,
          1.3514860245657558,
          0.641805705752012,
          0.2250786303196695,
          0.5551821716123263,
          -0.3022131037940552,
          0.1957505960294113,
          -0.09000988974301995,
          0.2030785749813345,
          0.20537268885063817,
          2.007683712209121,
          -1.4843400652481071,
          1.600331889395343,
          -2.658926199502142,
          -0.7475374003049038,
          0.059354593787525535,
          -2.3391273652213593,
          0.14801385832510175,
          0.7316816414068449,
          2.6313286535979996,
          -0.6609371876541106,
          1.1687995210202855,
          1.0322937940761117,
          -0.12266208992005274,
          1.35264415917231,
          -0.6569032104004473,
          -1.325436343882467,
          0.03518178304520304,
          0.9882093647510404,
          0.7716022659319737,
          0.2571496555762069,
          0.9497583254883611,
          0.34755083044952106,
          -0.2608789849073516,
          1.6727247611623286,
          0.9699480590442013,
          -0.5146697755100796,
          0.1877515295630458,
          -0.16382196131899163,
          -0.6291505468485376,
          -0.3276311214951528,
          -1.1219800893721616,
          0.9243005130469527,
          0.34121867776964615,
          -0.1776353990815943,
          0.6764803263134359,
          -1.0912902239348543,
          0.23613255869213673,
          -0.9206029120136027
         ]
        },
        {
         "histfunc": "count",
         "histnorm": "",
         "marker": {
          "color": "rgba(55, 128, 191, 1.0)",
          "line": {
           "color": "#4D5663",
           "width": 1.3
          }
         },
         "name": "B",
         "opacity": 0.8,
         "orientation": "v",
         "type": "histogram",
         "x": [
          -0.41705545013634915,
          -0.48642056858316945,
          -0.026443392359397484,
          0.1978372625783503,
          1.4968152023860652,
          1.2996001460682738,
          -1.9367361458578556,
          -0.7567789330556283,
          -2.054035669273658,
          0.5048997928080652,
          -1.1112808411952075,
          0.5912890910463597,
          0.0955475906516338,
          -0.28622310082696395,
          0.11737426814490341,
          -0.06758176195487915,
          0.3241491954622198,
          -0.5104479126394454,
          0.026529123575938545,
          1.4972763559326852,
          1.8253818450833434,
          -1.2574190220624064,
          0.1257869275628511,
          0.016621627579822357,
          0.979647443174523,
          0.518474140677526,
          -0.41373982543347276,
          0.009111766977325414,
          0.7981851789989233,
          -1.5066373021119543,
          -0.8145019514506392,
          1.2127894892403486,
          1.1666091840168742,
          -0.1826814988975061,
          0.2121435888368178,
          0.5919460396147409,
          0.6706604908690293,
          -0.1538820807314714,
          -0.06481604156077372,
          0.6865617899199997,
          0.5772096001553042,
          0.469910962356171,
          -2.0005706396554475,
          0.7472354988856291,
          -0.6389610051560966,
          -0.38295815856378096,
          -0.09249688990779162,
          1.6673465664575287,
          -0.5169802146802591,
          0.3229158282844716,
          -2.2439072734691266,
          -0.59787255059542,
          2.0190019560628656,
          -0.8827665762111087,
          0.1720370484706035,
          1.1447792901642073,
          -2.021110364925016,
          -0.4431961270162332,
          0.6154890464199887,
          -0.5340413595491634,
          -1.4300515449852669,
          -0.4289970586923092,
          -3.187864606601478,
          -0.5443854916908588,
          1.9027789968231628,
          0.028860644801460108,
          -0.9070719076829377,
          2.2604509548717204,
          -0.4756263042930482,
          -1.0527349279366778,
          1.0989883088287775,
          0.8363471991549375,
          0.9390577333704273,
          -0.6821309372267801,
          -0.040109791076703746,
          -1.0926766026681485,
          0.8810484800262337,
          0.13899121632294173,
          0.18175429939228152,
          0.6641933255515288,
          -0.29364200182227196,
          0.5215667308020342,
          0.511801600346848,
          0.1323902697067605,
          -2.1124151258180466,
          -0.3963021602119647,
          1.1669298215227715,
          0.7144341554925651,
          1.393601613907853,
          0.8542543813843058,
          1.793693509296129,
          1.958951631262988,
          1.9793533489183885,
          0.5393936516728588,
          0.8635557050746643,
          0.19647333456875704,
          -1.3462894052999834,
          -0.036318884695404764,
          -0.5437514526982358,
          -0.8788039924624359
         ]
        },
        {
         "histfunc": "count",
         "histnorm": "",
         "marker": {
          "color": "rgba(50, 171, 96, 1.0)",
          "line": {
           "color": "#4D5663",
           "width": 1.3
          }
         },
         "name": "C",
         "opacity": 0.8,
         "orientation": "v",
         "type": "histogram",
         "x": [
          -0.21276462251127787,
          0.5392444209308489,
          1.201647243870889,
          1.6782766296745564,
          1.1780165541193524,
          0.40167196181061116,
          -0.1591374159699852,
          0.39767413608763563,
          0.8651958256291215,
          1.478487857872841,
          -0.6734933053355409,
          -0.9164503190359672,
          -0.1522431081070318,
          -0.17775723859865142,
          -0.5784508624076548,
          -0.8953430846986111,
          -0.5955412799976927,
          -1.4996597344022469,
          -0.7358247995812351,
          -0.933572443609917,
          -0.008828766883507387,
          -0.8164283705009511,
          1.273678888538661,
          -0.8651312409226529,
          0.35478150022354593,
          0.986399459757734,
          -0.5352650018171781,
          -1.3886598301517936,
          -0.9095518855205877,
          -0.18025157413060977,
          -1.1639538469777637,
          -0.45797392379674257,
          0.6729367441748657,
          -1.8550523081681753,
          -1.2923975140689834,
          0.1464356554680572,
          -0.9334423032882809,
          -0.44248786315560623,
          1.0671262179776113,
          0.33753739416763867,
          0.9128835546431392,
          -0.5900917794231104,
          -0.3737024267929817,
          0.3712684727445248,
          -0.7557372214105362,
          0.843767325377286,
          -2.206479423111974,
          0.4426752009503339,
          -1.418894646378147,
          -1.6105792466568054,
          0.14046905986929045,
          -1.7025655506186397,
          -1.1263018556886557,
          0.04343967291843729,
          -1.2047503941915687,
          -0.09781015949410614,
          -0.24368586131596517,
          0.6958509742327339,
          -1.0704795691259144,
          0.5620221156749131,
          0.9390052445805276,
          -1.3349060314912693,
          0.40321915973170414,
          1.6285358959063552,
          -0.17701723872220992,
          0.8234083102866014,
          0.9957585721559657,
          -0.3763413287556481,
          -1.6265324048745329,
          -0.621938385545258,
          -0.465630623615682,
          1.526182232958349,
          0.3520390029182346,
          2.5651656043033713,
          0.7960377533994962,
          0.32625925238639847,
          -1.1861624824881056,
          0.949283354081687,
          0.08425473048695817,
          -0.7318456749714377,
          -1.0006911553437978,
          0.41625205826679096,
          -1.0046004868315244,
          0.09274029071208498,
          -1.741066554969545,
          -0.1488349120028584,
          0.06298419279152194,
          -1.0202004771437285,
          0.31668257541722206,
          -1.9144300423394567,
          1.8560064604860345,
          -0.6905437344649258,
          -0.020351338723384127,
          -0.7245034758310543,
          1.2620486376354592,
          -0.15544435172249807,
          -0.38249834037408337,
          -0.44288833342145334,
          -0.37916364819204046,
          1.500013795209575
         ]
        },
        {
         "histfunc": "count",
         "histnorm": "",
         "marker": {
          "color": "rgba(128, 0, 128, 1.0)",
          "line": {
           "color": "#4D5663",
           "width": 1.3
          }
         },
         "name": "D",
         "opacity": 0.8,
         "orientation": "v",
         "type": "histogram",
         "x": [
          1.2646382812754842,
          -0.8971743142451027,
          -2.0754884569254672,
          0.24979143146563057,
          0.7113633997792028,
          1.278216640237135,
          -0.49685845418634067,
          1.2344611106270564,
          0.36195754457371004,
          0.6043429263082021,
          1.1059302402322535,
          -0.6515379521018477,
          0.3646331090549264,
          -0.9845536691002664,
          1.4409263079086052,
          0.8816667955217995,
          -0.7853779284986235,
          -0.7978616503508753,
          -1.0828660240395294,
          0.10487744298562451,
          0.19217934901563238,
          -0.44483118359065044,
          0.081992768065037,
          0.717726912938894,
          -0.4840805058901615,
          0.9655267003749074,
          -0.15515680869122653,
          0.18765636261666088,
          1.1626969975525205,
          1.1221860512686315,
          -0.7262998465735776,
          0.5769953510599819,
          -0.34292887593453836,
          -0.7177335259504108,
          0.4645526729614544,
          2.2636115244007744,
          0.6788635025563274,
          -1.3586866410113239,
          1.402105490753138,
          -0.04773722688359785,
          -0.05201898018951273,
          0.2775465835054213,
          -2.5368187629127665,
          0.7489922275026335,
          0.4366105803867375,
          -0.22742515624588822,
          0.8389663215980219,
          0.8119997599104144,
          1.5599969289424327,
          1.1960493070861002,
          0.5532823184545692,
          0.5429127445526751,
          -0.9216892467648115,
          -0.7124766367267783,
          -0.5469063510503084,
          1.2104299366607287,
          0.06529088469119605,
          -0.26731497693372736,
          0.18006682091523982,
          1.5858814002047847,
          0.028250097720445115,
          1.3266255468110029,
          1.3247055522245879,
          0.016966380125314793,
          -0.8959419956364261,
          0.878890833696069,
          -0.01258411681511281,
          -0.0795240148058931,
          0.09205341634269462,
          0.8743683456662174,
          1.2651793568520557,
          -0.01223560757394819,
          -1.1669543697177909,
          -1.0420826567320396,
          2.063838270434295,
          0.0968244764073173,
          -0.14942699098437895,
          -1.3822629131066702,
          0.15884855391204272,
          0.6019636707340277,
          1.2663377202008308,
          -1.6319526838234355,
          -0.08569233667719377,
          -0.19194039719829523,
          0.6089137382785959,
          0.21037399045564947,
          1.1878195115705752,
          0.10049673180139712,
          -0.6091707263338128,
          -1.0208458347127198,
          -0.7948310997841892,
          0.8263015448397337,
          0.6008696554415681,
          -2.853267844849281,
          -0.953772467478873,
          -0.3422257288319156,
          0.5312134043166221,
          0.15022922890648535,
          0.2815641965610305,
          -0.2403819541347331
         ]
        }
       ],
       "layout": {
        "barmode": "overlay",
        "legend": {
         "bgcolor": "#F5F6F9",
         "font": {
          "color": "#4D5663"
         }
        },
        "paper_bgcolor": "#F5F6F9",
        "plot_bgcolor": "#F5F6F9",
        "template": {
         "data": {
          "bar": [
           {
            "error_x": {
             "color": "#2a3f5f"
            },
            "error_y": {
             "color": "#2a3f5f"
            },
            "marker": {
             "line": {
              "color": "#E5ECF6",
              "width": 0.5
             }
            },
            "type": "bar"
           }
          ],
          "barpolar": [
           {
            "marker": {
             "line": {
              "color": "#E5ECF6",
              "width": 0.5
             }
            },
            "type": "barpolar"
           }
          ],
          "carpet": [
           {
            "aaxis": {
             "endlinecolor": "#2a3f5f",
             "gridcolor": "white",
             "linecolor": "white",
             "minorgridcolor": "white",
             "startlinecolor": "#2a3f5f"
            },
            "baxis": {
             "endlinecolor": "#2a3f5f",
             "gridcolor": "white",
             "linecolor": "white",
             "minorgridcolor": "white",
             "startlinecolor": "#2a3f5f"
            },
            "type": "carpet"
           }
          ],
          "choropleth": [
           {
            "colorbar": {
             "outlinewidth": 0,
             "ticks": ""
            },
            "type": "choropleth"
           }
          ],
          "contour": [
           {
            "colorbar": {
             "outlinewidth": 0,
             "ticks": ""
            },
            "colorscale": [
             [
              0,
              "#0d0887"
             ],
             [
              0.1111111111111111,
              "#46039f"
             ],
             [
              0.2222222222222222,
              "#7201a8"
             ],
             [
              0.3333333333333333,
              "#9c179e"
             ],
             [
              0.4444444444444444,
              "#bd3786"
             ],
             [
              0.5555555555555556,
              "#d8576b"
             ],
             [
              0.6666666666666666,
              "#ed7953"
             ],
             [
              0.7777777777777778,
              "#fb9f3a"
             ],
             [
              0.8888888888888888,
              "#fdca26"
             ],
             [
              1,
              "#f0f921"
             ]
            ],
            "type": "contour"
           }
          ],
          "contourcarpet": [
           {
            "colorbar": {
             "outlinewidth": 0,
             "ticks": ""
            },
            "type": "contourcarpet"
           }
          ],
          "heatmap": [
           {
            "colorbar": {
             "outlinewidth": 0,
             "ticks": ""
            },
            "colorscale": [
             [
              0,
              "#0d0887"
             ],
             [
              0.1111111111111111,
              "#46039f"
             ],
             [
              0.2222222222222222,
              "#7201a8"
             ],
             [
              0.3333333333333333,
              "#9c179e"
             ],
             [
              0.4444444444444444,
              "#bd3786"
             ],
             [
              0.5555555555555556,
              "#d8576b"
             ],
             [
              0.6666666666666666,
              "#ed7953"
             ],
             [
              0.7777777777777778,
              "#fb9f3a"
             ],
             [
              0.8888888888888888,
              "#fdca26"
             ],
             [
              1,
              "#f0f921"
             ]
            ],
            "type": "heatmap"
           }
          ],
          "heatmapgl": [
           {
            "colorbar": {
             "outlinewidth": 0,
             "ticks": ""
            },
            "colorscale": [
             [
              0,
              "#0d0887"
             ],
             [
              0.1111111111111111,
              "#46039f"
             ],
             [
              0.2222222222222222,
              "#7201a8"
             ],
             [
              0.3333333333333333,
              "#9c179e"
             ],
             [
              0.4444444444444444,
              "#bd3786"
             ],
             [
              0.5555555555555556,
              "#d8576b"
             ],
             [
              0.6666666666666666,
              "#ed7953"
             ],
             [
              0.7777777777777778,
              "#fb9f3a"
             ],
             [
              0.8888888888888888,
              "#fdca26"
             ],
             [
              1,
              "#f0f921"
             ]
            ],
            "type": "heatmapgl"
           }
          ],
          "histogram": [
           {
            "marker": {
             "colorbar": {
              "outlinewidth": 0,
              "ticks": ""
             }
            },
            "type": "histogram"
           }
          ],
          "histogram2d": [
           {
            "colorbar": {
             "outlinewidth": 0,
             "ticks": ""
            },
            "colorscale": [
             [
              0,
              "#0d0887"
             ],
             [
              0.1111111111111111,
              "#46039f"
             ],
             [
              0.2222222222222222,
              "#7201a8"
             ],
             [
              0.3333333333333333,
              "#9c179e"
             ],
             [
              0.4444444444444444,
              "#bd3786"
             ],
             [
              0.5555555555555556,
              "#d8576b"
             ],
             [
              0.6666666666666666,
              "#ed7953"
             ],
             [
              0.7777777777777778,
              "#fb9f3a"
             ],
             [
              0.8888888888888888,
              "#fdca26"
             ],
             [
              1,
              "#f0f921"
             ]
            ],
            "type": "histogram2d"
           }
          ],
          "histogram2dcontour": [
           {
            "colorbar": {
             "outlinewidth": 0,
             "ticks": ""
            },
            "colorscale": [
             [
              0,
              "#0d0887"
             ],
             [
              0.1111111111111111,
              "#46039f"
             ],
             [
              0.2222222222222222,
              "#7201a8"
             ],
             [
              0.3333333333333333,
              "#9c179e"
             ],
             [
              0.4444444444444444,
              "#bd3786"
             ],
             [
              0.5555555555555556,
              "#d8576b"
             ],
             [
              0.6666666666666666,
              "#ed7953"
             ],
             [
              0.7777777777777778,
              "#fb9f3a"
             ],
             [
              0.8888888888888888,
              "#fdca26"
             ],
             [
              1,
              "#f0f921"
             ]
            ],
            "type": "histogram2dcontour"
           }
          ],
          "mesh3d": [
           {
            "colorbar": {
             "outlinewidth": 0,
             "ticks": ""
            },
            "type": "mesh3d"
           }
          ],
          "parcoords": [
           {
            "line": {
             "colorbar": {
              "outlinewidth": 0,
              "ticks": ""
             }
            },
            "type": "parcoords"
           }
          ],
          "pie": [
           {
            "automargin": true,
            "type": "pie"
           }
          ],
          "scatter": [
           {
            "marker": {
             "colorbar": {
              "outlinewidth": 0,
              "ticks": ""
             }
            },
            "type": "scatter"
           }
          ],
          "scatter3d": [
           {
            "line": {
             "colorbar": {
              "outlinewidth": 0,
              "ticks": ""
             }
            },
            "marker": {
             "colorbar": {
              "outlinewidth": 0,
              "ticks": ""
             }
            },
            "type": "scatter3d"
           }
          ],
          "scattercarpet": [
           {
            "marker": {
             "colorbar": {
              "outlinewidth": 0,
              "ticks": ""
             }
            },
            "type": "scattercarpet"
           }
          ],
          "scattergeo": [
           {
            "marker": {
             "colorbar": {
              "outlinewidth": 0,
              "ticks": ""
             }
            },
            "type": "scattergeo"
           }
          ],
          "scattergl": [
           {
            "marker": {
             "colorbar": {
              "outlinewidth": 0,
              "ticks": ""
             }
            },
            "type": "scattergl"
           }
          ],
          "scattermapbox": [
           {
            "marker": {
             "colorbar": {
              "outlinewidth": 0,
              "ticks": ""
             }
            },
            "type": "scattermapbox"
           }
          ],
          "scatterpolar": [
           {
            "marker": {
             "colorbar": {
              "outlinewidth": 0,
              "ticks": ""
             }
            },
            "type": "scatterpolar"
           }
          ],
          "scatterpolargl": [
           {
            "marker": {
             "colorbar": {
              "outlinewidth": 0,
              "ticks": ""
             }
            },
            "type": "scatterpolargl"
           }
          ],
          "scatterternary": [
           {
            "marker": {
             "colorbar": {
              "outlinewidth": 0,
              "ticks": ""
             }
            },
            "type": "scatterternary"
           }
          ],
          "surface": [
           {
            "colorbar": {
             "outlinewidth": 0,
             "ticks": ""
            },
            "colorscale": [
             [
              0,
              "#0d0887"
             ],
             [
              0.1111111111111111,
              "#46039f"
             ],
             [
              0.2222222222222222,
              "#7201a8"
             ],
             [
              0.3333333333333333,
              "#9c179e"
             ],
             [
              0.4444444444444444,
              "#bd3786"
             ],
             [
              0.5555555555555556,
              "#d8576b"
             ],
             [
              0.6666666666666666,
              "#ed7953"
             ],
             [
              0.7777777777777778,
              "#fb9f3a"
             ],
             [
              0.8888888888888888,
              "#fdca26"
             ],
             [
              1,
              "#f0f921"
             ]
            ],
            "type": "surface"
           }
          ],
          "table": [
           {
            "cells": {
             "fill": {
              "color": "#EBF0F8"
             },
             "line": {
              "color": "white"
             }
            },
            "header": {
             "fill": {
              "color": "#C8D4E3"
             },
             "line": {
              "color": "white"
             }
            },
            "type": "table"
           }
          ]
         },
         "layout": {
          "annotationdefaults": {
           "arrowcolor": "#2a3f5f",
           "arrowhead": 0,
           "arrowwidth": 1
          },
          "autotypenumbers": "strict",
          "coloraxis": {
           "colorbar": {
            "outlinewidth": 0,
            "ticks": ""
           }
          },
          "colorscale": {
           "diverging": [
            [
             0,
             "#8e0152"
            ],
            [
             0.1,
             "#c51b7d"
            ],
            [
             0.2,
             "#de77ae"
            ],
            [
             0.3,
             "#f1b6da"
            ],
            [
             0.4,
             "#fde0ef"
            ],
            [
             0.5,
             "#f7f7f7"
            ],
            [
             0.6,
             "#e6f5d0"
            ],
            [
             0.7,
             "#b8e186"
            ],
            [
             0.8,
             "#7fbc41"
            ],
            [
             0.9,
             "#4d9221"
            ],
            [
             1,
             "#276419"
            ]
           ],
           "sequential": [
            [
             0,
             "#0d0887"
            ],
            [
             0.1111111111111111,
             "#46039f"
            ],
            [
             0.2222222222222222,
             "#7201a8"
            ],
            [
             0.3333333333333333,
             "#9c179e"
            ],
            [
             0.4444444444444444,
             "#bd3786"
            ],
            [
             0.5555555555555556,
             "#d8576b"
            ],
            [
             0.6666666666666666,
             "#ed7953"
            ],
            [
             0.7777777777777778,
             "#fb9f3a"
            ],
            [
             0.8888888888888888,
             "#fdca26"
            ],
            [
             1,
             "#f0f921"
            ]
           ],
           "sequentialminus": [
            [
             0,
             "#0d0887"
            ],
            [
             0.1111111111111111,
             "#46039f"
            ],
            [
             0.2222222222222222,
             "#7201a8"
            ],
            [
             0.3333333333333333,
             "#9c179e"
            ],
            [
             0.4444444444444444,
             "#bd3786"
            ],
            [
             0.5555555555555556,
             "#d8576b"
            ],
            [
             0.6666666666666666,
             "#ed7953"
            ],
            [
             0.7777777777777778,
             "#fb9f3a"
            ],
            [
             0.8888888888888888,
             "#fdca26"
            ],
            [
             1,
             "#f0f921"
            ]
           ]
          },
          "colorway": [
           "#636efa",
           "#EF553B",
           "#00cc96",
           "#ab63fa",
           "#FFA15A",
           "#19d3f3",
           "#FF6692",
           "#B6E880",
           "#FF97FF",
           "#FECB52"
          ],
          "font": {
           "color": "#2a3f5f"
          },
          "geo": {
           "bgcolor": "white",
           "lakecolor": "white",
           "landcolor": "#E5ECF6",
           "showlakes": true,
           "showland": true,
           "subunitcolor": "white"
          },
          "hoverlabel": {
           "align": "left"
          },
          "hovermode": "closest",
          "mapbox": {
           "style": "light"
          },
          "paper_bgcolor": "white",
          "plot_bgcolor": "#E5ECF6",
          "polar": {
           "angularaxis": {
            "gridcolor": "white",
            "linecolor": "white",
            "ticks": ""
           },
           "bgcolor": "#E5ECF6",
           "radialaxis": {
            "gridcolor": "white",
            "linecolor": "white",
            "ticks": ""
           }
          },
          "scene": {
           "xaxis": {
            "backgroundcolor": "#E5ECF6",
            "gridcolor": "white",
            "gridwidth": 2,
            "linecolor": "white",
            "showbackground": true,
            "ticks": "",
            "zerolinecolor": "white"
           },
           "yaxis": {
            "backgroundcolor": "#E5ECF6",
            "gridcolor": "white",
            "gridwidth": 2,
            "linecolor": "white",
            "showbackground": true,
            "ticks": "",
            "zerolinecolor": "white"
           },
           "zaxis": {
            "backgroundcolor": "#E5ECF6",
            "gridcolor": "white",
            "gridwidth": 2,
            "linecolor": "white",
            "showbackground": true,
            "ticks": "",
            "zerolinecolor": "white"
           }
          },
          "shapedefaults": {
           "line": {
            "color": "#2a3f5f"
           }
          },
          "ternary": {
           "aaxis": {
            "gridcolor": "white",
            "linecolor": "white",
            "ticks": ""
           },
           "baxis": {
            "gridcolor": "white",
            "linecolor": "white",
            "ticks": ""
           },
           "bgcolor": "#E5ECF6",
           "caxis": {
            "gridcolor": "white",
            "linecolor": "white",
            "ticks": ""
           }
          },
          "title": {
           "x": 0.05
          },
          "xaxis": {
           "automargin": true,
           "gridcolor": "white",
           "linecolor": "white",
           "ticks": "",
           "title": {
            "standoff": 15
           },
           "zerolinecolor": "white",
           "zerolinewidth": 2
          },
          "yaxis": {
           "automargin": true,
           "gridcolor": "white",
           "linecolor": "white",
           "ticks": "",
           "title": {
            "standoff": 15
           },
           "zerolinecolor": "white",
           "zerolinewidth": 2
          }
         }
        },
        "title": {
         "font": {
          "color": "#4D5663"
         }
        },
        "xaxis": {
         "gridcolor": "#E1E5ED",
         "showgrid": true,
         "tickfont": {
          "color": "#4D5663"
         },
         "title": {
          "font": {
           "color": "#4D5663"
          },
          "text": ""
         },
         "zerolinecolor": "#E1E5ED"
        },
        "yaxis": {
         "gridcolor": "#E1E5ED",
         "showgrid": true,
         "tickfont": {
          "color": "#4D5663"
         },
         "title": {
          "font": {
           "color": "#4D5663"
          },
          "text": ""
         },
         "zerolinecolor": "#E1E5ED"
        }
       }
      },
      "text/html": [
       "<div>                            <div id=\"9b077c55-f0b0-4418-9c06-e6774525bf58\" class=\"plotly-graph-div\" style=\"height:525px; width:100%;\"></div>            <script type=\"text/javascript\">                require([\"plotly\"], function(Plotly) {                    window.PLOTLYENV=window.PLOTLYENV || {};\n",
       "                    window.PLOTLYENV.BASE_URL='https://plot.ly';                                    if (document.getElementById(\"9b077c55-f0b0-4418-9c06-e6774525bf58\")) {                    Plotly.newPlot(                        \"9b077c55-f0b0-4418-9c06-e6774525bf58\",                        [{\"histfunc\": \"count\", \"histnorm\": \"\", \"marker\": {\"color\": \"rgba(255, 153, 51, 1.0)\", \"line\": {\"color\": \"#4D5663\", \"width\": 1.3}}, \"name\": \"A\", \"opacity\": 0.8, \"orientation\": \"v\", \"type\": \"histogram\", \"x\": [-1.3743721584499824, 0.01000404246298731, 1.060073616887478, 0.11441049376808408, -0.1254638614812266, -0.9070069778849268, 0.052704947052634725, -0.018615509263272198, 0.3426791424383957, 0.7156411612038974, 0.10320678514670655, 1.5303326705609726, -0.21191099006121578, -2.020852407942947, 0.22310319700464062, 0.5054873846397421, 0.4026865599915081, -1.4536017289362706, 0.7950717634128648, -0.23111559189028452, 0.7663819343502544, -0.6235760258594119, -0.39259261868434986, 0.12216190113995658, -1.6096224506550463, 0.5639253855756436, -1.0847543814378535, 1.0885717287652497, -0.591208567689423, -1.6938094395037835, 0.018569790345541275, 0.8539549753616196, 0.806290563715313, -1.6254073372348345, 0.9733772798627246, 1.1342632149777827, 0.6285286305821992, 0.8898153149689759, 0.43696724130491166, -0.11330861472454354, -0.30502763648952747, 0.23913144901280264, -0.5265302051771779, -2.428775933644073, 1.2029442849361394, -2.123707409478142, -1.391993761824126, -0.6561453328335073, -1.0638196040870558, -1.034440135369431, 1.4545524807375916, 0.9664194515222728, 1.3514860245657558, 0.641805705752012, 0.2250786303196695, 0.5551821716123263, -0.3022131037940552, 0.1957505960294113, -0.09000988974301995, 0.2030785749813345, 0.20537268885063817, 2.007683712209121, -1.4843400652481071, 1.600331889395343, -2.658926199502142, -0.7475374003049038, 0.059354593787525535, -2.3391273652213593, 0.14801385832510175, 0.7316816414068449, 2.6313286535979996, -0.6609371876541106, 1.1687995210202855, 1.0322937940761117, -0.12266208992005274, 1.35264415917231, -0.6569032104004473, -1.325436343882467, 0.03518178304520304, 0.9882093647510404, 0.7716022659319737, 0.2571496555762069, 0.9497583254883611, 0.34755083044952106, -0.2608789849073516, 1.6727247611623286, 0.9699480590442013, -0.5146697755100796, 0.1877515295630458, -0.16382196131899163, -0.6291505468485376, -0.3276311214951528, -1.1219800893721616, 0.9243005130469527, 0.34121867776964615, -0.1776353990815943, 0.6764803263134359, -1.0912902239348543, 0.23613255869213673, -0.9206029120136027]}, {\"histfunc\": \"count\", \"histnorm\": \"\", \"marker\": {\"color\": \"rgba(55, 128, 191, 1.0)\", \"line\": {\"color\": \"#4D5663\", \"width\": 1.3}}, \"name\": \"B\", \"opacity\": 0.8, \"orientation\": \"v\", \"type\": \"histogram\", \"x\": [-0.41705545013634915, -0.48642056858316945, -0.026443392359397484, 0.1978372625783503, 1.4968152023860652, 1.2996001460682738, -1.9367361458578556, -0.7567789330556283, -2.054035669273658, 0.5048997928080652, -1.1112808411952075, 0.5912890910463597, 0.0955475906516338, -0.28622310082696395, 0.11737426814490341, -0.06758176195487915, 0.3241491954622198, -0.5104479126394454, 0.026529123575938545, 1.4972763559326852, 1.8253818450833434, -1.2574190220624064, 0.1257869275628511, 0.016621627579822357, 0.979647443174523, 0.518474140677526, -0.41373982543347276, 0.009111766977325414, 0.7981851789989233, -1.5066373021119543, -0.8145019514506392, 1.2127894892403486, 1.1666091840168742, -0.1826814988975061, 0.2121435888368178, 0.5919460396147409, 0.6706604908690293, -0.1538820807314714, -0.06481604156077372, 0.6865617899199997, 0.5772096001553042, 0.469910962356171, -2.0005706396554475, 0.7472354988856291, -0.6389610051560966, -0.38295815856378096, -0.09249688990779162, 1.6673465664575287, -0.5169802146802591, 0.3229158282844716, -2.2439072734691266, -0.59787255059542, 2.0190019560628656, -0.8827665762111087, 0.1720370484706035, 1.1447792901642073, -2.021110364925016, -0.4431961270162332, 0.6154890464199887, -0.5340413595491634, -1.4300515449852669, -0.4289970586923092, -3.187864606601478, -0.5443854916908588, 1.9027789968231628, 0.028860644801460108, -0.9070719076829377, 2.2604509548717204, -0.4756263042930482, -1.0527349279366778, 1.0989883088287775, 0.8363471991549375, 0.9390577333704273, -0.6821309372267801, -0.040109791076703746, -1.0926766026681485, 0.8810484800262337, 0.13899121632294173, 0.18175429939228152, 0.6641933255515288, -0.29364200182227196, 0.5215667308020342, 0.511801600346848, 0.1323902697067605, -2.1124151258180466, -0.3963021602119647, 1.1669298215227715, 0.7144341554925651, 1.393601613907853, 0.8542543813843058, 1.793693509296129, 1.958951631262988, 1.9793533489183885, 0.5393936516728588, 0.8635557050746643, 0.19647333456875704, -1.3462894052999834, -0.036318884695404764, -0.5437514526982358, -0.8788039924624359]}, {\"histfunc\": \"count\", \"histnorm\": \"\", \"marker\": {\"color\": \"rgba(50, 171, 96, 1.0)\", \"line\": {\"color\": \"#4D5663\", \"width\": 1.3}}, \"name\": \"C\", \"opacity\": 0.8, \"orientation\": \"v\", \"type\": \"histogram\", \"x\": [-0.21276462251127787, 0.5392444209308489, 1.201647243870889, 1.6782766296745564, 1.1780165541193524, 0.40167196181061116, -0.1591374159699852, 0.39767413608763563, 0.8651958256291215, 1.478487857872841, -0.6734933053355409, -0.9164503190359672, -0.1522431081070318, -0.17775723859865142, -0.5784508624076548, -0.8953430846986111, -0.5955412799976927, -1.4996597344022469, -0.7358247995812351, -0.933572443609917, -0.008828766883507387, -0.8164283705009511, 1.273678888538661, -0.8651312409226529, 0.35478150022354593, 0.986399459757734, -0.5352650018171781, -1.3886598301517936, -0.9095518855205877, -0.18025157413060977, -1.1639538469777637, -0.45797392379674257, 0.6729367441748657, -1.8550523081681753, -1.2923975140689834, 0.1464356554680572, -0.9334423032882809, -0.44248786315560623, 1.0671262179776113, 0.33753739416763867, 0.9128835546431392, -0.5900917794231104, -0.3737024267929817, 0.3712684727445248, -0.7557372214105362, 0.843767325377286, -2.206479423111974, 0.4426752009503339, -1.418894646378147, -1.6105792466568054, 0.14046905986929045, -1.7025655506186397, -1.1263018556886557, 0.04343967291843729, -1.2047503941915687, -0.09781015949410614, -0.24368586131596517, 0.6958509742327339, -1.0704795691259144, 0.5620221156749131, 0.9390052445805276, -1.3349060314912693, 0.40321915973170414, 1.6285358959063552, -0.17701723872220992, 0.8234083102866014, 0.9957585721559657, -0.3763413287556481, -1.6265324048745329, -0.621938385545258, -0.465630623615682, 1.526182232958349, 0.3520390029182346, 2.5651656043033713, 0.7960377533994962, 0.32625925238639847, -1.1861624824881056, 0.949283354081687, 0.08425473048695817, -0.7318456749714377, -1.0006911553437978, 0.41625205826679096, -1.0046004868315244, 0.09274029071208498, -1.741066554969545, -0.1488349120028584, 0.06298419279152194, -1.0202004771437285, 0.31668257541722206, -1.9144300423394567, 1.8560064604860345, -0.6905437344649258, -0.020351338723384127, -0.7245034758310543, 1.2620486376354592, -0.15544435172249807, -0.38249834037408337, -0.44288833342145334, -0.37916364819204046, 1.500013795209575]}, {\"histfunc\": \"count\", \"histnorm\": \"\", \"marker\": {\"color\": \"rgba(128, 0, 128, 1.0)\", \"line\": {\"color\": \"#4D5663\", \"width\": 1.3}}, \"name\": \"D\", \"opacity\": 0.8, \"orientation\": \"v\", \"type\": \"histogram\", \"x\": [1.2646382812754842, -0.8971743142451027, -2.0754884569254672, 0.24979143146563057, 0.7113633997792028, 1.278216640237135, -0.49685845418634067, 1.2344611106270564, 0.36195754457371004, 0.6043429263082021, 1.1059302402322535, -0.6515379521018477, 0.3646331090549264, -0.9845536691002664, 1.4409263079086052, 0.8816667955217995, -0.7853779284986235, -0.7978616503508753, -1.0828660240395294, 0.10487744298562451, 0.19217934901563238, -0.44483118359065044, 0.081992768065037, 0.717726912938894, -0.4840805058901615, 0.9655267003749074, -0.15515680869122653, 0.18765636261666088, 1.1626969975525205, 1.1221860512686315, -0.7262998465735776, 0.5769953510599819, -0.34292887593453836, -0.7177335259504108, 0.4645526729614544, 2.2636115244007744, 0.6788635025563274, -1.3586866410113239, 1.402105490753138, -0.04773722688359785, -0.05201898018951273, 0.2775465835054213, -2.5368187629127665, 0.7489922275026335, 0.4366105803867375, -0.22742515624588822, 0.8389663215980219, 0.8119997599104144, 1.5599969289424327, 1.1960493070861002, 0.5532823184545692, 0.5429127445526751, -0.9216892467648115, -0.7124766367267783, -0.5469063510503084, 1.2104299366607287, 0.06529088469119605, -0.26731497693372736, 0.18006682091523982, 1.5858814002047847, 0.028250097720445115, 1.3266255468110029, 1.3247055522245879, 0.016966380125314793, -0.8959419956364261, 0.878890833696069, -0.01258411681511281, -0.0795240148058931, 0.09205341634269462, 0.8743683456662174, 1.2651793568520557, -0.01223560757394819, -1.1669543697177909, -1.0420826567320396, 2.063838270434295, 0.0968244764073173, -0.14942699098437895, -1.3822629131066702, 0.15884855391204272, 0.6019636707340277, 1.2663377202008308, -1.6319526838234355, -0.08569233667719377, -0.19194039719829523, 0.6089137382785959, 0.21037399045564947, 1.1878195115705752, 0.10049673180139712, -0.6091707263338128, -1.0208458347127198, -0.7948310997841892, 0.8263015448397337, 0.6008696554415681, -2.853267844849281, -0.953772467478873, -0.3422257288319156, 0.5312134043166221, 0.15022922890648535, 0.2815641965610305, -0.2403819541347331]}],                        {\"barmode\": \"overlay\", \"legend\": {\"bgcolor\": \"#F5F6F9\", \"font\": {\"color\": \"#4D5663\"}}, \"paper_bgcolor\": \"#F5F6F9\", \"plot_bgcolor\": \"#F5F6F9\", \"template\": {\"data\": {\"bar\": [{\"error_x\": {\"color\": \"#2a3f5f\"}, \"error_y\": {\"color\": \"#2a3f5f\"}, \"marker\": {\"line\": {\"color\": \"#E5ECF6\", \"width\": 0.5}}, \"type\": \"bar\"}], \"barpolar\": [{\"marker\": {\"line\": {\"color\": \"#E5ECF6\", \"width\": 0.5}}, \"type\": \"barpolar\"}], \"carpet\": [{\"aaxis\": {\"endlinecolor\": \"#2a3f5f\", \"gridcolor\": \"white\", \"linecolor\": \"white\", \"minorgridcolor\": \"white\", \"startlinecolor\": \"#2a3f5f\"}, \"baxis\": {\"endlinecolor\": \"#2a3f5f\", \"gridcolor\": \"white\", \"linecolor\": \"white\", \"minorgridcolor\": \"white\", \"startlinecolor\": \"#2a3f5f\"}, \"type\": \"carpet\"}], \"choropleth\": [{\"colorbar\": {\"outlinewidth\": 0, \"ticks\": \"\"}, \"type\": \"choropleth\"}], \"contour\": [{\"colorbar\": {\"outlinewidth\": 0, \"ticks\": \"\"}, \"colorscale\": [[0.0, \"#0d0887\"], [0.1111111111111111, \"#46039f\"], [0.2222222222222222, \"#7201a8\"], [0.3333333333333333, \"#9c179e\"], [0.4444444444444444, \"#bd3786\"], [0.5555555555555556, \"#d8576b\"], [0.6666666666666666, \"#ed7953\"], [0.7777777777777778, \"#fb9f3a\"], [0.8888888888888888, \"#fdca26\"], [1.0, \"#f0f921\"]], \"type\": \"contour\"}], \"contourcarpet\": [{\"colorbar\": {\"outlinewidth\": 0, \"ticks\": \"\"}, \"type\": \"contourcarpet\"}], \"heatmap\": [{\"colorbar\": {\"outlinewidth\": 0, \"ticks\": \"\"}, \"colorscale\": [[0.0, \"#0d0887\"], [0.1111111111111111, \"#46039f\"], [0.2222222222222222, \"#7201a8\"], [0.3333333333333333, \"#9c179e\"], [0.4444444444444444, \"#bd3786\"], [0.5555555555555556, \"#d8576b\"], [0.6666666666666666, \"#ed7953\"], [0.7777777777777778, \"#fb9f3a\"], [0.8888888888888888, \"#fdca26\"], [1.0, \"#f0f921\"]], \"type\": \"heatmap\"}], \"heatmapgl\": [{\"colorbar\": {\"outlinewidth\": 0, \"ticks\": \"\"}, \"colorscale\": [[0.0, \"#0d0887\"], [0.1111111111111111, \"#46039f\"], [0.2222222222222222, \"#7201a8\"], [0.3333333333333333, \"#9c179e\"], [0.4444444444444444, \"#bd3786\"], [0.5555555555555556, \"#d8576b\"], [0.6666666666666666, \"#ed7953\"], [0.7777777777777778, \"#fb9f3a\"], [0.8888888888888888, \"#fdca26\"], [1.0, \"#f0f921\"]], \"type\": \"heatmapgl\"}], \"histogram\": [{\"marker\": {\"colorbar\": {\"outlinewidth\": 0, \"ticks\": \"\"}}, \"type\": \"histogram\"}], \"histogram2d\": [{\"colorbar\": {\"outlinewidth\": 0, \"ticks\": \"\"}, \"colorscale\": [[0.0, \"#0d0887\"], [0.1111111111111111, \"#46039f\"], [0.2222222222222222, \"#7201a8\"], [0.3333333333333333, \"#9c179e\"], [0.4444444444444444, \"#bd3786\"], [0.5555555555555556, \"#d8576b\"], [0.6666666666666666, \"#ed7953\"], [0.7777777777777778, \"#fb9f3a\"], [0.8888888888888888, \"#fdca26\"], [1.0, \"#f0f921\"]], \"type\": \"histogram2d\"}], \"histogram2dcontour\": [{\"colorbar\": {\"outlinewidth\": 0, \"ticks\": \"\"}, \"colorscale\": [[0.0, \"#0d0887\"], [0.1111111111111111, \"#46039f\"], [0.2222222222222222, \"#7201a8\"], [0.3333333333333333, \"#9c179e\"], [0.4444444444444444, \"#bd3786\"], [0.5555555555555556, \"#d8576b\"], [0.6666666666666666, \"#ed7953\"], [0.7777777777777778, \"#fb9f3a\"], [0.8888888888888888, \"#fdca26\"], [1.0, \"#f0f921\"]], \"type\": \"histogram2dcontour\"}], \"mesh3d\": [{\"colorbar\": {\"outlinewidth\": 0, \"ticks\": \"\"}, \"type\": \"mesh3d\"}], \"parcoords\": [{\"line\": {\"colorbar\": {\"outlinewidth\": 0, \"ticks\": \"\"}}, \"type\": \"parcoords\"}], \"pie\": [{\"automargin\": true, \"type\": \"pie\"}], \"scatter\": [{\"marker\": {\"colorbar\": {\"outlinewidth\": 0, \"ticks\": \"\"}}, \"type\": \"scatter\"}], \"scatter3d\": [{\"line\": {\"colorbar\": {\"outlinewidth\": 0, \"ticks\": \"\"}}, \"marker\": {\"colorbar\": {\"outlinewidth\": 0, \"ticks\": \"\"}}, \"type\": \"scatter3d\"}], \"scattercarpet\": [{\"marker\": {\"colorbar\": {\"outlinewidth\": 0, \"ticks\": \"\"}}, \"type\": \"scattercarpet\"}], \"scattergeo\": [{\"marker\": {\"colorbar\": {\"outlinewidth\": 0, \"ticks\": \"\"}}, \"type\": \"scattergeo\"}], \"scattergl\": [{\"marker\": {\"colorbar\": {\"outlinewidth\": 0, \"ticks\": \"\"}}, \"type\": \"scattergl\"}], \"scattermapbox\": [{\"marker\": {\"colorbar\": {\"outlinewidth\": 0, \"ticks\": \"\"}}, \"type\": \"scattermapbox\"}], \"scatterpolar\": [{\"marker\": {\"colorbar\": {\"outlinewidth\": 0, \"ticks\": \"\"}}, \"type\": \"scatterpolar\"}], \"scatterpolargl\": [{\"marker\": {\"colorbar\": {\"outlinewidth\": 0, \"ticks\": \"\"}}, \"type\": \"scatterpolargl\"}], \"scatterternary\": [{\"marker\": {\"colorbar\": {\"outlinewidth\": 0, \"ticks\": \"\"}}, \"type\": \"scatterternary\"}], \"surface\": [{\"colorbar\": {\"outlinewidth\": 0, \"ticks\": \"\"}, \"colorscale\": [[0.0, \"#0d0887\"], [0.1111111111111111, \"#46039f\"], [0.2222222222222222, \"#7201a8\"], [0.3333333333333333, \"#9c179e\"], [0.4444444444444444, \"#bd3786\"], [0.5555555555555556, \"#d8576b\"], [0.6666666666666666, \"#ed7953\"], [0.7777777777777778, \"#fb9f3a\"], [0.8888888888888888, \"#fdca26\"], [1.0, \"#f0f921\"]], \"type\": \"surface\"}], \"table\": [{\"cells\": {\"fill\": {\"color\": \"#EBF0F8\"}, \"line\": {\"color\": \"white\"}}, \"header\": {\"fill\": {\"color\": \"#C8D4E3\"}, \"line\": {\"color\": \"white\"}}, \"type\": \"table\"}]}, \"layout\": {\"annotationdefaults\": {\"arrowcolor\": \"#2a3f5f\", \"arrowhead\": 0, \"arrowwidth\": 1}, \"autotypenumbers\": \"strict\", \"coloraxis\": {\"colorbar\": {\"outlinewidth\": 0, \"ticks\": \"\"}}, \"colorscale\": {\"diverging\": [[0, \"#8e0152\"], [0.1, \"#c51b7d\"], [0.2, \"#de77ae\"], [0.3, \"#f1b6da\"], [0.4, \"#fde0ef\"], [0.5, \"#f7f7f7\"], [0.6, \"#e6f5d0\"], [0.7, \"#b8e186\"], [0.8, \"#7fbc41\"], [0.9, \"#4d9221\"], [1, \"#276419\"]], \"sequential\": [[0.0, \"#0d0887\"], [0.1111111111111111, \"#46039f\"], [0.2222222222222222, \"#7201a8\"], [0.3333333333333333, \"#9c179e\"], [0.4444444444444444, \"#bd3786\"], [0.5555555555555556, \"#d8576b\"], [0.6666666666666666, \"#ed7953\"], [0.7777777777777778, \"#fb9f3a\"], [0.8888888888888888, \"#fdca26\"], [1.0, \"#f0f921\"]], \"sequentialminus\": [[0.0, \"#0d0887\"], [0.1111111111111111, \"#46039f\"], [0.2222222222222222, \"#7201a8\"], [0.3333333333333333, \"#9c179e\"], [0.4444444444444444, \"#bd3786\"], [0.5555555555555556, \"#d8576b\"], [0.6666666666666666, \"#ed7953\"], [0.7777777777777778, \"#fb9f3a\"], [0.8888888888888888, \"#fdca26\"], [1.0, \"#f0f921\"]]}, \"colorway\": [\"#636efa\", \"#EF553B\", \"#00cc96\", \"#ab63fa\", \"#FFA15A\", \"#19d3f3\", \"#FF6692\", \"#B6E880\", \"#FF97FF\", \"#FECB52\"], \"font\": {\"color\": \"#2a3f5f\"}, \"geo\": {\"bgcolor\": \"white\", \"lakecolor\": \"white\", \"landcolor\": \"#E5ECF6\", \"showlakes\": true, \"showland\": true, \"subunitcolor\": \"white\"}, \"hoverlabel\": {\"align\": \"left\"}, \"hovermode\": \"closest\", \"mapbox\": {\"style\": \"light\"}, \"paper_bgcolor\": \"white\", \"plot_bgcolor\": \"#E5ECF6\", \"polar\": {\"angularaxis\": {\"gridcolor\": \"white\", \"linecolor\": \"white\", \"ticks\": \"\"}, \"bgcolor\": \"#E5ECF6\", \"radialaxis\": {\"gridcolor\": \"white\", \"linecolor\": \"white\", \"ticks\": \"\"}}, \"scene\": {\"xaxis\": {\"backgroundcolor\": \"#E5ECF6\", \"gridcolor\": \"white\", \"gridwidth\": 2, \"linecolor\": \"white\", \"showbackground\": true, \"ticks\": \"\", \"zerolinecolor\": \"white\"}, \"yaxis\": {\"backgroundcolor\": \"#E5ECF6\", \"gridcolor\": \"white\", \"gridwidth\": 2, \"linecolor\": \"white\", \"showbackground\": true, \"ticks\": \"\", \"zerolinecolor\": \"white\"}, \"zaxis\": {\"backgroundcolor\": \"#E5ECF6\", \"gridcolor\": \"white\", \"gridwidth\": 2, \"linecolor\": \"white\", \"showbackground\": true, \"ticks\": \"\", \"zerolinecolor\": \"white\"}}, \"shapedefaults\": {\"line\": {\"color\": \"#2a3f5f\"}}, \"ternary\": {\"aaxis\": {\"gridcolor\": \"white\", \"linecolor\": \"white\", \"ticks\": \"\"}, \"baxis\": {\"gridcolor\": \"white\", \"linecolor\": \"white\", \"ticks\": \"\"}, \"bgcolor\": \"#E5ECF6\", \"caxis\": {\"gridcolor\": \"white\", \"linecolor\": \"white\", \"ticks\": \"\"}}, \"title\": {\"x\": 0.05}, \"xaxis\": {\"automargin\": true, \"gridcolor\": \"white\", \"linecolor\": \"white\", \"ticks\": \"\", \"title\": {\"standoff\": 15}, \"zerolinecolor\": \"white\", \"zerolinewidth\": 2}, \"yaxis\": {\"automargin\": true, \"gridcolor\": \"white\", \"linecolor\": \"white\", \"ticks\": \"\", \"title\": {\"standoff\": 15}, \"zerolinecolor\": \"white\", \"zerolinewidth\": 2}}}, \"title\": {\"font\": {\"color\": \"#4D5663\"}}, \"xaxis\": {\"gridcolor\": \"#E1E5ED\", \"showgrid\": true, \"tickfont\": {\"color\": \"#4D5663\"}, \"title\": {\"font\": {\"color\": \"#4D5663\"}, \"text\": \"\"}, \"zerolinecolor\": \"#E1E5ED\"}, \"yaxis\": {\"gridcolor\": \"#E1E5ED\", \"showgrid\": true, \"tickfont\": {\"color\": \"#4D5663\"}, \"title\": {\"font\": {\"color\": \"#4D5663\"}, \"text\": \"\"}, \"zerolinecolor\": \"#E1E5ED\"}},                        {\"showLink\": true, \"linkText\": \"Export to plot.ly\", \"plotlyServerURL\": \"https://plot.ly\", \"responsive\": true}                    ).then(function(){\n",
       "                            \n",
       "var gd = document.getElementById('9b077c55-f0b0-4418-9c06-e6774525bf58');\n",
       "var x = new MutationObserver(function (mutations, observer) {{\n",
       "        var display = window.getComputedStyle(gd).display;\n",
       "        if (!display || display === 'none') {{\n",
       "            console.log([gd, 'removed!']);\n",
       "            Plotly.purge(gd);\n",
       "            observer.disconnect();\n",
       "        }}\n",
       "}});\n",
       "\n",
       "// Listen for the removal of the full notebook cells\n",
       "var notebookContainer = gd.closest('#notebook-container');\n",
       "if (notebookContainer) {{\n",
       "    x.observe(notebookContainer, {childList: true});\n",
       "}}\n",
       "\n",
       "// Listen for the clearing of the current output cell\n",
       "var outputEl = gd.closest('.output');\n",
       "if (outputEl) {{\n",
       "    x.observe(outputEl, {childList: true});\n",
       "}}\n",
       "\n",
       "                        })                };                });            </script>        </div>"
      ]
     },
     "metadata": {},
     "output_type": "display_data"
    }
   ],
   "source": [
    "df.iplot(kind='hist')"
   ]
  },
  {
   "cell_type": "code",
   "execution_count": 29,
   "metadata": {},
   "outputs": [
    {
     "data": {
      "application/vnd.plotly.v1+json": {
       "config": {
        "linkText": "Export to plot.ly",
        "plotlyServerURL": "https://plot.ly",
        "showLink": true
       },
       "data": [
        {
         "histfunc": "count",
         "histnorm": "",
         "marker": {
          "color": "rgba(255, 153, 51, 1.0)",
          "line": {
           "color": "#4D5663",
           "width": 1.3
          }
         },
         "name": "A",
         "nbinsx": 25,
         "opacity": 0.8,
         "orientation": "v",
         "type": "histogram",
         "x": [
          -1.3743721584499824,
          0.01000404246298731,
          1.060073616887478,
          0.11441049376808408,
          -0.1254638614812266,
          -0.9070069778849268,
          0.052704947052634725,
          -0.018615509263272198,
          0.3426791424383957,
          0.7156411612038974,
          0.10320678514670655,
          1.5303326705609726,
          -0.21191099006121578,
          -2.020852407942947,
          0.22310319700464062,
          0.5054873846397421,
          0.4026865599915081,
          -1.4536017289362706,
          0.7950717634128648,
          -0.23111559189028452,
          0.7663819343502544,
          -0.6235760258594119,
          -0.39259261868434986,
          0.12216190113995658,
          -1.6096224506550463,
          0.5639253855756436,
          -1.0847543814378535,
          1.0885717287652497,
          -0.591208567689423,
          -1.6938094395037835,
          0.018569790345541275,
          0.8539549753616196,
          0.806290563715313,
          -1.6254073372348345,
          0.9733772798627246,
          1.1342632149777827,
          0.6285286305821992,
          0.8898153149689759,
          0.43696724130491166,
          -0.11330861472454354,
          -0.30502763648952747,
          0.23913144901280264,
          -0.5265302051771779,
          -2.428775933644073,
          1.2029442849361394,
          -2.123707409478142,
          -1.391993761824126,
          -0.6561453328335073,
          -1.0638196040870558,
          -1.034440135369431,
          1.4545524807375916,
          0.9664194515222728,
          1.3514860245657558,
          0.641805705752012,
          0.2250786303196695,
          0.5551821716123263,
          -0.3022131037940552,
          0.1957505960294113,
          -0.09000988974301995,
          0.2030785749813345,
          0.20537268885063817,
          2.007683712209121,
          -1.4843400652481071,
          1.600331889395343,
          -2.658926199502142,
          -0.7475374003049038,
          0.059354593787525535,
          -2.3391273652213593,
          0.14801385832510175,
          0.7316816414068449,
          2.6313286535979996,
          -0.6609371876541106,
          1.1687995210202855,
          1.0322937940761117,
          -0.12266208992005274,
          1.35264415917231,
          -0.6569032104004473,
          -1.325436343882467,
          0.03518178304520304,
          0.9882093647510404,
          0.7716022659319737,
          0.2571496555762069,
          0.9497583254883611,
          0.34755083044952106,
          -0.2608789849073516,
          1.6727247611623286,
          0.9699480590442013,
          -0.5146697755100796,
          0.1877515295630458,
          -0.16382196131899163,
          -0.6291505468485376,
          -0.3276311214951528,
          -1.1219800893721616,
          0.9243005130469527,
          0.34121867776964615,
          -0.1776353990815943,
          0.6764803263134359,
          -1.0912902239348543,
          0.23613255869213673,
          -0.9206029120136027
         ]
        }
       ],
       "layout": {
        "barmode": "overlay",
        "legend": {
         "bgcolor": "#F5F6F9",
         "font": {
          "color": "#4D5663"
         }
        },
        "paper_bgcolor": "#F5F6F9",
        "plot_bgcolor": "#F5F6F9",
        "template": {
         "data": {
          "bar": [
           {
            "error_x": {
             "color": "#2a3f5f"
            },
            "error_y": {
             "color": "#2a3f5f"
            },
            "marker": {
             "line": {
              "color": "#E5ECF6",
              "width": 0.5
             }
            },
            "type": "bar"
           }
          ],
          "barpolar": [
           {
            "marker": {
             "line": {
              "color": "#E5ECF6",
              "width": 0.5
             }
            },
            "type": "barpolar"
           }
          ],
          "carpet": [
           {
            "aaxis": {
             "endlinecolor": "#2a3f5f",
             "gridcolor": "white",
             "linecolor": "white",
             "minorgridcolor": "white",
             "startlinecolor": "#2a3f5f"
            },
            "baxis": {
             "endlinecolor": "#2a3f5f",
             "gridcolor": "white",
             "linecolor": "white",
             "minorgridcolor": "white",
             "startlinecolor": "#2a3f5f"
            },
            "type": "carpet"
           }
          ],
          "choropleth": [
           {
            "colorbar": {
             "outlinewidth": 0,
             "ticks": ""
            },
            "type": "choropleth"
           }
          ],
          "contour": [
           {
            "colorbar": {
             "outlinewidth": 0,
             "ticks": ""
            },
            "colorscale": [
             [
              0,
              "#0d0887"
             ],
             [
              0.1111111111111111,
              "#46039f"
             ],
             [
              0.2222222222222222,
              "#7201a8"
             ],
             [
              0.3333333333333333,
              "#9c179e"
             ],
             [
              0.4444444444444444,
              "#bd3786"
             ],
             [
              0.5555555555555556,
              "#d8576b"
             ],
             [
              0.6666666666666666,
              "#ed7953"
             ],
             [
              0.7777777777777778,
              "#fb9f3a"
             ],
             [
              0.8888888888888888,
              "#fdca26"
             ],
             [
              1,
              "#f0f921"
             ]
            ],
            "type": "contour"
           }
          ],
          "contourcarpet": [
           {
            "colorbar": {
             "outlinewidth": 0,
             "ticks": ""
            },
            "type": "contourcarpet"
           }
          ],
          "heatmap": [
           {
            "colorbar": {
             "outlinewidth": 0,
             "ticks": ""
            },
            "colorscale": [
             [
              0,
              "#0d0887"
             ],
             [
              0.1111111111111111,
              "#46039f"
             ],
             [
              0.2222222222222222,
              "#7201a8"
             ],
             [
              0.3333333333333333,
              "#9c179e"
             ],
             [
              0.4444444444444444,
              "#bd3786"
             ],
             [
              0.5555555555555556,
              "#d8576b"
             ],
             [
              0.6666666666666666,
              "#ed7953"
             ],
             [
              0.7777777777777778,
              "#fb9f3a"
             ],
             [
              0.8888888888888888,
              "#fdca26"
             ],
             [
              1,
              "#f0f921"
             ]
            ],
            "type": "heatmap"
           }
          ],
          "heatmapgl": [
           {
            "colorbar": {
             "outlinewidth": 0,
             "ticks": ""
            },
            "colorscale": [
             [
              0,
              "#0d0887"
             ],
             [
              0.1111111111111111,
              "#46039f"
             ],
             [
              0.2222222222222222,
              "#7201a8"
             ],
             [
              0.3333333333333333,
              "#9c179e"
             ],
             [
              0.4444444444444444,
              "#bd3786"
             ],
             [
              0.5555555555555556,
              "#d8576b"
             ],
             [
              0.6666666666666666,
              "#ed7953"
             ],
             [
              0.7777777777777778,
              "#fb9f3a"
             ],
             [
              0.8888888888888888,
              "#fdca26"
             ],
             [
              1,
              "#f0f921"
             ]
            ],
            "type": "heatmapgl"
           }
          ],
          "histogram": [
           {
            "marker": {
             "colorbar": {
              "outlinewidth": 0,
              "ticks": ""
             }
            },
            "type": "histogram"
           }
          ],
          "histogram2d": [
           {
            "colorbar": {
             "outlinewidth": 0,
             "ticks": ""
            },
            "colorscale": [
             [
              0,
              "#0d0887"
             ],
             [
              0.1111111111111111,
              "#46039f"
             ],
             [
              0.2222222222222222,
              "#7201a8"
             ],
             [
              0.3333333333333333,
              "#9c179e"
             ],
             [
              0.4444444444444444,
              "#bd3786"
             ],
             [
              0.5555555555555556,
              "#d8576b"
             ],
             [
              0.6666666666666666,
              "#ed7953"
             ],
             [
              0.7777777777777778,
              "#fb9f3a"
             ],
             [
              0.8888888888888888,
              "#fdca26"
             ],
             [
              1,
              "#f0f921"
             ]
            ],
            "type": "histogram2d"
           }
          ],
          "histogram2dcontour": [
           {
            "colorbar": {
             "outlinewidth": 0,
             "ticks": ""
            },
            "colorscale": [
             [
              0,
              "#0d0887"
             ],
             [
              0.1111111111111111,
              "#46039f"
             ],
             [
              0.2222222222222222,
              "#7201a8"
             ],
             [
              0.3333333333333333,
              "#9c179e"
             ],
             [
              0.4444444444444444,
              "#bd3786"
             ],
             [
              0.5555555555555556,
              "#d8576b"
             ],
             [
              0.6666666666666666,
              "#ed7953"
             ],
             [
              0.7777777777777778,
              "#fb9f3a"
             ],
             [
              0.8888888888888888,
              "#fdca26"
             ],
             [
              1,
              "#f0f921"
             ]
            ],
            "type": "histogram2dcontour"
           }
          ],
          "mesh3d": [
           {
            "colorbar": {
             "outlinewidth": 0,
             "ticks": ""
            },
            "type": "mesh3d"
           }
          ],
          "parcoords": [
           {
            "line": {
             "colorbar": {
              "outlinewidth": 0,
              "ticks": ""
             }
            },
            "type": "parcoords"
           }
          ],
          "pie": [
           {
            "automargin": true,
            "type": "pie"
           }
          ],
          "scatter": [
           {
            "marker": {
             "colorbar": {
              "outlinewidth": 0,
              "ticks": ""
             }
            },
            "type": "scatter"
           }
          ],
          "scatter3d": [
           {
            "line": {
             "colorbar": {
              "outlinewidth": 0,
              "ticks": ""
             }
            },
            "marker": {
             "colorbar": {
              "outlinewidth": 0,
              "ticks": ""
             }
            },
            "type": "scatter3d"
           }
          ],
          "scattercarpet": [
           {
            "marker": {
             "colorbar": {
              "outlinewidth": 0,
              "ticks": ""
             }
            },
            "type": "scattercarpet"
           }
          ],
          "scattergeo": [
           {
            "marker": {
             "colorbar": {
              "outlinewidth": 0,
              "ticks": ""
             }
            },
            "type": "scattergeo"
           }
          ],
          "scattergl": [
           {
            "marker": {
             "colorbar": {
              "outlinewidth": 0,
              "ticks": ""
             }
            },
            "type": "scattergl"
           }
          ],
          "scattermapbox": [
           {
            "marker": {
             "colorbar": {
              "outlinewidth": 0,
              "ticks": ""
             }
            },
            "type": "scattermapbox"
           }
          ],
          "scatterpolar": [
           {
            "marker": {
             "colorbar": {
              "outlinewidth": 0,
              "ticks": ""
             }
            },
            "type": "scatterpolar"
           }
          ],
          "scatterpolargl": [
           {
            "marker": {
             "colorbar": {
              "outlinewidth": 0,
              "ticks": ""
             }
            },
            "type": "scatterpolargl"
           }
          ],
          "scatterternary": [
           {
            "marker": {
             "colorbar": {
              "outlinewidth": 0,
              "ticks": ""
             }
            },
            "type": "scatterternary"
           }
          ],
          "surface": [
           {
            "colorbar": {
             "outlinewidth": 0,
             "ticks": ""
            },
            "colorscale": [
             [
              0,
              "#0d0887"
             ],
             [
              0.1111111111111111,
              "#46039f"
             ],
             [
              0.2222222222222222,
              "#7201a8"
             ],
             [
              0.3333333333333333,
              "#9c179e"
             ],
             [
              0.4444444444444444,
              "#bd3786"
             ],
             [
              0.5555555555555556,
              "#d8576b"
             ],
             [
              0.6666666666666666,
              "#ed7953"
             ],
             [
              0.7777777777777778,
              "#fb9f3a"
             ],
             [
              0.8888888888888888,
              "#fdca26"
             ],
             [
              1,
              "#f0f921"
             ]
            ],
            "type": "surface"
           }
          ],
          "table": [
           {
            "cells": {
             "fill": {
              "color": "#EBF0F8"
             },
             "line": {
              "color": "white"
             }
            },
            "header": {
             "fill": {
              "color": "#C8D4E3"
             },
             "line": {
              "color": "white"
             }
            },
            "type": "table"
           }
          ]
         },
         "layout": {
          "annotationdefaults": {
           "arrowcolor": "#2a3f5f",
           "arrowhead": 0,
           "arrowwidth": 1
          },
          "autotypenumbers": "strict",
          "coloraxis": {
           "colorbar": {
            "outlinewidth": 0,
            "ticks": ""
           }
          },
          "colorscale": {
           "diverging": [
            [
             0,
             "#8e0152"
            ],
            [
             0.1,
             "#c51b7d"
            ],
            [
             0.2,
             "#de77ae"
            ],
            [
             0.3,
             "#f1b6da"
            ],
            [
             0.4,
             "#fde0ef"
            ],
            [
             0.5,
             "#f7f7f7"
            ],
            [
             0.6,
             "#e6f5d0"
            ],
            [
             0.7,
             "#b8e186"
            ],
            [
             0.8,
             "#7fbc41"
            ],
            [
             0.9,
             "#4d9221"
            ],
            [
             1,
             "#276419"
            ]
           ],
           "sequential": [
            [
             0,
             "#0d0887"
            ],
            [
             0.1111111111111111,
             "#46039f"
            ],
            [
             0.2222222222222222,
             "#7201a8"
            ],
            [
             0.3333333333333333,
             "#9c179e"
            ],
            [
             0.4444444444444444,
             "#bd3786"
            ],
            [
             0.5555555555555556,
             "#d8576b"
            ],
            [
             0.6666666666666666,
             "#ed7953"
            ],
            [
             0.7777777777777778,
             "#fb9f3a"
            ],
            [
             0.8888888888888888,
             "#fdca26"
            ],
            [
             1,
             "#f0f921"
            ]
           ],
           "sequentialminus": [
            [
             0,
             "#0d0887"
            ],
            [
             0.1111111111111111,
             "#46039f"
            ],
            [
             0.2222222222222222,
             "#7201a8"
            ],
            [
             0.3333333333333333,
             "#9c179e"
            ],
            [
             0.4444444444444444,
             "#bd3786"
            ],
            [
             0.5555555555555556,
             "#d8576b"
            ],
            [
             0.6666666666666666,
             "#ed7953"
            ],
            [
             0.7777777777777778,
             "#fb9f3a"
            ],
            [
             0.8888888888888888,
             "#fdca26"
            ],
            [
             1,
             "#f0f921"
            ]
           ]
          },
          "colorway": [
           "#636efa",
           "#EF553B",
           "#00cc96",
           "#ab63fa",
           "#FFA15A",
           "#19d3f3",
           "#FF6692",
           "#B6E880",
           "#FF97FF",
           "#FECB52"
          ],
          "font": {
           "color": "#2a3f5f"
          },
          "geo": {
           "bgcolor": "white",
           "lakecolor": "white",
           "landcolor": "#E5ECF6",
           "showlakes": true,
           "showland": true,
           "subunitcolor": "white"
          },
          "hoverlabel": {
           "align": "left"
          },
          "hovermode": "closest",
          "mapbox": {
           "style": "light"
          },
          "paper_bgcolor": "white",
          "plot_bgcolor": "#E5ECF6",
          "polar": {
           "angularaxis": {
            "gridcolor": "white",
            "linecolor": "white",
            "ticks": ""
           },
           "bgcolor": "#E5ECF6",
           "radialaxis": {
            "gridcolor": "white",
            "linecolor": "white",
            "ticks": ""
           }
          },
          "scene": {
           "xaxis": {
            "backgroundcolor": "#E5ECF6",
            "gridcolor": "white",
            "gridwidth": 2,
            "linecolor": "white",
            "showbackground": true,
            "ticks": "",
            "zerolinecolor": "white"
           },
           "yaxis": {
            "backgroundcolor": "#E5ECF6",
            "gridcolor": "white",
            "gridwidth": 2,
            "linecolor": "white",
            "showbackground": true,
            "ticks": "",
            "zerolinecolor": "white"
           },
           "zaxis": {
            "backgroundcolor": "#E5ECF6",
            "gridcolor": "white",
            "gridwidth": 2,
            "linecolor": "white",
            "showbackground": true,
            "ticks": "",
            "zerolinecolor": "white"
           }
          },
          "shapedefaults": {
           "line": {
            "color": "#2a3f5f"
           }
          },
          "ternary": {
           "aaxis": {
            "gridcolor": "white",
            "linecolor": "white",
            "ticks": ""
           },
           "baxis": {
            "gridcolor": "white",
            "linecolor": "white",
            "ticks": ""
           },
           "bgcolor": "#E5ECF6",
           "caxis": {
            "gridcolor": "white",
            "linecolor": "white",
            "ticks": ""
           }
          },
          "title": {
           "x": 0.05
          },
          "xaxis": {
           "automargin": true,
           "gridcolor": "white",
           "linecolor": "white",
           "ticks": "",
           "title": {
            "standoff": 15
           },
           "zerolinecolor": "white",
           "zerolinewidth": 2
          },
          "yaxis": {
           "automargin": true,
           "gridcolor": "white",
           "linecolor": "white",
           "ticks": "",
           "title": {
            "standoff": 15
           },
           "zerolinecolor": "white",
           "zerolinewidth": 2
          }
         }
        },
        "title": {
         "font": {
          "color": "#4D5663"
         }
        },
        "xaxis": {
         "gridcolor": "#E1E5ED",
         "showgrid": true,
         "tickfont": {
          "color": "#4D5663"
         },
         "title": {
          "font": {
           "color": "#4D5663"
          },
          "text": ""
         },
         "zerolinecolor": "#E1E5ED"
        },
        "yaxis": {
         "gridcolor": "#E1E5ED",
         "showgrid": true,
         "tickfont": {
          "color": "#4D5663"
         },
         "title": {
          "font": {
           "color": "#4D5663"
          },
          "text": ""
         },
         "zerolinecolor": "#E1E5ED"
        }
       }
      },
      "text/html": [
       "<div>                            <div id=\"cf9e109a-54aa-4c80-9a86-f26906248a6b\" class=\"plotly-graph-div\" style=\"height:525px; width:100%;\"></div>            <script type=\"text/javascript\">                require([\"plotly\"], function(Plotly) {                    window.PLOTLYENV=window.PLOTLYENV || {};\n",
       "                    window.PLOTLYENV.BASE_URL='https://plot.ly';                                    if (document.getElementById(\"cf9e109a-54aa-4c80-9a86-f26906248a6b\")) {                    Plotly.newPlot(                        \"cf9e109a-54aa-4c80-9a86-f26906248a6b\",                        [{\"histfunc\": \"count\", \"histnorm\": \"\", \"marker\": {\"color\": \"rgba(255, 153, 51, 1.0)\", \"line\": {\"color\": \"#4D5663\", \"width\": 1.3}}, \"name\": \"A\", \"nbinsx\": 25, \"opacity\": 0.8, \"orientation\": \"v\", \"type\": \"histogram\", \"x\": [-1.3743721584499824, 0.01000404246298731, 1.060073616887478, 0.11441049376808408, -0.1254638614812266, -0.9070069778849268, 0.052704947052634725, -0.018615509263272198, 0.3426791424383957, 0.7156411612038974, 0.10320678514670655, 1.5303326705609726, -0.21191099006121578, -2.020852407942947, 0.22310319700464062, 0.5054873846397421, 0.4026865599915081, -1.4536017289362706, 0.7950717634128648, -0.23111559189028452, 0.7663819343502544, -0.6235760258594119, -0.39259261868434986, 0.12216190113995658, -1.6096224506550463, 0.5639253855756436, -1.0847543814378535, 1.0885717287652497, -0.591208567689423, -1.6938094395037835, 0.018569790345541275, 0.8539549753616196, 0.806290563715313, -1.6254073372348345, 0.9733772798627246, 1.1342632149777827, 0.6285286305821992, 0.8898153149689759, 0.43696724130491166, -0.11330861472454354, -0.30502763648952747, 0.23913144901280264, -0.5265302051771779, -2.428775933644073, 1.2029442849361394, -2.123707409478142, -1.391993761824126, -0.6561453328335073, -1.0638196040870558, -1.034440135369431, 1.4545524807375916, 0.9664194515222728, 1.3514860245657558, 0.641805705752012, 0.2250786303196695, 0.5551821716123263, -0.3022131037940552, 0.1957505960294113, -0.09000988974301995, 0.2030785749813345, 0.20537268885063817, 2.007683712209121, -1.4843400652481071, 1.600331889395343, -2.658926199502142, -0.7475374003049038, 0.059354593787525535, -2.3391273652213593, 0.14801385832510175, 0.7316816414068449, 2.6313286535979996, -0.6609371876541106, 1.1687995210202855, 1.0322937940761117, -0.12266208992005274, 1.35264415917231, -0.6569032104004473, -1.325436343882467, 0.03518178304520304, 0.9882093647510404, 0.7716022659319737, 0.2571496555762069, 0.9497583254883611, 0.34755083044952106, -0.2608789849073516, 1.6727247611623286, 0.9699480590442013, -0.5146697755100796, 0.1877515295630458, -0.16382196131899163, -0.6291505468485376, -0.3276311214951528, -1.1219800893721616, 0.9243005130469527, 0.34121867776964615, -0.1776353990815943, 0.6764803263134359, -1.0912902239348543, 0.23613255869213673, -0.9206029120136027]}],                        {\"barmode\": \"overlay\", \"legend\": {\"bgcolor\": \"#F5F6F9\", \"font\": {\"color\": \"#4D5663\"}}, \"paper_bgcolor\": \"#F5F6F9\", \"plot_bgcolor\": \"#F5F6F9\", \"template\": {\"data\": {\"bar\": [{\"error_x\": {\"color\": \"#2a3f5f\"}, \"error_y\": {\"color\": \"#2a3f5f\"}, \"marker\": {\"line\": {\"color\": \"#E5ECF6\", \"width\": 0.5}}, \"type\": \"bar\"}], \"barpolar\": [{\"marker\": {\"line\": {\"color\": \"#E5ECF6\", \"width\": 0.5}}, \"type\": \"barpolar\"}], \"carpet\": [{\"aaxis\": {\"endlinecolor\": \"#2a3f5f\", \"gridcolor\": \"white\", \"linecolor\": \"white\", \"minorgridcolor\": \"white\", \"startlinecolor\": \"#2a3f5f\"}, \"baxis\": {\"endlinecolor\": \"#2a3f5f\", \"gridcolor\": \"white\", \"linecolor\": \"white\", \"minorgridcolor\": \"white\", \"startlinecolor\": \"#2a3f5f\"}, \"type\": \"carpet\"}], \"choropleth\": [{\"colorbar\": {\"outlinewidth\": 0, \"ticks\": \"\"}, \"type\": \"choropleth\"}], \"contour\": [{\"colorbar\": {\"outlinewidth\": 0, \"ticks\": \"\"}, \"colorscale\": [[0.0, \"#0d0887\"], [0.1111111111111111, \"#46039f\"], [0.2222222222222222, \"#7201a8\"], [0.3333333333333333, \"#9c179e\"], [0.4444444444444444, \"#bd3786\"], [0.5555555555555556, \"#d8576b\"], [0.6666666666666666, \"#ed7953\"], [0.7777777777777778, \"#fb9f3a\"], [0.8888888888888888, \"#fdca26\"], [1.0, \"#f0f921\"]], \"type\": \"contour\"}], \"contourcarpet\": [{\"colorbar\": {\"outlinewidth\": 0, \"ticks\": \"\"}, \"type\": \"contourcarpet\"}], \"heatmap\": [{\"colorbar\": {\"outlinewidth\": 0, \"ticks\": \"\"}, \"colorscale\": [[0.0, \"#0d0887\"], [0.1111111111111111, \"#46039f\"], [0.2222222222222222, \"#7201a8\"], [0.3333333333333333, \"#9c179e\"], [0.4444444444444444, \"#bd3786\"], [0.5555555555555556, \"#d8576b\"], [0.6666666666666666, \"#ed7953\"], [0.7777777777777778, \"#fb9f3a\"], [0.8888888888888888, \"#fdca26\"], [1.0, \"#f0f921\"]], \"type\": \"heatmap\"}], \"heatmapgl\": [{\"colorbar\": {\"outlinewidth\": 0, \"ticks\": \"\"}, \"colorscale\": [[0.0, \"#0d0887\"], [0.1111111111111111, \"#46039f\"], [0.2222222222222222, \"#7201a8\"], [0.3333333333333333, \"#9c179e\"], [0.4444444444444444, \"#bd3786\"], [0.5555555555555556, \"#d8576b\"], [0.6666666666666666, \"#ed7953\"], [0.7777777777777778, \"#fb9f3a\"], [0.8888888888888888, \"#fdca26\"], [1.0, \"#f0f921\"]], \"type\": \"heatmapgl\"}], \"histogram\": [{\"marker\": {\"colorbar\": {\"outlinewidth\": 0, \"ticks\": \"\"}}, \"type\": \"histogram\"}], \"histogram2d\": [{\"colorbar\": {\"outlinewidth\": 0, \"ticks\": \"\"}, \"colorscale\": [[0.0, \"#0d0887\"], [0.1111111111111111, \"#46039f\"], [0.2222222222222222, \"#7201a8\"], [0.3333333333333333, \"#9c179e\"], [0.4444444444444444, \"#bd3786\"], [0.5555555555555556, \"#d8576b\"], [0.6666666666666666, \"#ed7953\"], [0.7777777777777778, \"#fb9f3a\"], [0.8888888888888888, \"#fdca26\"], [1.0, \"#f0f921\"]], \"type\": \"histogram2d\"}], \"histogram2dcontour\": [{\"colorbar\": {\"outlinewidth\": 0, \"ticks\": \"\"}, \"colorscale\": [[0.0, \"#0d0887\"], [0.1111111111111111, \"#46039f\"], [0.2222222222222222, \"#7201a8\"], [0.3333333333333333, \"#9c179e\"], [0.4444444444444444, \"#bd3786\"], [0.5555555555555556, \"#d8576b\"], [0.6666666666666666, \"#ed7953\"], [0.7777777777777778, \"#fb9f3a\"], [0.8888888888888888, \"#fdca26\"], [1.0, \"#f0f921\"]], \"type\": \"histogram2dcontour\"}], \"mesh3d\": [{\"colorbar\": {\"outlinewidth\": 0, \"ticks\": \"\"}, \"type\": \"mesh3d\"}], \"parcoords\": [{\"line\": {\"colorbar\": {\"outlinewidth\": 0, \"ticks\": \"\"}}, \"type\": \"parcoords\"}], \"pie\": [{\"automargin\": true, \"type\": \"pie\"}], \"scatter\": [{\"marker\": {\"colorbar\": {\"outlinewidth\": 0, \"ticks\": \"\"}}, \"type\": \"scatter\"}], \"scatter3d\": [{\"line\": {\"colorbar\": {\"outlinewidth\": 0, \"ticks\": \"\"}}, \"marker\": {\"colorbar\": {\"outlinewidth\": 0, \"ticks\": \"\"}}, \"type\": \"scatter3d\"}], \"scattercarpet\": [{\"marker\": {\"colorbar\": {\"outlinewidth\": 0, \"ticks\": \"\"}}, \"type\": \"scattercarpet\"}], \"scattergeo\": [{\"marker\": {\"colorbar\": {\"outlinewidth\": 0, \"ticks\": \"\"}}, \"type\": \"scattergeo\"}], \"scattergl\": [{\"marker\": {\"colorbar\": {\"outlinewidth\": 0, \"ticks\": \"\"}}, \"type\": \"scattergl\"}], \"scattermapbox\": [{\"marker\": {\"colorbar\": {\"outlinewidth\": 0, \"ticks\": \"\"}}, \"type\": \"scattermapbox\"}], \"scatterpolar\": [{\"marker\": {\"colorbar\": {\"outlinewidth\": 0, \"ticks\": \"\"}}, \"type\": \"scatterpolar\"}], \"scatterpolargl\": [{\"marker\": {\"colorbar\": {\"outlinewidth\": 0, \"ticks\": \"\"}}, \"type\": \"scatterpolargl\"}], \"scatterternary\": [{\"marker\": {\"colorbar\": {\"outlinewidth\": 0, \"ticks\": \"\"}}, \"type\": \"scatterternary\"}], \"surface\": [{\"colorbar\": {\"outlinewidth\": 0, \"ticks\": \"\"}, \"colorscale\": [[0.0, \"#0d0887\"], [0.1111111111111111, \"#46039f\"], [0.2222222222222222, \"#7201a8\"], [0.3333333333333333, \"#9c179e\"], [0.4444444444444444, \"#bd3786\"], [0.5555555555555556, \"#d8576b\"], [0.6666666666666666, \"#ed7953\"], [0.7777777777777778, \"#fb9f3a\"], [0.8888888888888888, \"#fdca26\"], [1.0, \"#f0f921\"]], \"type\": \"surface\"}], \"table\": [{\"cells\": {\"fill\": {\"color\": \"#EBF0F8\"}, \"line\": {\"color\": \"white\"}}, \"header\": {\"fill\": {\"color\": \"#C8D4E3\"}, \"line\": {\"color\": \"white\"}}, \"type\": \"table\"}]}, \"layout\": {\"annotationdefaults\": {\"arrowcolor\": \"#2a3f5f\", \"arrowhead\": 0, \"arrowwidth\": 1}, \"autotypenumbers\": \"strict\", \"coloraxis\": {\"colorbar\": {\"outlinewidth\": 0, \"ticks\": \"\"}}, \"colorscale\": {\"diverging\": [[0, \"#8e0152\"], [0.1, \"#c51b7d\"], [0.2, \"#de77ae\"], [0.3, \"#f1b6da\"], [0.4, \"#fde0ef\"], [0.5, \"#f7f7f7\"], [0.6, \"#e6f5d0\"], [0.7, \"#b8e186\"], [0.8, \"#7fbc41\"], [0.9, \"#4d9221\"], [1, \"#276419\"]], \"sequential\": [[0.0, \"#0d0887\"], [0.1111111111111111, \"#46039f\"], [0.2222222222222222, \"#7201a8\"], [0.3333333333333333, \"#9c179e\"], [0.4444444444444444, \"#bd3786\"], [0.5555555555555556, \"#d8576b\"], [0.6666666666666666, \"#ed7953\"], [0.7777777777777778, \"#fb9f3a\"], [0.8888888888888888, \"#fdca26\"], [1.0, \"#f0f921\"]], \"sequentialminus\": [[0.0, \"#0d0887\"], [0.1111111111111111, \"#46039f\"], [0.2222222222222222, \"#7201a8\"], [0.3333333333333333, \"#9c179e\"], [0.4444444444444444, \"#bd3786\"], [0.5555555555555556, \"#d8576b\"], [0.6666666666666666, \"#ed7953\"], [0.7777777777777778, \"#fb9f3a\"], [0.8888888888888888, \"#fdca26\"], [1.0, \"#f0f921\"]]}, \"colorway\": [\"#636efa\", \"#EF553B\", \"#00cc96\", \"#ab63fa\", \"#FFA15A\", \"#19d3f3\", \"#FF6692\", \"#B6E880\", \"#FF97FF\", \"#FECB52\"], \"font\": {\"color\": \"#2a3f5f\"}, \"geo\": {\"bgcolor\": \"white\", \"lakecolor\": \"white\", \"landcolor\": \"#E5ECF6\", \"showlakes\": true, \"showland\": true, \"subunitcolor\": \"white\"}, \"hoverlabel\": {\"align\": \"left\"}, \"hovermode\": \"closest\", \"mapbox\": {\"style\": \"light\"}, \"paper_bgcolor\": \"white\", \"plot_bgcolor\": \"#E5ECF6\", \"polar\": {\"angularaxis\": {\"gridcolor\": \"white\", \"linecolor\": \"white\", \"ticks\": \"\"}, \"bgcolor\": \"#E5ECF6\", \"radialaxis\": {\"gridcolor\": \"white\", \"linecolor\": \"white\", \"ticks\": \"\"}}, \"scene\": {\"xaxis\": {\"backgroundcolor\": \"#E5ECF6\", \"gridcolor\": \"white\", \"gridwidth\": 2, \"linecolor\": \"white\", \"showbackground\": true, \"ticks\": \"\", \"zerolinecolor\": \"white\"}, \"yaxis\": {\"backgroundcolor\": \"#E5ECF6\", \"gridcolor\": \"white\", \"gridwidth\": 2, \"linecolor\": \"white\", \"showbackground\": true, \"ticks\": \"\", \"zerolinecolor\": \"white\"}, \"zaxis\": {\"backgroundcolor\": \"#E5ECF6\", \"gridcolor\": \"white\", \"gridwidth\": 2, \"linecolor\": \"white\", \"showbackground\": true, \"ticks\": \"\", \"zerolinecolor\": \"white\"}}, \"shapedefaults\": {\"line\": {\"color\": \"#2a3f5f\"}}, \"ternary\": {\"aaxis\": {\"gridcolor\": \"white\", \"linecolor\": \"white\", \"ticks\": \"\"}, \"baxis\": {\"gridcolor\": \"white\", \"linecolor\": \"white\", \"ticks\": \"\"}, \"bgcolor\": \"#E5ECF6\", \"caxis\": {\"gridcolor\": \"white\", \"linecolor\": \"white\", \"ticks\": \"\"}}, \"title\": {\"x\": 0.05}, \"xaxis\": {\"automargin\": true, \"gridcolor\": \"white\", \"linecolor\": \"white\", \"ticks\": \"\", \"title\": {\"standoff\": 15}, \"zerolinecolor\": \"white\", \"zerolinewidth\": 2}, \"yaxis\": {\"automargin\": true, \"gridcolor\": \"white\", \"linecolor\": \"white\", \"ticks\": \"\", \"title\": {\"standoff\": 15}, \"zerolinecolor\": \"white\", \"zerolinewidth\": 2}}}, \"title\": {\"font\": {\"color\": \"#4D5663\"}}, \"xaxis\": {\"gridcolor\": \"#E1E5ED\", \"showgrid\": true, \"tickfont\": {\"color\": \"#4D5663\"}, \"title\": {\"font\": {\"color\": \"#4D5663\"}, \"text\": \"\"}, \"zerolinecolor\": \"#E1E5ED\"}, \"yaxis\": {\"gridcolor\": \"#E1E5ED\", \"showgrid\": true, \"tickfont\": {\"color\": \"#4D5663\"}, \"title\": {\"font\": {\"color\": \"#4D5663\"}, \"text\": \"\"}, \"zerolinecolor\": \"#E1E5ED\"}},                        {\"showLink\": true, \"linkText\": \"Export to plot.ly\", \"plotlyServerURL\": \"https://plot.ly\", \"responsive\": true}                    ).then(function(){\n",
       "                            \n",
       "var gd = document.getElementById('cf9e109a-54aa-4c80-9a86-f26906248a6b');\n",
       "var x = new MutationObserver(function (mutations, observer) {{\n",
       "        var display = window.getComputedStyle(gd).display;\n",
       "        if (!display || display === 'none') {{\n",
       "            console.log([gd, 'removed!']);\n",
       "            Plotly.purge(gd);\n",
       "            observer.disconnect();\n",
       "        }}\n",
       "}});\n",
       "\n",
       "// Listen for the removal of the full notebook cells\n",
       "var notebookContainer = gd.closest('#notebook-container');\n",
       "if (notebookContainer) {{\n",
       "    x.observe(notebookContainer, {childList: true});\n",
       "}}\n",
       "\n",
       "// Listen for the clearing of the current output cell\n",
       "var outputEl = gd.closest('.output');\n",
       "if (outputEl) {{\n",
       "    x.observe(outputEl, {childList: true});\n",
       "}}\n",
       "\n",
       "                        })                };                });            </script>        </div>"
      ]
     },
     "metadata": {},
     "output_type": "display_data"
    }
   ],
   "source": [
    "df['A'].iplot(kind='hist',bins=25)"
   ]
  },
  {
   "cell_type": "code",
   "execution_count": 31,
   "metadata": {},
   "outputs": [
    {
     "data": {
      "application/vnd.plotly.v1+json": {
       "config": {
        "linkText": "Export to plot.ly",
        "plotlyServerURL": "https://plot.ly",
        "showLink": true
       },
       "data": [
        {
         "marker": {
          "color": [
           "rgb(255, 153, 51)",
           "rgb(55, 128, 191)",
           "rgb(50, 171, 96)",
           "rgb(128, 0, 128)",
           "rgb(219, 64, 82)",
           "rgb(0, 128, 128)",
           "rgb(255, 255, 51)",
           "rgb(128, 128, 0)",
           "rgb(251, 128, 114)",
           "rgb(128, 177, 211)"
          ],
          "line": {
           "width": 1.3
          },
          "size": [
           53,
           69,
           83,
           93,
           82,
           66,
           54,
           66,
           76,
           89,
           44,
           39,
           55,
           54,
           46,
           39,
           45,
           26,
           42,
           38,
           58,
           41,
           84,
           40,
           65,
           78,
           47,
           29,
           39,
           54,
           33,
           48,
           72,
           19,
           31,
           61,
           38,
           48,
           80,
           65,
           77,
           45,
           50,
           66,
           42,
           75,
           12,
           67,
           28,
           24,
           61,
           22,
           34,
           59,
           32,
           56,
           53,
           72,
           35,
           70,
           77,
           30,
           66,
           92,
           54,
           75,
           79,
           50,
           24,
           45,
           48,
           90,
           65,
           112,
           74,
           65,
           33,
           78,
           60,
           42,
           37,
           66,
           37,
           60,
           21,
           55,
           59,
           36,
           64,
           18,
           97,
           43,
           57,
           43,
           84,
           54,
           50,
           48,
           50,
           89
          ],
          "symbol": "circle"
         },
         "mode": "markers",
         "text": "",
         "type": "scatter",
         "x": [
          -1.3743721584499824,
          0.01000404246298731,
          1.060073616887478,
          0.11441049376808408,
          -0.1254638614812266,
          -0.9070069778849268,
          0.052704947052634725,
          -0.018615509263272198,
          0.3426791424383957,
          0.7156411612038974,
          0.10320678514670655,
          1.5303326705609726,
          -0.21191099006121578,
          -2.020852407942947,
          0.22310319700464062,
          0.5054873846397421,
          0.4026865599915081,
          -1.4536017289362706,
          0.7950717634128648,
          -0.23111559189028452,
          0.7663819343502544,
          -0.6235760258594119,
          -0.39259261868434986,
          0.12216190113995658,
          -1.6096224506550463,
          0.5639253855756436,
          -1.0847543814378535,
          1.0885717287652497,
          -0.591208567689423,
          -1.6938094395037835,
          0.018569790345541275,
          0.8539549753616196,
          0.806290563715313,
          -1.6254073372348345,
          0.9733772798627246,
          1.1342632149777827,
          0.6285286305821992,
          0.8898153149689759,
          0.43696724130491166,
          -0.11330861472454354,
          -0.30502763648952747,
          0.23913144901280264,
          -0.5265302051771779,
          -2.428775933644073,
          1.2029442849361394,
          -2.123707409478142,
          -1.391993761824126,
          -0.6561453328335073,
          -1.0638196040870558,
          -1.034440135369431,
          1.4545524807375916,
          0.9664194515222728,
          1.3514860245657558,
          0.641805705752012,
          0.2250786303196695,
          0.5551821716123263,
          -0.3022131037940552,
          0.1957505960294113,
          -0.09000988974301995,
          0.2030785749813345,
          0.20537268885063817,
          2.007683712209121,
          -1.4843400652481071,
          1.600331889395343,
          -2.658926199502142,
          -0.7475374003049038,
          0.059354593787525535,
          -2.3391273652213593,
          0.14801385832510175,
          0.7316816414068449,
          2.6313286535979996,
          -0.6609371876541106,
          1.1687995210202855,
          1.0322937940761117,
          -0.12266208992005274,
          1.35264415917231,
          -0.6569032104004473,
          -1.325436343882467,
          0.03518178304520304,
          0.9882093647510404,
          0.7716022659319737,
          0.2571496555762069,
          0.9497583254883611,
          0.34755083044952106,
          -0.2608789849073516,
          1.6727247611623286,
          0.9699480590442013,
          -0.5146697755100796,
          0.1877515295630458,
          -0.16382196131899163,
          -0.6291505468485376,
          -0.3276311214951528,
          -1.1219800893721616,
          0.9243005130469527,
          0.34121867776964615,
          -0.1776353990815943,
          0.6764803263134359,
          -1.0912902239348543,
          0.23613255869213673,
          -0.9206029120136027
         ],
         "y": [
          -0.41705545013634915,
          -0.48642056858316945,
          -0.026443392359397484,
          0.1978372625783503,
          1.4968152023860652,
          1.2996001460682738,
          -1.9367361458578556,
          -0.7567789330556283,
          -2.054035669273658,
          0.5048997928080652,
          -1.1112808411952075,
          0.5912890910463597,
          0.0955475906516338,
          -0.28622310082696395,
          0.11737426814490341,
          -0.06758176195487915,
          0.3241491954622198,
          -0.5104479126394454,
          0.026529123575938545,
          1.4972763559326852,
          1.8253818450833434,
          -1.2574190220624064,
          0.1257869275628511,
          0.016621627579822357,
          0.979647443174523,
          0.518474140677526,
          -0.41373982543347276,
          0.009111766977325414,
          0.7981851789989233,
          -1.5066373021119543,
          -0.8145019514506392,
          1.2127894892403486,
          1.1666091840168742,
          -0.1826814988975061,
          0.2121435888368178,
          0.5919460396147409,
          0.6706604908690293,
          -0.1538820807314714,
          -0.06481604156077372,
          0.6865617899199997,
          0.5772096001553042,
          0.469910962356171,
          -2.0005706396554475,
          0.7472354988856291,
          -0.6389610051560966,
          -0.38295815856378096,
          -0.09249688990779162,
          1.6673465664575287,
          -0.5169802146802591,
          0.3229158282844716,
          -2.2439072734691266,
          -0.59787255059542,
          2.0190019560628656,
          -0.8827665762111087,
          0.1720370484706035,
          1.1447792901642073,
          -2.021110364925016,
          -0.4431961270162332,
          0.6154890464199887,
          -0.5340413595491634,
          -1.4300515449852669,
          -0.4289970586923092,
          -3.187864606601478,
          -0.5443854916908588,
          1.9027789968231628,
          0.028860644801460108,
          -0.9070719076829377,
          2.2604509548717204,
          -0.4756263042930482,
          -1.0527349279366778,
          1.0989883088287775,
          0.8363471991549375,
          0.9390577333704273,
          -0.6821309372267801,
          -0.040109791076703746,
          -1.0926766026681485,
          0.8810484800262337,
          0.13899121632294173,
          0.18175429939228152,
          0.6641933255515288,
          -0.29364200182227196,
          0.5215667308020342,
          0.511801600346848,
          0.1323902697067605,
          -2.1124151258180466,
          -0.3963021602119647,
          1.1669298215227715,
          0.7144341554925651,
          1.393601613907853,
          0.8542543813843058,
          1.793693509296129,
          1.958951631262988,
          1.9793533489183885,
          0.5393936516728588,
          0.8635557050746643,
          0.19647333456875704,
          -1.3462894052999834,
          -0.036318884695404764,
          -0.5437514526982358,
          -0.8788039924624359
         ]
        }
       ],
       "layout": {
        "legend": {
         "bgcolor": "#F5F6F9",
         "font": {
          "color": "#4D5663"
         }
        },
        "paper_bgcolor": "#F5F6F9",
        "plot_bgcolor": "#F5F6F9",
        "template": {
         "data": {
          "bar": [
           {
            "error_x": {
             "color": "#2a3f5f"
            },
            "error_y": {
             "color": "#2a3f5f"
            },
            "marker": {
             "line": {
              "color": "#E5ECF6",
              "width": 0.5
             }
            },
            "type": "bar"
           }
          ],
          "barpolar": [
           {
            "marker": {
             "line": {
              "color": "#E5ECF6",
              "width": 0.5
             }
            },
            "type": "barpolar"
           }
          ],
          "carpet": [
           {
            "aaxis": {
             "endlinecolor": "#2a3f5f",
             "gridcolor": "white",
             "linecolor": "white",
             "minorgridcolor": "white",
             "startlinecolor": "#2a3f5f"
            },
            "baxis": {
             "endlinecolor": "#2a3f5f",
             "gridcolor": "white",
             "linecolor": "white",
             "minorgridcolor": "white",
             "startlinecolor": "#2a3f5f"
            },
            "type": "carpet"
           }
          ],
          "choropleth": [
           {
            "colorbar": {
             "outlinewidth": 0,
             "ticks": ""
            },
            "type": "choropleth"
           }
          ],
          "contour": [
           {
            "colorbar": {
             "outlinewidth": 0,
             "ticks": ""
            },
            "colorscale": [
             [
              0,
              "#0d0887"
             ],
             [
              0.1111111111111111,
              "#46039f"
             ],
             [
              0.2222222222222222,
              "#7201a8"
             ],
             [
              0.3333333333333333,
              "#9c179e"
             ],
             [
              0.4444444444444444,
              "#bd3786"
             ],
             [
              0.5555555555555556,
              "#d8576b"
             ],
             [
              0.6666666666666666,
              "#ed7953"
             ],
             [
              0.7777777777777778,
              "#fb9f3a"
             ],
             [
              0.8888888888888888,
              "#fdca26"
             ],
             [
              1,
              "#f0f921"
             ]
            ],
            "type": "contour"
           }
          ],
          "contourcarpet": [
           {
            "colorbar": {
             "outlinewidth": 0,
             "ticks": ""
            },
            "type": "contourcarpet"
           }
          ],
          "heatmap": [
           {
            "colorbar": {
             "outlinewidth": 0,
             "ticks": ""
            },
            "colorscale": [
             [
              0,
              "#0d0887"
             ],
             [
              0.1111111111111111,
              "#46039f"
             ],
             [
              0.2222222222222222,
              "#7201a8"
             ],
             [
              0.3333333333333333,
              "#9c179e"
             ],
             [
              0.4444444444444444,
              "#bd3786"
             ],
             [
              0.5555555555555556,
              "#d8576b"
             ],
             [
              0.6666666666666666,
              "#ed7953"
             ],
             [
              0.7777777777777778,
              "#fb9f3a"
             ],
             [
              0.8888888888888888,
              "#fdca26"
             ],
             [
              1,
              "#f0f921"
             ]
            ],
            "type": "heatmap"
           }
          ],
          "heatmapgl": [
           {
            "colorbar": {
             "outlinewidth": 0,
             "ticks": ""
            },
            "colorscale": [
             [
              0,
              "#0d0887"
             ],
             [
              0.1111111111111111,
              "#46039f"
             ],
             [
              0.2222222222222222,
              "#7201a8"
             ],
             [
              0.3333333333333333,
              "#9c179e"
             ],
             [
              0.4444444444444444,
              "#bd3786"
             ],
             [
              0.5555555555555556,
              "#d8576b"
             ],
             [
              0.6666666666666666,
              "#ed7953"
             ],
             [
              0.7777777777777778,
              "#fb9f3a"
             ],
             [
              0.8888888888888888,
              "#fdca26"
             ],
             [
              1,
              "#f0f921"
             ]
            ],
            "type": "heatmapgl"
           }
          ],
          "histogram": [
           {
            "marker": {
             "colorbar": {
              "outlinewidth": 0,
              "ticks": ""
             }
            },
            "type": "histogram"
           }
          ],
          "histogram2d": [
           {
            "colorbar": {
             "outlinewidth": 0,
             "ticks": ""
            },
            "colorscale": [
             [
              0,
              "#0d0887"
             ],
             [
              0.1111111111111111,
              "#46039f"
             ],
             [
              0.2222222222222222,
              "#7201a8"
             ],
             [
              0.3333333333333333,
              "#9c179e"
             ],
             [
              0.4444444444444444,
              "#bd3786"
             ],
             [
              0.5555555555555556,
              "#d8576b"
             ],
             [
              0.6666666666666666,
              "#ed7953"
             ],
             [
              0.7777777777777778,
              "#fb9f3a"
             ],
             [
              0.8888888888888888,
              "#fdca26"
             ],
             [
              1,
              "#f0f921"
             ]
            ],
            "type": "histogram2d"
           }
          ],
          "histogram2dcontour": [
           {
            "colorbar": {
             "outlinewidth": 0,
             "ticks": ""
            },
            "colorscale": [
             [
              0,
              "#0d0887"
             ],
             [
              0.1111111111111111,
              "#46039f"
             ],
             [
              0.2222222222222222,
              "#7201a8"
             ],
             [
              0.3333333333333333,
              "#9c179e"
             ],
             [
              0.4444444444444444,
              "#bd3786"
             ],
             [
              0.5555555555555556,
              "#d8576b"
             ],
             [
              0.6666666666666666,
              "#ed7953"
             ],
             [
              0.7777777777777778,
              "#fb9f3a"
             ],
             [
              0.8888888888888888,
              "#fdca26"
             ],
             [
              1,
              "#f0f921"
             ]
            ],
            "type": "histogram2dcontour"
           }
          ],
          "mesh3d": [
           {
            "colorbar": {
             "outlinewidth": 0,
             "ticks": ""
            },
            "type": "mesh3d"
           }
          ],
          "parcoords": [
           {
            "line": {
             "colorbar": {
              "outlinewidth": 0,
              "ticks": ""
             }
            },
            "type": "parcoords"
           }
          ],
          "pie": [
           {
            "automargin": true,
            "type": "pie"
           }
          ],
          "scatter": [
           {
            "marker": {
             "colorbar": {
              "outlinewidth": 0,
              "ticks": ""
             }
            },
            "type": "scatter"
           }
          ],
          "scatter3d": [
           {
            "line": {
             "colorbar": {
              "outlinewidth": 0,
              "ticks": ""
             }
            },
            "marker": {
             "colorbar": {
              "outlinewidth": 0,
              "ticks": ""
             }
            },
            "type": "scatter3d"
           }
          ],
          "scattercarpet": [
           {
            "marker": {
             "colorbar": {
              "outlinewidth": 0,
              "ticks": ""
             }
            },
            "type": "scattercarpet"
           }
          ],
          "scattergeo": [
           {
            "marker": {
             "colorbar": {
              "outlinewidth": 0,
              "ticks": ""
             }
            },
            "type": "scattergeo"
           }
          ],
          "scattergl": [
           {
            "marker": {
             "colorbar": {
              "outlinewidth": 0,
              "ticks": ""
             }
            },
            "type": "scattergl"
           }
          ],
          "scattermapbox": [
           {
            "marker": {
             "colorbar": {
              "outlinewidth": 0,
              "ticks": ""
             }
            },
            "type": "scattermapbox"
           }
          ],
          "scatterpolar": [
           {
            "marker": {
             "colorbar": {
              "outlinewidth": 0,
              "ticks": ""
             }
            },
            "type": "scatterpolar"
           }
          ],
          "scatterpolargl": [
           {
            "marker": {
             "colorbar": {
              "outlinewidth": 0,
              "ticks": ""
             }
            },
            "type": "scatterpolargl"
           }
          ],
          "scatterternary": [
           {
            "marker": {
             "colorbar": {
              "outlinewidth": 0,
              "ticks": ""
             }
            },
            "type": "scatterternary"
           }
          ],
          "surface": [
           {
            "colorbar": {
             "outlinewidth": 0,
             "ticks": ""
            },
            "colorscale": [
             [
              0,
              "#0d0887"
             ],
             [
              0.1111111111111111,
              "#46039f"
             ],
             [
              0.2222222222222222,
              "#7201a8"
             ],
             [
              0.3333333333333333,
              "#9c179e"
             ],
             [
              0.4444444444444444,
              "#bd3786"
             ],
             [
              0.5555555555555556,
              "#d8576b"
             ],
             [
              0.6666666666666666,
              "#ed7953"
             ],
             [
              0.7777777777777778,
              "#fb9f3a"
             ],
             [
              0.8888888888888888,
              "#fdca26"
             ],
             [
              1,
              "#f0f921"
             ]
            ],
            "type": "surface"
           }
          ],
          "table": [
           {
            "cells": {
             "fill": {
              "color": "#EBF0F8"
             },
             "line": {
              "color": "white"
             }
            },
            "header": {
             "fill": {
              "color": "#C8D4E3"
             },
             "line": {
              "color": "white"
             }
            },
            "type": "table"
           }
          ]
         },
         "layout": {
          "annotationdefaults": {
           "arrowcolor": "#2a3f5f",
           "arrowhead": 0,
           "arrowwidth": 1
          },
          "autotypenumbers": "strict",
          "coloraxis": {
           "colorbar": {
            "outlinewidth": 0,
            "ticks": ""
           }
          },
          "colorscale": {
           "diverging": [
            [
             0,
             "#8e0152"
            ],
            [
             0.1,
             "#c51b7d"
            ],
            [
             0.2,
             "#de77ae"
            ],
            [
             0.3,
             "#f1b6da"
            ],
            [
             0.4,
             "#fde0ef"
            ],
            [
             0.5,
             "#f7f7f7"
            ],
            [
             0.6,
             "#e6f5d0"
            ],
            [
             0.7,
             "#b8e186"
            ],
            [
             0.8,
             "#7fbc41"
            ],
            [
             0.9,
             "#4d9221"
            ],
            [
             1,
             "#276419"
            ]
           ],
           "sequential": [
            [
             0,
             "#0d0887"
            ],
            [
             0.1111111111111111,
             "#46039f"
            ],
            [
             0.2222222222222222,
             "#7201a8"
            ],
            [
             0.3333333333333333,
             "#9c179e"
            ],
            [
             0.4444444444444444,
             "#bd3786"
            ],
            [
             0.5555555555555556,
             "#d8576b"
            ],
            [
             0.6666666666666666,
             "#ed7953"
            ],
            [
             0.7777777777777778,
             "#fb9f3a"
            ],
            [
             0.8888888888888888,
             "#fdca26"
            ],
            [
             1,
             "#f0f921"
            ]
           ],
           "sequentialminus": [
            [
             0,
             "#0d0887"
            ],
            [
             0.1111111111111111,
             "#46039f"
            ],
            [
             0.2222222222222222,
             "#7201a8"
            ],
            [
             0.3333333333333333,
             "#9c179e"
            ],
            [
             0.4444444444444444,
             "#bd3786"
            ],
            [
             0.5555555555555556,
             "#d8576b"
            ],
            [
             0.6666666666666666,
             "#ed7953"
            ],
            [
             0.7777777777777778,
             "#fb9f3a"
            ],
            [
             0.8888888888888888,
             "#fdca26"
            ],
            [
             1,
             "#f0f921"
            ]
           ]
          },
          "colorway": [
           "#636efa",
           "#EF553B",
           "#00cc96",
           "#ab63fa",
           "#FFA15A",
           "#19d3f3",
           "#FF6692",
           "#B6E880",
           "#FF97FF",
           "#FECB52"
          ],
          "font": {
           "color": "#2a3f5f"
          },
          "geo": {
           "bgcolor": "white",
           "lakecolor": "white",
           "landcolor": "#E5ECF6",
           "showlakes": true,
           "showland": true,
           "subunitcolor": "white"
          },
          "hoverlabel": {
           "align": "left"
          },
          "hovermode": "closest",
          "mapbox": {
           "style": "light"
          },
          "paper_bgcolor": "white",
          "plot_bgcolor": "#E5ECF6",
          "polar": {
           "angularaxis": {
            "gridcolor": "white",
            "linecolor": "white",
            "ticks": ""
           },
           "bgcolor": "#E5ECF6",
           "radialaxis": {
            "gridcolor": "white",
            "linecolor": "white",
            "ticks": ""
           }
          },
          "scene": {
           "xaxis": {
            "backgroundcolor": "#E5ECF6",
            "gridcolor": "white",
            "gridwidth": 2,
            "linecolor": "white",
            "showbackground": true,
            "ticks": "",
            "zerolinecolor": "white"
           },
           "yaxis": {
            "backgroundcolor": "#E5ECF6",
            "gridcolor": "white",
            "gridwidth": 2,
            "linecolor": "white",
            "showbackground": true,
            "ticks": "",
            "zerolinecolor": "white"
           },
           "zaxis": {
            "backgroundcolor": "#E5ECF6",
            "gridcolor": "white",
            "gridwidth": 2,
            "linecolor": "white",
            "showbackground": true,
            "ticks": "",
            "zerolinecolor": "white"
           }
          },
          "shapedefaults": {
           "line": {
            "color": "#2a3f5f"
           }
          },
          "ternary": {
           "aaxis": {
            "gridcolor": "white",
            "linecolor": "white",
            "ticks": ""
           },
           "baxis": {
            "gridcolor": "white",
            "linecolor": "white",
            "ticks": ""
           },
           "bgcolor": "#E5ECF6",
           "caxis": {
            "gridcolor": "white",
            "linecolor": "white",
            "ticks": ""
           }
          },
          "title": {
           "x": 0.05
          },
          "xaxis": {
           "automargin": true,
           "gridcolor": "white",
           "linecolor": "white",
           "ticks": "",
           "title": {
            "standoff": 15
           },
           "zerolinecolor": "white",
           "zerolinewidth": 2
          },
          "yaxis": {
           "automargin": true,
           "gridcolor": "white",
           "linecolor": "white",
           "ticks": "",
           "title": {
            "standoff": 15
           },
           "zerolinecolor": "white",
           "zerolinewidth": 2
          }
         }
        },
        "title": {
         "font": {
          "color": "#4D5663"
         }
        },
        "xaxis": {
         "gridcolor": "#E1E5ED",
         "showgrid": true,
         "tickfont": {
          "color": "#4D5663"
         },
         "title": {
          "font": {
           "color": "#4D5663"
          },
          "text": ""
         },
         "zerolinecolor": "#E1E5ED"
        },
        "yaxis": {
         "gridcolor": "#E1E5ED",
         "showgrid": true,
         "tickfont": {
          "color": "#4D5663"
         },
         "title": {
          "font": {
           "color": "#4D5663"
          },
          "text": ""
         },
         "zerolinecolor": "#E1E5ED"
        }
       }
      },
      "text/html": [
       "<div>                            <div id=\"6fcfec1e-5d5e-4ebf-8c0e-f860890c3d4d\" class=\"plotly-graph-div\" style=\"height:525px; width:100%;\"></div>            <script type=\"text/javascript\">                require([\"plotly\"], function(Plotly) {                    window.PLOTLYENV=window.PLOTLYENV || {};\n",
       "                    window.PLOTLYENV.BASE_URL='https://plot.ly';                                    if (document.getElementById(\"6fcfec1e-5d5e-4ebf-8c0e-f860890c3d4d\")) {                    Plotly.newPlot(                        \"6fcfec1e-5d5e-4ebf-8c0e-f860890c3d4d\",                        [{\"marker\": {\"color\": [\"rgb(255, 153, 51)\", \"rgb(55, 128, 191)\", \"rgb(50, 171, 96)\", \"rgb(128, 0, 128)\", \"rgb(219, 64, 82)\", \"rgb(0, 128, 128)\", \"rgb(255, 255, 51)\", \"rgb(128, 128, 0)\", \"rgb(251, 128, 114)\", \"rgb(128, 177, 211)\"], \"line\": {\"width\": 1.3}, \"size\": [53, 69, 83, 93, 82, 66, 54, 66, 76, 89, 44, 39, 55, 54, 46, 39, 45, 26, 42, 38, 58, 41, 84, 40, 65, 78, 47, 29, 39, 54, 33, 48, 72, 19, 31, 61, 38, 48, 80, 65, 77, 45, 50, 66, 42, 75, 12, 67, 28, 24, 61, 22, 34, 59, 32, 56, 53, 72, 35, 70, 77, 30, 66, 92, 54, 75, 79, 50, 24, 45, 48, 90, 65, 112, 74, 65, 33, 78, 60, 42, 37, 66, 37, 60, 21, 55, 59, 36, 64, 18, 97, 43, 57, 43, 84, 54, 50, 48, 50, 89], \"symbol\": \"circle\"}, \"mode\": \"markers\", \"text\": \"\", \"type\": \"scatter\", \"x\": [-1.3743721584499824, 0.01000404246298731, 1.060073616887478, 0.11441049376808408, -0.1254638614812266, -0.9070069778849268, 0.052704947052634725, -0.018615509263272198, 0.3426791424383957, 0.7156411612038974, 0.10320678514670655, 1.5303326705609726, -0.21191099006121578, -2.020852407942947, 0.22310319700464062, 0.5054873846397421, 0.4026865599915081, -1.4536017289362706, 0.7950717634128648, -0.23111559189028452, 0.7663819343502544, -0.6235760258594119, -0.39259261868434986, 0.12216190113995658, -1.6096224506550463, 0.5639253855756436, -1.0847543814378535, 1.0885717287652497, -0.591208567689423, -1.6938094395037835, 0.018569790345541275, 0.8539549753616196, 0.806290563715313, -1.6254073372348345, 0.9733772798627246, 1.1342632149777827, 0.6285286305821992, 0.8898153149689759, 0.43696724130491166, -0.11330861472454354, -0.30502763648952747, 0.23913144901280264, -0.5265302051771779, -2.428775933644073, 1.2029442849361394, -2.123707409478142, -1.391993761824126, -0.6561453328335073, -1.0638196040870558, -1.034440135369431, 1.4545524807375916, 0.9664194515222728, 1.3514860245657558, 0.641805705752012, 0.2250786303196695, 0.5551821716123263, -0.3022131037940552, 0.1957505960294113, -0.09000988974301995, 0.2030785749813345, 0.20537268885063817, 2.007683712209121, -1.4843400652481071, 1.600331889395343, -2.658926199502142, -0.7475374003049038, 0.059354593787525535, -2.3391273652213593, 0.14801385832510175, 0.7316816414068449, 2.6313286535979996, -0.6609371876541106, 1.1687995210202855, 1.0322937940761117, -0.12266208992005274, 1.35264415917231, -0.6569032104004473, -1.325436343882467, 0.03518178304520304, 0.9882093647510404, 0.7716022659319737, 0.2571496555762069, 0.9497583254883611, 0.34755083044952106, -0.2608789849073516, 1.6727247611623286, 0.9699480590442013, -0.5146697755100796, 0.1877515295630458, -0.16382196131899163, -0.6291505468485376, -0.3276311214951528, -1.1219800893721616, 0.9243005130469527, 0.34121867776964615, -0.1776353990815943, 0.6764803263134359, -1.0912902239348543, 0.23613255869213673, -0.9206029120136027], \"y\": [-0.41705545013634915, -0.48642056858316945, -0.026443392359397484, 0.1978372625783503, 1.4968152023860652, 1.2996001460682738, -1.9367361458578556, -0.7567789330556283, -2.054035669273658, 0.5048997928080652, -1.1112808411952075, 0.5912890910463597, 0.0955475906516338, -0.28622310082696395, 0.11737426814490341, -0.06758176195487915, 0.3241491954622198, -0.5104479126394454, 0.026529123575938545, 1.4972763559326852, 1.8253818450833434, -1.2574190220624064, 0.1257869275628511, 0.016621627579822357, 0.979647443174523, 0.518474140677526, -0.41373982543347276, 0.009111766977325414, 0.7981851789989233, -1.5066373021119543, -0.8145019514506392, 1.2127894892403486, 1.1666091840168742, -0.1826814988975061, 0.2121435888368178, 0.5919460396147409, 0.6706604908690293, -0.1538820807314714, -0.06481604156077372, 0.6865617899199997, 0.5772096001553042, 0.469910962356171, -2.0005706396554475, 0.7472354988856291, -0.6389610051560966, -0.38295815856378096, -0.09249688990779162, 1.6673465664575287, -0.5169802146802591, 0.3229158282844716, -2.2439072734691266, -0.59787255059542, 2.0190019560628656, -0.8827665762111087, 0.1720370484706035, 1.1447792901642073, -2.021110364925016, -0.4431961270162332, 0.6154890464199887, -0.5340413595491634, -1.4300515449852669, -0.4289970586923092, -3.187864606601478, -0.5443854916908588, 1.9027789968231628, 0.028860644801460108, -0.9070719076829377, 2.2604509548717204, -0.4756263042930482, -1.0527349279366778, 1.0989883088287775, 0.8363471991549375, 0.9390577333704273, -0.6821309372267801, -0.040109791076703746, -1.0926766026681485, 0.8810484800262337, 0.13899121632294173, 0.18175429939228152, 0.6641933255515288, -0.29364200182227196, 0.5215667308020342, 0.511801600346848, 0.1323902697067605, -2.1124151258180466, -0.3963021602119647, 1.1669298215227715, 0.7144341554925651, 1.393601613907853, 0.8542543813843058, 1.793693509296129, 1.958951631262988, 1.9793533489183885, 0.5393936516728588, 0.8635557050746643, 0.19647333456875704, -1.3462894052999834, -0.036318884695404764, -0.5437514526982358, -0.8788039924624359]}],                        {\"legend\": {\"bgcolor\": \"#F5F6F9\", \"font\": {\"color\": \"#4D5663\"}}, \"paper_bgcolor\": \"#F5F6F9\", \"plot_bgcolor\": \"#F5F6F9\", \"template\": {\"data\": {\"bar\": [{\"error_x\": {\"color\": \"#2a3f5f\"}, \"error_y\": {\"color\": \"#2a3f5f\"}, \"marker\": {\"line\": {\"color\": \"#E5ECF6\", \"width\": 0.5}}, \"type\": \"bar\"}], \"barpolar\": [{\"marker\": {\"line\": {\"color\": \"#E5ECF6\", \"width\": 0.5}}, \"type\": \"barpolar\"}], \"carpet\": [{\"aaxis\": {\"endlinecolor\": \"#2a3f5f\", \"gridcolor\": \"white\", \"linecolor\": \"white\", \"minorgridcolor\": \"white\", \"startlinecolor\": \"#2a3f5f\"}, \"baxis\": {\"endlinecolor\": \"#2a3f5f\", \"gridcolor\": \"white\", \"linecolor\": \"white\", \"minorgridcolor\": \"white\", \"startlinecolor\": \"#2a3f5f\"}, \"type\": \"carpet\"}], \"choropleth\": [{\"colorbar\": {\"outlinewidth\": 0, \"ticks\": \"\"}, \"type\": \"choropleth\"}], \"contour\": [{\"colorbar\": {\"outlinewidth\": 0, \"ticks\": \"\"}, \"colorscale\": [[0.0, \"#0d0887\"], [0.1111111111111111, \"#46039f\"], [0.2222222222222222, \"#7201a8\"], [0.3333333333333333, \"#9c179e\"], [0.4444444444444444, \"#bd3786\"], [0.5555555555555556, \"#d8576b\"], [0.6666666666666666, \"#ed7953\"], [0.7777777777777778, \"#fb9f3a\"], [0.8888888888888888, \"#fdca26\"], [1.0, \"#f0f921\"]], \"type\": \"contour\"}], \"contourcarpet\": [{\"colorbar\": {\"outlinewidth\": 0, \"ticks\": \"\"}, \"type\": \"contourcarpet\"}], \"heatmap\": [{\"colorbar\": {\"outlinewidth\": 0, \"ticks\": \"\"}, \"colorscale\": [[0.0, \"#0d0887\"], [0.1111111111111111, \"#46039f\"], [0.2222222222222222, \"#7201a8\"], [0.3333333333333333, \"#9c179e\"], [0.4444444444444444, \"#bd3786\"], [0.5555555555555556, \"#d8576b\"], [0.6666666666666666, \"#ed7953\"], [0.7777777777777778, \"#fb9f3a\"], [0.8888888888888888, \"#fdca26\"], [1.0, \"#f0f921\"]], \"type\": \"heatmap\"}], \"heatmapgl\": [{\"colorbar\": {\"outlinewidth\": 0, \"ticks\": \"\"}, \"colorscale\": [[0.0, \"#0d0887\"], [0.1111111111111111, \"#46039f\"], [0.2222222222222222, \"#7201a8\"], [0.3333333333333333, \"#9c179e\"], [0.4444444444444444, \"#bd3786\"], [0.5555555555555556, \"#d8576b\"], [0.6666666666666666, \"#ed7953\"], [0.7777777777777778, \"#fb9f3a\"], [0.8888888888888888, \"#fdca26\"], [1.0, \"#f0f921\"]], \"type\": \"heatmapgl\"}], \"histogram\": [{\"marker\": {\"colorbar\": {\"outlinewidth\": 0, \"ticks\": \"\"}}, \"type\": \"histogram\"}], \"histogram2d\": [{\"colorbar\": {\"outlinewidth\": 0, \"ticks\": \"\"}, \"colorscale\": [[0.0, \"#0d0887\"], [0.1111111111111111, \"#46039f\"], [0.2222222222222222, \"#7201a8\"], [0.3333333333333333, \"#9c179e\"], [0.4444444444444444, \"#bd3786\"], [0.5555555555555556, \"#d8576b\"], [0.6666666666666666, \"#ed7953\"], [0.7777777777777778, \"#fb9f3a\"], [0.8888888888888888, \"#fdca26\"], [1.0, \"#f0f921\"]], \"type\": \"histogram2d\"}], \"histogram2dcontour\": [{\"colorbar\": {\"outlinewidth\": 0, \"ticks\": \"\"}, \"colorscale\": [[0.0, \"#0d0887\"], [0.1111111111111111, \"#46039f\"], [0.2222222222222222, \"#7201a8\"], [0.3333333333333333, \"#9c179e\"], [0.4444444444444444, \"#bd3786\"], [0.5555555555555556, \"#d8576b\"], [0.6666666666666666, \"#ed7953\"], [0.7777777777777778, \"#fb9f3a\"], [0.8888888888888888, \"#fdca26\"], [1.0, \"#f0f921\"]], \"type\": \"histogram2dcontour\"}], \"mesh3d\": [{\"colorbar\": {\"outlinewidth\": 0, \"ticks\": \"\"}, \"type\": \"mesh3d\"}], \"parcoords\": [{\"line\": {\"colorbar\": {\"outlinewidth\": 0, \"ticks\": \"\"}}, \"type\": \"parcoords\"}], \"pie\": [{\"automargin\": true, \"type\": \"pie\"}], \"scatter\": [{\"marker\": {\"colorbar\": {\"outlinewidth\": 0, \"ticks\": \"\"}}, \"type\": \"scatter\"}], \"scatter3d\": [{\"line\": {\"colorbar\": {\"outlinewidth\": 0, \"ticks\": \"\"}}, \"marker\": {\"colorbar\": {\"outlinewidth\": 0, \"ticks\": \"\"}}, \"type\": \"scatter3d\"}], \"scattercarpet\": [{\"marker\": {\"colorbar\": {\"outlinewidth\": 0, \"ticks\": \"\"}}, \"type\": \"scattercarpet\"}], \"scattergeo\": [{\"marker\": {\"colorbar\": {\"outlinewidth\": 0, \"ticks\": \"\"}}, \"type\": \"scattergeo\"}], \"scattergl\": [{\"marker\": {\"colorbar\": {\"outlinewidth\": 0, \"ticks\": \"\"}}, \"type\": \"scattergl\"}], \"scattermapbox\": [{\"marker\": {\"colorbar\": {\"outlinewidth\": 0, \"ticks\": \"\"}}, \"type\": \"scattermapbox\"}], \"scatterpolar\": [{\"marker\": {\"colorbar\": {\"outlinewidth\": 0, \"ticks\": \"\"}}, \"type\": \"scatterpolar\"}], \"scatterpolargl\": [{\"marker\": {\"colorbar\": {\"outlinewidth\": 0, \"ticks\": \"\"}}, \"type\": \"scatterpolargl\"}], \"scatterternary\": [{\"marker\": {\"colorbar\": {\"outlinewidth\": 0, \"ticks\": \"\"}}, \"type\": \"scatterternary\"}], \"surface\": [{\"colorbar\": {\"outlinewidth\": 0, \"ticks\": \"\"}, \"colorscale\": [[0.0, \"#0d0887\"], [0.1111111111111111, \"#46039f\"], [0.2222222222222222, \"#7201a8\"], [0.3333333333333333, \"#9c179e\"], [0.4444444444444444, \"#bd3786\"], [0.5555555555555556, \"#d8576b\"], [0.6666666666666666, \"#ed7953\"], [0.7777777777777778, \"#fb9f3a\"], [0.8888888888888888, \"#fdca26\"], [1.0, \"#f0f921\"]], \"type\": \"surface\"}], \"table\": [{\"cells\": {\"fill\": {\"color\": \"#EBF0F8\"}, \"line\": {\"color\": \"white\"}}, \"header\": {\"fill\": {\"color\": \"#C8D4E3\"}, \"line\": {\"color\": \"white\"}}, \"type\": \"table\"}]}, \"layout\": {\"annotationdefaults\": {\"arrowcolor\": \"#2a3f5f\", \"arrowhead\": 0, \"arrowwidth\": 1}, \"autotypenumbers\": \"strict\", \"coloraxis\": {\"colorbar\": {\"outlinewidth\": 0, \"ticks\": \"\"}}, \"colorscale\": {\"diverging\": [[0, \"#8e0152\"], [0.1, \"#c51b7d\"], [0.2, \"#de77ae\"], [0.3, \"#f1b6da\"], [0.4, \"#fde0ef\"], [0.5, \"#f7f7f7\"], [0.6, \"#e6f5d0\"], [0.7, \"#b8e186\"], [0.8, \"#7fbc41\"], [0.9, \"#4d9221\"], [1, \"#276419\"]], \"sequential\": [[0.0, \"#0d0887\"], [0.1111111111111111, \"#46039f\"], [0.2222222222222222, \"#7201a8\"], [0.3333333333333333, \"#9c179e\"], [0.4444444444444444, \"#bd3786\"], [0.5555555555555556, \"#d8576b\"], [0.6666666666666666, \"#ed7953\"], [0.7777777777777778, \"#fb9f3a\"], [0.8888888888888888, \"#fdca26\"], [1.0, \"#f0f921\"]], \"sequentialminus\": [[0.0, \"#0d0887\"], [0.1111111111111111, \"#46039f\"], [0.2222222222222222, \"#7201a8\"], [0.3333333333333333, \"#9c179e\"], [0.4444444444444444, \"#bd3786\"], [0.5555555555555556, \"#d8576b\"], [0.6666666666666666, \"#ed7953\"], [0.7777777777777778, \"#fb9f3a\"], [0.8888888888888888, \"#fdca26\"], [1.0, \"#f0f921\"]]}, \"colorway\": [\"#636efa\", \"#EF553B\", \"#00cc96\", \"#ab63fa\", \"#FFA15A\", \"#19d3f3\", \"#FF6692\", \"#B6E880\", \"#FF97FF\", \"#FECB52\"], \"font\": {\"color\": \"#2a3f5f\"}, \"geo\": {\"bgcolor\": \"white\", \"lakecolor\": \"white\", \"landcolor\": \"#E5ECF6\", \"showlakes\": true, \"showland\": true, \"subunitcolor\": \"white\"}, \"hoverlabel\": {\"align\": \"left\"}, \"hovermode\": \"closest\", \"mapbox\": {\"style\": \"light\"}, \"paper_bgcolor\": \"white\", \"plot_bgcolor\": \"#E5ECF6\", \"polar\": {\"angularaxis\": {\"gridcolor\": \"white\", \"linecolor\": \"white\", \"ticks\": \"\"}, \"bgcolor\": \"#E5ECF6\", \"radialaxis\": {\"gridcolor\": \"white\", \"linecolor\": \"white\", \"ticks\": \"\"}}, \"scene\": {\"xaxis\": {\"backgroundcolor\": \"#E5ECF6\", \"gridcolor\": \"white\", \"gridwidth\": 2, \"linecolor\": \"white\", \"showbackground\": true, \"ticks\": \"\", \"zerolinecolor\": \"white\"}, \"yaxis\": {\"backgroundcolor\": \"#E5ECF6\", \"gridcolor\": \"white\", \"gridwidth\": 2, \"linecolor\": \"white\", \"showbackground\": true, \"ticks\": \"\", \"zerolinecolor\": \"white\"}, \"zaxis\": {\"backgroundcolor\": \"#E5ECF6\", \"gridcolor\": \"white\", \"gridwidth\": 2, \"linecolor\": \"white\", \"showbackground\": true, \"ticks\": \"\", \"zerolinecolor\": \"white\"}}, \"shapedefaults\": {\"line\": {\"color\": \"#2a3f5f\"}}, \"ternary\": {\"aaxis\": {\"gridcolor\": \"white\", \"linecolor\": \"white\", \"ticks\": \"\"}, \"baxis\": {\"gridcolor\": \"white\", \"linecolor\": \"white\", \"ticks\": \"\"}, \"bgcolor\": \"#E5ECF6\", \"caxis\": {\"gridcolor\": \"white\", \"linecolor\": \"white\", \"ticks\": \"\"}}, \"title\": {\"x\": 0.05}, \"xaxis\": {\"automargin\": true, \"gridcolor\": \"white\", \"linecolor\": \"white\", \"ticks\": \"\", \"title\": {\"standoff\": 15}, \"zerolinecolor\": \"white\", \"zerolinewidth\": 2}, \"yaxis\": {\"automargin\": true, \"gridcolor\": \"white\", \"linecolor\": \"white\", \"ticks\": \"\", \"title\": {\"standoff\": 15}, \"zerolinecolor\": \"white\", \"zerolinewidth\": 2}}}, \"title\": {\"font\": {\"color\": \"#4D5663\"}}, \"xaxis\": {\"gridcolor\": \"#E1E5ED\", \"showgrid\": true, \"tickfont\": {\"color\": \"#4D5663\"}, \"title\": {\"font\": {\"color\": \"#4D5663\"}, \"text\": \"\"}, \"zerolinecolor\": \"#E1E5ED\"}, \"yaxis\": {\"gridcolor\": \"#E1E5ED\", \"showgrid\": true, \"tickfont\": {\"color\": \"#4D5663\"}, \"title\": {\"font\": {\"color\": \"#4D5663\"}, \"text\": \"\"}, \"zerolinecolor\": \"#E1E5ED\"}},                        {\"showLink\": true, \"linkText\": \"Export to plot.ly\", \"plotlyServerURL\": \"https://plot.ly\", \"responsive\": true}                    ).then(function(){\n",
       "                            \n",
       "var gd = document.getElementById('6fcfec1e-5d5e-4ebf-8c0e-f860890c3d4d');\n",
       "var x = new MutationObserver(function (mutations, observer) {{\n",
       "        var display = window.getComputedStyle(gd).display;\n",
       "        if (!display || display === 'none') {{\n",
       "            console.log([gd, 'removed!']);\n",
       "            Plotly.purge(gd);\n",
       "            observer.disconnect();\n",
       "        }}\n",
       "}});\n",
       "\n",
       "// Listen for the removal of the full notebook cells\n",
       "var notebookContainer = gd.closest('#notebook-container');\n",
       "if (notebookContainer) {{\n",
       "    x.observe(notebookContainer, {childList: true});\n",
       "}}\n",
       "\n",
       "// Listen for the clearing of the current output cell\n",
       "var outputEl = gd.closest('.output');\n",
       "if (outputEl) {{\n",
       "    x.observe(outputEl, {childList: true});\n",
       "}}\n",
       "\n",
       "                        })                };                });            </script>        </div>"
      ]
     },
     "metadata": {},
     "output_type": "display_data"
    }
   ],
   "source": [
    "df.iplot(kind='bubble',x='A',y='B',size='C')"
   ]
  },
  {
   "cell_type": "markdown",
   "metadata": {},
   "source": [
    "## scatter_matrix()\n",
    "\n",
    "Similar to sns.pairplot()"
   ]
  },
  {
   "cell_type": "code",
   "execution_count": 32,
   "metadata": {},
   "outputs": [
    {
     "data": {
      "application/vnd.plotly.v1+json": {
       "config": {
        "linkText": "Export to plot.ly",
        "plotlyServerURL": "https://plot.ly",
        "showLink": true
       },
       "data": [
        {
         "histfunc": "count",
         "histnorm": "",
         "marker": {
          "color": "rgba(255, 153, 51, 1.0)",
          "line": {
           "color": "#4D5663",
           "width": 1.3
          }
         },
         "name": "A",
         "nbinsx": 10,
         "opacity": 0.8,
         "orientation": "v",
         "type": "histogram",
         "x": [
          -1.3743721584499824,
          0.01000404246298731,
          1.060073616887478,
          0.11441049376808408,
          -0.1254638614812266,
          -0.9070069778849268,
          0.052704947052634725,
          -0.018615509263272198,
          0.3426791424383957,
          0.7156411612038974,
          0.10320678514670655,
          1.5303326705609726,
          -0.21191099006121578,
          -2.020852407942947,
          0.22310319700464062,
          0.5054873846397421,
          0.4026865599915081,
          -1.4536017289362706,
          0.7950717634128648,
          -0.23111559189028452,
          0.7663819343502544,
          -0.6235760258594119,
          -0.39259261868434986,
          0.12216190113995658,
          -1.6096224506550463,
          0.5639253855756436,
          -1.0847543814378535,
          1.0885717287652497,
          -0.591208567689423,
          -1.6938094395037835,
          0.018569790345541275,
          0.8539549753616196,
          0.806290563715313,
          -1.6254073372348345,
          0.9733772798627246,
          1.1342632149777827,
          0.6285286305821992,
          0.8898153149689759,
          0.43696724130491166,
          -0.11330861472454354,
          -0.30502763648952747,
          0.23913144901280264,
          -0.5265302051771779,
          -2.428775933644073,
          1.2029442849361394,
          -2.123707409478142,
          -1.391993761824126,
          -0.6561453328335073,
          -1.0638196040870558,
          -1.034440135369431,
          1.4545524807375916,
          0.9664194515222728,
          1.3514860245657558,
          0.641805705752012,
          0.2250786303196695,
          0.5551821716123263,
          -0.3022131037940552,
          0.1957505960294113,
          -0.09000988974301995,
          0.2030785749813345,
          0.20537268885063817,
          2.007683712209121,
          -1.4843400652481071,
          1.600331889395343,
          -2.658926199502142,
          -0.7475374003049038,
          0.059354593787525535,
          -2.3391273652213593,
          0.14801385832510175,
          0.7316816414068449,
          2.6313286535979996,
          -0.6609371876541106,
          1.1687995210202855,
          1.0322937940761117,
          -0.12266208992005274,
          1.35264415917231,
          -0.6569032104004473,
          -1.325436343882467,
          0.03518178304520304,
          0.9882093647510404,
          0.7716022659319737,
          0.2571496555762069,
          0.9497583254883611,
          0.34755083044952106,
          -0.2608789849073516,
          1.6727247611623286,
          0.9699480590442013,
          -0.5146697755100796,
          0.1877515295630458,
          -0.16382196131899163,
          -0.6291505468485376,
          -0.3276311214951528,
          -1.1219800893721616,
          0.9243005130469527,
          0.34121867776964615,
          -0.1776353990815943,
          0.6764803263134359,
          -1.0912902239348543,
          0.23613255869213673,
          -0.9206029120136027
         ],
         "xaxis": "x",
         "yaxis": "y"
        },
        {
         "line": {
          "color": "rgba(128, 128, 128, 1.0)",
          "dash": "solid",
          "shape": "linear",
          "width": 1.3
         },
         "marker": {
          "size": 2,
          "symbol": "circle"
         },
         "mode": "markers",
         "name": "A",
         "text": "",
         "type": "scatter",
         "x": [
          -0.41705545013634915,
          -0.48642056858316945,
          -0.026443392359397484,
          0.1978372625783503,
          1.4968152023860652,
          1.2996001460682738,
          -1.9367361458578556,
          -0.7567789330556283,
          -2.054035669273658,
          0.5048997928080652,
          -1.1112808411952075,
          0.5912890910463597,
          0.0955475906516338,
          -0.28622310082696395,
          0.11737426814490341,
          -0.06758176195487915,
          0.3241491954622198,
          -0.5104479126394454,
          0.026529123575938545,
          1.4972763559326852,
          1.8253818450833434,
          -1.2574190220624064,
          0.1257869275628511,
          0.016621627579822357,
          0.979647443174523,
          0.518474140677526,
          -0.41373982543347276,
          0.009111766977325414,
          0.7981851789989233,
          -1.5066373021119543,
          -0.8145019514506392,
          1.2127894892403486,
          1.1666091840168742,
          -0.1826814988975061,
          0.2121435888368178,
          0.5919460396147409,
          0.6706604908690293,
          -0.1538820807314714,
          -0.06481604156077372,
          0.6865617899199997,
          0.5772096001553042,
          0.469910962356171,
          -2.0005706396554475,
          0.7472354988856291,
          -0.6389610051560966,
          -0.38295815856378096,
          -0.09249688990779162,
          1.6673465664575287,
          -0.5169802146802591,
          0.3229158282844716,
          -2.2439072734691266,
          -0.59787255059542,
          2.0190019560628656,
          -0.8827665762111087,
          0.1720370484706035,
          1.1447792901642073,
          -2.021110364925016,
          -0.4431961270162332,
          0.6154890464199887,
          -0.5340413595491634,
          -1.4300515449852669,
          -0.4289970586923092,
          -3.187864606601478,
          -0.5443854916908588,
          1.9027789968231628,
          0.028860644801460108,
          -0.9070719076829377,
          2.2604509548717204,
          -0.4756263042930482,
          -1.0527349279366778,
          1.0989883088287775,
          0.8363471991549375,
          0.9390577333704273,
          -0.6821309372267801,
          -0.040109791076703746,
          -1.0926766026681485,
          0.8810484800262337,
          0.13899121632294173,
          0.18175429939228152,
          0.6641933255515288,
          -0.29364200182227196,
          0.5215667308020342,
          0.511801600346848,
          0.1323902697067605,
          -2.1124151258180466,
          -0.3963021602119647,
          1.1669298215227715,
          0.7144341554925651,
          1.393601613907853,
          0.8542543813843058,
          1.793693509296129,
          1.958951631262988,
          1.9793533489183885,
          0.5393936516728588,
          0.8635557050746643,
          0.19647333456875704,
          -1.3462894052999834,
          -0.036318884695404764,
          -0.5437514526982358,
          -0.8788039924624359
         ],
         "xaxis": "x2",
         "y": [
          -1.3743721584499824,
          0.01000404246298731,
          1.060073616887478,
          0.11441049376808408,
          -0.1254638614812266,
          -0.9070069778849268,
          0.052704947052634725,
          -0.018615509263272198,
          0.3426791424383957,
          0.7156411612038974,
          0.10320678514670655,
          1.5303326705609726,
          -0.21191099006121578,
          -2.020852407942947,
          0.22310319700464062,
          0.5054873846397421,
          0.4026865599915081,
          -1.4536017289362706,
          0.7950717634128648,
          -0.23111559189028452,
          0.7663819343502544,
          -0.6235760258594119,
          -0.39259261868434986,
          0.12216190113995658,
          -1.6096224506550463,
          0.5639253855756436,
          -1.0847543814378535,
          1.0885717287652497,
          -0.591208567689423,
          -1.6938094395037835,
          0.018569790345541275,
          0.8539549753616196,
          0.806290563715313,
          -1.6254073372348345,
          0.9733772798627246,
          1.1342632149777827,
          0.6285286305821992,
          0.8898153149689759,
          0.43696724130491166,
          -0.11330861472454354,
          -0.30502763648952747,
          0.23913144901280264,
          -0.5265302051771779,
          -2.428775933644073,
          1.2029442849361394,
          -2.123707409478142,
          -1.391993761824126,
          -0.6561453328335073,
          -1.0638196040870558,
          -1.034440135369431,
          1.4545524807375916,
          0.9664194515222728,
          1.3514860245657558,
          0.641805705752012,
          0.2250786303196695,
          0.5551821716123263,
          -0.3022131037940552,
          0.1957505960294113,
          -0.09000988974301995,
          0.2030785749813345,
          0.20537268885063817,
          2.007683712209121,
          -1.4843400652481071,
          1.600331889395343,
          -2.658926199502142,
          -0.7475374003049038,
          0.059354593787525535,
          -2.3391273652213593,
          0.14801385832510175,
          0.7316816414068449,
          2.6313286535979996,
          -0.6609371876541106,
          1.1687995210202855,
          1.0322937940761117,
          -0.12266208992005274,
          1.35264415917231,
          -0.6569032104004473,
          -1.325436343882467,
          0.03518178304520304,
          0.9882093647510404,
          0.7716022659319737,
          0.2571496555762069,
          0.9497583254883611,
          0.34755083044952106,
          -0.2608789849073516,
          1.6727247611623286,
          0.9699480590442013,
          -0.5146697755100796,
          0.1877515295630458,
          -0.16382196131899163,
          -0.6291505468485376,
          -0.3276311214951528,
          -1.1219800893721616,
          0.9243005130469527,
          0.34121867776964615,
          -0.1776353990815943,
          0.6764803263134359,
          -1.0912902239348543,
          0.23613255869213673,
          -0.9206029120136027
         ],
         "yaxis": "y2"
        },
        {
         "line": {
          "color": "rgba(128, 128, 128, 1.0)",
          "dash": "solid",
          "shape": "linear",
          "width": 1.3
         },
         "marker": {
          "size": 2,
          "symbol": "circle"
         },
         "mode": "markers",
         "name": "A",
         "text": "",
         "type": "scatter",
         "x": [
          -0.21276462251127787,
          0.5392444209308489,
          1.201647243870889,
          1.6782766296745564,
          1.1780165541193524,
          0.40167196181061116,
          -0.1591374159699852,
          0.39767413608763563,
          0.8651958256291215,
          1.478487857872841,
          -0.6734933053355409,
          -0.9164503190359672,
          -0.1522431081070318,
          -0.17775723859865142,
          -0.5784508624076548,
          -0.8953430846986111,
          -0.5955412799976927,
          -1.4996597344022469,
          -0.7358247995812351,
          -0.933572443609917,
          -0.008828766883507387,
          -0.8164283705009511,
          1.273678888538661,
          -0.8651312409226529,
          0.35478150022354593,
          0.986399459757734,
          -0.5352650018171781,
          -1.3886598301517936,
          -0.9095518855205877,
          -0.18025157413060977,
          -1.1639538469777637,
          -0.45797392379674257,
          0.6729367441748657,
          -1.8550523081681753,
          -1.2923975140689834,
          0.1464356554680572,
          -0.9334423032882809,
          -0.44248786315560623,
          1.0671262179776113,
          0.33753739416763867,
          0.9128835546431392,
          -0.5900917794231104,
          -0.3737024267929817,
          0.3712684727445248,
          -0.7557372214105362,
          0.843767325377286,
          -2.206479423111974,
          0.4426752009503339,
          -1.418894646378147,
          -1.6105792466568054,
          0.14046905986929045,
          -1.7025655506186397,
          -1.1263018556886557,
          0.04343967291843729,
          -1.2047503941915687,
          -0.09781015949410614,
          -0.24368586131596517,
          0.6958509742327339,
          -1.0704795691259144,
          0.5620221156749131,
          0.9390052445805276,
          -1.3349060314912693,
          0.40321915973170414,
          1.6285358959063552,
          -0.17701723872220992,
          0.8234083102866014,
          0.9957585721559657,
          -0.3763413287556481,
          -1.6265324048745329,
          -0.621938385545258,
          -0.465630623615682,
          1.526182232958349,
          0.3520390029182346,
          2.5651656043033713,
          0.7960377533994962,
          0.32625925238639847,
          -1.1861624824881056,
          0.949283354081687,
          0.08425473048695817,
          -0.7318456749714377,
          -1.0006911553437978,
          0.41625205826679096,
          -1.0046004868315244,
          0.09274029071208498,
          -1.741066554969545,
          -0.1488349120028584,
          0.06298419279152194,
          -1.0202004771437285,
          0.31668257541722206,
          -1.9144300423394567,
          1.8560064604860345,
          -0.6905437344649258,
          -0.020351338723384127,
          -0.7245034758310543,
          1.2620486376354592,
          -0.15544435172249807,
          -0.38249834037408337,
          -0.44288833342145334,
          -0.37916364819204046,
          1.500013795209575
         ],
         "xaxis": "x3",
         "y": [
          -1.3743721584499824,
          0.01000404246298731,
          1.060073616887478,
          0.11441049376808408,
          -0.1254638614812266,
          -0.9070069778849268,
          0.052704947052634725,
          -0.018615509263272198,
          0.3426791424383957,
          0.7156411612038974,
          0.10320678514670655,
          1.5303326705609726,
          -0.21191099006121578,
          -2.020852407942947,
          0.22310319700464062,
          0.5054873846397421,
          0.4026865599915081,
          -1.4536017289362706,
          0.7950717634128648,
          -0.23111559189028452,
          0.7663819343502544,
          -0.6235760258594119,
          -0.39259261868434986,
          0.12216190113995658,
          -1.6096224506550463,
          0.5639253855756436,
          -1.0847543814378535,
          1.0885717287652497,
          -0.591208567689423,
          -1.6938094395037835,
          0.018569790345541275,
          0.8539549753616196,
          0.806290563715313,
          -1.6254073372348345,
          0.9733772798627246,
          1.1342632149777827,
          0.6285286305821992,
          0.8898153149689759,
          0.43696724130491166,
          -0.11330861472454354,
          -0.30502763648952747,
          0.23913144901280264,
          -0.5265302051771779,
          -2.428775933644073,
          1.2029442849361394,
          -2.123707409478142,
          -1.391993761824126,
          -0.6561453328335073,
          -1.0638196040870558,
          -1.034440135369431,
          1.4545524807375916,
          0.9664194515222728,
          1.3514860245657558,
          0.641805705752012,
          0.2250786303196695,
          0.5551821716123263,
          -0.3022131037940552,
          0.1957505960294113,
          -0.09000988974301995,
          0.2030785749813345,
          0.20537268885063817,
          2.007683712209121,
          -1.4843400652481071,
          1.600331889395343,
          -2.658926199502142,
          -0.7475374003049038,
          0.059354593787525535,
          -2.3391273652213593,
          0.14801385832510175,
          0.7316816414068449,
          2.6313286535979996,
          -0.6609371876541106,
          1.1687995210202855,
          1.0322937940761117,
          -0.12266208992005274,
          1.35264415917231,
          -0.6569032104004473,
          -1.325436343882467,
          0.03518178304520304,
          0.9882093647510404,
          0.7716022659319737,
          0.2571496555762069,
          0.9497583254883611,
          0.34755083044952106,
          -0.2608789849073516,
          1.6727247611623286,
          0.9699480590442013,
          -0.5146697755100796,
          0.1877515295630458,
          -0.16382196131899163,
          -0.6291505468485376,
          -0.3276311214951528,
          -1.1219800893721616,
          0.9243005130469527,
          0.34121867776964615,
          -0.1776353990815943,
          0.6764803263134359,
          -1.0912902239348543,
          0.23613255869213673,
          -0.9206029120136027
         ],
         "yaxis": "y3"
        },
        {
         "line": {
          "color": "rgba(128, 128, 128, 1.0)",
          "dash": "solid",
          "shape": "linear",
          "width": 1.3
         },
         "marker": {
          "size": 2,
          "symbol": "circle"
         },
         "mode": "markers",
         "name": "A",
         "text": "",
         "type": "scatter",
         "x": [
          1.2646382812754842,
          -0.8971743142451027,
          -2.0754884569254672,
          0.24979143146563057,
          0.7113633997792028,
          1.278216640237135,
          -0.49685845418634067,
          1.2344611106270564,
          0.36195754457371004,
          0.6043429263082021,
          1.1059302402322535,
          -0.6515379521018477,
          0.3646331090549264,
          -0.9845536691002664,
          1.4409263079086052,
          0.8816667955217995,
          -0.7853779284986235,
          -0.7978616503508753,
          -1.0828660240395294,
          0.10487744298562451,
          0.19217934901563238,
          -0.44483118359065044,
          0.081992768065037,
          0.717726912938894,
          -0.4840805058901615,
          0.9655267003749074,
          -0.15515680869122653,
          0.18765636261666088,
          1.1626969975525205,
          1.1221860512686315,
          -0.7262998465735776,
          0.5769953510599819,
          -0.34292887593453836,
          -0.7177335259504108,
          0.4645526729614544,
          2.2636115244007744,
          0.6788635025563274,
          -1.3586866410113239,
          1.402105490753138,
          -0.04773722688359785,
          -0.05201898018951273,
          0.2775465835054213,
          -2.5368187629127665,
          0.7489922275026335,
          0.4366105803867375,
          -0.22742515624588822,
          0.8389663215980219,
          0.8119997599104144,
          1.5599969289424327,
          1.1960493070861002,
          0.5532823184545692,
          0.5429127445526751,
          -0.9216892467648115,
          -0.7124766367267783,
          -0.5469063510503084,
          1.2104299366607287,
          0.06529088469119605,
          -0.26731497693372736,
          0.18006682091523982,
          1.5858814002047847,
          0.028250097720445115,
          1.3266255468110029,
          1.3247055522245879,
          0.016966380125314793,
          -0.8959419956364261,
          0.878890833696069,
          -0.01258411681511281,
          -0.0795240148058931,
          0.09205341634269462,
          0.8743683456662174,
          1.2651793568520557,
          -0.01223560757394819,
          -1.1669543697177909,
          -1.0420826567320396,
          2.063838270434295,
          0.0968244764073173,
          -0.14942699098437895,
          -1.3822629131066702,
          0.15884855391204272,
          0.6019636707340277,
          1.2663377202008308,
          -1.6319526838234355,
          -0.08569233667719377,
          -0.19194039719829523,
          0.6089137382785959,
          0.21037399045564947,
          1.1878195115705752,
          0.10049673180139712,
          -0.6091707263338128,
          -1.0208458347127198,
          -0.7948310997841892,
          0.8263015448397337,
          0.6008696554415681,
          -2.853267844849281,
          -0.953772467478873,
          -0.3422257288319156,
          0.5312134043166221,
          0.15022922890648535,
          0.2815641965610305,
          -0.2403819541347331
         ],
         "xaxis": "x4",
         "y": [
          -1.3743721584499824,
          0.01000404246298731,
          1.060073616887478,
          0.11441049376808408,
          -0.1254638614812266,
          -0.9070069778849268,
          0.052704947052634725,
          -0.018615509263272198,
          0.3426791424383957,
          0.7156411612038974,
          0.10320678514670655,
          1.5303326705609726,
          -0.21191099006121578,
          -2.020852407942947,
          0.22310319700464062,
          0.5054873846397421,
          0.4026865599915081,
          -1.4536017289362706,
          0.7950717634128648,
          -0.23111559189028452,
          0.7663819343502544,
          -0.6235760258594119,
          -0.39259261868434986,
          0.12216190113995658,
          -1.6096224506550463,
          0.5639253855756436,
          -1.0847543814378535,
          1.0885717287652497,
          -0.591208567689423,
          -1.6938094395037835,
          0.018569790345541275,
          0.8539549753616196,
          0.806290563715313,
          -1.6254073372348345,
          0.9733772798627246,
          1.1342632149777827,
          0.6285286305821992,
          0.8898153149689759,
          0.43696724130491166,
          -0.11330861472454354,
          -0.30502763648952747,
          0.23913144901280264,
          -0.5265302051771779,
          -2.428775933644073,
          1.2029442849361394,
          -2.123707409478142,
          -1.391993761824126,
          -0.6561453328335073,
          -1.0638196040870558,
          -1.034440135369431,
          1.4545524807375916,
          0.9664194515222728,
          1.3514860245657558,
          0.641805705752012,
          0.2250786303196695,
          0.5551821716123263,
          -0.3022131037940552,
          0.1957505960294113,
          -0.09000988974301995,
          0.2030785749813345,
          0.20537268885063817,
          2.007683712209121,
          -1.4843400652481071,
          1.600331889395343,
          -2.658926199502142,
          -0.7475374003049038,
          0.059354593787525535,
          -2.3391273652213593,
          0.14801385832510175,
          0.7316816414068449,
          2.6313286535979996,
          -0.6609371876541106,
          1.1687995210202855,
          1.0322937940761117,
          -0.12266208992005274,
          1.35264415917231,
          -0.6569032104004473,
          -1.325436343882467,
          0.03518178304520304,
          0.9882093647510404,
          0.7716022659319737,
          0.2571496555762069,
          0.9497583254883611,
          0.34755083044952106,
          -0.2608789849073516,
          1.6727247611623286,
          0.9699480590442013,
          -0.5146697755100796,
          0.1877515295630458,
          -0.16382196131899163,
          -0.6291505468485376,
          -0.3276311214951528,
          -1.1219800893721616,
          0.9243005130469527,
          0.34121867776964615,
          -0.1776353990815943,
          0.6764803263134359,
          -1.0912902239348543,
          0.23613255869213673,
          -0.9206029120136027
         ],
         "yaxis": "y4"
        },
        {
         "line": {
          "color": "rgba(128, 128, 128, 1.0)",
          "dash": "solid",
          "shape": "linear",
          "width": 1.3
         },
         "marker": {
          "size": 2,
          "symbol": "circle"
         },
         "mode": "markers",
         "name": "B",
         "text": "",
         "type": "scatter",
         "x": [
          -1.3743721584499824,
          0.01000404246298731,
          1.060073616887478,
          0.11441049376808408,
          -0.1254638614812266,
          -0.9070069778849268,
          0.052704947052634725,
          -0.018615509263272198,
          0.3426791424383957,
          0.7156411612038974,
          0.10320678514670655,
          1.5303326705609726,
          -0.21191099006121578,
          -2.020852407942947,
          0.22310319700464062,
          0.5054873846397421,
          0.4026865599915081,
          -1.4536017289362706,
          0.7950717634128648,
          -0.23111559189028452,
          0.7663819343502544,
          -0.6235760258594119,
          -0.39259261868434986,
          0.12216190113995658,
          -1.6096224506550463,
          0.5639253855756436,
          -1.0847543814378535,
          1.0885717287652497,
          -0.591208567689423,
          -1.6938094395037835,
          0.018569790345541275,
          0.8539549753616196,
          0.806290563715313,
          -1.6254073372348345,
          0.9733772798627246,
          1.1342632149777827,
          0.6285286305821992,
          0.8898153149689759,
          0.43696724130491166,
          -0.11330861472454354,
          -0.30502763648952747,
          0.23913144901280264,
          -0.5265302051771779,
          -2.428775933644073,
          1.2029442849361394,
          -2.123707409478142,
          -1.391993761824126,
          -0.6561453328335073,
          -1.0638196040870558,
          -1.034440135369431,
          1.4545524807375916,
          0.9664194515222728,
          1.3514860245657558,
          0.641805705752012,
          0.2250786303196695,
          0.5551821716123263,
          -0.3022131037940552,
          0.1957505960294113,
          -0.09000988974301995,
          0.2030785749813345,
          0.20537268885063817,
          2.007683712209121,
          -1.4843400652481071,
          1.600331889395343,
          -2.658926199502142,
          -0.7475374003049038,
          0.059354593787525535,
          -2.3391273652213593,
          0.14801385832510175,
          0.7316816414068449,
          2.6313286535979996,
          -0.6609371876541106,
          1.1687995210202855,
          1.0322937940761117,
          -0.12266208992005274,
          1.35264415917231,
          -0.6569032104004473,
          -1.325436343882467,
          0.03518178304520304,
          0.9882093647510404,
          0.7716022659319737,
          0.2571496555762069,
          0.9497583254883611,
          0.34755083044952106,
          -0.2608789849073516,
          1.6727247611623286,
          0.9699480590442013,
          -0.5146697755100796,
          0.1877515295630458,
          -0.16382196131899163,
          -0.6291505468485376,
          -0.3276311214951528,
          -1.1219800893721616,
          0.9243005130469527,
          0.34121867776964615,
          -0.1776353990815943,
          0.6764803263134359,
          -1.0912902239348543,
          0.23613255869213673,
          -0.9206029120136027
         ],
         "xaxis": "x5",
         "y": [
          -0.41705545013634915,
          -0.48642056858316945,
          -0.026443392359397484,
          0.1978372625783503,
          1.4968152023860652,
          1.2996001460682738,
          -1.9367361458578556,
          -0.7567789330556283,
          -2.054035669273658,
          0.5048997928080652,
          -1.1112808411952075,
          0.5912890910463597,
          0.0955475906516338,
          -0.28622310082696395,
          0.11737426814490341,
          -0.06758176195487915,
          0.3241491954622198,
          -0.5104479126394454,
          0.026529123575938545,
          1.4972763559326852,
          1.8253818450833434,
          -1.2574190220624064,
          0.1257869275628511,
          0.016621627579822357,
          0.979647443174523,
          0.518474140677526,
          -0.41373982543347276,
          0.009111766977325414,
          0.7981851789989233,
          -1.5066373021119543,
          -0.8145019514506392,
          1.2127894892403486,
          1.1666091840168742,
          -0.1826814988975061,
          0.2121435888368178,
          0.5919460396147409,
          0.6706604908690293,
          -0.1538820807314714,
          -0.06481604156077372,
          0.6865617899199997,
          0.5772096001553042,
          0.469910962356171,
          -2.0005706396554475,
          0.7472354988856291,
          -0.6389610051560966,
          -0.38295815856378096,
          -0.09249688990779162,
          1.6673465664575287,
          -0.5169802146802591,
          0.3229158282844716,
          -2.2439072734691266,
          -0.59787255059542,
          2.0190019560628656,
          -0.8827665762111087,
          0.1720370484706035,
          1.1447792901642073,
          -2.021110364925016,
          -0.4431961270162332,
          0.6154890464199887,
          -0.5340413595491634,
          -1.4300515449852669,
          -0.4289970586923092,
          -3.187864606601478,
          -0.5443854916908588,
          1.9027789968231628,
          0.028860644801460108,
          -0.9070719076829377,
          2.2604509548717204,
          -0.4756263042930482,
          -1.0527349279366778,
          1.0989883088287775,
          0.8363471991549375,
          0.9390577333704273,
          -0.6821309372267801,
          -0.040109791076703746,
          -1.0926766026681485,
          0.8810484800262337,
          0.13899121632294173,
          0.18175429939228152,
          0.6641933255515288,
          -0.29364200182227196,
          0.5215667308020342,
          0.511801600346848,
          0.1323902697067605,
          -2.1124151258180466,
          -0.3963021602119647,
          1.1669298215227715,
          0.7144341554925651,
          1.393601613907853,
          0.8542543813843058,
          1.793693509296129,
          1.958951631262988,
          1.9793533489183885,
          0.5393936516728588,
          0.8635557050746643,
          0.19647333456875704,
          -1.3462894052999834,
          -0.036318884695404764,
          -0.5437514526982358,
          -0.8788039924624359
         ],
         "yaxis": "y5"
        },
        {
         "histfunc": "count",
         "histnorm": "",
         "marker": {
          "color": "rgba(55, 128, 191, 1.0)",
          "line": {
           "color": "#4D5663",
           "width": 1.3
          }
         },
         "name": "B",
         "nbinsx": 10,
         "opacity": 0.8,
         "orientation": "v",
         "type": "histogram",
         "x": [
          -0.41705545013634915,
          -0.48642056858316945,
          -0.026443392359397484,
          0.1978372625783503,
          1.4968152023860652,
          1.2996001460682738,
          -1.9367361458578556,
          -0.7567789330556283,
          -2.054035669273658,
          0.5048997928080652,
          -1.1112808411952075,
          0.5912890910463597,
          0.0955475906516338,
          -0.28622310082696395,
          0.11737426814490341,
          -0.06758176195487915,
          0.3241491954622198,
          -0.5104479126394454,
          0.026529123575938545,
          1.4972763559326852,
          1.8253818450833434,
          -1.2574190220624064,
          0.1257869275628511,
          0.016621627579822357,
          0.979647443174523,
          0.518474140677526,
          -0.41373982543347276,
          0.009111766977325414,
          0.7981851789989233,
          -1.5066373021119543,
          -0.8145019514506392,
          1.2127894892403486,
          1.1666091840168742,
          -0.1826814988975061,
          0.2121435888368178,
          0.5919460396147409,
          0.6706604908690293,
          -0.1538820807314714,
          -0.06481604156077372,
          0.6865617899199997,
          0.5772096001553042,
          0.469910962356171,
          -2.0005706396554475,
          0.7472354988856291,
          -0.6389610051560966,
          -0.38295815856378096,
          -0.09249688990779162,
          1.6673465664575287,
          -0.5169802146802591,
          0.3229158282844716,
          -2.2439072734691266,
          -0.59787255059542,
          2.0190019560628656,
          -0.8827665762111087,
          0.1720370484706035,
          1.1447792901642073,
          -2.021110364925016,
          -0.4431961270162332,
          0.6154890464199887,
          -0.5340413595491634,
          -1.4300515449852669,
          -0.4289970586923092,
          -3.187864606601478,
          -0.5443854916908588,
          1.9027789968231628,
          0.028860644801460108,
          -0.9070719076829377,
          2.2604509548717204,
          -0.4756263042930482,
          -1.0527349279366778,
          1.0989883088287775,
          0.8363471991549375,
          0.9390577333704273,
          -0.6821309372267801,
          -0.040109791076703746,
          -1.0926766026681485,
          0.8810484800262337,
          0.13899121632294173,
          0.18175429939228152,
          0.6641933255515288,
          -0.29364200182227196,
          0.5215667308020342,
          0.511801600346848,
          0.1323902697067605,
          -2.1124151258180466,
          -0.3963021602119647,
          1.1669298215227715,
          0.7144341554925651,
          1.393601613907853,
          0.8542543813843058,
          1.793693509296129,
          1.958951631262988,
          1.9793533489183885,
          0.5393936516728588,
          0.8635557050746643,
          0.19647333456875704,
          -1.3462894052999834,
          -0.036318884695404764,
          -0.5437514526982358,
          -0.8788039924624359
         ],
         "xaxis": "x6",
         "yaxis": "y6"
        },
        {
         "line": {
          "color": "rgba(128, 128, 128, 1.0)",
          "dash": "solid",
          "shape": "linear",
          "width": 1.3
         },
         "marker": {
          "size": 2,
          "symbol": "circle"
         },
         "mode": "markers",
         "name": "B",
         "text": "",
         "type": "scatter",
         "x": [
          -0.21276462251127787,
          0.5392444209308489,
          1.201647243870889,
          1.6782766296745564,
          1.1780165541193524,
          0.40167196181061116,
          -0.1591374159699852,
          0.39767413608763563,
          0.8651958256291215,
          1.478487857872841,
          -0.6734933053355409,
          -0.9164503190359672,
          -0.1522431081070318,
          -0.17775723859865142,
          -0.5784508624076548,
          -0.8953430846986111,
          -0.5955412799976927,
          -1.4996597344022469,
          -0.7358247995812351,
          -0.933572443609917,
          -0.008828766883507387,
          -0.8164283705009511,
          1.273678888538661,
          -0.8651312409226529,
          0.35478150022354593,
          0.986399459757734,
          -0.5352650018171781,
          -1.3886598301517936,
          -0.9095518855205877,
          -0.18025157413060977,
          -1.1639538469777637,
          -0.45797392379674257,
          0.6729367441748657,
          -1.8550523081681753,
          -1.2923975140689834,
          0.1464356554680572,
          -0.9334423032882809,
          -0.44248786315560623,
          1.0671262179776113,
          0.33753739416763867,
          0.9128835546431392,
          -0.5900917794231104,
          -0.3737024267929817,
          0.3712684727445248,
          -0.7557372214105362,
          0.843767325377286,
          -2.206479423111974,
          0.4426752009503339,
          -1.418894646378147,
          -1.6105792466568054,
          0.14046905986929045,
          -1.7025655506186397,
          -1.1263018556886557,
          0.04343967291843729,
          -1.2047503941915687,
          -0.09781015949410614,
          -0.24368586131596517,
          0.6958509742327339,
          -1.0704795691259144,
          0.5620221156749131,
          0.9390052445805276,
          -1.3349060314912693,
          0.40321915973170414,
          1.6285358959063552,
          -0.17701723872220992,
          0.8234083102866014,
          0.9957585721559657,
          -0.3763413287556481,
          -1.6265324048745329,
          -0.621938385545258,
          -0.465630623615682,
          1.526182232958349,
          0.3520390029182346,
          2.5651656043033713,
          0.7960377533994962,
          0.32625925238639847,
          -1.1861624824881056,
          0.949283354081687,
          0.08425473048695817,
          -0.7318456749714377,
          -1.0006911553437978,
          0.41625205826679096,
          -1.0046004868315244,
          0.09274029071208498,
          -1.741066554969545,
          -0.1488349120028584,
          0.06298419279152194,
          -1.0202004771437285,
          0.31668257541722206,
          -1.9144300423394567,
          1.8560064604860345,
          -0.6905437344649258,
          -0.020351338723384127,
          -0.7245034758310543,
          1.2620486376354592,
          -0.15544435172249807,
          -0.38249834037408337,
          -0.44288833342145334,
          -0.37916364819204046,
          1.500013795209575
         ],
         "xaxis": "x7",
         "y": [
          -0.41705545013634915,
          -0.48642056858316945,
          -0.026443392359397484,
          0.1978372625783503,
          1.4968152023860652,
          1.2996001460682738,
          -1.9367361458578556,
          -0.7567789330556283,
          -2.054035669273658,
          0.5048997928080652,
          -1.1112808411952075,
          0.5912890910463597,
          0.0955475906516338,
          -0.28622310082696395,
          0.11737426814490341,
          -0.06758176195487915,
          0.3241491954622198,
          -0.5104479126394454,
          0.026529123575938545,
          1.4972763559326852,
          1.8253818450833434,
          -1.2574190220624064,
          0.1257869275628511,
          0.016621627579822357,
          0.979647443174523,
          0.518474140677526,
          -0.41373982543347276,
          0.009111766977325414,
          0.7981851789989233,
          -1.5066373021119543,
          -0.8145019514506392,
          1.2127894892403486,
          1.1666091840168742,
          -0.1826814988975061,
          0.2121435888368178,
          0.5919460396147409,
          0.6706604908690293,
          -0.1538820807314714,
          -0.06481604156077372,
          0.6865617899199997,
          0.5772096001553042,
          0.469910962356171,
          -2.0005706396554475,
          0.7472354988856291,
          -0.6389610051560966,
          -0.38295815856378096,
          -0.09249688990779162,
          1.6673465664575287,
          -0.5169802146802591,
          0.3229158282844716,
          -2.2439072734691266,
          -0.59787255059542,
          2.0190019560628656,
          -0.8827665762111087,
          0.1720370484706035,
          1.1447792901642073,
          -2.021110364925016,
          -0.4431961270162332,
          0.6154890464199887,
          -0.5340413595491634,
          -1.4300515449852669,
          -0.4289970586923092,
          -3.187864606601478,
          -0.5443854916908588,
          1.9027789968231628,
          0.028860644801460108,
          -0.9070719076829377,
          2.2604509548717204,
          -0.4756263042930482,
          -1.0527349279366778,
          1.0989883088287775,
          0.8363471991549375,
          0.9390577333704273,
          -0.6821309372267801,
          -0.040109791076703746,
          -1.0926766026681485,
          0.8810484800262337,
          0.13899121632294173,
          0.18175429939228152,
          0.6641933255515288,
          -0.29364200182227196,
          0.5215667308020342,
          0.511801600346848,
          0.1323902697067605,
          -2.1124151258180466,
          -0.3963021602119647,
          1.1669298215227715,
          0.7144341554925651,
          1.393601613907853,
          0.8542543813843058,
          1.793693509296129,
          1.958951631262988,
          1.9793533489183885,
          0.5393936516728588,
          0.8635557050746643,
          0.19647333456875704,
          -1.3462894052999834,
          -0.036318884695404764,
          -0.5437514526982358,
          -0.8788039924624359
         ],
         "yaxis": "y7"
        },
        {
         "line": {
          "color": "rgba(128, 128, 128, 1.0)",
          "dash": "solid",
          "shape": "linear",
          "width": 1.3
         },
         "marker": {
          "size": 2,
          "symbol": "circle"
         },
         "mode": "markers",
         "name": "B",
         "text": "",
         "type": "scatter",
         "x": [
          1.2646382812754842,
          -0.8971743142451027,
          -2.0754884569254672,
          0.24979143146563057,
          0.7113633997792028,
          1.278216640237135,
          -0.49685845418634067,
          1.2344611106270564,
          0.36195754457371004,
          0.6043429263082021,
          1.1059302402322535,
          -0.6515379521018477,
          0.3646331090549264,
          -0.9845536691002664,
          1.4409263079086052,
          0.8816667955217995,
          -0.7853779284986235,
          -0.7978616503508753,
          -1.0828660240395294,
          0.10487744298562451,
          0.19217934901563238,
          -0.44483118359065044,
          0.081992768065037,
          0.717726912938894,
          -0.4840805058901615,
          0.9655267003749074,
          -0.15515680869122653,
          0.18765636261666088,
          1.1626969975525205,
          1.1221860512686315,
          -0.7262998465735776,
          0.5769953510599819,
          -0.34292887593453836,
          -0.7177335259504108,
          0.4645526729614544,
          2.2636115244007744,
          0.6788635025563274,
          -1.3586866410113239,
          1.402105490753138,
          -0.04773722688359785,
          -0.05201898018951273,
          0.2775465835054213,
          -2.5368187629127665,
          0.7489922275026335,
          0.4366105803867375,
          -0.22742515624588822,
          0.8389663215980219,
          0.8119997599104144,
          1.5599969289424327,
          1.1960493070861002,
          0.5532823184545692,
          0.5429127445526751,
          -0.9216892467648115,
          -0.7124766367267783,
          -0.5469063510503084,
          1.2104299366607287,
          0.06529088469119605,
          -0.26731497693372736,
          0.18006682091523982,
          1.5858814002047847,
          0.028250097720445115,
          1.3266255468110029,
          1.3247055522245879,
          0.016966380125314793,
          -0.8959419956364261,
          0.878890833696069,
          -0.01258411681511281,
          -0.0795240148058931,
          0.09205341634269462,
          0.8743683456662174,
          1.2651793568520557,
          -0.01223560757394819,
          -1.1669543697177909,
          -1.0420826567320396,
          2.063838270434295,
          0.0968244764073173,
          -0.14942699098437895,
          -1.3822629131066702,
          0.15884855391204272,
          0.6019636707340277,
          1.2663377202008308,
          -1.6319526838234355,
          -0.08569233667719377,
          -0.19194039719829523,
          0.6089137382785959,
          0.21037399045564947,
          1.1878195115705752,
          0.10049673180139712,
          -0.6091707263338128,
          -1.0208458347127198,
          -0.7948310997841892,
          0.8263015448397337,
          0.6008696554415681,
          -2.853267844849281,
          -0.953772467478873,
          -0.3422257288319156,
          0.5312134043166221,
          0.15022922890648535,
          0.2815641965610305,
          -0.2403819541347331
         ],
         "xaxis": "x8",
         "y": [
          -0.41705545013634915,
          -0.48642056858316945,
          -0.026443392359397484,
          0.1978372625783503,
          1.4968152023860652,
          1.2996001460682738,
          -1.9367361458578556,
          -0.7567789330556283,
          -2.054035669273658,
          0.5048997928080652,
          -1.1112808411952075,
          0.5912890910463597,
          0.0955475906516338,
          -0.28622310082696395,
          0.11737426814490341,
          -0.06758176195487915,
          0.3241491954622198,
          -0.5104479126394454,
          0.026529123575938545,
          1.4972763559326852,
          1.8253818450833434,
          -1.2574190220624064,
          0.1257869275628511,
          0.016621627579822357,
          0.979647443174523,
          0.518474140677526,
          -0.41373982543347276,
          0.009111766977325414,
          0.7981851789989233,
          -1.5066373021119543,
          -0.8145019514506392,
          1.2127894892403486,
          1.1666091840168742,
          -0.1826814988975061,
          0.2121435888368178,
          0.5919460396147409,
          0.6706604908690293,
          -0.1538820807314714,
          -0.06481604156077372,
          0.6865617899199997,
          0.5772096001553042,
          0.469910962356171,
          -2.0005706396554475,
          0.7472354988856291,
          -0.6389610051560966,
          -0.38295815856378096,
          -0.09249688990779162,
          1.6673465664575287,
          -0.5169802146802591,
          0.3229158282844716,
          -2.2439072734691266,
          -0.59787255059542,
          2.0190019560628656,
          -0.8827665762111087,
          0.1720370484706035,
          1.1447792901642073,
          -2.021110364925016,
          -0.4431961270162332,
          0.6154890464199887,
          -0.5340413595491634,
          -1.4300515449852669,
          -0.4289970586923092,
          -3.187864606601478,
          -0.5443854916908588,
          1.9027789968231628,
          0.028860644801460108,
          -0.9070719076829377,
          2.2604509548717204,
          -0.4756263042930482,
          -1.0527349279366778,
          1.0989883088287775,
          0.8363471991549375,
          0.9390577333704273,
          -0.6821309372267801,
          -0.040109791076703746,
          -1.0926766026681485,
          0.8810484800262337,
          0.13899121632294173,
          0.18175429939228152,
          0.6641933255515288,
          -0.29364200182227196,
          0.5215667308020342,
          0.511801600346848,
          0.1323902697067605,
          -2.1124151258180466,
          -0.3963021602119647,
          1.1669298215227715,
          0.7144341554925651,
          1.393601613907853,
          0.8542543813843058,
          1.793693509296129,
          1.958951631262988,
          1.9793533489183885,
          0.5393936516728588,
          0.8635557050746643,
          0.19647333456875704,
          -1.3462894052999834,
          -0.036318884695404764,
          -0.5437514526982358,
          -0.8788039924624359
         ],
         "yaxis": "y8"
        },
        {
         "line": {
          "color": "rgba(128, 128, 128, 1.0)",
          "dash": "solid",
          "shape": "linear",
          "width": 1.3
         },
         "marker": {
          "size": 2,
          "symbol": "circle"
         },
         "mode": "markers",
         "name": "C",
         "text": "",
         "type": "scatter",
         "x": [
          -1.3743721584499824,
          0.01000404246298731,
          1.060073616887478,
          0.11441049376808408,
          -0.1254638614812266,
          -0.9070069778849268,
          0.052704947052634725,
          -0.018615509263272198,
          0.3426791424383957,
          0.7156411612038974,
          0.10320678514670655,
          1.5303326705609726,
          -0.21191099006121578,
          -2.020852407942947,
          0.22310319700464062,
          0.5054873846397421,
          0.4026865599915081,
          -1.4536017289362706,
          0.7950717634128648,
          -0.23111559189028452,
          0.7663819343502544,
          -0.6235760258594119,
          -0.39259261868434986,
          0.12216190113995658,
          -1.6096224506550463,
          0.5639253855756436,
          -1.0847543814378535,
          1.0885717287652497,
          -0.591208567689423,
          -1.6938094395037835,
          0.018569790345541275,
          0.8539549753616196,
          0.806290563715313,
          -1.6254073372348345,
          0.9733772798627246,
          1.1342632149777827,
          0.6285286305821992,
          0.8898153149689759,
          0.43696724130491166,
          -0.11330861472454354,
          -0.30502763648952747,
          0.23913144901280264,
          -0.5265302051771779,
          -2.428775933644073,
          1.2029442849361394,
          -2.123707409478142,
          -1.391993761824126,
          -0.6561453328335073,
          -1.0638196040870558,
          -1.034440135369431,
          1.4545524807375916,
          0.9664194515222728,
          1.3514860245657558,
          0.641805705752012,
          0.2250786303196695,
          0.5551821716123263,
          -0.3022131037940552,
          0.1957505960294113,
          -0.09000988974301995,
          0.2030785749813345,
          0.20537268885063817,
          2.007683712209121,
          -1.4843400652481071,
          1.600331889395343,
          -2.658926199502142,
          -0.7475374003049038,
          0.059354593787525535,
          -2.3391273652213593,
          0.14801385832510175,
          0.7316816414068449,
          2.6313286535979996,
          -0.6609371876541106,
          1.1687995210202855,
          1.0322937940761117,
          -0.12266208992005274,
          1.35264415917231,
          -0.6569032104004473,
          -1.325436343882467,
          0.03518178304520304,
          0.9882093647510404,
          0.7716022659319737,
          0.2571496555762069,
          0.9497583254883611,
          0.34755083044952106,
          -0.2608789849073516,
          1.6727247611623286,
          0.9699480590442013,
          -0.5146697755100796,
          0.1877515295630458,
          -0.16382196131899163,
          -0.6291505468485376,
          -0.3276311214951528,
          -1.1219800893721616,
          0.9243005130469527,
          0.34121867776964615,
          -0.1776353990815943,
          0.6764803263134359,
          -1.0912902239348543,
          0.23613255869213673,
          -0.9206029120136027
         ],
         "xaxis": "x9",
         "y": [
          -0.21276462251127787,
          0.5392444209308489,
          1.201647243870889,
          1.6782766296745564,
          1.1780165541193524,
          0.40167196181061116,
          -0.1591374159699852,
          0.39767413608763563,
          0.8651958256291215,
          1.478487857872841,
          -0.6734933053355409,
          -0.9164503190359672,
          -0.1522431081070318,
          -0.17775723859865142,
          -0.5784508624076548,
          -0.8953430846986111,
          -0.5955412799976927,
          -1.4996597344022469,
          -0.7358247995812351,
          -0.933572443609917,
          -0.008828766883507387,
          -0.8164283705009511,
          1.273678888538661,
          -0.8651312409226529,
          0.35478150022354593,
          0.986399459757734,
          -0.5352650018171781,
          -1.3886598301517936,
          -0.9095518855205877,
          -0.18025157413060977,
          -1.1639538469777637,
          -0.45797392379674257,
          0.6729367441748657,
          -1.8550523081681753,
          -1.2923975140689834,
          0.1464356554680572,
          -0.9334423032882809,
          -0.44248786315560623,
          1.0671262179776113,
          0.33753739416763867,
          0.9128835546431392,
          -0.5900917794231104,
          -0.3737024267929817,
          0.3712684727445248,
          -0.7557372214105362,
          0.843767325377286,
          -2.206479423111974,
          0.4426752009503339,
          -1.418894646378147,
          -1.6105792466568054,
          0.14046905986929045,
          -1.7025655506186397,
          -1.1263018556886557,
          0.04343967291843729,
          -1.2047503941915687,
          -0.09781015949410614,
          -0.24368586131596517,
          0.6958509742327339,
          -1.0704795691259144,
          0.5620221156749131,
          0.9390052445805276,
          -1.3349060314912693,
          0.40321915973170414,
          1.6285358959063552,
          -0.17701723872220992,
          0.8234083102866014,
          0.9957585721559657,
          -0.3763413287556481,
          -1.6265324048745329,
          -0.621938385545258,
          -0.465630623615682,
          1.526182232958349,
          0.3520390029182346,
          2.5651656043033713,
          0.7960377533994962,
          0.32625925238639847,
          -1.1861624824881056,
          0.949283354081687,
          0.08425473048695817,
          -0.7318456749714377,
          -1.0006911553437978,
          0.41625205826679096,
          -1.0046004868315244,
          0.09274029071208498,
          -1.741066554969545,
          -0.1488349120028584,
          0.06298419279152194,
          -1.0202004771437285,
          0.31668257541722206,
          -1.9144300423394567,
          1.8560064604860345,
          -0.6905437344649258,
          -0.020351338723384127,
          -0.7245034758310543,
          1.2620486376354592,
          -0.15544435172249807,
          -0.38249834037408337,
          -0.44288833342145334,
          -0.37916364819204046,
          1.500013795209575
         ],
         "yaxis": "y9"
        },
        {
         "line": {
          "color": "rgba(128, 128, 128, 1.0)",
          "dash": "solid",
          "shape": "linear",
          "width": 1.3
         },
         "marker": {
          "size": 2,
          "symbol": "circle"
         },
         "mode": "markers",
         "name": "C",
         "text": "",
         "type": "scatter",
         "x": [
          -0.41705545013634915,
          -0.48642056858316945,
          -0.026443392359397484,
          0.1978372625783503,
          1.4968152023860652,
          1.2996001460682738,
          -1.9367361458578556,
          -0.7567789330556283,
          -2.054035669273658,
          0.5048997928080652,
          -1.1112808411952075,
          0.5912890910463597,
          0.0955475906516338,
          -0.28622310082696395,
          0.11737426814490341,
          -0.06758176195487915,
          0.3241491954622198,
          -0.5104479126394454,
          0.026529123575938545,
          1.4972763559326852,
          1.8253818450833434,
          -1.2574190220624064,
          0.1257869275628511,
          0.016621627579822357,
          0.979647443174523,
          0.518474140677526,
          -0.41373982543347276,
          0.009111766977325414,
          0.7981851789989233,
          -1.5066373021119543,
          -0.8145019514506392,
          1.2127894892403486,
          1.1666091840168742,
          -0.1826814988975061,
          0.2121435888368178,
          0.5919460396147409,
          0.6706604908690293,
          -0.1538820807314714,
          -0.06481604156077372,
          0.6865617899199997,
          0.5772096001553042,
          0.469910962356171,
          -2.0005706396554475,
          0.7472354988856291,
          -0.6389610051560966,
          -0.38295815856378096,
          -0.09249688990779162,
          1.6673465664575287,
          -0.5169802146802591,
          0.3229158282844716,
          -2.2439072734691266,
          -0.59787255059542,
          2.0190019560628656,
          -0.8827665762111087,
          0.1720370484706035,
          1.1447792901642073,
          -2.021110364925016,
          -0.4431961270162332,
          0.6154890464199887,
          -0.5340413595491634,
          -1.4300515449852669,
          -0.4289970586923092,
          -3.187864606601478,
          -0.5443854916908588,
          1.9027789968231628,
          0.028860644801460108,
          -0.9070719076829377,
          2.2604509548717204,
          -0.4756263042930482,
          -1.0527349279366778,
          1.0989883088287775,
          0.8363471991549375,
          0.9390577333704273,
          -0.6821309372267801,
          -0.040109791076703746,
          -1.0926766026681485,
          0.8810484800262337,
          0.13899121632294173,
          0.18175429939228152,
          0.6641933255515288,
          -0.29364200182227196,
          0.5215667308020342,
          0.511801600346848,
          0.1323902697067605,
          -2.1124151258180466,
          -0.3963021602119647,
          1.1669298215227715,
          0.7144341554925651,
          1.393601613907853,
          0.8542543813843058,
          1.793693509296129,
          1.958951631262988,
          1.9793533489183885,
          0.5393936516728588,
          0.8635557050746643,
          0.19647333456875704,
          -1.3462894052999834,
          -0.036318884695404764,
          -0.5437514526982358,
          -0.8788039924624359
         ],
         "xaxis": "x10",
         "y": [
          -0.21276462251127787,
          0.5392444209308489,
          1.201647243870889,
          1.6782766296745564,
          1.1780165541193524,
          0.40167196181061116,
          -0.1591374159699852,
          0.39767413608763563,
          0.8651958256291215,
          1.478487857872841,
          -0.6734933053355409,
          -0.9164503190359672,
          -0.1522431081070318,
          -0.17775723859865142,
          -0.5784508624076548,
          -0.8953430846986111,
          -0.5955412799976927,
          -1.4996597344022469,
          -0.7358247995812351,
          -0.933572443609917,
          -0.008828766883507387,
          -0.8164283705009511,
          1.273678888538661,
          -0.8651312409226529,
          0.35478150022354593,
          0.986399459757734,
          -0.5352650018171781,
          -1.3886598301517936,
          -0.9095518855205877,
          -0.18025157413060977,
          -1.1639538469777637,
          -0.45797392379674257,
          0.6729367441748657,
          -1.8550523081681753,
          -1.2923975140689834,
          0.1464356554680572,
          -0.9334423032882809,
          -0.44248786315560623,
          1.0671262179776113,
          0.33753739416763867,
          0.9128835546431392,
          -0.5900917794231104,
          -0.3737024267929817,
          0.3712684727445248,
          -0.7557372214105362,
          0.843767325377286,
          -2.206479423111974,
          0.4426752009503339,
          -1.418894646378147,
          -1.6105792466568054,
          0.14046905986929045,
          -1.7025655506186397,
          -1.1263018556886557,
          0.04343967291843729,
          -1.2047503941915687,
          -0.09781015949410614,
          -0.24368586131596517,
          0.6958509742327339,
          -1.0704795691259144,
          0.5620221156749131,
          0.9390052445805276,
          -1.3349060314912693,
          0.40321915973170414,
          1.6285358959063552,
          -0.17701723872220992,
          0.8234083102866014,
          0.9957585721559657,
          -0.3763413287556481,
          -1.6265324048745329,
          -0.621938385545258,
          -0.465630623615682,
          1.526182232958349,
          0.3520390029182346,
          2.5651656043033713,
          0.7960377533994962,
          0.32625925238639847,
          -1.1861624824881056,
          0.949283354081687,
          0.08425473048695817,
          -0.7318456749714377,
          -1.0006911553437978,
          0.41625205826679096,
          -1.0046004868315244,
          0.09274029071208498,
          -1.741066554969545,
          -0.1488349120028584,
          0.06298419279152194,
          -1.0202004771437285,
          0.31668257541722206,
          -1.9144300423394567,
          1.8560064604860345,
          -0.6905437344649258,
          -0.020351338723384127,
          -0.7245034758310543,
          1.2620486376354592,
          -0.15544435172249807,
          -0.38249834037408337,
          -0.44288833342145334,
          -0.37916364819204046,
          1.500013795209575
         ],
         "yaxis": "y10"
        },
        {
         "histfunc": "count",
         "histnorm": "",
         "marker": {
          "color": "rgba(50, 171, 96, 1.0)",
          "line": {
           "color": "#4D5663",
           "width": 1.3
          }
         },
         "name": "C",
         "nbinsx": 10,
         "opacity": 0.8,
         "orientation": "v",
         "type": "histogram",
         "x": [
          -0.21276462251127787,
          0.5392444209308489,
          1.201647243870889,
          1.6782766296745564,
          1.1780165541193524,
          0.40167196181061116,
          -0.1591374159699852,
          0.39767413608763563,
          0.8651958256291215,
          1.478487857872841,
          -0.6734933053355409,
          -0.9164503190359672,
          -0.1522431081070318,
          -0.17775723859865142,
          -0.5784508624076548,
          -0.8953430846986111,
          -0.5955412799976927,
          -1.4996597344022469,
          -0.7358247995812351,
          -0.933572443609917,
          -0.008828766883507387,
          -0.8164283705009511,
          1.273678888538661,
          -0.8651312409226529,
          0.35478150022354593,
          0.986399459757734,
          -0.5352650018171781,
          -1.3886598301517936,
          -0.9095518855205877,
          -0.18025157413060977,
          -1.1639538469777637,
          -0.45797392379674257,
          0.6729367441748657,
          -1.8550523081681753,
          -1.2923975140689834,
          0.1464356554680572,
          -0.9334423032882809,
          -0.44248786315560623,
          1.0671262179776113,
          0.33753739416763867,
          0.9128835546431392,
          -0.5900917794231104,
          -0.3737024267929817,
          0.3712684727445248,
          -0.7557372214105362,
          0.843767325377286,
          -2.206479423111974,
          0.4426752009503339,
          -1.418894646378147,
          -1.6105792466568054,
          0.14046905986929045,
          -1.7025655506186397,
          -1.1263018556886557,
          0.04343967291843729,
          -1.2047503941915687,
          -0.09781015949410614,
          -0.24368586131596517,
          0.6958509742327339,
          -1.0704795691259144,
          0.5620221156749131,
          0.9390052445805276,
          -1.3349060314912693,
          0.40321915973170414,
          1.6285358959063552,
          -0.17701723872220992,
          0.8234083102866014,
          0.9957585721559657,
          -0.3763413287556481,
          -1.6265324048745329,
          -0.621938385545258,
          -0.465630623615682,
          1.526182232958349,
          0.3520390029182346,
          2.5651656043033713,
          0.7960377533994962,
          0.32625925238639847,
          -1.1861624824881056,
          0.949283354081687,
          0.08425473048695817,
          -0.7318456749714377,
          -1.0006911553437978,
          0.41625205826679096,
          -1.0046004868315244,
          0.09274029071208498,
          -1.741066554969545,
          -0.1488349120028584,
          0.06298419279152194,
          -1.0202004771437285,
          0.31668257541722206,
          -1.9144300423394567,
          1.8560064604860345,
          -0.6905437344649258,
          -0.020351338723384127,
          -0.7245034758310543,
          1.2620486376354592,
          -0.15544435172249807,
          -0.38249834037408337,
          -0.44288833342145334,
          -0.37916364819204046,
          1.500013795209575
         ],
         "xaxis": "x11",
         "yaxis": "y11"
        },
        {
         "line": {
          "color": "rgba(128, 128, 128, 1.0)",
          "dash": "solid",
          "shape": "linear",
          "width": 1.3
         },
         "marker": {
          "size": 2,
          "symbol": "circle"
         },
         "mode": "markers",
         "name": "C",
         "text": "",
         "type": "scatter",
         "x": [
          1.2646382812754842,
          -0.8971743142451027,
          -2.0754884569254672,
          0.24979143146563057,
          0.7113633997792028,
          1.278216640237135,
          -0.49685845418634067,
          1.2344611106270564,
          0.36195754457371004,
          0.6043429263082021,
          1.1059302402322535,
          -0.6515379521018477,
          0.3646331090549264,
          -0.9845536691002664,
          1.4409263079086052,
          0.8816667955217995,
          -0.7853779284986235,
          -0.7978616503508753,
          -1.0828660240395294,
          0.10487744298562451,
          0.19217934901563238,
          -0.44483118359065044,
          0.081992768065037,
          0.717726912938894,
          -0.4840805058901615,
          0.9655267003749074,
          -0.15515680869122653,
          0.18765636261666088,
          1.1626969975525205,
          1.1221860512686315,
          -0.7262998465735776,
          0.5769953510599819,
          -0.34292887593453836,
          -0.7177335259504108,
          0.4645526729614544,
          2.2636115244007744,
          0.6788635025563274,
          -1.3586866410113239,
          1.402105490753138,
          -0.04773722688359785,
          -0.05201898018951273,
          0.2775465835054213,
          -2.5368187629127665,
          0.7489922275026335,
          0.4366105803867375,
          -0.22742515624588822,
          0.8389663215980219,
          0.8119997599104144,
          1.5599969289424327,
          1.1960493070861002,
          0.5532823184545692,
          0.5429127445526751,
          -0.9216892467648115,
          -0.7124766367267783,
          -0.5469063510503084,
          1.2104299366607287,
          0.06529088469119605,
          -0.26731497693372736,
          0.18006682091523982,
          1.5858814002047847,
          0.028250097720445115,
          1.3266255468110029,
          1.3247055522245879,
          0.016966380125314793,
          -0.8959419956364261,
          0.878890833696069,
          -0.01258411681511281,
          -0.0795240148058931,
          0.09205341634269462,
          0.8743683456662174,
          1.2651793568520557,
          -0.01223560757394819,
          -1.1669543697177909,
          -1.0420826567320396,
          2.063838270434295,
          0.0968244764073173,
          -0.14942699098437895,
          -1.3822629131066702,
          0.15884855391204272,
          0.6019636707340277,
          1.2663377202008308,
          -1.6319526838234355,
          -0.08569233667719377,
          -0.19194039719829523,
          0.6089137382785959,
          0.21037399045564947,
          1.1878195115705752,
          0.10049673180139712,
          -0.6091707263338128,
          -1.0208458347127198,
          -0.7948310997841892,
          0.8263015448397337,
          0.6008696554415681,
          -2.853267844849281,
          -0.953772467478873,
          -0.3422257288319156,
          0.5312134043166221,
          0.15022922890648535,
          0.2815641965610305,
          -0.2403819541347331
         ],
         "xaxis": "x12",
         "y": [
          -0.21276462251127787,
          0.5392444209308489,
          1.201647243870889,
          1.6782766296745564,
          1.1780165541193524,
          0.40167196181061116,
          -0.1591374159699852,
          0.39767413608763563,
          0.8651958256291215,
          1.478487857872841,
          -0.6734933053355409,
          -0.9164503190359672,
          -0.1522431081070318,
          -0.17775723859865142,
          -0.5784508624076548,
          -0.8953430846986111,
          -0.5955412799976927,
          -1.4996597344022469,
          -0.7358247995812351,
          -0.933572443609917,
          -0.008828766883507387,
          -0.8164283705009511,
          1.273678888538661,
          -0.8651312409226529,
          0.35478150022354593,
          0.986399459757734,
          -0.5352650018171781,
          -1.3886598301517936,
          -0.9095518855205877,
          -0.18025157413060977,
          -1.1639538469777637,
          -0.45797392379674257,
          0.6729367441748657,
          -1.8550523081681753,
          -1.2923975140689834,
          0.1464356554680572,
          -0.9334423032882809,
          -0.44248786315560623,
          1.0671262179776113,
          0.33753739416763867,
          0.9128835546431392,
          -0.5900917794231104,
          -0.3737024267929817,
          0.3712684727445248,
          -0.7557372214105362,
          0.843767325377286,
          -2.206479423111974,
          0.4426752009503339,
          -1.418894646378147,
          -1.6105792466568054,
          0.14046905986929045,
          -1.7025655506186397,
          -1.1263018556886557,
          0.04343967291843729,
          -1.2047503941915687,
          -0.09781015949410614,
          -0.24368586131596517,
          0.6958509742327339,
          -1.0704795691259144,
          0.5620221156749131,
          0.9390052445805276,
          -1.3349060314912693,
          0.40321915973170414,
          1.6285358959063552,
          -0.17701723872220992,
          0.8234083102866014,
          0.9957585721559657,
          -0.3763413287556481,
          -1.6265324048745329,
          -0.621938385545258,
          -0.465630623615682,
          1.526182232958349,
          0.3520390029182346,
          2.5651656043033713,
          0.7960377533994962,
          0.32625925238639847,
          -1.1861624824881056,
          0.949283354081687,
          0.08425473048695817,
          -0.7318456749714377,
          -1.0006911553437978,
          0.41625205826679096,
          -1.0046004868315244,
          0.09274029071208498,
          -1.741066554969545,
          -0.1488349120028584,
          0.06298419279152194,
          -1.0202004771437285,
          0.31668257541722206,
          -1.9144300423394567,
          1.8560064604860345,
          -0.6905437344649258,
          -0.020351338723384127,
          -0.7245034758310543,
          1.2620486376354592,
          -0.15544435172249807,
          -0.38249834037408337,
          -0.44288833342145334,
          -0.37916364819204046,
          1.500013795209575
         ],
         "yaxis": "y12"
        },
        {
         "line": {
          "color": "rgba(128, 128, 128, 1.0)",
          "dash": "solid",
          "shape": "linear",
          "width": 1.3
         },
         "marker": {
          "size": 2,
          "symbol": "circle"
         },
         "mode": "markers",
         "name": "D",
         "text": "",
         "type": "scatter",
         "x": [
          -1.3743721584499824,
          0.01000404246298731,
          1.060073616887478,
          0.11441049376808408,
          -0.1254638614812266,
          -0.9070069778849268,
          0.052704947052634725,
          -0.018615509263272198,
          0.3426791424383957,
          0.7156411612038974,
          0.10320678514670655,
          1.5303326705609726,
          -0.21191099006121578,
          -2.020852407942947,
          0.22310319700464062,
          0.5054873846397421,
          0.4026865599915081,
          -1.4536017289362706,
          0.7950717634128648,
          -0.23111559189028452,
          0.7663819343502544,
          -0.6235760258594119,
          -0.39259261868434986,
          0.12216190113995658,
          -1.6096224506550463,
          0.5639253855756436,
          -1.0847543814378535,
          1.0885717287652497,
          -0.591208567689423,
          -1.6938094395037835,
          0.018569790345541275,
          0.8539549753616196,
          0.806290563715313,
          -1.6254073372348345,
          0.9733772798627246,
          1.1342632149777827,
          0.6285286305821992,
          0.8898153149689759,
          0.43696724130491166,
          -0.11330861472454354,
          -0.30502763648952747,
          0.23913144901280264,
          -0.5265302051771779,
          -2.428775933644073,
          1.2029442849361394,
          -2.123707409478142,
          -1.391993761824126,
          -0.6561453328335073,
          -1.0638196040870558,
          -1.034440135369431,
          1.4545524807375916,
          0.9664194515222728,
          1.3514860245657558,
          0.641805705752012,
          0.2250786303196695,
          0.5551821716123263,
          -0.3022131037940552,
          0.1957505960294113,
          -0.09000988974301995,
          0.2030785749813345,
          0.20537268885063817,
          2.007683712209121,
          -1.4843400652481071,
          1.600331889395343,
          -2.658926199502142,
          -0.7475374003049038,
          0.059354593787525535,
          -2.3391273652213593,
          0.14801385832510175,
          0.7316816414068449,
          2.6313286535979996,
          -0.6609371876541106,
          1.1687995210202855,
          1.0322937940761117,
          -0.12266208992005274,
          1.35264415917231,
          -0.6569032104004473,
          -1.325436343882467,
          0.03518178304520304,
          0.9882093647510404,
          0.7716022659319737,
          0.2571496555762069,
          0.9497583254883611,
          0.34755083044952106,
          -0.2608789849073516,
          1.6727247611623286,
          0.9699480590442013,
          -0.5146697755100796,
          0.1877515295630458,
          -0.16382196131899163,
          -0.6291505468485376,
          -0.3276311214951528,
          -1.1219800893721616,
          0.9243005130469527,
          0.34121867776964615,
          -0.1776353990815943,
          0.6764803263134359,
          -1.0912902239348543,
          0.23613255869213673,
          -0.9206029120136027
         ],
         "xaxis": "x13",
         "y": [
          1.2646382812754842,
          -0.8971743142451027,
          -2.0754884569254672,
          0.24979143146563057,
          0.7113633997792028,
          1.278216640237135,
          -0.49685845418634067,
          1.2344611106270564,
          0.36195754457371004,
          0.6043429263082021,
          1.1059302402322535,
          -0.6515379521018477,
          0.3646331090549264,
          -0.9845536691002664,
          1.4409263079086052,
          0.8816667955217995,
          -0.7853779284986235,
          -0.7978616503508753,
          -1.0828660240395294,
          0.10487744298562451,
          0.19217934901563238,
          -0.44483118359065044,
          0.081992768065037,
          0.717726912938894,
          -0.4840805058901615,
          0.9655267003749074,
          -0.15515680869122653,
          0.18765636261666088,
          1.1626969975525205,
          1.1221860512686315,
          -0.7262998465735776,
          0.5769953510599819,
          -0.34292887593453836,
          -0.7177335259504108,
          0.4645526729614544,
          2.2636115244007744,
          0.6788635025563274,
          -1.3586866410113239,
          1.402105490753138,
          -0.04773722688359785,
          -0.05201898018951273,
          0.2775465835054213,
          -2.5368187629127665,
          0.7489922275026335,
          0.4366105803867375,
          -0.22742515624588822,
          0.8389663215980219,
          0.8119997599104144,
          1.5599969289424327,
          1.1960493070861002,
          0.5532823184545692,
          0.5429127445526751,
          -0.9216892467648115,
          -0.7124766367267783,
          -0.5469063510503084,
          1.2104299366607287,
          0.06529088469119605,
          -0.26731497693372736,
          0.18006682091523982,
          1.5858814002047847,
          0.028250097720445115,
          1.3266255468110029,
          1.3247055522245879,
          0.016966380125314793,
          -0.8959419956364261,
          0.878890833696069,
          -0.01258411681511281,
          -0.0795240148058931,
          0.09205341634269462,
          0.8743683456662174,
          1.2651793568520557,
          -0.01223560757394819,
          -1.1669543697177909,
          -1.0420826567320396,
          2.063838270434295,
          0.0968244764073173,
          -0.14942699098437895,
          -1.3822629131066702,
          0.15884855391204272,
          0.6019636707340277,
          1.2663377202008308,
          -1.6319526838234355,
          -0.08569233667719377,
          -0.19194039719829523,
          0.6089137382785959,
          0.21037399045564947,
          1.1878195115705752,
          0.10049673180139712,
          -0.6091707263338128,
          -1.0208458347127198,
          -0.7948310997841892,
          0.8263015448397337,
          0.6008696554415681,
          -2.853267844849281,
          -0.953772467478873,
          -0.3422257288319156,
          0.5312134043166221,
          0.15022922890648535,
          0.2815641965610305,
          -0.2403819541347331
         ],
         "yaxis": "y13"
        },
        {
         "line": {
          "color": "rgba(128, 128, 128, 1.0)",
          "dash": "solid",
          "shape": "linear",
          "width": 1.3
         },
         "marker": {
          "size": 2,
          "symbol": "circle"
         },
         "mode": "markers",
         "name": "D",
         "text": "",
         "type": "scatter",
         "x": [
          -0.41705545013634915,
          -0.48642056858316945,
          -0.026443392359397484,
          0.1978372625783503,
          1.4968152023860652,
          1.2996001460682738,
          -1.9367361458578556,
          -0.7567789330556283,
          -2.054035669273658,
          0.5048997928080652,
          -1.1112808411952075,
          0.5912890910463597,
          0.0955475906516338,
          -0.28622310082696395,
          0.11737426814490341,
          -0.06758176195487915,
          0.3241491954622198,
          -0.5104479126394454,
          0.026529123575938545,
          1.4972763559326852,
          1.8253818450833434,
          -1.2574190220624064,
          0.1257869275628511,
          0.016621627579822357,
          0.979647443174523,
          0.518474140677526,
          -0.41373982543347276,
          0.009111766977325414,
          0.7981851789989233,
          -1.5066373021119543,
          -0.8145019514506392,
          1.2127894892403486,
          1.1666091840168742,
          -0.1826814988975061,
          0.2121435888368178,
          0.5919460396147409,
          0.6706604908690293,
          -0.1538820807314714,
          -0.06481604156077372,
          0.6865617899199997,
          0.5772096001553042,
          0.469910962356171,
          -2.0005706396554475,
          0.7472354988856291,
          -0.6389610051560966,
          -0.38295815856378096,
          -0.09249688990779162,
          1.6673465664575287,
          -0.5169802146802591,
          0.3229158282844716,
          -2.2439072734691266,
          -0.59787255059542,
          2.0190019560628656,
          -0.8827665762111087,
          0.1720370484706035,
          1.1447792901642073,
          -2.021110364925016,
          -0.4431961270162332,
          0.6154890464199887,
          -0.5340413595491634,
          -1.4300515449852669,
          -0.4289970586923092,
          -3.187864606601478,
          -0.5443854916908588,
          1.9027789968231628,
          0.028860644801460108,
          -0.9070719076829377,
          2.2604509548717204,
          -0.4756263042930482,
          -1.0527349279366778,
          1.0989883088287775,
          0.8363471991549375,
          0.9390577333704273,
          -0.6821309372267801,
          -0.040109791076703746,
          -1.0926766026681485,
          0.8810484800262337,
          0.13899121632294173,
          0.18175429939228152,
          0.6641933255515288,
          -0.29364200182227196,
          0.5215667308020342,
          0.511801600346848,
          0.1323902697067605,
          -2.1124151258180466,
          -0.3963021602119647,
          1.1669298215227715,
          0.7144341554925651,
          1.393601613907853,
          0.8542543813843058,
          1.793693509296129,
          1.958951631262988,
          1.9793533489183885,
          0.5393936516728588,
          0.8635557050746643,
          0.19647333456875704,
          -1.3462894052999834,
          -0.036318884695404764,
          -0.5437514526982358,
          -0.8788039924624359
         ],
         "xaxis": "x14",
         "y": [
          1.2646382812754842,
          -0.8971743142451027,
          -2.0754884569254672,
          0.24979143146563057,
          0.7113633997792028,
          1.278216640237135,
          -0.49685845418634067,
          1.2344611106270564,
          0.36195754457371004,
          0.6043429263082021,
          1.1059302402322535,
          -0.6515379521018477,
          0.3646331090549264,
          -0.9845536691002664,
          1.4409263079086052,
          0.8816667955217995,
          -0.7853779284986235,
          -0.7978616503508753,
          -1.0828660240395294,
          0.10487744298562451,
          0.19217934901563238,
          -0.44483118359065044,
          0.081992768065037,
          0.717726912938894,
          -0.4840805058901615,
          0.9655267003749074,
          -0.15515680869122653,
          0.18765636261666088,
          1.1626969975525205,
          1.1221860512686315,
          -0.7262998465735776,
          0.5769953510599819,
          -0.34292887593453836,
          -0.7177335259504108,
          0.4645526729614544,
          2.2636115244007744,
          0.6788635025563274,
          -1.3586866410113239,
          1.402105490753138,
          -0.04773722688359785,
          -0.05201898018951273,
          0.2775465835054213,
          -2.5368187629127665,
          0.7489922275026335,
          0.4366105803867375,
          -0.22742515624588822,
          0.8389663215980219,
          0.8119997599104144,
          1.5599969289424327,
          1.1960493070861002,
          0.5532823184545692,
          0.5429127445526751,
          -0.9216892467648115,
          -0.7124766367267783,
          -0.5469063510503084,
          1.2104299366607287,
          0.06529088469119605,
          -0.26731497693372736,
          0.18006682091523982,
          1.5858814002047847,
          0.028250097720445115,
          1.3266255468110029,
          1.3247055522245879,
          0.016966380125314793,
          -0.8959419956364261,
          0.878890833696069,
          -0.01258411681511281,
          -0.0795240148058931,
          0.09205341634269462,
          0.8743683456662174,
          1.2651793568520557,
          -0.01223560757394819,
          -1.1669543697177909,
          -1.0420826567320396,
          2.063838270434295,
          0.0968244764073173,
          -0.14942699098437895,
          -1.3822629131066702,
          0.15884855391204272,
          0.6019636707340277,
          1.2663377202008308,
          -1.6319526838234355,
          -0.08569233667719377,
          -0.19194039719829523,
          0.6089137382785959,
          0.21037399045564947,
          1.1878195115705752,
          0.10049673180139712,
          -0.6091707263338128,
          -1.0208458347127198,
          -0.7948310997841892,
          0.8263015448397337,
          0.6008696554415681,
          -2.853267844849281,
          -0.953772467478873,
          -0.3422257288319156,
          0.5312134043166221,
          0.15022922890648535,
          0.2815641965610305,
          -0.2403819541347331
         ],
         "yaxis": "y14"
        },
        {
         "line": {
          "color": "rgba(128, 128, 128, 1.0)",
          "dash": "solid",
          "shape": "linear",
          "width": 1.3
         },
         "marker": {
          "size": 2,
          "symbol": "circle"
         },
         "mode": "markers",
         "name": "D",
         "text": "",
         "type": "scatter",
         "x": [
          -0.21276462251127787,
          0.5392444209308489,
          1.201647243870889,
          1.6782766296745564,
          1.1780165541193524,
          0.40167196181061116,
          -0.1591374159699852,
          0.39767413608763563,
          0.8651958256291215,
          1.478487857872841,
          -0.6734933053355409,
          -0.9164503190359672,
          -0.1522431081070318,
          -0.17775723859865142,
          -0.5784508624076548,
          -0.8953430846986111,
          -0.5955412799976927,
          -1.4996597344022469,
          -0.7358247995812351,
          -0.933572443609917,
          -0.008828766883507387,
          -0.8164283705009511,
          1.273678888538661,
          -0.8651312409226529,
          0.35478150022354593,
          0.986399459757734,
          -0.5352650018171781,
          -1.3886598301517936,
          -0.9095518855205877,
          -0.18025157413060977,
          -1.1639538469777637,
          -0.45797392379674257,
          0.6729367441748657,
          -1.8550523081681753,
          -1.2923975140689834,
          0.1464356554680572,
          -0.9334423032882809,
          -0.44248786315560623,
          1.0671262179776113,
          0.33753739416763867,
          0.9128835546431392,
          -0.5900917794231104,
          -0.3737024267929817,
          0.3712684727445248,
          -0.7557372214105362,
          0.843767325377286,
          -2.206479423111974,
          0.4426752009503339,
          -1.418894646378147,
          -1.6105792466568054,
          0.14046905986929045,
          -1.7025655506186397,
          -1.1263018556886557,
          0.04343967291843729,
          -1.2047503941915687,
          -0.09781015949410614,
          -0.24368586131596517,
          0.6958509742327339,
          -1.0704795691259144,
          0.5620221156749131,
          0.9390052445805276,
          -1.3349060314912693,
          0.40321915973170414,
          1.6285358959063552,
          -0.17701723872220992,
          0.8234083102866014,
          0.9957585721559657,
          -0.3763413287556481,
          -1.6265324048745329,
          -0.621938385545258,
          -0.465630623615682,
          1.526182232958349,
          0.3520390029182346,
          2.5651656043033713,
          0.7960377533994962,
          0.32625925238639847,
          -1.1861624824881056,
          0.949283354081687,
          0.08425473048695817,
          -0.7318456749714377,
          -1.0006911553437978,
          0.41625205826679096,
          -1.0046004868315244,
          0.09274029071208498,
          -1.741066554969545,
          -0.1488349120028584,
          0.06298419279152194,
          -1.0202004771437285,
          0.31668257541722206,
          -1.9144300423394567,
          1.8560064604860345,
          -0.6905437344649258,
          -0.020351338723384127,
          -0.7245034758310543,
          1.2620486376354592,
          -0.15544435172249807,
          -0.38249834037408337,
          -0.44288833342145334,
          -0.37916364819204046,
          1.500013795209575
         ],
         "xaxis": "x15",
         "y": [
          1.2646382812754842,
          -0.8971743142451027,
          -2.0754884569254672,
          0.24979143146563057,
          0.7113633997792028,
          1.278216640237135,
          -0.49685845418634067,
          1.2344611106270564,
          0.36195754457371004,
          0.6043429263082021,
          1.1059302402322535,
          -0.6515379521018477,
          0.3646331090549264,
          -0.9845536691002664,
          1.4409263079086052,
          0.8816667955217995,
          -0.7853779284986235,
          -0.7978616503508753,
          -1.0828660240395294,
          0.10487744298562451,
          0.19217934901563238,
          -0.44483118359065044,
          0.081992768065037,
          0.717726912938894,
          -0.4840805058901615,
          0.9655267003749074,
          -0.15515680869122653,
          0.18765636261666088,
          1.1626969975525205,
          1.1221860512686315,
          -0.7262998465735776,
          0.5769953510599819,
          -0.34292887593453836,
          -0.7177335259504108,
          0.4645526729614544,
          2.2636115244007744,
          0.6788635025563274,
          -1.3586866410113239,
          1.402105490753138,
          -0.04773722688359785,
          -0.05201898018951273,
          0.2775465835054213,
          -2.5368187629127665,
          0.7489922275026335,
          0.4366105803867375,
          -0.22742515624588822,
          0.8389663215980219,
          0.8119997599104144,
          1.5599969289424327,
          1.1960493070861002,
          0.5532823184545692,
          0.5429127445526751,
          -0.9216892467648115,
          -0.7124766367267783,
          -0.5469063510503084,
          1.2104299366607287,
          0.06529088469119605,
          -0.26731497693372736,
          0.18006682091523982,
          1.5858814002047847,
          0.028250097720445115,
          1.3266255468110029,
          1.3247055522245879,
          0.016966380125314793,
          -0.8959419956364261,
          0.878890833696069,
          -0.01258411681511281,
          -0.0795240148058931,
          0.09205341634269462,
          0.8743683456662174,
          1.2651793568520557,
          -0.01223560757394819,
          -1.1669543697177909,
          -1.0420826567320396,
          2.063838270434295,
          0.0968244764073173,
          -0.14942699098437895,
          -1.3822629131066702,
          0.15884855391204272,
          0.6019636707340277,
          1.2663377202008308,
          -1.6319526838234355,
          -0.08569233667719377,
          -0.19194039719829523,
          0.6089137382785959,
          0.21037399045564947,
          1.1878195115705752,
          0.10049673180139712,
          -0.6091707263338128,
          -1.0208458347127198,
          -0.7948310997841892,
          0.8263015448397337,
          0.6008696554415681,
          -2.853267844849281,
          -0.953772467478873,
          -0.3422257288319156,
          0.5312134043166221,
          0.15022922890648535,
          0.2815641965610305,
          -0.2403819541347331
         ],
         "yaxis": "y15"
        },
        {
         "histfunc": "count",
         "histnorm": "",
         "marker": {
          "color": "rgba(128, 0, 128, 1.0)",
          "line": {
           "color": "#4D5663",
           "width": 1.3
          }
         },
         "name": "D",
         "nbinsx": 10,
         "opacity": 0.8,
         "orientation": "v",
         "type": "histogram",
         "x": [
          1.2646382812754842,
          -0.8971743142451027,
          -2.0754884569254672,
          0.24979143146563057,
          0.7113633997792028,
          1.278216640237135,
          -0.49685845418634067,
          1.2344611106270564,
          0.36195754457371004,
          0.6043429263082021,
          1.1059302402322535,
          -0.6515379521018477,
          0.3646331090549264,
          -0.9845536691002664,
          1.4409263079086052,
          0.8816667955217995,
          -0.7853779284986235,
          -0.7978616503508753,
          -1.0828660240395294,
          0.10487744298562451,
          0.19217934901563238,
          -0.44483118359065044,
          0.081992768065037,
          0.717726912938894,
          -0.4840805058901615,
          0.9655267003749074,
          -0.15515680869122653,
          0.18765636261666088,
          1.1626969975525205,
          1.1221860512686315,
          -0.7262998465735776,
          0.5769953510599819,
          -0.34292887593453836,
          -0.7177335259504108,
          0.4645526729614544,
          2.2636115244007744,
          0.6788635025563274,
          -1.3586866410113239,
          1.402105490753138,
          -0.04773722688359785,
          -0.05201898018951273,
          0.2775465835054213,
          -2.5368187629127665,
          0.7489922275026335,
          0.4366105803867375,
          -0.22742515624588822,
          0.8389663215980219,
          0.8119997599104144,
          1.5599969289424327,
          1.1960493070861002,
          0.5532823184545692,
          0.5429127445526751,
          -0.9216892467648115,
          -0.7124766367267783,
          -0.5469063510503084,
          1.2104299366607287,
          0.06529088469119605,
          -0.26731497693372736,
          0.18006682091523982,
          1.5858814002047847,
          0.028250097720445115,
          1.3266255468110029,
          1.3247055522245879,
          0.016966380125314793,
          -0.8959419956364261,
          0.878890833696069,
          -0.01258411681511281,
          -0.0795240148058931,
          0.09205341634269462,
          0.8743683456662174,
          1.2651793568520557,
          -0.01223560757394819,
          -1.1669543697177909,
          -1.0420826567320396,
          2.063838270434295,
          0.0968244764073173,
          -0.14942699098437895,
          -1.3822629131066702,
          0.15884855391204272,
          0.6019636707340277,
          1.2663377202008308,
          -1.6319526838234355,
          -0.08569233667719377,
          -0.19194039719829523,
          0.6089137382785959,
          0.21037399045564947,
          1.1878195115705752,
          0.10049673180139712,
          -0.6091707263338128,
          -1.0208458347127198,
          -0.7948310997841892,
          0.8263015448397337,
          0.6008696554415681,
          -2.853267844849281,
          -0.953772467478873,
          -0.3422257288319156,
          0.5312134043166221,
          0.15022922890648535,
          0.2815641965610305,
          -0.2403819541347331
         ],
         "xaxis": "x16",
         "yaxis": "y16"
        }
       ],
       "layout": {
        "bargap": 0.02,
        "legend": {
         "bgcolor": "#F5F6F9",
         "font": {
          "color": "#4D5663"
         }
        },
        "paper_bgcolor": "#F5F6F9",
        "plot_bgcolor": "#F5F6F9",
        "showlegend": false,
        "template": {
         "data": {
          "bar": [
           {
            "error_x": {
             "color": "#2a3f5f"
            },
            "error_y": {
             "color": "#2a3f5f"
            },
            "marker": {
             "line": {
              "color": "#E5ECF6",
              "width": 0.5
             }
            },
            "type": "bar"
           }
          ],
          "barpolar": [
           {
            "marker": {
             "line": {
              "color": "#E5ECF6",
              "width": 0.5
             }
            },
            "type": "barpolar"
           }
          ],
          "carpet": [
           {
            "aaxis": {
             "endlinecolor": "#2a3f5f",
             "gridcolor": "white",
             "linecolor": "white",
             "minorgridcolor": "white",
             "startlinecolor": "#2a3f5f"
            },
            "baxis": {
             "endlinecolor": "#2a3f5f",
             "gridcolor": "white",
             "linecolor": "white",
             "minorgridcolor": "white",
             "startlinecolor": "#2a3f5f"
            },
            "type": "carpet"
           }
          ],
          "choropleth": [
           {
            "colorbar": {
             "outlinewidth": 0,
             "ticks": ""
            },
            "type": "choropleth"
           }
          ],
          "contour": [
           {
            "colorbar": {
             "outlinewidth": 0,
             "ticks": ""
            },
            "colorscale": [
             [
              0,
              "#0d0887"
             ],
             [
              0.1111111111111111,
              "#46039f"
             ],
             [
              0.2222222222222222,
              "#7201a8"
             ],
             [
              0.3333333333333333,
              "#9c179e"
             ],
             [
              0.4444444444444444,
              "#bd3786"
             ],
             [
              0.5555555555555556,
              "#d8576b"
             ],
             [
              0.6666666666666666,
              "#ed7953"
             ],
             [
              0.7777777777777778,
              "#fb9f3a"
             ],
             [
              0.8888888888888888,
              "#fdca26"
             ],
             [
              1,
              "#f0f921"
             ]
            ],
            "type": "contour"
           }
          ],
          "contourcarpet": [
           {
            "colorbar": {
             "outlinewidth": 0,
             "ticks": ""
            },
            "type": "contourcarpet"
           }
          ],
          "heatmap": [
           {
            "colorbar": {
             "outlinewidth": 0,
             "ticks": ""
            },
            "colorscale": [
             [
              0,
              "#0d0887"
             ],
             [
              0.1111111111111111,
              "#46039f"
             ],
             [
              0.2222222222222222,
              "#7201a8"
             ],
             [
              0.3333333333333333,
              "#9c179e"
             ],
             [
              0.4444444444444444,
              "#bd3786"
             ],
             [
              0.5555555555555556,
              "#d8576b"
             ],
             [
              0.6666666666666666,
              "#ed7953"
             ],
             [
              0.7777777777777778,
              "#fb9f3a"
             ],
             [
              0.8888888888888888,
              "#fdca26"
             ],
             [
              1,
              "#f0f921"
             ]
            ],
            "type": "heatmap"
           }
          ],
          "heatmapgl": [
           {
            "colorbar": {
             "outlinewidth": 0,
             "ticks": ""
            },
            "colorscale": [
             [
              0,
              "#0d0887"
             ],
             [
              0.1111111111111111,
              "#46039f"
             ],
             [
              0.2222222222222222,
              "#7201a8"
             ],
             [
              0.3333333333333333,
              "#9c179e"
             ],
             [
              0.4444444444444444,
              "#bd3786"
             ],
             [
              0.5555555555555556,
              "#d8576b"
             ],
             [
              0.6666666666666666,
              "#ed7953"
             ],
             [
              0.7777777777777778,
              "#fb9f3a"
             ],
             [
              0.8888888888888888,
              "#fdca26"
             ],
             [
              1,
              "#f0f921"
             ]
            ],
            "type": "heatmapgl"
           }
          ],
          "histogram": [
           {
            "marker": {
             "colorbar": {
              "outlinewidth": 0,
              "ticks": ""
             }
            },
            "type": "histogram"
           }
          ],
          "histogram2d": [
           {
            "colorbar": {
             "outlinewidth": 0,
             "ticks": ""
            },
            "colorscale": [
             [
              0,
              "#0d0887"
             ],
             [
              0.1111111111111111,
              "#46039f"
             ],
             [
              0.2222222222222222,
              "#7201a8"
             ],
             [
              0.3333333333333333,
              "#9c179e"
             ],
             [
              0.4444444444444444,
              "#bd3786"
             ],
             [
              0.5555555555555556,
              "#d8576b"
             ],
             [
              0.6666666666666666,
              "#ed7953"
             ],
             [
              0.7777777777777778,
              "#fb9f3a"
             ],
             [
              0.8888888888888888,
              "#fdca26"
             ],
             [
              1,
              "#f0f921"
             ]
            ],
            "type": "histogram2d"
           }
          ],
          "histogram2dcontour": [
           {
            "colorbar": {
             "outlinewidth": 0,
             "ticks": ""
            },
            "colorscale": [
             [
              0,
              "#0d0887"
             ],
             [
              0.1111111111111111,
              "#46039f"
             ],
             [
              0.2222222222222222,
              "#7201a8"
             ],
             [
              0.3333333333333333,
              "#9c179e"
             ],
             [
              0.4444444444444444,
              "#bd3786"
             ],
             [
              0.5555555555555556,
              "#d8576b"
             ],
             [
              0.6666666666666666,
              "#ed7953"
             ],
             [
              0.7777777777777778,
              "#fb9f3a"
             ],
             [
              0.8888888888888888,
              "#fdca26"
             ],
             [
              1,
              "#f0f921"
             ]
            ],
            "type": "histogram2dcontour"
           }
          ],
          "mesh3d": [
           {
            "colorbar": {
             "outlinewidth": 0,
             "ticks": ""
            },
            "type": "mesh3d"
           }
          ],
          "parcoords": [
           {
            "line": {
             "colorbar": {
              "outlinewidth": 0,
              "ticks": ""
             }
            },
            "type": "parcoords"
           }
          ],
          "pie": [
           {
            "automargin": true,
            "type": "pie"
           }
          ],
          "scatter": [
           {
            "marker": {
             "colorbar": {
              "outlinewidth": 0,
              "ticks": ""
             }
            },
            "type": "scatter"
           }
          ],
          "scatter3d": [
           {
            "line": {
             "colorbar": {
              "outlinewidth": 0,
              "ticks": ""
             }
            },
            "marker": {
             "colorbar": {
              "outlinewidth": 0,
              "ticks": ""
             }
            },
            "type": "scatter3d"
           }
          ],
          "scattercarpet": [
           {
            "marker": {
             "colorbar": {
              "outlinewidth": 0,
              "ticks": ""
             }
            },
            "type": "scattercarpet"
           }
          ],
          "scattergeo": [
           {
            "marker": {
             "colorbar": {
              "outlinewidth": 0,
              "ticks": ""
             }
            },
            "type": "scattergeo"
           }
          ],
          "scattergl": [
           {
            "marker": {
             "colorbar": {
              "outlinewidth": 0,
              "ticks": ""
             }
            },
            "type": "scattergl"
           }
          ],
          "scattermapbox": [
           {
            "marker": {
             "colorbar": {
              "outlinewidth": 0,
              "ticks": ""
             }
            },
            "type": "scattermapbox"
           }
          ],
          "scatterpolar": [
           {
            "marker": {
             "colorbar": {
              "outlinewidth": 0,
              "ticks": ""
             }
            },
            "type": "scatterpolar"
           }
          ],
          "scatterpolargl": [
           {
            "marker": {
             "colorbar": {
              "outlinewidth": 0,
              "ticks": ""
             }
            },
            "type": "scatterpolargl"
           }
          ],
          "scatterternary": [
           {
            "marker": {
             "colorbar": {
              "outlinewidth": 0,
              "ticks": ""
             }
            },
            "type": "scatterternary"
           }
          ],
          "surface": [
           {
            "colorbar": {
             "outlinewidth": 0,
             "ticks": ""
            },
            "colorscale": [
             [
              0,
              "#0d0887"
             ],
             [
              0.1111111111111111,
              "#46039f"
             ],
             [
              0.2222222222222222,
              "#7201a8"
             ],
             [
              0.3333333333333333,
              "#9c179e"
             ],
             [
              0.4444444444444444,
              "#bd3786"
             ],
             [
              0.5555555555555556,
              "#d8576b"
             ],
             [
              0.6666666666666666,
              "#ed7953"
             ],
             [
              0.7777777777777778,
              "#fb9f3a"
             ],
             [
              0.8888888888888888,
              "#fdca26"
             ],
             [
              1,
              "#f0f921"
             ]
            ],
            "type": "surface"
           }
          ],
          "table": [
           {
            "cells": {
             "fill": {
              "color": "#EBF0F8"
             },
             "line": {
              "color": "white"
             }
            },
            "header": {
             "fill": {
              "color": "#C8D4E3"
             },
             "line": {
              "color": "white"
             }
            },
            "type": "table"
           }
          ]
         },
         "layout": {
          "annotationdefaults": {
           "arrowcolor": "#2a3f5f",
           "arrowhead": 0,
           "arrowwidth": 1
          },
          "autotypenumbers": "strict",
          "coloraxis": {
           "colorbar": {
            "outlinewidth": 0,
            "ticks": ""
           }
          },
          "colorscale": {
           "diverging": [
            [
             0,
             "#8e0152"
            ],
            [
             0.1,
             "#c51b7d"
            ],
            [
             0.2,
             "#de77ae"
            ],
            [
             0.3,
             "#f1b6da"
            ],
            [
             0.4,
             "#fde0ef"
            ],
            [
             0.5,
             "#f7f7f7"
            ],
            [
             0.6,
             "#e6f5d0"
            ],
            [
             0.7,
             "#b8e186"
            ],
            [
             0.8,
             "#7fbc41"
            ],
            [
             0.9,
             "#4d9221"
            ],
            [
             1,
             "#276419"
            ]
           ],
           "sequential": [
            [
             0,
             "#0d0887"
            ],
            [
             0.1111111111111111,
             "#46039f"
            ],
            [
             0.2222222222222222,
             "#7201a8"
            ],
            [
             0.3333333333333333,
             "#9c179e"
            ],
            [
             0.4444444444444444,
             "#bd3786"
            ],
            [
             0.5555555555555556,
             "#d8576b"
            ],
            [
             0.6666666666666666,
             "#ed7953"
            ],
            [
             0.7777777777777778,
             "#fb9f3a"
            ],
            [
             0.8888888888888888,
             "#fdca26"
            ],
            [
             1,
             "#f0f921"
            ]
           ],
           "sequentialminus": [
            [
             0,
             "#0d0887"
            ],
            [
             0.1111111111111111,
             "#46039f"
            ],
            [
             0.2222222222222222,
             "#7201a8"
            ],
            [
             0.3333333333333333,
             "#9c179e"
            ],
            [
             0.4444444444444444,
             "#bd3786"
            ],
            [
             0.5555555555555556,
             "#d8576b"
            ],
            [
             0.6666666666666666,
             "#ed7953"
            ],
            [
             0.7777777777777778,
             "#fb9f3a"
            ],
            [
             0.8888888888888888,
             "#fdca26"
            ],
            [
             1,
             "#f0f921"
            ]
           ]
          },
          "colorway": [
           "#636efa",
           "#EF553B",
           "#00cc96",
           "#ab63fa",
           "#FFA15A",
           "#19d3f3",
           "#FF6692",
           "#B6E880",
           "#FF97FF",
           "#FECB52"
          ],
          "font": {
           "color": "#2a3f5f"
          },
          "geo": {
           "bgcolor": "white",
           "lakecolor": "white",
           "landcolor": "#E5ECF6",
           "showlakes": true,
           "showland": true,
           "subunitcolor": "white"
          },
          "hoverlabel": {
           "align": "left"
          },
          "hovermode": "closest",
          "mapbox": {
           "style": "light"
          },
          "paper_bgcolor": "white",
          "plot_bgcolor": "#E5ECF6",
          "polar": {
           "angularaxis": {
            "gridcolor": "white",
            "linecolor": "white",
            "ticks": ""
           },
           "bgcolor": "#E5ECF6",
           "radialaxis": {
            "gridcolor": "white",
            "linecolor": "white",
            "ticks": ""
           }
          },
          "scene": {
           "xaxis": {
            "backgroundcolor": "#E5ECF6",
            "gridcolor": "white",
            "gridwidth": 2,
            "linecolor": "white",
            "showbackground": true,
            "ticks": "",
            "zerolinecolor": "white"
           },
           "yaxis": {
            "backgroundcolor": "#E5ECF6",
            "gridcolor": "white",
            "gridwidth": 2,
            "linecolor": "white",
            "showbackground": true,
            "ticks": "",
            "zerolinecolor": "white"
           },
           "zaxis": {
            "backgroundcolor": "#E5ECF6",
            "gridcolor": "white",
            "gridwidth": 2,
            "linecolor": "white",
            "showbackground": true,
            "ticks": "",
            "zerolinecolor": "white"
           }
          },
          "shapedefaults": {
           "line": {
            "color": "#2a3f5f"
           }
          },
          "ternary": {
           "aaxis": {
            "gridcolor": "white",
            "linecolor": "white",
            "ticks": ""
           },
           "baxis": {
            "gridcolor": "white",
            "linecolor": "white",
            "ticks": ""
           },
           "bgcolor": "#E5ECF6",
           "caxis": {
            "gridcolor": "white",
            "linecolor": "white",
            "ticks": ""
           }
          },
          "title": {
           "x": 0.05
          },
          "xaxis": {
           "automargin": true,
           "gridcolor": "white",
           "linecolor": "white",
           "ticks": "",
           "title": {
            "standoff": 15
           },
           "zerolinecolor": "white",
           "zerolinewidth": 2
          },
          "yaxis": {
           "automargin": true,
           "gridcolor": "white",
           "linecolor": "white",
           "ticks": "",
           "title": {
            "standoff": 15
           },
           "zerolinecolor": "white",
           "zerolinewidth": 2
          }
         }
        },
        "title": {
         "font": {
          "color": "#4D5663"
         }
        },
        "xaxis": {
         "anchor": "y",
         "domain": [
          0,
          0.2125
         ],
         "gridcolor": "#E1E5ED",
         "showgrid": false,
         "tickfont": {
          "color": "#4D5663"
         },
         "title": {
          "font": {
           "color": "#4D5663"
          },
          "text": ""
         },
         "zerolinecolor": "#E1E5ED"
        },
        "xaxis10": {
         "anchor": "y10",
         "domain": [
          0.2625,
          0.475
         ],
         "gridcolor": "#E1E5ED",
         "showgrid": false,
         "tickfont": {
          "color": "#4D5663"
         },
         "title": {
          "font": {
           "color": "#4D5663"
          },
          "text": ""
         },
         "zerolinecolor": "#E1E5ED"
        },
        "xaxis11": {
         "anchor": "y11",
         "domain": [
          0.525,
          0.7375
         ],
         "gridcolor": "#E1E5ED",
         "showgrid": false,
         "tickfont": {
          "color": "#4D5663"
         },
         "title": {
          "font": {
           "color": "#4D5663"
          },
          "text": ""
         },
         "zerolinecolor": "#E1E5ED"
        },
        "xaxis12": {
         "anchor": "y12",
         "domain": [
          0.7875,
          1
         ],
         "gridcolor": "#E1E5ED",
         "showgrid": false,
         "tickfont": {
          "color": "#4D5663"
         },
         "title": {
          "font": {
           "color": "#4D5663"
          },
          "text": ""
         },
         "zerolinecolor": "#E1E5ED"
        },
        "xaxis13": {
         "anchor": "y13",
         "domain": [
          0,
          0.2125
         ],
         "gridcolor": "#E1E5ED",
         "showgrid": false,
         "tickfont": {
          "color": "#4D5663"
         },
         "title": {
          "font": {
           "color": "#4D5663"
          },
          "text": ""
         },
         "zerolinecolor": "#E1E5ED"
        },
        "xaxis14": {
         "anchor": "y14",
         "domain": [
          0.2625,
          0.475
         ],
         "gridcolor": "#E1E5ED",
         "showgrid": false,
         "tickfont": {
          "color": "#4D5663"
         },
         "title": {
          "font": {
           "color": "#4D5663"
          },
          "text": ""
         },
         "zerolinecolor": "#E1E5ED"
        },
        "xaxis15": {
         "anchor": "y15",
         "domain": [
          0.525,
          0.7375
         ],
         "gridcolor": "#E1E5ED",
         "showgrid": false,
         "tickfont": {
          "color": "#4D5663"
         },
         "title": {
          "font": {
           "color": "#4D5663"
          },
          "text": ""
         },
         "zerolinecolor": "#E1E5ED"
        },
        "xaxis16": {
         "anchor": "y16",
         "domain": [
          0.7875,
          1
         ],
         "gridcolor": "#E1E5ED",
         "showgrid": false,
         "tickfont": {
          "color": "#4D5663"
         },
         "title": {
          "font": {
           "color": "#4D5663"
          },
          "text": ""
         },
         "zerolinecolor": "#E1E5ED"
        },
        "xaxis2": {
         "anchor": "y2",
         "domain": [
          0.2625,
          0.475
         ],
         "gridcolor": "#E1E5ED",
         "showgrid": false,
         "tickfont": {
          "color": "#4D5663"
         },
         "title": {
          "font": {
           "color": "#4D5663"
          },
          "text": ""
         },
         "zerolinecolor": "#E1E5ED"
        },
        "xaxis3": {
         "anchor": "y3",
         "domain": [
          0.525,
          0.7375
         ],
         "gridcolor": "#E1E5ED",
         "showgrid": false,
         "tickfont": {
          "color": "#4D5663"
         },
         "title": {
          "font": {
           "color": "#4D5663"
          },
          "text": ""
         },
         "zerolinecolor": "#E1E5ED"
        },
        "xaxis4": {
         "anchor": "y4",
         "domain": [
          0.7875,
          1
         ],
         "gridcolor": "#E1E5ED",
         "showgrid": false,
         "tickfont": {
          "color": "#4D5663"
         },
         "title": {
          "font": {
           "color": "#4D5663"
          },
          "text": ""
         },
         "zerolinecolor": "#E1E5ED"
        },
        "xaxis5": {
         "anchor": "y5",
         "domain": [
          0,
          0.2125
         ],
         "gridcolor": "#E1E5ED",
         "showgrid": false,
         "tickfont": {
          "color": "#4D5663"
         },
         "title": {
          "font": {
           "color": "#4D5663"
          },
          "text": ""
         },
         "zerolinecolor": "#E1E5ED"
        },
        "xaxis6": {
         "anchor": "y6",
         "domain": [
          0.2625,
          0.475
         ],
         "gridcolor": "#E1E5ED",
         "showgrid": false,
         "tickfont": {
          "color": "#4D5663"
         },
         "title": {
          "font": {
           "color": "#4D5663"
          },
          "text": ""
         },
         "zerolinecolor": "#E1E5ED"
        },
        "xaxis7": {
         "anchor": "y7",
         "domain": [
          0.525,
          0.7375
         ],
         "gridcolor": "#E1E5ED",
         "showgrid": false,
         "tickfont": {
          "color": "#4D5663"
         },
         "title": {
          "font": {
           "color": "#4D5663"
          },
          "text": ""
         },
         "zerolinecolor": "#E1E5ED"
        },
        "xaxis8": {
         "anchor": "y8",
         "domain": [
          0.7875,
          1
         ],
         "gridcolor": "#E1E5ED",
         "showgrid": false,
         "tickfont": {
          "color": "#4D5663"
         },
         "title": {
          "font": {
           "color": "#4D5663"
          },
          "text": ""
         },
         "zerolinecolor": "#E1E5ED"
        },
        "xaxis9": {
         "anchor": "y9",
         "domain": [
          0,
          0.2125
         ],
         "gridcolor": "#E1E5ED",
         "showgrid": false,
         "tickfont": {
          "color": "#4D5663"
         },
         "title": {
          "font": {
           "color": "#4D5663"
          },
          "text": ""
         },
         "zerolinecolor": "#E1E5ED"
        },
        "yaxis": {
         "anchor": "x",
         "domain": [
          0.8025,
          1
         ],
         "gridcolor": "#E1E5ED",
         "showgrid": false,
         "tickfont": {
          "color": "#4D5663"
         },
         "title": {
          "font": {
           "color": "#4D5663"
          },
          "text": ""
         },
         "zerolinecolor": "#E1E5ED"
        },
        "yaxis10": {
         "anchor": "x10",
         "domain": [
          0.2675,
          0.465
         ],
         "gridcolor": "#E1E5ED",
         "showgrid": false,
         "tickfont": {
          "color": "#4D5663"
         },
         "title": {
          "font": {
           "color": "#4D5663"
          },
          "text": ""
         },
         "zerolinecolor": "#E1E5ED"
        },
        "yaxis11": {
         "anchor": "x11",
         "domain": [
          0.2675,
          0.465
         ],
         "gridcolor": "#E1E5ED",
         "showgrid": false,
         "tickfont": {
          "color": "#4D5663"
         },
         "title": {
          "font": {
           "color": "#4D5663"
          },
          "text": ""
         },
         "zerolinecolor": "#E1E5ED"
        },
        "yaxis12": {
         "anchor": "x12",
         "domain": [
          0.2675,
          0.465
         ],
         "gridcolor": "#E1E5ED",
         "showgrid": false,
         "tickfont": {
          "color": "#4D5663"
         },
         "title": {
          "font": {
           "color": "#4D5663"
          },
          "text": ""
         },
         "zerolinecolor": "#E1E5ED"
        },
        "yaxis13": {
         "anchor": "x13",
         "domain": [
          0,
          0.1975
         ],
         "gridcolor": "#E1E5ED",
         "showgrid": false,
         "tickfont": {
          "color": "#4D5663"
         },
         "title": {
          "font": {
           "color": "#4D5663"
          },
          "text": ""
         },
         "zerolinecolor": "#E1E5ED"
        },
        "yaxis14": {
         "anchor": "x14",
         "domain": [
          0,
          0.1975
         ],
         "gridcolor": "#E1E5ED",
         "showgrid": false,
         "tickfont": {
          "color": "#4D5663"
         },
         "title": {
          "font": {
           "color": "#4D5663"
          },
          "text": ""
         },
         "zerolinecolor": "#E1E5ED"
        },
        "yaxis15": {
         "anchor": "x15",
         "domain": [
          0,
          0.1975
         ],
         "gridcolor": "#E1E5ED",
         "showgrid": false,
         "tickfont": {
          "color": "#4D5663"
         },
         "title": {
          "font": {
           "color": "#4D5663"
          },
          "text": ""
         },
         "zerolinecolor": "#E1E5ED"
        },
        "yaxis16": {
         "anchor": "x16",
         "domain": [
          0,
          0.1975
         ],
         "gridcolor": "#E1E5ED",
         "showgrid": false,
         "tickfont": {
          "color": "#4D5663"
         },
         "title": {
          "font": {
           "color": "#4D5663"
          },
          "text": ""
         },
         "zerolinecolor": "#E1E5ED"
        },
        "yaxis2": {
         "anchor": "x2",
         "domain": [
          0.8025,
          1
         ],
         "gridcolor": "#E1E5ED",
         "showgrid": false,
         "tickfont": {
          "color": "#4D5663"
         },
         "title": {
          "font": {
           "color": "#4D5663"
          },
          "text": ""
         },
         "zerolinecolor": "#E1E5ED"
        },
        "yaxis3": {
         "anchor": "x3",
         "domain": [
          0.8025,
          1
         ],
         "gridcolor": "#E1E5ED",
         "showgrid": false,
         "tickfont": {
          "color": "#4D5663"
         },
         "title": {
          "font": {
           "color": "#4D5663"
          },
          "text": ""
         },
         "zerolinecolor": "#E1E5ED"
        },
        "yaxis4": {
         "anchor": "x4",
         "domain": [
          0.8025,
          1
         ],
         "gridcolor": "#E1E5ED",
         "showgrid": false,
         "tickfont": {
          "color": "#4D5663"
         },
         "title": {
          "font": {
           "color": "#4D5663"
          },
          "text": ""
         },
         "zerolinecolor": "#E1E5ED"
        },
        "yaxis5": {
         "anchor": "x5",
         "domain": [
          0.535,
          0.7325
         ],
         "gridcolor": "#E1E5ED",
         "showgrid": false,
         "tickfont": {
          "color": "#4D5663"
         },
         "title": {
          "font": {
           "color": "#4D5663"
          },
          "text": ""
         },
         "zerolinecolor": "#E1E5ED"
        },
        "yaxis6": {
         "anchor": "x6",
         "domain": [
          0.535,
          0.7325
         ],
         "gridcolor": "#E1E5ED",
         "showgrid": false,
         "tickfont": {
          "color": "#4D5663"
         },
         "title": {
          "font": {
           "color": "#4D5663"
          },
          "text": ""
         },
         "zerolinecolor": "#E1E5ED"
        },
        "yaxis7": {
         "anchor": "x7",
         "domain": [
          0.535,
          0.7325
         ],
         "gridcolor": "#E1E5ED",
         "showgrid": false,
         "tickfont": {
          "color": "#4D5663"
         },
         "title": {
          "font": {
           "color": "#4D5663"
          },
          "text": ""
         },
         "zerolinecolor": "#E1E5ED"
        },
        "yaxis8": {
         "anchor": "x8",
         "domain": [
          0.535,
          0.7325
         ],
         "gridcolor": "#E1E5ED",
         "showgrid": false,
         "tickfont": {
          "color": "#4D5663"
         },
         "title": {
          "font": {
           "color": "#4D5663"
          },
          "text": ""
         },
         "zerolinecolor": "#E1E5ED"
        },
        "yaxis9": {
         "anchor": "x9",
         "domain": [
          0.2675,
          0.465
         ],
         "gridcolor": "#E1E5ED",
         "showgrid": false,
         "tickfont": {
          "color": "#4D5663"
         },
         "title": {
          "font": {
           "color": "#4D5663"
          },
          "text": ""
         },
         "zerolinecolor": "#E1E5ED"
        }
       }
      },
      "text/html": [
       "<div>                            <div id=\"2f11760e-d7a1-4037-ac07-501e49ff0a00\" class=\"plotly-graph-div\" style=\"height:525px; width:100%;\"></div>            <script type=\"text/javascript\">                require([\"plotly\"], function(Plotly) {                    window.PLOTLYENV=window.PLOTLYENV || {};\n",
       "                    window.PLOTLYENV.BASE_URL='https://plot.ly';                                    if (document.getElementById(\"2f11760e-d7a1-4037-ac07-501e49ff0a00\")) {                    Plotly.newPlot(                        \"2f11760e-d7a1-4037-ac07-501e49ff0a00\",                        [{\"histfunc\": \"count\", \"histnorm\": \"\", \"marker\": {\"color\": \"rgba(255, 153, 51, 1.0)\", \"line\": {\"color\": \"#4D5663\", \"width\": 1.3}}, \"name\": \"A\", \"nbinsx\": 10, \"opacity\": 0.8, \"orientation\": \"v\", \"type\": \"histogram\", \"x\": [-1.3743721584499824, 0.01000404246298731, 1.060073616887478, 0.11441049376808408, -0.1254638614812266, -0.9070069778849268, 0.052704947052634725, -0.018615509263272198, 0.3426791424383957, 0.7156411612038974, 0.10320678514670655, 1.5303326705609726, -0.21191099006121578, -2.020852407942947, 0.22310319700464062, 0.5054873846397421, 0.4026865599915081, -1.4536017289362706, 0.7950717634128648, -0.23111559189028452, 0.7663819343502544, -0.6235760258594119, -0.39259261868434986, 0.12216190113995658, -1.6096224506550463, 0.5639253855756436, -1.0847543814378535, 1.0885717287652497, -0.591208567689423, -1.6938094395037835, 0.018569790345541275, 0.8539549753616196, 0.806290563715313, -1.6254073372348345, 0.9733772798627246, 1.1342632149777827, 0.6285286305821992, 0.8898153149689759, 0.43696724130491166, -0.11330861472454354, -0.30502763648952747, 0.23913144901280264, -0.5265302051771779, -2.428775933644073, 1.2029442849361394, -2.123707409478142, -1.391993761824126, -0.6561453328335073, -1.0638196040870558, -1.034440135369431, 1.4545524807375916, 0.9664194515222728, 1.3514860245657558, 0.641805705752012, 0.2250786303196695, 0.5551821716123263, -0.3022131037940552, 0.1957505960294113, -0.09000988974301995, 0.2030785749813345, 0.20537268885063817, 2.007683712209121, -1.4843400652481071, 1.600331889395343, -2.658926199502142, -0.7475374003049038, 0.059354593787525535, -2.3391273652213593, 0.14801385832510175, 0.7316816414068449, 2.6313286535979996, -0.6609371876541106, 1.1687995210202855, 1.0322937940761117, -0.12266208992005274, 1.35264415917231, -0.6569032104004473, -1.325436343882467, 0.03518178304520304, 0.9882093647510404, 0.7716022659319737, 0.2571496555762069, 0.9497583254883611, 0.34755083044952106, -0.2608789849073516, 1.6727247611623286, 0.9699480590442013, -0.5146697755100796, 0.1877515295630458, -0.16382196131899163, -0.6291505468485376, -0.3276311214951528, -1.1219800893721616, 0.9243005130469527, 0.34121867776964615, -0.1776353990815943, 0.6764803263134359, -1.0912902239348543, 0.23613255869213673, -0.9206029120136027], \"xaxis\": \"x\", \"yaxis\": \"y\"}, {\"line\": {\"color\": \"rgba(128, 128, 128, 1.0)\", \"dash\": \"solid\", \"shape\": \"linear\", \"width\": 1.3}, \"marker\": {\"size\": 2, \"symbol\": \"circle\"}, \"mode\": \"markers\", \"name\": \"A\", \"text\": \"\", \"type\": \"scatter\", \"x\": [-0.41705545013634915, -0.48642056858316945, -0.026443392359397484, 0.1978372625783503, 1.4968152023860652, 1.2996001460682738, -1.9367361458578556, -0.7567789330556283, -2.054035669273658, 0.5048997928080652, -1.1112808411952075, 0.5912890910463597, 0.0955475906516338, -0.28622310082696395, 0.11737426814490341, -0.06758176195487915, 0.3241491954622198, -0.5104479126394454, 0.026529123575938545, 1.4972763559326852, 1.8253818450833434, -1.2574190220624064, 0.1257869275628511, 0.016621627579822357, 0.979647443174523, 0.518474140677526, -0.41373982543347276, 0.009111766977325414, 0.7981851789989233, -1.5066373021119543, -0.8145019514506392, 1.2127894892403486, 1.1666091840168742, -0.1826814988975061, 0.2121435888368178, 0.5919460396147409, 0.6706604908690293, -0.1538820807314714, -0.06481604156077372, 0.6865617899199997, 0.5772096001553042, 0.469910962356171, -2.0005706396554475, 0.7472354988856291, -0.6389610051560966, -0.38295815856378096, -0.09249688990779162, 1.6673465664575287, -0.5169802146802591, 0.3229158282844716, -2.2439072734691266, -0.59787255059542, 2.0190019560628656, -0.8827665762111087, 0.1720370484706035, 1.1447792901642073, -2.021110364925016, -0.4431961270162332, 0.6154890464199887, -0.5340413595491634, -1.4300515449852669, -0.4289970586923092, -3.187864606601478, -0.5443854916908588, 1.9027789968231628, 0.028860644801460108, -0.9070719076829377, 2.2604509548717204, -0.4756263042930482, -1.0527349279366778, 1.0989883088287775, 0.8363471991549375, 0.9390577333704273, -0.6821309372267801, -0.040109791076703746, -1.0926766026681485, 0.8810484800262337, 0.13899121632294173, 0.18175429939228152, 0.6641933255515288, -0.29364200182227196, 0.5215667308020342, 0.511801600346848, 0.1323902697067605, -2.1124151258180466, -0.3963021602119647, 1.1669298215227715, 0.7144341554925651, 1.393601613907853, 0.8542543813843058, 1.793693509296129, 1.958951631262988, 1.9793533489183885, 0.5393936516728588, 0.8635557050746643, 0.19647333456875704, -1.3462894052999834, -0.036318884695404764, -0.5437514526982358, -0.8788039924624359], \"xaxis\": \"x2\", \"y\": [-1.3743721584499824, 0.01000404246298731, 1.060073616887478, 0.11441049376808408, -0.1254638614812266, -0.9070069778849268, 0.052704947052634725, -0.018615509263272198, 0.3426791424383957, 0.7156411612038974, 0.10320678514670655, 1.5303326705609726, -0.21191099006121578, -2.020852407942947, 0.22310319700464062, 0.5054873846397421, 0.4026865599915081, -1.4536017289362706, 0.7950717634128648, -0.23111559189028452, 0.7663819343502544, -0.6235760258594119, -0.39259261868434986, 0.12216190113995658, -1.6096224506550463, 0.5639253855756436, -1.0847543814378535, 1.0885717287652497, -0.591208567689423, -1.6938094395037835, 0.018569790345541275, 0.8539549753616196, 0.806290563715313, -1.6254073372348345, 0.9733772798627246, 1.1342632149777827, 0.6285286305821992, 0.8898153149689759, 0.43696724130491166, -0.11330861472454354, -0.30502763648952747, 0.23913144901280264, -0.5265302051771779, -2.428775933644073, 1.2029442849361394, -2.123707409478142, -1.391993761824126, -0.6561453328335073, -1.0638196040870558, -1.034440135369431, 1.4545524807375916, 0.9664194515222728, 1.3514860245657558, 0.641805705752012, 0.2250786303196695, 0.5551821716123263, -0.3022131037940552, 0.1957505960294113, -0.09000988974301995, 0.2030785749813345, 0.20537268885063817, 2.007683712209121, -1.4843400652481071, 1.600331889395343, -2.658926199502142, -0.7475374003049038, 0.059354593787525535, -2.3391273652213593, 0.14801385832510175, 0.7316816414068449, 2.6313286535979996, -0.6609371876541106, 1.1687995210202855, 1.0322937940761117, -0.12266208992005274, 1.35264415917231, -0.6569032104004473, -1.325436343882467, 0.03518178304520304, 0.9882093647510404, 0.7716022659319737, 0.2571496555762069, 0.9497583254883611, 0.34755083044952106, -0.2608789849073516, 1.6727247611623286, 0.9699480590442013, -0.5146697755100796, 0.1877515295630458, -0.16382196131899163, -0.6291505468485376, -0.3276311214951528, -1.1219800893721616, 0.9243005130469527, 0.34121867776964615, -0.1776353990815943, 0.6764803263134359, -1.0912902239348543, 0.23613255869213673, -0.9206029120136027], \"yaxis\": \"y2\"}, {\"line\": {\"color\": \"rgba(128, 128, 128, 1.0)\", \"dash\": \"solid\", \"shape\": \"linear\", \"width\": 1.3}, \"marker\": {\"size\": 2, \"symbol\": \"circle\"}, \"mode\": \"markers\", \"name\": \"A\", \"text\": \"\", \"type\": \"scatter\", \"x\": [-0.21276462251127787, 0.5392444209308489, 1.201647243870889, 1.6782766296745564, 1.1780165541193524, 0.40167196181061116, -0.1591374159699852, 0.39767413608763563, 0.8651958256291215, 1.478487857872841, -0.6734933053355409, -0.9164503190359672, -0.1522431081070318, -0.17775723859865142, -0.5784508624076548, -0.8953430846986111, -0.5955412799976927, -1.4996597344022469, -0.7358247995812351, -0.933572443609917, -0.008828766883507387, -0.8164283705009511, 1.273678888538661, -0.8651312409226529, 0.35478150022354593, 0.986399459757734, -0.5352650018171781, -1.3886598301517936, -0.9095518855205877, -0.18025157413060977, -1.1639538469777637, -0.45797392379674257, 0.6729367441748657, -1.8550523081681753, -1.2923975140689834, 0.1464356554680572, -0.9334423032882809, -0.44248786315560623, 1.0671262179776113, 0.33753739416763867, 0.9128835546431392, -0.5900917794231104, -0.3737024267929817, 0.3712684727445248, -0.7557372214105362, 0.843767325377286, -2.206479423111974, 0.4426752009503339, -1.418894646378147, -1.6105792466568054, 0.14046905986929045, -1.7025655506186397, -1.1263018556886557, 0.04343967291843729, -1.2047503941915687, -0.09781015949410614, -0.24368586131596517, 0.6958509742327339, -1.0704795691259144, 0.5620221156749131, 0.9390052445805276, -1.3349060314912693, 0.40321915973170414, 1.6285358959063552, -0.17701723872220992, 0.8234083102866014, 0.9957585721559657, -0.3763413287556481, -1.6265324048745329, -0.621938385545258, -0.465630623615682, 1.526182232958349, 0.3520390029182346, 2.5651656043033713, 0.7960377533994962, 0.32625925238639847, -1.1861624824881056, 0.949283354081687, 0.08425473048695817, -0.7318456749714377, -1.0006911553437978, 0.41625205826679096, -1.0046004868315244, 0.09274029071208498, -1.741066554969545, -0.1488349120028584, 0.06298419279152194, -1.0202004771437285, 0.31668257541722206, -1.9144300423394567, 1.8560064604860345, -0.6905437344649258, -0.020351338723384127, -0.7245034758310543, 1.2620486376354592, -0.15544435172249807, -0.38249834037408337, -0.44288833342145334, -0.37916364819204046, 1.500013795209575], \"xaxis\": \"x3\", \"y\": [-1.3743721584499824, 0.01000404246298731, 1.060073616887478, 0.11441049376808408, -0.1254638614812266, -0.9070069778849268, 0.052704947052634725, -0.018615509263272198, 0.3426791424383957, 0.7156411612038974, 0.10320678514670655, 1.5303326705609726, -0.21191099006121578, -2.020852407942947, 0.22310319700464062, 0.5054873846397421, 0.4026865599915081, -1.4536017289362706, 0.7950717634128648, -0.23111559189028452, 0.7663819343502544, -0.6235760258594119, -0.39259261868434986, 0.12216190113995658, -1.6096224506550463, 0.5639253855756436, -1.0847543814378535, 1.0885717287652497, -0.591208567689423, -1.6938094395037835, 0.018569790345541275, 0.8539549753616196, 0.806290563715313, -1.6254073372348345, 0.9733772798627246, 1.1342632149777827, 0.6285286305821992, 0.8898153149689759, 0.43696724130491166, -0.11330861472454354, -0.30502763648952747, 0.23913144901280264, -0.5265302051771779, -2.428775933644073, 1.2029442849361394, -2.123707409478142, -1.391993761824126, -0.6561453328335073, -1.0638196040870558, -1.034440135369431, 1.4545524807375916, 0.9664194515222728, 1.3514860245657558, 0.641805705752012, 0.2250786303196695, 0.5551821716123263, -0.3022131037940552, 0.1957505960294113, -0.09000988974301995, 0.2030785749813345, 0.20537268885063817, 2.007683712209121, -1.4843400652481071, 1.600331889395343, -2.658926199502142, -0.7475374003049038, 0.059354593787525535, -2.3391273652213593, 0.14801385832510175, 0.7316816414068449, 2.6313286535979996, -0.6609371876541106, 1.1687995210202855, 1.0322937940761117, -0.12266208992005274, 1.35264415917231, -0.6569032104004473, -1.325436343882467, 0.03518178304520304, 0.9882093647510404, 0.7716022659319737, 0.2571496555762069, 0.9497583254883611, 0.34755083044952106, -0.2608789849073516, 1.6727247611623286, 0.9699480590442013, -0.5146697755100796, 0.1877515295630458, -0.16382196131899163, -0.6291505468485376, -0.3276311214951528, -1.1219800893721616, 0.9243005130469527, 0.34121867776964615, -0.1776353990815943, 0.6764803263134359, -1.0912902239348543, 0.23613255869213673, -0.9206029120136027], \"yaxis\": \"y3\"}, {\"line\": {\"color\": \"rgba(128, 128, 128, 1.0)\", \"dash\": \"solid\", \"shape\": \"linear\", \"width\": 1.3}, \"marker\": {\"size\": 2, \"symbol\": \"circle\"}, \"mode\": \"markers\", \"name\": \"A\", \"text\": \"\", \"type\": \"scatter\", \"x\": [1.2646382812754842, -0.8971743142451027, -2.0754884569254672, 0.24979143146563057, 0.7113633997792028, 1.278216640237135, -0.49685845418634067, 1.2344611106270564, 0.36195754457371004, 0.6043429263082021, 1.1059302402322535, -0.6515379521018477, 0.3646331090549264, -0.9845536691002664, 1.4409263079086052, 0.8816667955217995, -0.7853779284986235, -0.7978616503508753, -1.0828660240395294, 0.10487744298562451, 0.19217934901563238, -0.44483118359065044, 0.081992768065037, 0.717726912938894, -0.4840805058901615, 0.9655267003749074, -0.15515680869122653, 0.18765636261666088, 1.1626969975525205, 1.1221860512686315, -0.7262998465735776, 0.5769953510599819, -0.34292887593453836, -0.7177335259504108, 0.4645526729614544, 2.2636115244007744, 0.6788635025563274, -1.3586866410113239, 1.402105490753138, -0.04773722688359785, -0.05201898018951273, 0.2775465835054213, -2.5368187629127665, 0.7489922275026335, 0.4366105803867375, -0.22742515624588822, 0.8389663215980219, 0.8119997599104144, 1.5599969289424327, 1.1960493070861002, 0.5532823184545692, 0.5429127445526751, -0.9216892467648115, -0.7124766367267783, -0.5469063510503084, 1.2104299366607287, 0.06529088469119605, -0.26731497693372736, 0.18006682091523982, 1.5858814002047847, 0.028250097720445115, 1.3266255468110029, 1.3247055522245879, 0.016966380125314793, -0.8959419956364261, 0.878890833696069, -0.01258411681511281, -0.0795240148058931, 0.09205341634269462, 0.8743683456662174, 1.2651793568520557, -0.01223560757394819, -1.1669543697177909, -1.0420826567320396, 2.063838270434295, 0.0968244764073173, -0.14942699098437895, -1.3822629131066702, 0.15884855391204272, 0.6019636707340277, 1.2663377202008308, -1.6319526838234355, -0.08569233667719377, -0.19194039719829523, 0.6089137382785959, 0.21037399045564947, 1.1878195115705752, 0.10049673180139712, -0.6091707263338128, -1.0208458347127198, -0.7948310997841892, 0.8263015448397337, 0.6008696554415681, -2.853267844849281, -0.953772467478873, -0.3422257288319156, 0.5312134043166221, 0.15022922890648535, 0.2815641965610305, -0.2403819541347331], \"xaxis\": \"x4\", \"y\": [-1.3743721584499824, 0.01000404246298731, 1.060073616887478, 0.11441049376808408, -0.1254638614812266, -0.9070069778849268, 0.052704947052634725, -0.018615509263272198, 0.3426791424383957, 0.7156411612038974, 0.10320678514670655, 1.5303326705609726, -0.21191099006121578, -2.020852407942947, 0.22310319700464062, 0.5054873846397421, 0.4026865599915081, -1.4536017289362706, 0.7950717634128648, -0.23111559189028452, 0.7663819343502544, -0.6235760258594119, -0.39259261868434986, 0.12216190113995658, -1.6096224506550463, 0.5639253855756436, -1.0847543814378535, 1.0885717287652497, -0.591208567689423, -1.6938094395037835, 0.018569790345541275, 0.8539549753616196, 0.806290563715313, -1.6254073372348345, 0.9733772798627246, 1.1342632149777827, 0.6285286305821992, 0.8898153149689759, 0.43696724130491166, -0.11330861472454354, -0.30502763648952747, 0.23913144901280264, -0.5265302051771779, -2.428775933644073, 1.2029442849361394, -2.123707409478142, -1.391993761824126, -0.6561453328335073, -1.0638196040870558, -1.034440135369431, 1.4545524807375916, 0.9664194515222728, 1.3514860245657558, 0.641805705752012, 0.2250786303196695, 0.5551821716123263, -0.3022131037940552, 0.1957505960294113, -0.09000988974301995, 0.2030785749813345, 0.20537268885063817, 2.007683712209121, -1.4843400652481071, 1.600331889395343, -2.658926199502142, -0.7475374003049038, 0.059354593787525535, -2.3391273652213593, 0.14801385832510175, 0.7316816414068449, 2.6313286535979996, -0.6609371876541106, 1.1687995210202855, 1.0322937940761117, -0.12266208992005274, 1.35264415917231, -0.6569032104004473, -1.325436343882467, 0.03518178304520304, 0.9882093647510404, 0.7716022659319737, 0.2571496555762069, 0.9497583254883611, 0.34755083044952106, -0.2608789849073516, 1.6727247611623286, 0.9699480590442013, -0.5146697755100796, 0.1877515295630458, -0.16382196131899163, -0.6291505468485376, -0.3276311214951528, -1.1219800893721616, 0.9243005130469527, 0.34121867776964615, -0.1776353990815943, 0.6764803263134359, -1.0912902239348543, 0.23613255869213673, -0.9206029120136027], \"yaxis\": \"y4\"}, {\"line\": {\"color\": \"rgba(128, 128, 128, 1.0)\", \"dash\": \"solid\", \"shape\": \"linear\", \"width\": 1.3}, \"marker\": {\"size\": 2, \"symbol\": \"circle\"}, \"mode\": \"markers\", \"name\": \"B\", \"text\": \"\", \"type\": \"scatter\", \"x\": [-1.3743721584499824, 0.01000404246298731, 1.060073616887478, 0.11441049376808408, -0.1254638614812266, -0.9070069778849268, 0.052704947052634725, -0.018615509263272198, 0.3426791424383957, 0.7156411612038974, 0.10320678514670655, 1.5303326705609726, -0.21191099006121578, -2.020852407942947, 0.22310319700464062, 0.5054873846397421, 0.4026865599915081, -1.4536017289362706, 0.7950717634128648, -0.23111559189028452, 0.7663819343502544, -0.6235760258594119, -0.39259261868434986, 0.12216190113995658, -1.6096224506550463, 0.5639253855756436, -1.0847543814378535, 1.0885717287652497, -0.591208567689423, -1.6938094395037835, 0.018569790345541275, 0.8539549753616196, 0.806290563715313, -1.6254073372348345, 0.9733772798627246, 1.1342632149777827, 0.6285286305821992, 0.8898153149689759, 0.43696724130491166, -0.11330861472454354, -0.30502763648952747, 0.23913144901280264, -0.5265302051771779, -2.428775933644073, 1.2029442849361394, -2.123707409478142, -1.391993761824126, -0.6561453328335073, -1.0638196040870558, -1.034440135369431, 1.4545524807375916, 0.9664194515222728, 1.3514860245657558, 0.641805705752012, 0.2250786303196695, 0.5551821716123263, -0.3022131037940552, 0.1957505960294113, -0.09000988974301995, 0.2030785749813345, 0.20537268885063817, 2.007683712209121, -1.4843400652481071, 1.600331889395343, -2.658926199502142, -0.7475374003049038, 0.059354593787525535, -2.3391273652213593, 0.14801385832510175, 0.7316816414068449, 2.6313286535979996, -0.6609371876541106, 1.1687995210202855, 1.0322937940761117, -0.12266208992005274, 1.35264415917231, -0.6569032104004473, -1.325436343882467, 0.03518178304520304, 0.9882093647510404, 0.7716022659319737, 0.2571496555762069, 0.9497583254883611, 0.34755083044952106, -0.2608789849073516, 1.6727247611623286, 0.9699480590442013, -0.5146697755100796, 0.1877515295630458, -0.16382196131899163, -0.6291505468485376, -0.3276311214951528, -1.1219800893721616, 0.9243005130469527, 0.34121867776964615, -0.1776353990815943, 0.6764803263134359, -1.0912902239348543, 0.23613255869213673, -0.9206029120136027], \"xaxis\": \"x5\", \"y\": [-0.41705545013634915, -0.48642056858316945, -0.026443392359397484, 0.1978372625783503, 1.4968152023860652, 1.2996001460682738, -1.9367361458578556, -0.7567789330556283, -2.054035669273658, 0.5048997928080652, -1.1112808411952075, 0.5912890910463597, 0.0955475906516338, -0.28622310082696395, 0.11737426814490341, -0.06758176195487915, 0.3241491954622198, -0.5104479126394454, 0.026529123575938545, 1.4972763559326852, 1.8253818450833434, -1.2574190220624064, 0.1257869275628511, 0.016621627579822357, 0.979647443174523, 0.518474140677526, -0.41373982543347276, 0.009111766977325414, 0.7981851789989233, -1.5066373021119543, -0.8145019514506392, 1.2127894892403486, 1.1666091840168742, -0.1826814988975061, 0.2121435888368178, 0.5919460396147409, 0.6706604908690293, -0.1538820807314714, -0.06481604156077372, 0.6865617899199997, 0.5772096001553042, 0.469910962356171, -2.0005706396554475, 0.7472354988856291, -0.6389610051560966, -0.38295815856378096, -0.09249688990779162, 1.6673465664575287, -0.5169802146802591, 0.3229158282844716, -2.2439072734691266, -0.59787255059542, 2.0190019560628656, -0.8827665762111087, 0.1720370484706035, 1.1447792901642073, -2.021110364925016, -0.4431961270162332, 0.6154890464199887, -0.5340413595491634, -1.4300515449852669, -0.4289970586923092, -3.187864606601478, -0.5443854916908588, 1.9027789968231628, 0.028860644801460108, -0.9070719076829377, 2.2604509548717204, -0.4756263042930482, -1.0527349279366778, 1.0989883088287775, 0.8363471991549375, 0.9390577333704273, -0.6821309372267801, -0.040109791076703746, -1.0926766026681485, 0.8810484800262337, 0.13899121632294173, 0.18175429939228152, 0.6641933255515288, -0.29364200182227196, 0.5215667308020342, 0.511801600346848, 0.1323902697067605, -2.1124151258180466, -0.3963021602119647, 1.1669298215227715, 0.7144341554925651, 1.393601613907853, 0.8542543813843058, 1.793693509296129, 1.958951631262988, 1.9793533489183885, 0.5393936516728588, 0.8635557050746643, 0.19647333456875704, -1.3462894052999834, -0.036318884695404764, -0.5437514526982358, -0.8788039924624359], \"yaxis\": \"y5\"}, {\"histfunc\": \"count\", \"histnorm\": \"\", \"marker\": {\"color\": \"rgba(55, 128, 191, 1.0)\", \"line\": {\"color\": \"#4D5663\", \"width\": 1.3}}, \"name\": \"B\", \"nbinsx\": 10, \"opacity\": 0.8, \"orientation\": \"v\", \"type\": \"histogram\", \"x\": [-0.41705545013634915, -0.48642056858316945, -0.026443392359397484, 0.1978372625783503, 1.4968152023860652, 1.2996001460682738, -1.9367361458578556, -0.7567789330556283, -2.054035669273658, 0.5048997928080652, -1.1112808411952075, 0.5912890910463597, 0.0955475906516338, -0.28622310082696395, 0.11737426814490341, -0.06758176195487915, 0.3241491954622198, -0.5104479126394454, 0.026529123575938545, 1.4972763559326852, 1.8253818450833434, -1.2574190220624064, 0.1257869275628511, 0.016621627579822357, 0.979647443174523, 0.518474140677526, -0.41373982543347276, 0.009111766977325414, 0.7981851789989233, -1.5066373021119543, -0.8145019514506392, 1.2127894892403486, 1.1666091840168742, -0.1826814988975061, 0.2121435888368178, 0.5919460396147409, 0.6706604908690293, -0.1538820807314714, -0.06481604156077372, 0.6865617899199997, 0.5772096001553042, 0.469910962356171, -2.0005706396554475, 0.7472354988856291, -0.6389610051560966, -0.38295815856378096, -0.09249688990779162, 1.6673465664575287, -0.5169802146802591, 0.3229158282844716, -2.2439072734691266, -0.59787255059542, 2.0190019560628656, -0.8827665762111087, 0.1720370484706035, 1.1447792901642073, -2.021110364925016, -0.4431961270162332, 0.6154890464199887, -0.5340413595491634, -1.4300515449852669, -0.4289970586923092, -3.187864606601478, -0.5443854916908588, 1.9027789968231628, 0.028860644801460108, -0.9070719076829377, 2.2604509548717204, -0.4756263042930482, -1.0527349279366778, 1.0989883088287775, 0.8363471991549375, 0.9390577333704273, -0.6821309372267801, -0.040109791076703746, -1.0926766026681485, 0.8810484800262337, 0.13899121632294173, 0.18175429939228152, 0.6641933255515288, -0.29364200182227196, 0.5215667308020342, 0.511801600346848, 0.1323902697067605, -2.1124151258180466, -0.3963021602119647, 1.1669298215227715, 0.7144341554925651, 1.393601613907853, 0.8542543813843058, 1.793693509296129, 1.958951631262988, 1.9793533489183885, 0.5393936516728588, 0.8635557050746643, 0.19647333456875704, -1.3462894052999834, -0.036318884695404764, -0.5437514526982358, -0.8788039924624359], \"xaxis\": \"x6\", \"yaxis\": \"y6\"}, {\"line\": {\"color\": \"rgba(128, 128, 128, 1.0)\", \"dash\": \"solid\", \"shape\": \"linear\", \"width\": 1.3}, \"marker\": {\"size\": 2, \"symbol\": \"circle\"}, \"mode\": \"markers\", \"name\": \"B\", \"text\": \"\", \"type\": \"scatter\", \"x\": [-0.21276462251127787, 0.5392444209308489, 1.201647243870889, 1.6782766296745564, 1.1780165541193524, 0.40167196181061116, -0.1591374159699852, 0.39767413608763563, 0.8651958256291215, 1.478487857872841, -0.6734933053355409, -0.9164503190359672, -0.1522431081070318, -0.17775723859865142, -0.5784508624076548, -0.8953430846986111, -0.5955412799976927, -1.4996597344022469, -0.7358247995812351, -0.933572443609917, -0.008828766883507387, -0.8164283705009511, 1.273678888538661, -0.8651312409226529, 0.35478150022354593, 0.986399459757734, -0.5352650018171781, -1.3886598301517936, -0.9095518855205877, -0.18025157413060977, -1.1639538469777637, -0.45797392379674257, 0.6729367441748657, -1.8550523081681753, -1.2923975140689834, 0.1464356554680572, -0.9334423032882809, -0.44248786315560623, 1.0671262179776113, 0.33753739416763867, 0.9128835546431392, -0.5900917794231104, -0.3737024267929817, 0.3712684727445248, -0.7557372214105362, 0.843767325377286, -2.206479423111974, 0.4426752009503339, -1.418894646378147, -1.6105792466568054, 0.14046905986929045, -1.7025655506186397, -1.1263018556886557, 0.04343967291843729, -1.2047503941915687, -0.09781015949410614, -0.24368586131596517, 0.6958509742327339, -1.0704795691259144, 0.5620221156749131, 0.9390052445805276, -1.3349060314912693, 0.40321915973170414, 1.6285358959063552, -0.17701723872220992, 0.8234083102866014, 0.9957585721559657, -0.3763413287556481, -1.6265324048745329, -0.621938385545258, -0.465630623615682, 1.526182232958349, 0.3520390029182346, 2.5651656043033713, 0.7960377533994962, 0.32625925238639847, -1.1861624824881056, 0.949283354081687, 0.08425473048695817, -0.7318456749714377, -1.0006911553437978, 0.41625205826679096, -1.0046004868315244, 0.09274029071208498, -1.741066554969545, -0.1488349120028584, 0.06298419279152194, -1.0202004771437285, 0.31668257541722206, -1.9144300423394567, 1.8560064604860345, -0.6905437344649258, -0.020351338723384127, -0.7245034758310543, 1.2620486376354592, -0.15544435172249807, -0.38249834037408337, -0.44288833342145334, -0.37916364819204046, 1.500013795209575], \"xaxis\": \"x7\", \"y\": [-0.41705545013634915, -0.48642056858316945, -0.026443392359397484, 0.1978372625783503, 1.4968152023860652, 1.2996001460682738, -1.9367361458578556, -0.7567789330556283, -2.054035669273658, 0.5048997928080652, -1.1112808411952075, 0.5912890910463597, 0.0955475906516338, -0.28622310082696395, 0.11737426814490341, -0.06758176195487915, 0.3241491954622198, -0.5104479126394454, 0.026529123575938545, 1.4972763559326852, 1.8253818450833434, -1.2574190220624064, 0.1257869275628511, 0.016621627579822357, 0.979647443174523, 0.518474140677526, -0.41373982543347276, 0.009111766977325414, 0.7981851789989233, -1.5066373021119543, -0.8145019514506392, 1.2127894892403486, 1.1666091840168742, -0.1826814988975061, 0.2121435888368178, 0.5919460396147409, 0.6706604908690293, -0.1538820807314714, -0.06481604156077372, 0.6865617899199997, 0.5772096001553042, 0.469910962356171, -2.0005706396554475, 0.7472354988856291, -0.6389610051560966, -0.38295815856378096, -0.09249688990779162, 1.6673465664575287, -0.5169802146802591, 0.3229158282844716, -2.2439072734691266, -0.59787255059542, 2.0190019560628656, -0.8827665762111087, 0.1720370484706035, 1.1447792901642073, -2.021110364925016, -0.4431961270162332, 0.6154890464199887, -0.5340413595491634, -1.4300515449852669, -0.4289970586923092, -3.187864606601478, -0.5443854916908588, 1.9027789968231628, 0.028860644801460108, -0.9070719076829377, 2.2604509548717204, -0.4756263042930482, -1.0527349279366778, 1.0989883088287775, 0.8363471991549375, 0.9390577333704273, -0.6821309372267801, -0.040109791076703746, -1.0926766026681485, 0.8810484800262337, 0.13899121632294173, 0.18175429939228152, 0.6641933255515288, -0.29364200182227196, 0.5215667308020342, 0.511801600346848, 0.1323902697067605, -2.1124151258180466, -0.3963021602119647, 1.1669298215227715, 0.7144341554925651, 1.393601613907853, 0.8542543813843058, 1.793693509296129, 1.958951631262988, 1.9793533489183885, 0.5393936516728588, 0.8635557050746643, 0.19647333456875704, -1.3462894052999834, -0.036318884695404764, -0.5437514526982358, -0.8788039924624359], \"yaxis\": \"y7\"}, {\"line\": {\"color\": \"rgba(128, 128, 128, 1.0)\", \"dash\": \"solid\", \"shape\": \"linear\", \"width\": 1.3}, \"marker\": {\"size\": 2, \"symbol\": \"circle\"}, \"mode\": \"markers\", \"name\": \"B\", \"text\": \"\", \"type\": \"scatter\", \"x\": [1.2646382812754842, -0.8971743142451027, -2.0754884569254672, 0.24979143146563057, 0.7113633997792028, 1.278216640237135, -0.49685845418634067, 1.2344611106270564, 0.36195754457371004, 0.6043429263082021, 1.1059302402322535, -0.6515379521018477, 0.3646331090549264, -0.9845536691002664, 1.4409263079086052, 0.8816667955217995, -0.7853779284986235, -0.7978616503508753, -1.0828660240395294, 0.10487744298562451, 0.19217934901563238, -0.44483118359065044, 0.081992768065037, 0.717726912938894, -0.4840805058901615, 0.9655267003749074, -0.15515680869122653, 0.18765636261666088, 1.1626969975525205, 1.1221860512686315, -0.7262998465735776, 0.5769953510599819, -0.34292887593453836, -0.7177335259504108, 0.4645526729614544, 2.2636115244007744, 0.6788635025563274, -1.3586866410113239, 1.402105490753138, -0.04773722688359785, -0.05201898018951273, 0.2775465835054213, -2.5368187629127665, 0.7489922275026335, 0.4366105803867375, -0.22742515624588822, 0.8389663215980219, 0.8119997599104144, 1.5599969289424327, 1.1960493070861002, 0.5532823184545692, 0.5429127445526751, -0.9216892467648115, -0.7124766367267783, -0.5469063510503084, 1.2104299366607287, 0.06529088469119605, -0.26731497693372736, 0.18006682091523982, 1.5858814002047847, 0.028250097720445115, 1.3266255468110029, 1.3247055522245879, 0.016966380125314793, -0.8959419956364261, 0.878890833696069, -0.01258411681511281, -0.0795240148058931, 0.09205341634269462, 0.8743683456662174, 1.2651793568520557, -0.01223560757394819, -1.1669543697177909, -1.0420826567320396, 2.063838270434295, 0.0968244764073173, -0.14942699098437895, -1.3822629131066702, 0.15884855391204272, 0.6019636707340277, 1.2663377202008308, -1.6319526838234355, -0.08569233667719377, -0.19194039719829523, 0.6089137382785959, 0.21037399045564947, 1.1878195115705752, 0.10049673180139712, -0.6091707263338128, -1.0208458347127198, -0.7948310997841892, 0.8263015448397337, 0.6008696554415681, -2.853267844849281, -0.953772467478873, -0.3422257288319156, 0.5312134043166221, 0.15022922890648535, 0.2815641965610305, -0.2403819541347331], \"xaxis\": \"x8\", \"y\": [-0.41705545013634915, -0.48642056858316945, -0.026443392359397484, 0.1978372625783503, 1.4968152023860652, 1.2996001460682738, -1.9367361458578556, -0.7567789330556283, -2.054035669273658, 0.5048997928080652, -1.1112808411952075, 0.5912890910463597, 0.0955475906516338, -0.28622310082696395, 0.11737426814490341, -0.06758176195487915, 0.3241491954622198, -0.5104479126394454, 0.026529123575938545, 1.4972763559326852, 1.8253818450833434, -1.2574190220624064, 0.1257869275628511, 0.016621627579822357, 0.979647443174523, 0.518474140677526, -0.41373982543347276, 0.009111766977325414, 0.7981851789989233, -1.5066373021119543, -0.8145019514506392, 1.2127894892403486, 1.1666091840168742, -0.1826814988975061, 0.2121435888368178, 0.5919460396147409, 0.6706604908690293, -0.1538820807314714, -0.06481604156077372, 0.6865617899199997, 0.5772096001553042, 0.469910962356171, -2.0005706396554475, 0.7472354988856291, -0.6389610051560966, -0.38295815856378096, -0.09249688990779162, 1.6673465664575287, -0.5169802146802591, 0.3229158282844716, -2.2439072734691266, -0.59787255059542, 2.0190019560628656, -0.8827665762111087, 0.1720370484706035, 1.1447792901642073, -2.021110364925016, -0.4431961270162332, 0.6154890464199887, -0.5340413595491634, -1.4300515449852669, -0.4289970586923092, -3.187864606601478, -0.5443854916908588, 1.9027789968231628, 0.028860644801460108, -0.9070719076829377, 2.2604509548717204, -0.4756263042930482, -1.0527349279366778, 1.0989883088287775, 0.8363471991549375, 0.9390577333704273, -0.6821309372267801, -0.040109791076703746, -1.0926766026681485, 0.8810484800262337, 0.13899121632294173, 0.18175429939228152, 0.6641933255515288, -0.29364200182227196, 0.5215667308020342, 0.511801600346848, 0.1323902697067605, -2.1124151258180466, -0.3963021602119647, 1.1669298215227715, 0.7144341554925651, 1.393601613907853, 0.8542543813843058, 1.793693509296129, 1.958951631262988, 1.9793533489183885, 0.5393936516728588, 0.8635557050746643, 0.19647333456875704, -1.3462894052999834, -0.036318884695404764, -0.5437514526982358, -0.8788039924624359], \"yaxis\": \"y8\"}, {\"line\": {\"color\": \"rgba(128, 128, 128, 1.0)\", \"dash\": \"solid\", \"shape\": \"linear\", \"width\": 1.3}, \"marker\": {\"size\": 2, \"symbol\": \"circle\"}, \"mode\": \"markers\", \"name\": \"C\", \"text\": \"\", \"type\": \"scatter\", \"x\": [-1.3743721584499824, 0.01000404246298731, 1.060073616887478, 0.11441049376808408, -0.1254638614812266, -0.9070069778849268, 0.052704947052634725, -0.018615509263272198, 0.3426791424383957, 0.7156411612038974, 0.10320678514670655, 1.5303326705609726, -0.21191099006121578, -2.020852407942947, 0.22310319700464062, 0.5054873846397421, 0.4026865599915081, -1.4536017289362706, 0.7950717634128648, -0.23111559189028452, 0.7663819343502544, -0.6235760258594119, -0.39259261868434986, 0.12216190113995658, -1.6096224506550463, 0.5639253855756436, -1.0847543814378535, 1.0885717287652497, -0.591208567689423, -1.6938094395037835, 0.018569790345541275, 0.8539549753616196, 0.806290563715313, -1.6254073372348345, 0.9733772798627246, 1.1342632149777827, 0.6285286305821992, 0.8898153149689759, 0.43696724130491166, -0.11330861472454354, -0.30502763648952747, 0.23913144901280264, -0.5265302051771779, -2.428775933644073, 1.2029442849361394, -2.123707409478142, -1.391993761824126, -0.6561453328335073, -1.0638196040870558, -1.034440135369431, 1.4545524807375916, 0.9664194515222728, 1.3514860245657558, 0.641805705752012, 0.2250786303196695, 0.5551821716123263, -0.3022131037940552, 0.1957505960294113, -0.09000988974301995, 0.2030785749813345, 0.20537268885063817, 2.007683712209121, -1.4843400652481071, 1.600331889395343, -2.658926199502142, -0.7475374003049038, 0.059354593787525535, -2.3391273652213593, 0.14801385832510175, 0.7316816414068449, 2.6313286535979996, -0.6609371876541106, 1.1687995210202855, 1.0322937940761117, -0.12266208992005274, 1.35264415917231, -0.6569032104004473, -1.325436343882467, 0.03518178304520304, 0.9882093647510404, 0.7716022659319737, 0.2571496555762069, 0.9497583254883611, 0.34755083044952106, -0.2608789849073516, 1.6727247611623286, 0.9699480590442013, -0.5146697755100796, 0.1877515295630458, -0.16382196131899163, -0.6291505468485376, -0.3276311214951528, -1.1219800893721616, 0.9243005130469527, 0.34121867776964615, -0.1776353990815943, 0.6764803263134359, -1.0912902239348543, 0.23613255869213673, -0.9206029120136027], \"xaxis\": \"x9\", \"y\": [-0.21276462251127787, 0.5392444209308489, 1.201647243870889, 1.6782766296745564, 1.1780165541193524, 0.40167196181061116, -0.1591374159699852, 0.39767413608763563, 0.8651958256291215, 1.478487857872841, -0.6734933053355409, -0.9164503190359672, -0.1522431081070318, -0.17775723859865142, -0.5784508624076548, -0.8953430846986111, -0.5955412799976927, -1.4996597344022469, -0.7358247995812351, -0.933572443609917, -0.008828766883507387, -0.8164283705009511, 1.273678888538661, -0.8651312409226529, 0.35478150022354593, 0.986399459757734, -0.5352650018171781, -1.3886598301517936, -0.9095518855205877, -0.18025157413060977, -1.1639538469777637, -0.45797392379674257, 0.6729367441748657, -1.8550523081681753, -1.2923975140689834, 0.1464356554680572, -0.9334423032882809, -0.44248786315560623, 1.0671262179776113, 0.33753739416763867, 0.9128835546431392, -0.5900917794231104, -0.3737024267929817, 0.3712684727445248, -0.7557372214105362, 0.843767325377286, -2.206479423111974, 0.4426752009503339, -1.418894646378147, -1.6105792466568054, 0.14046905986929045, -1.7025655506186397, -1.1263018556886557, 0.04343967291843729, -1.2047503941915687, -0.09781015949410614, -0.24368586131596517, 0.6958509742327339, -1.0704795691259144, 0.5620221156749131, 0.9390052445805276, -1.3349060314912693, 0.40321915973170414, 1.6285358959063552, -0.17701723872220992, 0.8234083102866014, 0.9957585721559657, -0.3763413287556481, -1.6265324048745329, -0.621938385545258, -0.465630623615682, 1.526182232958349, 0.3520390029182346, 2.5651656043033713, 0.7960377533994962, 0.32625925238639847, -1.1861624824881056, 0.949283354081687, 0.08425473048695817, -0.7318456749714377, -1.0006911553437978, 0.41625205826679096, -1.0046004868315244, 0.09274029071208498, -1.741066554969545, -0.1488349120028584, 0.06298419279152194, -1.0202004771437285, 0.31668257541722206, -1.9144300423394567, 1.8560064604860345, -0.6905437344649258, -0.020351338723384127, -0.7245034758310543, 1.2620486376354592, -0.15544435172249807, -0.38249834037408337, -0.44288833342145334, -0.37916364819204046, 1.500013795209575], \"yaxis\": \"y9\"}, {\"line\": {\"color\": \"rgba(128, 128, 128, 1.0)\", \"dash\": \"solid\", \"shape\": \"linear\", \"width\": 1.3}, \"marker\": {\"size\": 2, \"symbol\": \"circle\"}, \"mode\": \"markers\", \"name\": \"C\", \"text\": \"\", \"type\": \"scatter\", \"x\": [-0.41705545013634915, -0.48642056858316945, -0.026443392359397484, 0.1978372625783503, 1.4968152023860652, 1.2996001460682738, -1.9367361458578556, -0.7567789330556283, -2.054035669273658, 0.5048997928080652, -1.1112808411952075, 0.5912890910463597, 0.0955475906516338, -0.28622310082696395, 0.11737426814490341, -0.06758176195487915, 0.3241491954622198, -0.5104479126394454, 0.026529123575938545, 1.4972763559326852, 1.8253818450833434, -1.2574190220624064, 0.1257869275628511, 0.016621627579822357, 0.979647443174523, 0.518474140677526, -0.41373982543347276, 0.009111766977325414, 0.7981851789989233, -1.5066373021119543, -0.8145019514506392, 1.2127894892403486, 1.1666091840168742, -0.1826814988975061, 0.2121435888368178, 0.5919460396147409, 0.6706604908690293, -0.1538820807314714, -0.06481604156077372, 0.6865617899199997, 0.5772096001553042, 0.469910962356171, -2.0005706396554475, 0.7472354988856291, -0.6389610051560966, -0.38295815856378096, -0.09249688990779162, 1.6673465664575287, -0.5169802146802591, 0.3229158282844716, -2.2439072734691266, -0.59787255059542, 2.0190019560628656, -0.8827665762111087, 0.1720370484706035, 1.1447792901642073, -2.021110364925016, -0.4431961270162332, 0.6154890464199887, -0.5340413595491634, -1.4300515449852669, -0.4289970586923092, -3.187864606601478, -0.5443854916908588, 1.9027789968231628, 0.028860644801460108, -0.9070719076829377, 2.2604509548717204, -0.4756263042930482, -1.0527349279366778, 1.0989883088287775, 0.8363471991549375, 0.9390577333704273, -0.6821309372267801, -0.040109791076703746, -1.0926766026681485, 0.8810484800262337, 0.13899121632294173, 0.18175429939228152, 0.6641933255515288, -0.29364200182227196, 0.5215667308020342, 0.511801600346848, 0.1323902697067605, -2.1124151258180466, -0.3963021602119647, 1.1669298215227715, 0.7144341554925651, 1.393601613907853, 0.8542543813843058, 1.793693509296129, 1.958951631262988, 1.9793533489183885, 0.5393936516728588, 0.8635557050746643, 0.19647333456875704, -1.3462894052999834, -0.036318884695404764, -0.5437514526982358, -0.8788039924624359], \"xaxis\": \"x10\", \"y\": [-0.21276462251127787, 0.5392444209308489, 1.201647243870889, 1.6782766296745564, 1.1780165541193524, 0.40167196181061116, -0.1591374159699852, 0.39767413608763563, 0.8651958256291215, 1.478487857872841, -0.6734933053355409, -0.9164503190359672, -0.1522431081070318, -0.17775723859865142, -0.5784508624076548, -0.8953430846986111, -0.5955412799976927, -1.4996597344022469, -0.7358247995812351, -0.933572443609917, -0.008828766883507387, -0.8164283705009511, 1.273678888538661, -0.8651312409226529, 0.35478150022354593, 0.986399459757734, -0.5352650018171781, -1.3886598301517936, -0.9095518855205877, -0.18025157413060977, -1.1639538469777637, -0.45797392379674257, 0.6729367441748657, -1.8550523081681753, -1.2923975140689834, 0.1464356554680572, -0.9334423032882809, -0.44248786315560623, 1.0671262179776113, 0.33753739416763867, 0.9128835546431392, -0.5900917794231104, -0.3737024267929817, 0.3712684727445248, -0.7557372214105362, 0.843767325377286, -2.206479423111974, 0.4426752009503339, -1.418894646378147, -1.6105792466568054, 0.14046905986929045, -1.7025655506186397, -1.1263018556886557, 0.04343967291843729, -1.2047503941915687, -0.09781015949410614, -0.24368586131596517, 0.6958509742327339, -1.0704795691259144, 0.5620221156749131, 0.9390052445805276, -1.3349060314912693, 0.40321915973170414, 1.6285358959063552, -0.17701723872220992, 0.8234083102866014, 0.9957585721559657, -0.3763413287556481, -1.6265324048745329, -0.621938385545258, -0.465630623615682, 1.526182232958349, 0.3520390029182346, 2.5651656043033713, 0.7960377533994962, 0.32625925238639847, -1.1861624824881056, 0.949283354081687, 0.08425473048695817, -0.7318456749714377, -1.0006911553437978, 0.41625205826679096, -1.0046004868315244, 0.09274029071208498, -1.741066554969545, -0.1488349120028584, 0.06298419279152194, -1.0202004771437285, 0.31668257541722206, -1.9144300423394567, 1.8560064604860345, -0.6905437344649258, -0.020351338723384127, -0.7245034758310543, 1.2620486376354592, -0.15544435172249807, -0.38249834037408337, -0.44288833342145334, -0.37916364819204046, 1.500013795209575], \"yaxis\": \"y10\"}, {\"histfunc\": \"count\", \"histnorm\": \"\", \"marker\": {\"color\": \"rgba(50, 171, 96, 1.0)\", \"line\": {\"color\": \"#4D5663\", \"width\": 1.3}}, \"name\": \"C\", \"nbinsx\": 10, \"opacity\": 0.8, \"orientation\": \"v\", \"type\": \"histogram\", \"x\": [-0.21276462251127787, 0.5392444209308489, 1.201647243870889, 1.6782766296745564, 1.1780165541193524, 0.40167196181061116, -0.1591374159699852, 0.39767413608763563, 0.8651958256291215, 1.478487857872841, -0.6734933053355409, -0.9164503190359672, -0.1522431081070318, -0.17775723859865142, -0.5784508624076548, -0.8953430846986111, -0.5955412799976927, -1.4996597344022469, -0.7358247995812351, -0.933572443609917, -0.008828766883507387, -0.8164283705009511, 1.273678888538661, -0.8651312409226529, 0.35478150022354593, 0.986399459757734, -0.5352650018171781, -1.3886598301517936, -0.9095518855205877, -0.18025157413060977, -1.1639538469777637, -0.45797392379674257, 0.6729367441748657, -1.8550523081681753, -1.2923975140689834, 0.1464356554680572, -0.9334423032882809, -0.44248786315560623, 1.0671262179776113, 0.33753739416763867, 0.9128835546431392, -0.5900917794231104, -0.3737024267929817, 0.3712684727445248, -0.7557372214105362, 0.843767325377286, -2.206479423111974, 0.4426752009503339, -1.418894646378147, -1.6105792466568054, 0.14046905986929045, -1.7025655506186397, -1.1263018556886557, 0.04343967291843729, -1.2047503941915687, -0.09781015949410614, -0.24368586131596517, 0.6958509742327339, -1.0704795691259144, 0.5620221156749131, 0.9390052445805276, -1.3349060314912693, 0.40321915973170414, 1.6285358959063552, -0.17701723872220992, 0.8234083102866014, 0.9957585721559657, -0.3763413287556481, -1.6265324048745329, -0.621938385545258, -0.465630623615682, 1.526182232958349, 0.3520390029182346, 2.5651656043033713, 0.7960377533994962, 0.32625925238639847, -1.1861624824881056, 0.949283354081687, 0.08425473048695817, -0.7318456749714377, -1.0006911553437978, 0.41625205826679096, -1.0046004868315244, 0.09274029071208498, -1.741066554969545, -0.1488349120028584, 0.06298419279152194, -1.0202004771437285, 0.31668257541722206, -1.9144300423394567, 1.8560064604860345, -0.6905437344649258, -0.020351338723384127, -0.7245034758310543, 1.2620486376354592, -0.15544435172249807, -0.38249834037408337, -0.44288833342145334, -0.37916364819204046, 1.500013795209575], \"xaxis\": \"x11\", \"yaxis\": \"y11\"}, {\"line\": {\"color\": \"rgba(128, 128, 128, 1.0)\", \"dash\": \"solid\", \"shape\": \"linear\", \"width\": 1.3}, \"marker\": {\"size\": 2, \"symbol\": \"circle\"}, \"mode\": \"markers\", \"name\": \"C\", \"text\": \"\", \"type\": \"scatter\", \"x\": [1.2646382812754842, -0.8971743142451027, -2.0754884569254672, 0.24979143146563057, 0.7113633997792028, 1.278216640237135, -0.49685845418634067, 1.2344611106270564, 0.36195754457371004, 0.6043429263082021, 1.1059302402322535, -0.6515379521018477, 0.3646331090549264, -0.9845536691002664, 1.4409263079086052, 0.8816667955217995, -0.7853779284986235, -0.7978616503508753, -1.0828660240395294, 0.10487744298562451, 0.19217934901563238, -0.44483118359065044, 0.081992768065037, 0.717726912938894, -0.4840805058901615, 0.9655267003749074, -0.15515680869122653, 0.18765636261666088, 1.1626969975525205, 1.1221860512686315, -0.7262998465735776, 0.5769953510599819, -0.34292887593453836, -0.7177335259504108, 0.4645526729614544, 2.2636115244007744, 0.6788635025563274, -1.3586866410113239, 1.402105490753138, -0.04773722688359785, -0.05201898018951273, 0.2775465835054213, -2.5368187629127665, 0.7489922275026335, 0.4366105803867375, -0.22742515624588822, 0.8389663215980219, 0.8119997599104144, 1.5599969289424327, 1.1960493070861002, 0.5532823184545692, 0.5429127445526751, -0.9216892467648115, -0.7124766367267783, -0.5469063510503084, 1.2104299366607287, 0.06529088469119605, -0.26731497693372736, 0.18006682091523982, 1.5858814002047847, 0.028250097720445115, 1.3266255468110029, 1.3247055522245879, 0.016966380125314793, -0.8959419956364261, 0.878890833696069, -0.01258411681511281, -0.0795240148058931, 0.09205341634269462, 0.8743683456662174, 1.2651793568520557, -0.01223560757394819, -1.1669543697177909, -1.0420826567320396, 2.063838270434295, 0.0968244764073173, -0.14942699098437895, -1.3822629131066702, 0.15884855391204272, 0.6019636707340277, 1.2663377202008308, -1.6319526838234355, -0.08569233667719377, -0.19194039719829523, 0.6089137382785959, 0.21037399045564947, 1.1878195115705752, 0.10049673180139712, -0.6091707263338128, -1.0208458347127198, -0.7948310997841892, 0.8263015448397337, 0.6008696554415681, -2.853267844849281, -0.953772467478873, -0.3422257288319156, 0.5312134043166221, 0.15022922890648535, 0.2815641965610305, -0.2403819541347331], \"xaxis\": \"x12\", \"y\": [-0.21276462251127787, 0.5392444209308489, 1.201647243870889, 1.6782766296745564, 1.1780165541193524, 0.40167196181061116, -0.1591374159699852, 0.39767413608763563, 0.8651958256291215, 1.478487857872841, -0.6734933053355409, -0.9164503190359672, -0.1522431081070318, -0.17775723859865142, -0.5784508624076548, -0.8953430846986111, -0.5955412799976927, -1.4996597344022469, -0.7358247995812351, -0.933572443609917, -0.008828766883507387, -0.8164283705009511, 1.273678888538661, -0.8651312409226529, 0.35478150022354593, 0.986399459757734, -0.5352650018171781, -1.3886598301517936, -0.9095518855205877, -0.18025157413060977, -1.1639538469777637, -0.45797392379674257, 0.6729367441748657, -1.8550523081681753, -1.2923975140689834, 0.1464356554680572, -0.9334423032882809, -0.44248786315560623, 1.0671262179776113, 0.33753739416763867, 0.9128835546431392, -0.5900917794231104, -0.3737024267929817, 0.3712684727445248, -0.7557372214105362, 0.843767325377286, -2.206479423111974, 0.4426752009503339, -1.418894646378147, -1.6105792466568054, 0.14046905986929045, -1.7025655506186397, -1.1263018556886557, 0.04343967291843729, -1.2047503941915687, -0.09781015949410614, -0.24368586131596517, 0.6958509742327339, -1.0704795691259144, 0.5620221156749131, 0.9390052445805276, -1.3349060314912693, 0.40321915973170414, 1.6285358959063552, -0.17701723872220992, 0.8234083102866014, 0.9957585721559657, -0.3763413287556481, -1.6265324048745329, -0.621938385545258, -0.465630623615682, 1.526182232958349, 0.3520390029182346, 2.5651656043033713, 0.7960377533994962, 0.32625925238639847, -1.1861624824881056, 0.949283354081687, 0.08425473048695817, -0.7318456749714377, -1.0006911553437978, 0.41625205826679096, -1.0046004868315244, 0.09274029071208498, -1.741066554969545, -0.1488349120028584, 0.06298419279152194, -1.0202004771437285, 0.31668257541722206, -1.9144300423394567, 1.8560064604860345, -0.6905437344649258, -0.020351338723384127, -0.7245034758310543, 1.2620486376354592, -0.15544435172249807, -0.38249834037408337, -0.44288833342145334, -0.37916364819204046, 1.500013795209575], \"yaxis\": \"y12\"}, {\"line\": {\"color\": \"rgba(128, 128, 128, 1.0)\", \"dash\": \"solid\", \"shape\": \"linear\", \"width\": 1.3}, \"marker\": {\"size\": 2, \"symbol\": \"circle\"}, \"mode\": \"markers\", \"name\": \"D\", \"text\": \"\", \"type\": \"scatter\", \"x\": [-1.3743721584499824, 0.01000404246298731, 1.060073616887478, 0.11441049376808408, -0.1254638614812266, -0.9070069778849268, 0.052704947052634725, -0.018615509263272198, 0.3426791424383957, 0.7156411612038974, 0.10320678514670655, 1.5303326705609726, -0.21191099006121578, -2.020852407942947, 0.22310319700464062, 0.5054873846397421, 0.4026865599915081, -1.4536017289362706, 0.7950717634128648, -0.23111559189028452, 0.7663819343502544, -0.6235760258594119, -0.39259261868434986, 0.12216190113995658, -1.6096224506550463, 0.5639253855756436, -1.0847543814378535, 1.0885717287652497, -0.591208567689423, -1.6938094395037835, 0.018569790345541275, 0.8539549753616196, 0.806290563715313, -1.6254073372348345, 0.9733772798627246, 1.1342632149777827, 0.6285286305821992, 0.8898153149689759, 0.43696724130491166, -0.11330861472454354, -0.30502763648952747, 0.23913144901280264, -0.5265302051771779, -2.428775933644073, 1.2029442849361394, -2.123707409478142, -1.391993761824126, -0.6561453328335073, -1.0638196040870558, -1.034440135369431, 1.4545524807375916, 0.9664194515222728, 1.3514860245657558, 0.641805705752012, 0.2250786303196695, 0.5551821716123263, -0.3022131037940552, 0.1957505960294113, -0.09000988974301995, 0.2030785749813345, 0.20537268885063817, 2.007683712209121, -1.4843400652481071, 1.600331889395343, -2.658926199502142, -0.7475374003049038, 0.059354593787525535, -2.3391273652213593, 0.14801385832510175, 0.7316816414068449, 2.6313286535979996, -0.6609371876541106, 1.1687995210202855, 1.0322937940761117, -0.12266208992005274, 1.35264415917231, -0.6569032104004473, -1.325436343882467, 0.03518178304520304, 0.9882093647510404, 0.7716022659319737, 0.2571496555762069, 0.9497583254883611, 0.34755083044952106, -0.2608789849073516, 1.6727247611623286, 0.9699480590442013, -0.5146697755100796, 0.1877515295630458, -0.16382196131899163, -0.6291505468485376, -0.3276311214951528, -1.1219800893721616, 0.9243005130469527, 0.34121867776964615, -0.1776353990815943, 0.6764803263134359, -1.0912902239348543, 0.23613255869213673, -0.9206029120136027], \"xaxis\": \"x13\", \"y\": [1.2646382812754842, -0.8971743142451027, -2.0754884569254672, 0.24979143146563057, 0.7113633997792028, 1.278216640237135, -0.49685845418634067, 1.2344611106270564, 0.36195754457371004, 0.6043429263082021, 1.1059302402322535, -0.6515379521018477, 0.3646331090549264, -0.9845536691002664, 1.4409263079086052, 0.8816667955217995, -0.7853779284986235, -0.7978616503508753, -1.0828660240395294, 0.10487744298562451, 0.19217934901563238, -0.44483118359065044, 0.081992768065037, 0.717726912938894, -0.4840805058901615, 0.9655267003749074, -0.15515680869122653, 0.18765636261666088, 1.1626969975525205, 1.1221860512686315, -0.7262998465735776, 0.5769953510599819, -0.34292887593453836, -0.7177335259504108, 0.4645526729614544, 2.2636115244007744, 0.6788635025563274, -1.3586866410113239, 1.402105490753138, -0.04773722688359785, -0.05201898018951273, 0.2775465835054213, -2.5368187629127665, 0.7489922275026335, 0.4366105803867375, -0.22742515624588822, 0.8389663215980219, 0.8119997599104144, 1.5599969289424327, 1.1960493070861002, 0.5532823184545692, 0.5429127445526751, -0.9216892467648115, -0.7124766367267783, -0.5469063510503084, 1.2104299366607287, 0.06529088469119605, -0.26731497693372736, 0.18006682091523982, 1.5858814002047847, 0.028250097720445115, 1.3266255468110029, 1.3247055522245879, 0.016966380125314793, -0.8959419956364261, 0.878890833696069, -0.01258411681511281, -0.0795240148058931, 0.09205341634269462, 0.8743683456662174, 1.2651793568520557, -0.01223560757394819, -1.1669543697177909, -1.0420826567320396, 2.063838270434295, 0.0968244764073173, -0.14942699098437895, -1.3822629131066702, 0.15884855391204272, 0.6019636707340277, 1.2663377202008308, -1.6319526838234355, -0.08569233667719377, -0.19194039719829523, 0.6089137382785959, 0.21037399045564947, 1.1878195115705752, 0.10049673180139712, -0.6091707263338128, -1.0208458347127198, -0.7948310997841892, 0.8263015448397337, 0.6008696554415681, -2.853267844849281, -0.953772467478873, -0.3422257288319156, 0.5312134043166221, 0.15022922890648535, 0.2815641965610305, -0.2403819541347331], \"yaxis\": \"y13\"}, {\"line\": {\"color\": \"rgba(128, 128, 128, 1.0)\", \"dash\": \"solid\", \"shape\": \"linear\", \"width\": 1.3}, \"marker\": {\"size\": 2, \"symbol\": \"circle\"}, \"mode\": \"markers\", \"name\": \"D\", \"text\": \"\", \"type\": \"scatter\", \"x\": [-0.41705545013634915, -0.48642056858316945, -0.026443392359397484, 0.1978372625783503, 1.4968152023860652, 1.2996001460682738, -1.9367361458578556, -0.7567789330556283, -2.054035669273658, 0.5048997928080652, -1.1112808411952075, 0.5912890910463597, 0.0955475906516338, -0.28622310082696395, 0.11737426814490341, -0.06758176195487915, 0.3241491954622198, -0.5104479126394454, 0.026529123575938545, 1.4972763559326852, 1.8253818450833434, -1.2574190220624064, 0.1257869275628511, 0.016621627579822357, 0.979647443174523, 0.518474140677526, -0.41373982543347276, 0.009111766977325414, 0.7981851789989233, -1.5066373021119543, -0.8145019514506392, 1.2127894892403486, 1.1666091840168742, -0.1826814988975061, 0.2121435888368178, 0.5919460396147409, 0.6706604908690293, -0.1538820807314714, -0.06481604156077372, 0.6865617899199997, 0.5772096001553042, 0.469910962356171, -2.0005706396554475, 0.7472354988856291, -0.6389610051560966, -0.38295815856378096, -0.09249688990779162, 1.6673465664575287, -0.5169802146802591, 0.3229158282844716, -2.2439072734691266, -0.59787255059542, 2.0190019560628656, -0.8827665762111087, 0.1720370484706035, 1.1447792901642073, -2.021110364925016, -0.4431961270162332, 0.6154890464199887, -0.5340413595491634, -1.4300515449852669, -0.4289970586923092, -3.187864606601478, -0.5443854916908588, 1.9027789968231628, 0.028860644801460108, -0.9070719076829377, 2.2604509548717204, -0.4756263042930482, -1.0527349279366778, 1.0989883088287775, 0.8363471991549375, 0.9390577333704273, -0.6821309372267801, -0.040109791076703746, -1.0926766026681485, 0.8810484800262337, 0.13899121632294173, 0.18175429939228152, 0.6641933255515288, -0.29364200182227196, 0.5215667308020342, 0.511801600346848, 0.1323902697067605, -2.1124151258180466, -0.3963021602119647, 1.1669298215227715, 0.7144341554925651, 1.393601613907853, 0.8542543813843058, 1.793693509296129, 1.958951631262988, 1.9793533489183885, 0.5393936516728588, 0.8635557050746643, 0.19647333456875704, -1.3462894052999834, -0.036318884695404764, -0.5437514526982358, -0.8788039924624359], \"xaxis\": \"x14\", \"y\": [1.2646382812754842, -0.8971743142451027, -2.0754884569254672, 0.24979143146563057, 0.7113633997792028, 1.278216640237135, -0.49685845418634067, 1.2344611106270564, 0.36195754457371004, 0.6043429263082021, 1.1059302402322535, -0.6515379521018477, 0.3646331090549264, -0.9845536691002664, 1.4409263079086052, 0.8816667955217995, -0.7853779284986235, -0.7978616503508753, -1.0828660240395294, 0.10487744298562451, 0.19217934901563238, -0.44483118359065044, 0.081992768065037, 0.717726912938894, -0.4840805058901615, 0.9655267003749074, -0.15515680869122653, 0.18765636261666088, 1.1626969975525205, 1.1221860512686315, -0.7262998465735776, 0.5769953510599819, -0.34292887593453836, -0.7177335259504108, 0.4645526729614544, 2.2636115244007744, 0.6788635025563274, -1.3586866410113239, 1.402105490753138, -0.04773722688359785, -0.05201898018951273, 0.2775465835054213, -2.5368187629127665, 0.7489922275026335, 0.4366105803867375, -0.22742515624588822, 0.8389663215980219, 0.8119997599104144, 1.5599969289424327, 1.1960493070861002, 0.5532823184545692, 0.5429127445526751, -0.9216892467648115, -0.7124766367267783, -0.5469063510503084, 1.2104299366607287, 0.06529088469119605, -0.26731497693372736, 0.18006682091523982, 1.5858814002047847, 0.028250097720445115, 1.3266255468110029, 1.3247055522245879, 0.016966380125314793, -0.8959419956364261, 0.878890833696069, -0.01258411681511281, -0.0795240148058931, 0.09205341634269462, 0.8743683456662174, 1.2651793568520557, -0.01223560757394819, -1.1669543697177909, -1.0420826567320396, 2.063838270434295, 0.0968244764073173, -0.14942699098437895, -1.3822629131066702, 0.15884855391204272, 0.6019636707340277, 1.2663377202008308, -1.6319526838234355, -0.08569233667719377, -0.19194039719829523, 0.6089137382785959, 0.21037399045564947, 1.1878195115705752, 0.10049673180139712, -0.6091707263338128, -1.0208458347127198, -0.7948310997841892, 0.8263015448397337, 0.6008696554415681, -2.853267844849281, -0.953772467478873, -0.3422257288319156, 0.5312134043166221, 0.15022922890648535, 0.2815641965610305, -0.2403819541347331], \"yaxis\": \"y14\"}, {\"line\": {\"color\": \"rgba(128, 128, 128, 1.0)\", \"dash\": \"solid\", \"shape\": \"linear\", \"width\": 1.3}, \"marker\": {\"size\": 2, \"symbol\": \"circle\"}, \"mode\": \"markers\", \"name\": \"D\", \"text\": \"\", \"type\": \"scatter\", \"x\": [-0.21276462251127787, 0.5392444209308489, 1.201647243870889, 1.6782766296745564, 1.1780165541193524, 0.40167196181061116, -0.1591374159699852, 0.39767413608763563, 0.8651958256291215, 1.478487857872841, -0.6734933053355409, -0.9164503190359672, -0.1522431081070318, -0.17775723859865142, -0.5784508624076548, -0.8953430846986111, -0.5955412799976927, -1.4996597344022469, -0.7358247995812351, -0.933572443609917, -0.008828766883507387, -0.8164283705009511, 1.273678888538661, -0.8651312409226529, 0.35478150022354593, 0.986399459757734, -0.5352650018171781, -1.3886598301517936, -0.9095518855205877, -0.18025157413060977, -1.1639538469777637, -0.45797392379674257, 0.6729367441748657, -1.8550523081681753, -1.2923975140689834, 0.1464356554680572, -0.9334423032882809, -0.44248786315560623, 1.0671262179776113, 0.33753739416763867, 0.9128835546431392, -0.5900917794231104, -0.3737024267929817, 0.3712684727445248, -0.7557372214105362, 0.843767325377286, -2.206479423111974, 0.4426752009503339, -1.418894646378147, -1.6105792466568054, 0.14046905986929045, -1.7025655506186397, -1.1263018556886557, 0.04343967291843729, -1.2047503941915687, -0.09781015949410614, -0.24368586131596517, 0.6958509742327339, -1.0704795691259144, 0.5620221156749131, 0.9390052445805276, -1.3349060314912693, 0.40321915973170414, 1.6285358959063552, -0.17701723872220992, 0.8234083102866014, 0.9957585721559657, -0.3763413287556481, -1.6265324048745329, -0.621938385545258, -0.465630623615682, 1.526182232958349, 0.3520390029182346, 2.5651656043033713, 0.7960377533994962, 0.32625925238639847, -1.1861624824881056, 0.949283354081687, 0.08425473048695817, -0.7318456749714377, -1.0006911553437978, 0.41625205826679096, -1.0046004868315244, 0.09274029071208498, -1.741066554969545, -0.1488349120028584, 0.06298419279152194, -1.0202004771437285, 0.31668257541722206, -1.9144300423394567, 1.8560064604860345, -0.6905437344649258, -0.020351338723384127, -0.7245034758310543, 1.2620486376354592, -0.15544435172249807, -0.38249834037408337, -0.44288833342145334, -0.37916364819204046, 1.500013795209575], \"xaxis\": \"x15\", \"y\": [1.2646382812754842, -0.8971743142451027, -2.0754884569254672, 0.24979143146563057, 0.7113633997792028, 1.278216640237135, -0.49685845418634067, 1.2344611106270564, 0.36195754457371004, 0.6043429263082021, 1.1059302402322535, -0.6515379521018477, 0.3646331090549264, -0.9845536691002664, 1.4409263079086052, 0.8816667955217995, -0.7853779284986235, -0.7978616503508753, -1.0828660240395294, 0.10487744298562451, 0.19217934901563238, -0.44483118359065044, 0.081992768065037, 0.717726912938894, -0.4840805058901615, 0.9655267003749074, -0.15515680869122653, 0.18765636261666088, 1.1626969975525205, 1.1221860512686315, -0.7262998465735776, 0.5769953510599819, -0.34292887593453836, -0.7177335259504108, 0.4645526729614544, 2.2636115244007744, 0.6788635025563274, -1.3586866410113239, 1.402105490753138, -0.04773722688359785, -0.05201898018951273, 0.2775465835054213, -2.5368187629127665, 0.7489922275026335, 0.4366105803867375, -0.22742515624588822, 0.8389663215980219, 0.8119997599104144, 1.5599969289424327, 1.1960493070861002, 0.5532823184545692, 0.5429127445526751, -0.9216892467648115, -0.7124766367267783, -0.5469063510503084, 1.2104299366607287, 0.06529088469119605, -0.26731497693372736, 0.18006682091523982, 1.5858814002047847, 0.028250097720445115, 1.3266255468110029, 1.3247055522245879, 0.016966380125314793, -0.8959419956364261, 0.878890833696069, -0.01258411681511281, -0.0795240148058931, 0.09205341634269462, 0.8743683456662174, 1.2651793568520557, -0.01223560757394819, -1.1669543697177909, -1.0420826567320396, 2.063838270434295, 0.0968244764073173, -0.14942699098437895, -1.3822629131066702, 0.15884855391204272, 0.6019636707340277, 1.2663377202008308, -1.6319526838234355, -0.08569233667719377, -0.19194039719829523, 0.6089137382785959, 0.21037399045564947, 1.1878195115705752, 0.10049673180139712, -0.6091707263338128, -1.0208458347127198, -0.7948310997841892, 0.8263015448397337, 0.6008696554415681, -2.853267844849281, -0.953772467478873, -0.3422257288319156, 0.5312134043166221, 0.15022922890648535, 0.2815641965610305, -0.2403819541347331], \"yaxis\": \"y15\"}, {\"histfunc\": \"count\", \"histnorm\": \"\", \"marker\": {\"color\": \"rgba(128, 0, 128, 1.0)\", \"line\": {\"color\": \"#4D5663\", \"width\": 1.3}}, \"name\": \"D\", \"nbinsx\": 10, \"opacity\": 0.8, \"orientation\": \"v\", \"type\": \"histogram\", \"x\": [1.2646382812754842, -0.8971743142451027, -2.0754884569254672, 0.24979143146563057, 0.7113633997792028, 1.278216640237135, -0.49685845418634067, 1.2344611106270564, 0.36195754457371004, 0.6043429263082021, 1.1059302402322535, -0.6515379521018477, 0.3646331090549264, -0.9845536691002664, 1.4409263079086052, 0.8816667955217995, -0.7853779284986235, -0.7978616503508753, -1.0828660240395294, 0.10487744298562451, 0.19217934901563238, -0.44483118359065044, 0.081992768065037, 0.717726912938894, -0.4840805058901615, 0.9655267003749074, -0.15515680869122653, 0.18765636261666088, 1.1626969975525205, 1.1221860512686315, -0.7262998465735776, 0.5769953510599819, -0.34292887593453836, -0.7177335259504108, 0.4645526729614544, 2.2636115244007744, 0.6788635025563274, -1.3586866410113239, 1.402105490753138, -0.04773722688359785, -0.05201898018951273, 0.2775465835054213, -2.5368187629127665, 0.7489922275026335, 0.4366105803867375, -0.22742515624588822, 0.8389663215980219, 0.8119997599104144, 1.5599969289424327, 1.1960493070861002, 0.5532823184545692, 0.5429127445526751, -0.9216892467648115, -0.7124766367267783, -0.5469063510503084, 1.2104299366607287, 0.06529088469119605, -0.26731497693372736, 0.18006682091523982, 1.5858814002047847, 0.028250097720445115, 1.3266255468110029, 1.3247055522245879, 0.016966380125314793, -0.8959419956364261, 0.878890833696069, -0.01258411681511281, -0.0795240148058931, 0.09205341634269462, 0.8743683456662174, 1.2651793568520557, -0.01223560757394819, -1.1669543697177909, -1.0420826567320396, 2.063838270434295, 0.0968244764073173, -0.14942699098437895, -1.3822629131066702, 0.15884855391204272, 0.6019636707340277, 1.2663377202008308, -1.6319526838234355, -0.08569233667719377, -0.19194039719829523, 0.6089137382785959, 0.21037399045564947, 1.1878195115705752, 0.10049673180139712, -0.6091707263338128, -1.0208458347127198, -0.7948310997841892, 0.8263015448397337, 0.6008696554415681, -2.853267844849281, -0.953772467478873, -0.3422257288319156, 0.5312134043166221, 0.15022922890648535, 0.2815641965610305, -0.2403819541347331], \"xaxis\": \"x16\", \"yaxis\": \"y16\"}],                        {\"bargap\": 0.02, \"legend\": {\"bgcolor\": \"#F5F6F9\", \"font\": {\"color\": \"#4D5663\"}}, \"paper_bgcolor\": \"#F5F6F9\", \"plot_bgcolor\": \"#F5F6F9\", \"showlegend\": false, \"template\": {\"data\": {\"bar\": [{\"error_x\": {\"color\": \"#2a3f5f\"}, \"error_y\": {\"color\": \"#2a3f5f\"}, \"marker\": {\"line\": {\"color\": \"#E5ECF6\", \"width\": 0.5}}, \"type\": \"bar\"}], \"barpolar\": [{\"marker\": {\"line\": {\"color\": \"#E5ECF6\", \"width\": 0.5}}, \"type\": \"barpolar\"}], \"carpet\": [{\"aaxis\": {\"endlinecolor\": \"#2a3f5f\", \"gridcolor\": \"white\", \"linecolor\": \"white\", \"minorgridcolor\": \"white\", \"startlinecolor\": \"#2a3f5f\"}, \"baxis\": {\"endlinecolor\": \"#2a3f5f\", \"gridcolor\": \"white\", \"linecolor\": \"white\", \"minorgridcolor\": \"white\", \"startlinecolor\": \"#2a3f5f\"}, \"type\": \"carpet\"}], \"choropleth\": [{\"colorbar\": {\"outlinewidth\": 0, \"ticks\": \"\"}, \"type\": \"choropleth\"}], \"contour\": [{\"colorbar\": {\"outlinewidth\": 0, \"ticks\": \"\"}, \"colorscale\": [[0.0, \"#0d0887\"], [0.1111111111111111, \"#46039f\"], [0.2222222222222222, \"#7201a8\"], [0.3333333333333333, \"#9c179e\"], [0.4444444444444444, \"#bd3786\"], [0.5555555555555556, \"#d8576b\"], [0.6666666666666666, \"#ed7953\"], [0.7777777777777778, \"#fb9f3a\"], [0.8888888888888888, \"#fdca26\"], [1.0, \"#f0f921\"]], \"type\": \"contour\"}], \"contourcarpet\": [{\"colorbar\": {\"outlinewidth\": 0, \"ticks\": \"\"}, \"type\": \"contourcarpet\"}], \"heatmap\": [{\"colorbar\": {\"outlinewidth\": 0, \"ticks\": \"\"}, \"colorscale\": [[0.0, \"#0d0887\"], [0.1111111111111111, \"#46039f\"], [0.2222222222222222, \"#7201a8\"], [0.3333333333333333, \"#9c179e\"], [0.4444444444444444, \"#bd3786\"], [0.5555555555555556, \"#d8576b\"], [0.6666666666666666, \"#ed7953\"], [0.7777777777777778, \"#fb9f3a\"], [0.8888888888888888, \"#fdca26\"], [1.0, \"#f0f921\"]], \"type\": \"heatmap\"}], \"heatmapgl\": [{\"colorbar\": {\"outlinewidth\": 0, \"ticks\": \"\"}, \"colorscale\": [[0.0, \"#0d0887\"], [0.1111111111111111, \"#46039f\"], [0.2222222222222222, \"#7201a8\"], [0.3333333333333333, \"#9c179e\"], [0.4444444444444444, \"#bd3786\"], [0.5555555555555556, \"#d8576b\"], [0.6666666666666666, \"#ed7953\"], [0.7777777777777778, \"#fb9f3a\"], [0.8888888888888888, \"#fdca26\"], [1.0, \"#f0f921\"]], \"type\": \"heatmapgl\"}], \"histogram\": [{\"marker\": {\"colorbar\": {\"outlinewidth\": 0, \"ticks\": \"\"}}, \"type\": \"histogram\"}], \"histogram2d\": [{\"colorbar\": {\"outlinewidth\": 0, \"ticks\": \"\"}, \"colorscale\": [[0.0, \"#0d0887\"], [0.1111111111111111, \"#46039f\"], [0.2222222222222222, \"#7201a8\"], [0.3333333333333333, \"#9c179e\"], [0.4444444444444444, \"#bd3786\"], [0.5555555555555556, \"#d8576b\"], [0.6666666666666666, \"#ed7953\"], [0.7777777777777778, \"#fb9f3a\"], [0.8888888888888888, \"#fdca26\"], [1.0, \"#f0f921\"]], \"type\": \"histogram2d\"}], \"histogram2dcontour\": [{\"colorbar\": {\"outlinewidth\": 0, \"ticks\": \"\"}, \"colorscale\": [[0.0, \"#0d0887\"], [0.1111111111111111, \"#46039f\"], [0.2222222222222222, \"#7201a8\"], [0.3333333333333333, \"#9c179e\"], [0.4444444444444444, \"#bd3786\"], [0.5555555555555556, \"#d8576b\"], [0.6666666666666666, \"#ed7953\"], [0.7777777777777778, \"#fb9f3a\"], [0.8888888888888888, \"#fdca26\"], [1.0, \"#f0f921\"]], \"type\": \"histogram2dcontour\"}], \"mesh3d\": [{\"colorbar\": {\"outlinewidth\": 0, \"ticks\": \"\"}, \"type\": \"mesh3d\"}], \"parcoords\": [{\"line\": {\"colorbar\": {\"outlinewidth\": 0, \"ticks\": \"\"}}, \"type\": \"parcoords\"}], \"pie\": [{\"automargin\": true, \"type\": \"pie\"}], \"scatter\": [{\"marker\": {\"colorbar\": {\"outlinewidth\": 0, \"ticks\": \"\"}}, \"type\": \"scatter\"}], \"scatter3d\": [{\"line\": {\"colorbar\": {\"outlinewidth\": 0, \"ticks\": \"\"}}, \"marker\": {\"colorbar\": {\"outlinewidth\": 0, \"ticks\": \"\"}}, \"type\": \"scatter3d\"}], \"scattercarpet\": [{\"marker\": {\"colorbar\": {\"outlinewidth\": 0, \"ticks\": \"\"}}, \"type\": \"scattercarpet\"}], \"scattergeo\": [{\"marker\": {\"colorbar\": {\"outlinewidth\": 0, \"ticks\": \"\"}}, \"type\": \"scattergeo\"}], \"scattergl\": [{\"marker\": {\"colorbar\": {\"outlinewidth\": 0, \"ticks\": \"\"}}, \"type\": \"scattergl\"}], \"scattermapbox\": [{\"marker\": {\"colorbar\": {\"outlinewidth\": 0, \"ticks\": \"\"}}, \"type\": \"scattermapbox\"}], \"scatterpolar\": [{\"marker\": {\"colorbar\": {\"outlinewidth\": 0, \"ticks\": \"\"}}, \"type\": \"scatterpolar\"}], \"scatterpolargl\": [{\"marker\": {\"colorbar\": {\"outlinewidth\": 0, \"ticks\": \"\"}}, \"type\": \"scatterpolargl\"}], \"scatterternary\": [{\"marker\": {\"colorbar\": {\"outlinewidth\": 0, \"ticks\": \"\"}}, \"type\": \"scatterternary\"}], \"surface\": [{\"colorbar\": {\"outlinewidth\": 0, \"ticks\": \"\"}, \"colorscale\": [[0.0, \"#0d0887\"], [0.1111111111111111, \"#46039f\"], [0.2222222222222222, \"#7201a8\"], [0.3333333333333333, \"#9c179e\"], [0.4444444444444444, \"#bd3786\"], [0.5555555555555556, \"#d8576b\"], [0.6666666666666666, \"#ed7953\"], [0.7777777777777778, \"#fb9f3a\"], [0.8888888888888888, \"#fdca26\"], [1.0, \"#f0f921\"]], \"type\": \"surface\"}], \"table\": [{\"cells\": {\"fill\": {\"color\": \"#EBF0F8\"}, \"line\": {\"color\": \"white\"}}, \"header\": {\"fill\": {\"color\": \"#C8D4E3\"}, \"line\": {\"color\": \"white\"}}, \"type\": \"table\"}]}, \"layout\": {\"annotationdefaults\": {\"arrowcolor\": \"#2a3f5f\", \"arrowhead\": 0, \"arrowwidth\": 1}, \"autotypenumbers\": \"strict\", \"coloraxis\": {\"colorbar\": {\"outlinewidth\": 0, \"ticks\": \"\"}}, \"colorscale\": {\"diverging\": [[0, \"#8e0152\"], [0.1, \"#c51b7d\"], [0.2, \"#de77ae\"], [0.3, \"#f1b6da\"], [0.4, \"#fde0ef\"], [0.5, \"#f7f7f7\"], [0.6, \"#e6f5d0\"], [0.7, \"#b8e186\"], [0.8, \"#7fbc41\"], [0.9, \"#4d9221\"], [1, \"#276419\"]], \"sequential\": [[0.0, \"#0d0887\"], [0.1111111111111111, \"#46039f\"], [0.2222222222222222, \"#7201a8\"], [0.3333333333333333, \"#9c179e\"], [0.4444444444444444, \"#bd3786\"], [0.5555555555555556, \"#d8576b\"], [0.6666666666666666, \"#ed7953\"], [0.7777777777777778, \"#fb9f3a\"], [0.8888888888888888, \"#fdca26\"], [1.0, \"#f0f921\"]], \"sequentialminus\": [[0.0, \"#0d0887\"], [0.1111111111111111, \"#46039f\"], [0.2222222222222222, \"#7201a8\"], [0.3333333333333333, \"#9c179e\"], [0.4444444444444444, \"#bd3786\"], [0.5555555555555556, \"#d8576b\"], [0.6666666666666666, \"#ed7953\"], [0.7777777777777778, \"#fb9f3a\"], [0.8888888888888888, \"#fdca26\"], [1.0, \"#f0f921\"]]}, \"colorway\": [\"#636efa\", \"#EF553B\", \"#00cc96\", \"#ab63fa\", \"#FFA15A\", \"#19d3f3\", \"#FF6692\", \"#B6E880\", \"#FF97FF\", \"#FECB52\"], \"font\": {\"color\": \"#2a3f5f\"}, \"geo\": {\"bgcolor\": \"white\", \"lakecolor\": \"white\", \"landcolor\": \"#E5ECF6\", \"showlakes\": true, \"showland\": true, \"subunitcolor\": \"white\"}, \"hoverlabel\": {\"align\": \"left\"}, \"hovermode\": \"closest\", \"mapbox\": {\"style\": \"light\"}, \"paper_bgcolor\": \"white\", \"plot_bgcolor\": \"#E5ECF6\", \"polar\": {\"angularaxis\": {\"gridcolor\": \"white\", \"linecolor\": \"white\", \"ticks\": \"\"}, \"bgcolor\": \"#E5ECF6\", \"radialaxis\": {\"gridcolor\": \"white\", \"linecolor\": \"white\", \"ticks\": \"\"}}, \"scene\": {\"xaxis\": {\"backgroundcolor\": \"#E5ECF6\", \"gridcolor\": \"white\", \"gridwidth\": 2, \"linecolor\": \"white\", \"showbackground\": true, \"ticks\": \"\", \"zerolinecolor\": \"white\"}, \"yaxis\": {\"backgroundcolor\": \"#E5ECF6\", \"gridcolor\": \"white\", \"gridwidth\": 2, \"linecolor\": \"white\", \"showbackground\": true, \"ticks\": \"\", \"zerolinecolor\": \"white\"}, \"zaxis\": {\"backgroundcolor\": \"#E5ECF6\", \"gridcolor\": \"white\", \"gridwidth\": 2, \"linecolor\": \"white\", \"showbackground\": true, \"ticks\": \"\", \"zerolinecolor\": \"white\"}}, \"shapedefaults\": {\"line\": {\"color\": \"#2a3f5f\"}}, \"ternary\": {\"aaxis\": {\"gridcolor\": \"white\", \"linecolor\": \"white\", \"ticks\": \"\"}, \"baxis\": {\"gridcolor\": \"white\", \"linecolor\": \"white\", \"ticks\": \"\"}, \"bgcolor\": \"#E5ECF6\", \"caxis\": {\"gridcolor\": \"white\", \"linecolor\": \"white\", \"ticks\": \"\"}}, \"title\": {\"x\": 0.05}, \"xaxis\": {\"automargin\": true, \"gridcolor\": \"white\", \"linecolor\": \"white\", \"ticks\": \"\", \"title\": {\"standoff\": 15}, \"zerolinecolor\": \"white\", \"zerolinewidth\": 2}, \"yaxis\": {\"automargin\": true, \"gridcolor\": \"white\", \"linecolor\": \"white\", \"ticks\": \"\", \"title\": {\"standoff\": 15}, \"zerolinecolor\": \"white\", \"zerolinewidth\": 2}}}, \"title\": {\"font\": {\"color\": \"#4D5663\"}}, \"xaxis\": {\"anchor\": \"y\", \"domain\": [0.0, 0.2125], \"gridcolor\": \"#E1E5ED\", \"showgrid\": false, \"tickfont\": {\"color\": \"#4D5663\"}, \"title\": {\"font\": {\"color\": \"#4D5663\"}, \"text\": \"\"}, \"zerolinecolor\": \"#E1E5ED\"}, \"xaxis10\": {\"anchor\": \"y10\", \"domain\": [0.2625, 0.475], \"gridcolor\": \"#E1E5ED\", \"showgrid\": false, \"tickfont\": {\"color\": \"#4D5663\"}, \"title\": {\"font\": {\"color\": \"#4D5663\"}, \"text\": \"\"}, \"zerolinecolor\": \"#E1E5ED\"}, \"xaxis11\": {\"anchor\": \"y11\", \"domain\": [0.525, 0.7375], \"gridcolor\": \"#E1E5ED\", \"showgrid\": false, \"tickfont\": {\"color\": \"#4D5663\"}, \"title\": {\"font\": {\"color\": \"#4D5663\"}, \"text\": \"\"}, \"zerolinecolor\": \"#E1E5ED\"}, \"xaxis12\": {\"anchor\": \"y12\", \"domain\": [0.7875, 1.0], \"gridcolor\": \"#E1E5ED\", \"showgrid\": false, \"tickfont\": {\"color\": \"#4D5663\"}, \"title\": {\"font\": {\"color\": \"#4D5663\"}, \"text\": \"\"}, \"zerolinecolor\": \"#E1E5ED\"}, \"xaxis13\": {\"anchor\": \"y13\", \"domain\": [0.0, 0.2125], \"gridcolor\": \"#E1E5ED\", \"showgrid\": false, \"tickfont\": {\"color\": \"#4D5663\"}, \"title\": {\"font\": {\"color\": \"#4D5663\"}, \"text\": \"\"}, \"zerolinecolor\": \"#E1E5ED\"}, \"xaxis14\": {\"anchor\": \"y14\", \"domain\": [0.2625, 0.475], \"gridcolor\": \"#E1E5ED\", \"showgrid\": false, \"tickfont\": {\"color\": \"#4D5663\"}, \"title\": {\"font\": {\"color\": \"#4D5663\"}, \"text\": \"\"}, \"zerolinecolor\": \"#E1E5ED\"}, \"xaxis15\": {\"anchor\": \"y15\", \"domain\": [0.525, 0.7375], \"gridcolor\": \"#E1E5ED\", \"showgrid\": false, \"tickfont\": {\"color\": \"#4D5663\"}, \"title\": {\"font\": {\"color\": \"#4D5663\"}, \"text\": \"\"}, \"zerolinecolor\": \"#E1E5ED\"}, \"xaxis16\": {\"anchor\": \"y16\", \"domain\": [0.7875, 1.0], \"gridcolor\": \"#E1E5ED\", \"showgrid\": false, \"tickfont\": {\"color\": \"#4D5663\"}, \"title\": {\"font\": {\"color\": \"#4D5663\"}, \"text\": \"\"}, \"zerolinecolor\": \"#E1E5ED\"}, \"xaxis2\": {\"anchor\": \"y2\", \"domain\": [0.2625, 0.475], \"gridcolor\": \"#E1E5ED\", \"showgrid\": false, \"tickfont\": {\"color\": \"#4D5663\"}, \"title\": {\"font\": {\"color\": \"#4D5663\"}, \"text\": \"\"}, \"zerolinecolor\": \"#E1E5ED\"}, \"xaxis3\": {\"anchor\": \"y3\", \"domain\": [0.525, 0.7375], \"gridcolor\": \"#E1E5ED\", \"showgrid\": false, \"tickfont\": {\"color\": \"#4D5663\"}, \"title\": {\"font\": {\"color\": \"#4D5663\"}, \"text\": \"\"}, \"zerolinecolor\": \"#E1E5ED\"}, \"xaxis4\": {\"anchor\": \"y4\", \"domain\": [0.7875, 1.0], \"gridcolor\": \"#E1E5ED\", \"showgrid\": false, \"tickfont\": {\"color\": \"#4D5663\"}, \"title\": {\"font\": {\"color\": \"#4D5663\"}, \"text\": \"\"}, \"zerolinecolor\": \"#E1E5ED\"}, \"xaxis5\": {\"anchor\": \"y5\", \"domain\": [0.0, 0.2125], \"gridcolor\": \"#E1E5ED\", \"showgrid\": false, \"tickfont\": {\"color\": \"#4D5663\"}, \"title\": {\"font\": {\"color\": \"#4D5663\"}, \"text\": \"\"}, \"zerolinecolor\": \"#E1E5ED\"}, \"xaxis6\": {\"anchor\": \"y6\", \"domain\": [0.2625, 0.475], \"gridcolor\": \"#E1E5ED\", \"showgrid\": false, \"tickfont\": {\"color\": \"#4D5663\"}, \"title\": {\"font\": {\"color\": \"#4D5663\"}, \"text\": \"\"}, \"zerolinecolor\": \"#E1E5ED\"}, \"xaxis7\": {\"anchor\": \"y7\", \"domain\": [0.525, 0.7375], \"gridcolor\": \"#E1E5ED\", \"showgrid\": false, \"tickfont\": {\"color\": \"#4D5663\"}, \"title\": {\"font\": {\"color\": \"#4D5663\"}, \"text\": \"\"}, \"zerolinecolor\": \"#E1E5ED\"}, \"xaxis8\": {\"anchor\": \"y8\", \"domain\": [0.7875, 1.0], \"gridcolor\": \"#E1E5ED\", \"showgrid\": false, \"tickfont\": {\"color\": \"#4D5663\"}, \"title\": {\"font\": {\"color\": \"#4D5663\"}, \"text\": \"\"}, \"zerolinecolor\": \"#E1E5ED\"}, \"xaxis9\": {\"anchor\": \"y9\", \"domain\": [0.0, 0.2125], \"gridcolor\": \"#E1E5ED\", \"showgrid\": false, \"tickfont\": {\"color\": \"#4D5663\"}, \"title\": {\"font\": {\"color\": \"#4D5663\"}, \"text\": \"\"}, \"zerolinecolor\": \"#E1E5ED\"}, \"yaxis\": {\"anchor\": \"x\", \"domain\": [0.8025, 1.0], \"gridcolor\": \"#E1E5ED\", \"showgrid\": false, \"tickfont\": {\"color\": \"#4D5663\"}, \"title\": {\"font\": {\"color\": \"#4D5663\"}, \"text\": \"\"}, \"zerolinecolor\": \"#E1E5ED\"}, \"yaxis10\": {\"anchor\": \"x10\", \"domain\": [0.2675, 0.465], \"gridcolor\": \"#E1E5ED\", \"showgrid\": false, \"tickfont\": {\"color\": \"#4D5663\"}, \"title\": {\"font\": {\"color\": \"#4D5663\"}, \"text\": \"\"}, \"zerolinecolor\": \"#E1E5ED\"}, \"yaxis11\": {\"anchor\": \"x11\", \"domain\": [0.2675, 0.465], \"gridcolor\": \"#E1E5ED\", \"showgrid\": false, \"tickfont\": {\"color\": \"#4D5663\"}, \"title\": {\"font\": {\"color\": \"#4D5663\"}, \"text\": \"\"}, \"zerolinecolor\": \"#E1E5ED\"}, \"yaxis12\": {\"anchor\": \"x12\", \"domain\": [0.2675, 0.465], \"gridcolor\": \"#E1E5ED\", \"showgrid\": false, \"tickfont\": {\"color\": \"#4D5663\"}, \"title\": {\"font\": {\"color\": \"#4D5663\"}, \"text\": \"\"}, \"zerolinecolor\": \"#E1E5ED\"}, \"yaxis13\": {\"anchor\": \"x13\", \"domain\": [0.0, 0.1975], \"gridcolor\": \"#E1E5ED\", \"showgrid\": false, \"tickfont\": {\"color\": \"#4D5663\"}, \"title\": {\"font\": {\"color\": \"#4D5663\"}, \"text\": \"\"}, \"zerolinecolor\": \"#E1E5ED\"}, \"yaxis14\": {\"anchor\": \"x14\", \"domain\": [0.0, 0.1975], \"gridcolor\": \"#E1E5ED\", \"showgrid\": false, \"tickfont\": {\"color\": \"#4D5663\"}, \"title\": {\"font\": {\"color\": \"#4D5663\"}, \"text\": \"\"}, \"zerolinecolor\": \"#E1E5ED\"}, \"yaxis15\": {\"anchor\": \"x15\", \"domain\": [0.0, 0.1975], \"gridcolor\": \"#E1E5ED\", \"showgrid\": false, \"tickfont\": {\"color\": \"#4D5663\"}, \"title\": {\"font\": {\"color\": \"#4D5663\"}, \"text\": \"\"}, \"zerolinecolor\": \"#E1E5ED\"}, \"yaxis16\": {\"anchor\": \"x16\", \"domain\": [0.0, 0.1975], \"gridcolor\": \"#E1E5ED\", \"showgrid\": false, \"tickfont\": {\"color\": \"#4D5663\"}, \"title\": {\"font\": {\"color\": \"#4D5663\"}, \"text\": \"\"}, \"zerolinecolor\": \"#E1E5ED\"}, \"yaxis2\": {\"anchor\": \"x2\", \"domain\": [0.8025, 1.0], \"gridcolor\": \"#E1E5ED\", \"showgrid\": false, \"tickfont\": {\"color\": \"#4D5663\"}, \"title\": {\"font\": {\"color\": \"#4D5663\"}, \"text\": \"\"}, \"zerolinecolor\": \"#E1E5ED\"}, \"yaxis3\": {\"anchor\": \"x3\", \"domain\": [0.8025, 1.0], \"gridcolor\": \"#E1E5ED\", \"showgrid\": false, \"tickfont\": {\"color\": \"#4D5663\"}, \"title\": {\"font\": {\"color\": \"#4D5663\"}, \"text\": \"\"}, \"zerolinecolor\": \"#E1E5ED\"}, \"yaxis4\": {\"anchor\": \"x4\", \"domain\": [0.8025, 1.0], \"gridcolor\": \"#E1E5ED\", \"showgrid\": false, \"tickfont\": {\"color\": \"#4D5663\"}, \"title\": {\"font\": {\"color\": \"#4D5663\"}, \"text\": \"\"}, \"zerolinecolor\": \"#E1E5ED\"}, \"yaxis5\": {\"anchor\": \"x5\", \"domain\": [0.535, 0.7325], \"gridcolor\": \"#E1E5ED\", \"showgrid\": false, \"tickfont\": {\"color\": \"#4D5663\"}, \"title\": {\"font\": {\"color\": \"#4D5663\"}, \"text\": \"\"}, \"zerolinecolor\": \"#E1E5ED\"}, \"yaxis6\": {\"anchor\": \"x6\", \"domain\": [0.535, 0.7325], \"gridcolor\": \"#E1E5ED\", \"showgrid\": false, \"tickfont\": {\"color\": \"#4D5663\"}, \"title\": {\"font\": {\"color\": \"#4D5663\"}, \"text\": \"\"}, \"zerolinecolor\": \"#E1E5ED\"}, \"yaxis7\": {\"anchor\": \"x7\", \"domain\": [0.535, 0.7325], \"gridcolor\": \"#E1E5ED\", \"showgrid\": false, \"tickfont\": {\"color\": \"#4D5663\"}, \"title\": {\"font\": {\"color\": \"#4D5663\"}, \"text\": \"\"}, \"zerolinecolor\": \"#E1E5ED\"}, \"yaxis8\": {\"anchor\": \"x8\", \"domain\": [0.535, 0.7325], \"gridcolor\": \"#E1E5ED\", \"showgrid\": false, \"tickfont\": {\"color\": \"#4D5663\"}, \"title\": {\"font\": {\"color\": \"#4D5663\"}, \"text\": \"\"}, \"zerolinecolor\": \"#E1E5ED\"}, \"yaxis9\": {\"anchor\": \"x9\", \"domain\": [0.2675, 0.465], \"gridcolor\": \"#E1E5ED\", \"showgrid\": false, \"tickfont\": {\"color\": \"#4D5663\"}, \"title\": {\"font\": {\"color\": \"#4D5663\"}, \"text\": \"\"}, \"zerolinecolor\": \"#E1E5ED\"}},                        {\"showLink\": true, \"linkText\": \"Export to plot.ly\", \"plotlyServerURL\": \"https://plot.ly\", \"responsive\": true}                    ).then(function(){\n",
       "                            \n",
       "var gd = document.getElementById('2f11760e-d7a1-4037-ac07-501e49ff0a00');\n",
       "var x = new MutationObserver(function (mutations, observer) {{\n",
       "        var display = window.getComputedStyle(gd).display;\n",
       "        if (!display || display === 'none') {{\n",
       "            console.log([gd, 'removed!']);\n",
       "            Plotly.purge(gd);\n",
       "            observer.disconnect();\n",
       "        }}\n",
       "}});\n",
       "\n",
       "// Listen for the removal of the full notebook cells\n",
       "var notebookContainer = gd.closest('#notebook-container');\n",
       "if (notebookContainer) {{\n",
       "    x.observe(notebookContainer, {childList: true});\n",
       "}}\n",
       "\n",
       "// Listen for the clearing of the current output cell\n",
       "var outputEl = gd.closest('.output');\n",
       "if (outputEl) {{\n",
       "    x.observe(outputEl, {childList: true});\n",
       "}}\n",
       "\n",
       "                        })                };                });            </script>        </div>"
      ]
     },
     "metadata": {},
     "output_type": "display_data"
    }
   ],
   "source": [
    "df.scatter_matrix()"
   ]
  }
 ],
 "metadata": {
  "kernelspec": {
   "display_name": "Python 3",
   "language": "python",
   "name": "python3"
  },
  "language_info": {
   "codemirror_mode": {
    "name": "ipython",
    "version": 3
   },
   "file_extension": ".py",
   "mimetype": "text/x-python",
   "name": "python",
   "nbconvert_exporter": "python",
   "pygments_lexer": "ipython3",
   "version": "3.7.3"
  }
 },
 "nbformat": 4,
 "nbformat_minor": 1
}
